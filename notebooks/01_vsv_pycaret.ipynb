{
 "cells": [
  {
   "cell_type": "markdown",
   "id": "3038b6d4",
   "metadata": {},
   "source": [
    "CLASSIFICAÇÃO"
   ]
  },
  {
   "cell_type": "code",
   "execution_count": 2,
   "id": "e798a31e",
   "metadata": {},
   "outputs": [
    {
     "data": {
      "application/vnd.microsoft.datawrangler.viewer.v0+json": {
       "columns": [
        {
         "name": "index",
         "rawType": "int64",
         "type": "integer"
        },
        {
         "name": "Number of times pregnant",
         "rawType": "int64",
         "type": "integer"
        },
        {
         "name": "Plasma glucose concentration a 2 hours in an oral glucose tolerance test",
         "rawType": "int64",
         "type": "integer"
        },
        {
         "name": "Diastolic blood pressure (mm Hg)",
         "rawType": "int64",
         "type": "integer"
        },
        {
         "name": "Triceps skin fold thickness (mm)",
         "rawType": "int64",
         "type": "integer"
        },
        {
         "name": "2-Hour serum insulin (mu U/ml)",
         "rawType": "int64",
         "type": "integer"
        },
        {
         "name": "Body mass index (weight in kg/(height in m)^2)",
         "rawType": "float64",
         "type": "float"
        },
        {
         "name": "Diabetes pedigree function",
         "rawType": "float64",
         "type": "float"
        },
        {
         "name": "Age (years)",
         "rawType": "int64",
         "type": "integer"
        },
        {
         "name": "Class variable",
         "rawType": "int64",
         "type": "integer"
        }
       ],
       "ref": "29ff2f09-a407-4c4a-82f3-a9c5d3afbb73",
       "rows": [
        [
         "0",
         "6",
         "148",
         "72",
         "35",
         "0",
         "33.6",
         "0.627",
         "50",
         "1"
        ],
        [
         "1",
         "1",
         "85",
         "66",
         "29",
         "0",
         "26.6",
         "0.351",
         "31",
         "0"
        ],
        [
         "2",
         "8",
         "183",
         "64",
         "0",
         "0",
         "23.3",
         "0.672",
         "32",
         "1"
        ],
        [
         "3",
         "1",
         "89",
         "66",
         "23",
         "94",
         "28.1",
         "0.167",
         "21",
         "0"
        ],
        [
         "4",
         "0",
         "137",
         "40",
         "35",
         "168",
         "43.1",
         "2.288",
         "33",
         "1"
        ]
       ],
       "shape": {
        "columns": 9,
        "rows": 5
       }
      },
      "text/html": [
       "<div>\n",
       "<style scoped>\n",
       "    .dataframe tbody tr th:only-of-type {\n",
       "        vertical-align: middle;\n",
       "    }\n",
       "\n",
       "    .dataframe tbody tr th {\n",
       "        vertical-align: top;\n",
       "    }\n",
       "\n",
       "    .dataframe thead th {\n",
       "        text-align: right;\n",
       "    }\n",
       "</style>\n",
       "<table border=\"1\" class=\"dataframe\">\n",
       "  <thead>\n",
       "    <tr style=\"text-align: right;\">\n",
       "      <th></th>\n",
       "      <th>Number of times pregnant</th>\n",
       "      <th>Plasma glucose concentration a 2 hours in an oral glucose tolerance test</th>\n",
       "      <th>Diastolic blood pressure (mm Hg)</th>\n",
       "      <th>Triceps skin fold thickness (mm)</th>\n",
       "      <th>2-Hour serum insulin (mu U/ml)</th>\n",
       "      <th>Body mass index (weight in kg/(height in m)^2)</th>\n",
       "      <th>Diabetes pedigree function</th>\n",
       "      <th>Age (years)</th>\n",
       "      <th>Class variable</th>\n",
       "    </tr>\n",
       "  </thead>\n",
       "  <tbody>\n",
       "    <tr>\n",
       "      <th>0</th>\n",
       "      <td>6</td>\n",
       "      <td>148</td>\n",
       "      <td>72</td>\n",
       "      <td>35</td>\n",
       "      <td>0</td>\n",
       "      <td>33.6</td>\n",
       "      <td>0.627</td>\n",
       "      <td>50</td>\n",
       "      <td>1</td>\n",
       "    </tr>\n",
       "    <tr>\n",
       "      <th>1</th>\n",
       "      <td>1</td>\n",
       "      <td>85</td>\n",
       "      <td>66</td>\n",
       "      <td>29</td>\n",
       "      <td>0</td>\n",
       "      <td>26.6</td>\n",
       "      <td>0.351</td>\n",
       "      <td>31</td>\n",
       "      <td>0</td>\n",
       "    </tr>\n",
       "    <tr>\n",
       "      <th>2</th>\n",
       "      <td>8</td>\n",
       "      <td>183</td>\n",
       "      <td>64</td>\n",
       "      <td>0</td>\n",
       "      <td>0</td>\n",
       "      <td>23.3</td>\n",
       "      <td>0.672</td>\n",
       "      <td>32</td>\n",
       "      <td>1</td>\n",
       "    </tr>\n",
       "    <tr>\n",
       "      <th>3</th>\n",
       "      <td>1</td>\n",
       "      <td>89</td>\n",
       "      <td>66</td>\n",
       "      <td>23</td>\n",
       "      <td>94</td>\n",
       "      <td>28.1</td>\n",
       "      <td>0.167</td>\n",
       "      <td>21</td>\n",
       "      <td>0</td>\n",
       "    </tr>\n",
       "    <tr>\n",
       "      <th>4</th>\n",
       "      <td>0</td>\n",
       "      <td>137</td>\n",
       "      <td>40</td>\n",
       "      <td>35</td>\n",
       "      <td>168</td>\n",
       "      <td>43.1</td>\n",
       "      <td>2.288</td>\n",
       "      <td>33</td>\n",
       "      <td>1</td>\n",
       "    </tr>\n",
       "  </tbody>\n",
       "</table>\n",
       "</div>"
      ],
      "text/plain": [
       "   Number of times pregnant  \\\n",
       "0                         6   \n",
       "1                         1   \n",
       "2                         8   \n",
       "3                         1   \n",
       "4                         0   \n",
       "\n",
       "   Plasma glucose concentration a 2 hours in an oral glucose tolerance test  \\\n",
       "0                                                148                          \n",
       "1                                                 85                          \n",
       "2                                                183                          \n",
       "3                                                 89                          \n",
       "4                                                137                          \n",
       "\n",
       "   Diastolic blood pressure (mm Hg)  Triceps skin fold thickness (mm)  \\\n",
       "0                                72                                35   \n",
       "1                                66                                29   \n",
       "2                                64                                 0   \n",
       "3                                66                                23   \n",
       "4                                40                                35   \n",
       "\n",
       "   2-Hour serum insulin (mu U/ml)  \\\n",
       "0                               0   \n",
       "1                               0   \n",
       "2                               0   \n",
       "3                              94   \n",
       "4                             168   \n",
       "\n",
       "   Body mass index (weight in kg/(height in m)^2)  Diabetes pedigree function  \\\n",
       "0                                            33.6                       0.627   \n",
       "1                                            26.6                       0.351   \n",
       "2                                            23.3                       0.672   \n",
       "3                                            28.1                       0.167   \n",
       "4                                            43.1                       2.288   \n",
       "\n",
       "   Age (years)  Class variable  \n",
       "0           50               1  \n",
       "1           31               0  \n",
       "2           32               1  \n",
       "3           21               0  \n",
       "4           33               1  "
      ]
     },
     "metadata": {},
     "output_type": "display_data"
    }
   ],
   "source": [
    "# load sample dataset\n",
    "from pycaret.datasets import get_data\n",
    "data = get_data('diabetes')"
   ]
  },
  {
   "cell_type": "code",
   "execution_count": 3,
   "id": "e018483f",
   "metadata": {},
   "outputs": [
    {
     "data": {
      "text/html": [
       "<style type=\"text/css\">\n",
       "#T_faac4_row8_col1 {\n",
       "  background-color: lightgreen;\n",
       "}\n",
       "</style>\n",
       "<table id=\"T_faac4\">\n",
       "  <thead>\n",
       "    <tr>\n",
       "      <th class=\"blank level0\" >&nbsp;</th>\n",
       "      <th id=\"T_faac4_level0_col0\" class=\"col_heading level0 col0\" >Description</th>\n",
       "      <th id=\"T_faac4_level0_col1\" class=\"col_heading level0 col1\" >Value</th>\n",
       "    </tr>\n",
       "  </thead>\n",
       "  <tbody>\n",
       "    <tr>\n",
       "      <th id=\"T_faac4_level0_row0\" class=\"row_heading level0 row0\" >0</th>\n",
       "      <td id=\"T_faac4_row0_col0\" class=\"data row0 col0\" >Session id</td>\n",
       "      <td id=\"T_faac4_row0_col1\" class=\"data row0 col1\" >123</td>\n",
       "    </tr>\n",
       "    <tr>\n",
       "      <th id=\"T_faac4_level0_row1\" class=\"row_heading level0 row1\" >1</th>\n",
       "      <td id=\"T_faac4_row1_col0\" class=\"data row1 col0\" >Target</td>\n",
       "      <td id=\"T_faac4_row1_col1\" class=\"data row1 col1\" >Class variable</td>\n",
       "    </tr>\n",
       "    <tr>\n",
       "      <th id=\"T_faac4_level0_row2\" class=\"row_heading level0 row2\" >2</th>\n",
       "      <td id=\"T_faac4_row2_col0\" class=\"data row2 col0\" >Target type</td>\n",
       "      <td id=\"T_faac4_row2_col1\" class=\"data row2 col1\" >Binary</td>\n",
       "    </tr>\n",
       "    <tr>\n",
       "      <th id=\"T_faac4_level0_row3\" class=\"row_heading level0 row3\" >3</th>\n",
       "      <td id=\"T_faac4_row3_col0\" class=\"data row3 col0\" >Original data shape</td>\n",
       "      <td id=\"T_faac4_row3_col1\" class=\"data row3 col1\" >(768, 9)</td>\n",
       "    </tr>\n",
       "    <tr>\n",
       "      <th id=\"T_faac4_level0_row4\" class=\"row_heading level0 row4\" >4</th>\n",
       "      <td id=\"T_faac4_row4_col0\" class=\"data row4 col0\" >Transformed data shape</td>\n",
       "      <td id=\"T_faac4_row4_col1\" class=\"data row4 col1\" >(768, 9)</td>\n",
       "    </tr>\n",
       "    <tr>\n",
       "      <th id=\"T_faac4_level0_row5\" class=\"row_heading level0 row5\" >5</th>\n",
       "      <td id=\"T_faac4_row5_col0\" class=\"data row5 col0\" >Transformed train set shape</td>\n",
       "      <td id=\"T_faac4_row5_col1\" class=\"data row5 col1\" >(537, 9)</td>\n",
       "    </tr>\n",
       "    <tr>\n",
       "      <th id=\"T_faac4_level0_row6\" class=\"row_heading level0 row6\" >6</th>\n",
       "      <td id=\"T_faac4_row6_col0\" class=\"data row6 col0\" >Transformed test set shape</td>\n",
       "      <td id=\"T_faac4_row6_col1\" class=\"data row6 col1\" >(231, 9)</td>\n",
       "    </tr>\n",
       "    <tr>\n",
       "      <th id=\"T_faac4_level0_row7\" class=\"row_heading level0 row7\" >7</th>\n",
       "      <td id=\"T_faac4_row7_col0\" class=\"data row7 col0\" >Numeric features</td>\n",
       "      <td id=\"T_faac4_row7_col1\" class=\"data row7 col1\" >8</td>\n",
       "    </tr>\n",
       "    <tr>\n",
       "      <th id=\"T_faac4_level0_row8\" class=\"row_heading level0 row8\" >8</th>\n",
       "      <td id=\"T_faac4_row8_col0\" class=\"data row8 col0\" >Preprocess</td>\n",
       "      <td id=\"T_faac4_row8_col1\" class=\"data row8 col1\" >True</td>\n",
       "    </tr>\n",
       "    <tr>\n",
       "      <th id=\"T_faac4_level0_row9\" class=\"row_heading level0 row9\" >9</th>\n",
       "      <td id=\"T_faac4_row9_col0\" class=\"data row9 col0\" >Imputation type</td>\n",
       "      <td id=\"T_faac4_row9_col1\" class=\"data row9 col1\" >simple</td>\n",
       "    </tr>\n",
       "    <tr>\n",
       "      <th id=\"T_faac4_level0_row10\" class=\"row_heading level0 row10\" >10</th>\n",
       "      <td id=\"T_faac4_row10_col0\" class=\"data row10 col0\" >Numeric imputation</td>\n",
       "      <td id=\"T_faac4_row10_col1\" class=\"data row10 col1\" >mean</td>\n",
       "    </tr>\n",
       "    <tr>\n",
       "      <th id=\"T_faac4_level0_row11\" class=\"row_heading level0 row11\" >11</th>\n",
       "      <td id=\"T_faac4_row11_col0\" class=\"data row11 col0\" >Categorical imputation</td>\n",
       "      <td id=\"T_faac4_row11_col1\" class=\"data row11 col1\" >mode</td>\n",
       "    </tr>\n",
       "    <tr>\n",
       "      <th id=\"T_faac4_level0_row12\" class=\"row_heading level0 row12\" >12</th>\n",
       "      <td id=\"T_faac4_row12_col0\" class=\"data row12 col0\" >Fold Generator</td>\n",
       "      <td id=\"T_faac4_row12_col1\" class=\"data row12 col1\" >StratifiedKFold</td>\n",
       "    </tr>\n",
       "    <tr>\n",
       "      <th id=\"T_faac4_level0_row13\" class=\"row_heading level0 row13\" >13</th>\n",
       "      <td id=\"T_faac4_row13_col0\" class=\"data row13 col0\" >Fold Number</td>\n",
       "      <td id=\"T_faac4_row13_col1\" class=\"data row13 col1\" >10</td>\n",
       "    </tr>\n",
       "    <tr>\n",
       "      <th id=\"T_faac4_level0_row14\" class=\"row_heading level0 row14\" >14</th>\n",
       "      <td id=\"T_faac4_row14_col0\" class=\"data row14 col0\" >CPU Jobs</td>\n",
       "      <td id=\"T_faac4_row14_col1\" class=\"data row14 col1\" >-1</td>\n",
       "    </tr>\n",
       "    <tr>\n",
       "      <th id=\"T_faac4_level0_row15\" class=\"row_heading level0 row15\" >15</th>\n",
       "      <td id=\"T_faac4_row15_col0\" class=\"data row15 col0\" >Use GPU</td>\n",
       "      <td id=\"T_faac4_row15_col1\" class=\"data row15 col1\" >False</td>\n",
       "    </tr>\n",
       "    <tr>\n",
       "      <th id=\"T_faac4_level0_row16\" class=\"row_heading level0 row16\" >16</th>\n",
       "      <td id=\"T_faac4_row16_col0\" class=\"data row16 col0\" >Log Experiment</td>\n",
       "      <td id=\"T_faac4_row16_col1\" class=\"data row16 col1\" >False</td>\n",
       "    </tr>\n",
       "    <tr>\n",
       "      <th id=\"T_faac4_level0_row17\" class=\"row_heading level0 row17\" >17</th>\n",
       "      <td id=\"T_faac4_row17_col0\" class=\"data row17 col0\" >Experiment Name</td>\n",
       "      <td id=\"T_faac4_row17_col1\" class=\"data row17 col1\" >clf-default-name</td>\n",
       "    </tr>\n",
       "    <tr>\n",
       "      <th id=\"T_faac4_level0_row18\" class=\"row_heading level0 row18\" >18</th>\n",
       "      <td id=\"T_faac4_row18_col0\" class=\"data row18 col0\" >USI</td>\n",
       "      <td id=\"T_faac4_row18_col1\" class=\"data row18 col1\" >1615</td>\n",
       "    </tr>\n",
       "  </tbody>\n",
       "</table>\n"
      ],
      "text/plain": [
       "<pandas.io.formats.style.Styler at 0x3223cd5e0>"
      ]
     },
     "metadata": {},
     "output_type": "display_data"
    },
    {
     "data": {
      "text/plain": [
       "<pycaret.classification.oop.ClassificationExperiment at 0x17fcaa850>"
      ]
     },
     "execution_count": 3,
     "metadata": {},
     "output_type": "execute_result"
    }
   ],
   "source": [
    "from pycaret.classification import ClassificationExperiment\n",
    "s = ClassificationExperiment()\n",
    "s.setup(data, target = 'Class variable', session_id = 123)"
   ]
  },
  {
   "cell_type": "code",
   "execution_count": 4,
   "id": "dc018528",
   "metadata": {},
   "outputs": [
    {
     "data": {
      "text/html": [],
      "text/plain": [
       "<IPython.core.display.HTML object>"
      ]
     },
     "metadata": {},
     "output_type": "display_data"
    },
    {
     "data": {
      "text/html": [
       "<style type=\"text/css\">\n",
       "#T_dd4b1 th {\n",
       "  text-align: left;\n",
       "}\n",
       "#T_dd4b1_row0_col0, #T_dd4b1_row0_col2, #T_dd4b1_row0_col3, #T_dd4b1_row0_col4, #T_dd4b1_row1_col0, #T_dd4b1_row1_col1, #T_dd4b1_row1_col3, #T_dd4b1_row1_col5, #T_dd4b1_row1_col6, #T_dd4b1_row1_col7, #T_dd4b1_row2_col0, #T_dd4b1_row2_col1, #T_dd4b1_row2_col2, #T_dd4b1_row2_col3, #T_dd4b1_row2_col4, #T_dd4b1_row2_col5, #T_dd4b1_row2_col6, #T_dd4b1_row2_col7, #T_dd4b1_row3_col0, #T_dd4b1_row3_col1, #T_dd4b1_row3_col2, #T_dd4b1_row3_col3, #T_dd4b1_row3_col4, #T_dd4b1_row3_col5, #T_dd4b1_row3_col6, #T_dd4b1_row3_col7, #T_dd4b1_row4_col0, #T_dd4b1_row4_col1, #T_dd4b1_row4_col2, #T_dd4b1_row4_col4, #T_dd4b1_row4_col5, #T_dd4b1_row4_col6, #T_dd4b1_row4_col7, #T_dd4b1_row5_col0, #T_dd4b1_row5_col1, #T_dd4b1_row5_col2, #T_dd4b1_row5_col3, #T_dd4b1_row5_col4, #T_dd4b1_row5_col5, #T_dd4b1_row5_col6, #T_dd4b1_row5_col7, #T_dd4b1_row6_col0, #T_dd4b1_row6_col1, #T_dd4b1_row6_col2, #T_dd4b1_row6_col3, #T_dd4b1_row6_col4, #T_dd4b1_row6_col5, #T_dd4b1_row6_col6, #T_dd4b1_row6_col7, #T_dd4b1_row7_col0, #T_dd4b1_row7_col1, #T_dd4b1_row7_col2, #T_dd4b1_row7_col3, #T_dd4b1_row7_col4, #T_dd4b1_row7_col5, #T_dd4b1_row7_col6, #T_dd4b1_row7_col7, #T_dd4b1_row8_col0, #T_dd4b1_row8_col1, #T_dd4b1_row8_col2, #T_dd4b1_row8_col3, #T_dd4b1_row8_col4, #T_dd4b1_row8_col5, #T_dd4b1_row8_col6, #T_dd4b1_row8_col7, #T_dd4b1_row9_col0, #T_dd4b1_row9_col1, #T_dd4b1_row9_col2, #T_dd4b1_row9_col3, #T_dd4b1_row9_col4, #T_dd4b1_row9_col5, #T_dd4b1_row9_col6, #T_dd4b1_row9_col7, #T_dd4b1_row10_col0, #T_dd4b1_row10_col1, #T_dd4b1_row10_col2, #T_dd4b1_row10_col3, #T_dd4b1_row10_col4, #T_dd4b1_row10_col5, #T_dd4b1_row10_col6, #T_dd4b1_row10_col7, #T_dd4b1_row11_col0, #T_dd4b1_row11_col1, #T_dd4b1_row11_col2, #T_dd4b1_row11_col3, #T_dd4b1_row11_col4, #T_dd4b1_row11_col5, #T_dd4b1_row11_col6, #T_dd4b1_row11_col7, #T_dd4b1_row12_col0, #T_dd4b1_row12_col1, #T_dd4b1_row12_col2, #T_dd4b1_row12_col3, #T_dd4b1_row12_col4, #T_dd4b1_row12_col5, #T_dd4b1_row12_col6, #T_dd4b1_row12_col7, #T_dd4b1_row13_col0, #T_dd4b1_row13_col1, #T_dd4b1_row13_col2, #T_dd4b1_row13_col3, #T_dd4b1_row13_col4, #T_dd4b1_row13_col5, #T_dd4b1_row13_col6, #T_dd4b1_row13_col7 {\n",
       "  text-align: left;\n",
       "}\n",
       "#T_dd4b1_row0_col1, #T_dd4b1_row0_col5, #T_dd4b1_row0_col6, #T_dd4b1_row0_col7, #T_dd4b1_row1_col2, #T_dd4b1_row1_col4, #T_dd4b1_row4_col3 {\n",
       "  text-align: left;\n",
       "  background-color: yellow;\n",
       "}\n",
       "#T_dd4b1_row0_col8, #T_dd4b1_row2_col8, #T_dd4b1_row3_col8, #T_dd4b1_row5_col8, #T_dd4b1_row6_col8, #T_dd4b1_row8_col8, #T_dd4b1_row9_col8, #T_dd4b1_row10_col8, #T_dd4b1_row11_col8 {\n",
       "  text-align: left;\n",
       "  background-color: lightgrey;\n",
       "}\n",
       "#T_dd4b1_row1_col8, #T_dd4b1_row4_col8, #T_dd4b1_row7_col8, #T_dd4b1_row12_col8, #T_dd4b1_row13_col8 {\n",
       "  text-align: left;\n",
       "  background-color: yellow;\n",
       "  background-color: lightgrey;\n",
       "}\n",
       "</style>\n",
       "<table id=\"T_dd4b1\">\n",
       "  <thead>\n",
       "    <tr>\n",
       "      <th class=\"blank level0\" >&nbsp;</th>\n",
       "      <th id=\"T_dd4b1_level0_col0\" class=\"col_heading level0 col0\" >Model</th>\n",
       "      <th id=\"T_dd4b1_level0_col1\" class=\"col_heading level0 col1\" >Accuracy</th>\n",
       "      <th id=\"T_dd4b1_level0_col2\" class=\"col_heading level0 col2\" >AUC</th>\n",
       "      <th id=\"T_dd4b1_level0_col3\" class=\"col_heading level0 col3\" >Recall</th>\n",
       "      <th id=\"T_dd4b1_level0_col4\" class=\"col_heading level0 col4\" >Prec.</th>\n",
       "      <th id=\"T_dd4b1_level0_col5\" class=\"col_heading level0 col5\" >F1</th>\n",
       "      <th id=\"T_dd4b1_level0_col6\" class=\"col_heading level0 col6\" >Kappa</th>\n",
       "      <th id=\"T_dd4b1_level0_col7\" class=\"col_heading level0 col7\" >MCC</th>\n",
       "      <th id=\"T_dd4b1_level0_col8\" class=\"col_heading level0 col8\" >TT (Sec)</th>\n",
       "    </tr>\n",
       "  </thead>\n",
       "  <tbody>\n",
       "    <tr>\n",
       "      <th id=\"T_dd4b1_level0_row0\" class=\"row_heading level0 row0\" >lr</th>\n",
       "      <td id=\"T_dd4b1_row0_col0\" class=\"data row0 col0\" >Logistic Regression</td>\n",
       "      <td id=\"T_dd4b1_row0_col1\" class=\"data row0 col1\" >0.7689</td>\n",
       "      <td id=\"T_dd4b1_row0_col2\" class=\"data row0 col2\" >0.8047</td>\n",
       "      <td id=\"T_dd4b1_row0_col3\" class=\"data row0 col3\" >0.5602</td>\n",
       "      <td id=\"T_dd4b1_row0_col4\" class=\"data row0 col4\" >0.7208</td>\n",
       "      <td id=\"T_dd4b1_row0_col5\" class=\"data row0 col5\" >0.6279</td>\n",
       "      <td id=\"T_dd4b1_row0_col6\" class=\"data row0 col6\" >0.4641</td>\n",
       "      <td id=\"T_dd4b1_row0_col7\" class=\"data row0 col7\" >0.4736</td>\n",
       "      <td id=\"T_dd4b1_row0_col8\" class=\"data row0 col8\" >0.2940</td>\n",
       "    </tr>\n",
       "    <tr>\n",
       "      <th id=\"T_dd4b1_level0_row1\" class=\"row_heading level0 row1\" >ridge</th>\n",
       "      <td id=\"T_dd4b1_row1_col0\" class=\"data row1 col0\" >Ridge Classifier</td>\n",
       "      <td id=\"T_dd4b1_row1_col1\" class=\"data row1 col1\" >0.7670</td>\n",
       "      <td id=\"T_dd4b1_row1_col2\" class=\"data row1 col2\" >0.8060</td>\n",
       "      <td id=\"T_dd4b1_row1_col3\" class=\"data row1 col3\" >0.5497</td>\n",
       "      <td id=\"T_dd4b1_row1_col4\" class=\"data row1 col4\" >0.7235</td>\n",
       "      <td id=\"T_dd4b1_row1_col5\" class=\"data row1 col5\" >0.6221</td>\n",
       "      <td id=\"T_dd4b1_row1_col6\" class=\"data row1 col6\" >0.4581</td>\n",
       "      <td id=\"T_dd4b1_row1_col7\" class=\"data row1 col7\" >0.4690</td>\n",
       "      <td id=\"T_dd4b1_row1_col8\" class=\"data row1 col8\" >0.0040</td>\n",
       "    </tr>\n",
       "    <tr>\n",
       "      <th id=\"T_dd4b1_level0_row2\" class=\"row_heading level0 row2\" >lda</th>\n",
       "      <td id=\"T_dd4b1_row2_col0\" class=\"data row2 col0\" >Linear Discriminant Analysis</td>\n",
       "      <td id=\"T_dd4b1_row2_col1\" class=\"data row2 col1\" >0.7670</td>\n",
       "      <td id=\"T_dd4b1_row2_col2\" class=\"data row2 col2\" >0.8055</td>\n",
       "      <td id=\"T_dd4b1_row2_col3\" class=\"data row2 col3\" >0.5550</td>\n",
       "      <td id=\"T_dd4b1_row2_col4\" class=\"data row2 col4\" >0.7202</td>\n",
       "      <td id=\"T_dd4b1_row2_col5\" class=\"data row2 col5\" >0.6243</td>\n",
       "      <td id=\"T_dd4b1_row2_col6\" class=\"data row2 col6\" >0.4594</td>\n",
       "      <td id=\"T_dd4b1_row2_col7\" class=\"data row2 col7\" >0.4695</td>\n",
       "      <td id=\"T_dd4b1_row2_col8\" class=\"data row2 col8\" >0.0050</td>\n",
       "    </tr>\n",
       "    <tr>\n",
       "      <th id=\"T_dd4b1_level0_row3\" class=\"row_heading level0 row3\" >rf</th>\n",
       "      <td id=\"T_dd4b1_row3_col0\" class=\"data row3 col0\" >Random Forest Classifier</td>\n",
       "      <td id=\"T_dd4b1_row3_col1\" class=\"data row3 col1\" >0.7466</td>\n",
       "      <td id=\"T_dd4b1_row3_col2\" class=\"data row3 col2\" >0.7920</td>\n",
       "      <td id=\"T_dd4b1_row3_col3\" class=\"data row3 col3\" >0.5284</td>\n",
       "      <td id=\"T_dd4b1_row3_col4\" class=\"data row3 col4\" >0.6795</td>\n",
       "      <td id=\"T_dd4b1_row3_col5\" class=\"data row3 col5\" >0.5908</td>\n",
       "      <td id=\"T_dd4b1_row3_col6\" class=\"data row3 col6\" >0.4117</td>\n",
       "      <td id=\"T_dd4b1_row3_col7\" class=\"data row3 col7\" >0.4210</td>\n",
       "      <td id=\"T_dd4b1_row3_col8\" class=\"data row3 col8\" >0.0190</td>\n",
       "    </tr>\n",
       "    <tr>\n",
       "      <th id=\"T_dd4b1_level0_row4\" class=\"row_heading level0 row4\" >nb</th>\n",
       "      <td id=\"T_dd4b1_row4_col0\" class=\"data row4 col0\" >Naive Bayes</td>\n",
       "      <td id=\"T_dd4b1_row4_col1\" class=\"data row4 col1\" >0.7427</td>\n",
       "      <td id=\"T_dd4b1_row4_col2\" class=\"data row4 col2\" >0.7955</td>\n",
       "      <td id=\"T_dd4b1_row4_col3\" class=\"data row4 col3\" >0.5702</td>\n",
       "      <td id=\"T_dd4b1_row4_col4\" class=\"data row4 col4\" >0.6543</td>\n",
       "      <td id=\"T_dd4b1_row4_col5\" class=\"data row4 col5\" >0.6043</td>\n",
       "      <td id=\"T_dd4b1_row4_col6\" class=\"data row4 col6\" >0.4156</td>\n",
       "      <td id=\"T_dd4b1_row4_col7\" class=\"data row4 col7\" >0.4215</td>\n",
       "      <td id=\"T_dd4b1_row4_col8\" class=\"data row4 col8\" >0.0040</td>\n",
       "    </tr>\n",
       "    <tr>\n",
       "      <th id=\"T_dd4b1_level0_row5\" class=\"row_heading level0 row5\" >gbc</th>\n",
       "      <td id=\"T_dd4b1_row5_col0\" class=\"data row5 col0\" >Gradient Boosting Classifier</td>\n",
       "      <td id=\"T_dd4b1_row5_col1\" class=\"data row5 col1\" >0.7373</td>\n",
       "      <td id=\"T_dd4b1_row5_col2\" class=\"data row5 col2\" >0.7909</td>\n",
       "      <td id=\"T_dd4b1_row5_col3\" class=\"data row5 col3\" >0.5550</td>\n",
       "      <td id=\"T_dd4b1_row5_col4\" class=\"data row5 col4\" >0.6445</td>\n",
       "      <td id=\"T_dd4b1_row5_col5\" class=\"data row5 col5\" >0.5931</td>\n",
       "      <td id=\"T_dd4b1_row5_col6\" class=\"data row5 col6\" >0.4013</td>\n",
       "      <td id=\"T_dd4b1_row5_col7\" class=\"data row5 col7\" >0.4059</td>\n",
       "      <td id=\"T_dd4b1_row5_col8\" class=\"data row5 col8\" >0.0150</td>\n",
       "    </tr>\n",
       "    <tr>\n",
       "      <th id=\"T_dd4b1_level0_row6\" class=\"row_heading level0 row6\" >ada</th>\n",
       "      <td id=\"T_dd4b1_row6_col0\" class=\"data row6 col0\" >Ada Boost Classifier</td>\n",
       "      <td id=\"T_dd4b1_row6_col1\" class=\"data row6 col1\" >0.7372</td>\n",
       "      <td id=\"T_dd4b1_row6_col2\" class=\"data row6 col2\" >0.7799</td>\n",
       "      <td id=\"T_dd4b1_row6_col3\" class=\"data row6 col3\" >0.5275</td>\n",
       "      <td id=\"T_dd4b1_row6_col4\" class=\"data row6 col4\" >0.6585</td>\n",
       "      <td id=\"T_dd4b1_row6_col5\" class=\"data row6 col5\" >0.5796</td>\n",
       "      <td id=\"T_dd4b1_row6_col6\" class=\"data row6 col6\" >0.3926</td>\n",
       "      <td id=\"T_dd4b1_row6_col7\" class=\"data row6 col7\" >0.4017</td>\n",
       "      <td id=\"T_dd4b1_row6_col8\" class=\"data row6 col8\" >0.0120</td>\n",
       "    </tr>\n",
       "    <tr>\n",
       "      <th id=\"T_dd4b1_level0_row7\" class=\"row_heading level0 row7\" >qda</th>\n",
       "      <td id=\"T_dd4b1_row7_col0\" class=\"data row7 col0\" >Quadratic Discriminant Analysis</td>\n",
       "      <td id=\"T_dd4b1_row7_col1\" class=\"data row7 col1\" >0.7282</td>\n",
       "      <td id=\"T_dd4b1_row7_col2\" class=\"data row7 col2\" >0.7894</td>\n",
       "      <td id=\"T_dd4b1_row7_col3\" class=\"data row7 col3\" >0.5281</td>\n",
       "      <td id=\"T_dd4b1_row7_col4\" class=\"data row7 col4\" >0.6558</td>\n",
       "      <td id=\"T_dd4b1_row7_col5\" class=\"data row7 col5\" >0.5736</td>\n",
       "      <td id=\"T_dd4b1_row7_col6\" class=\"data row7 col6\" >0.3785</td>\n",
       "      <td id=\"T_dd4b1_row7_col7\" class=\"data row7 col7\" >0.3910</td>\n",
       "      <td id=\"T_dd4b1_row7_col8\" class=\"data row7 col8\" >0.0040</td>\n",
       "    </tr>\n",
       "    <tr>\n",
       "      <th id=\"T_dd4b1_level0_row8\" class=\"row_heading level0 row8\" >et</th>\n",
       "      <td id=\"T_dd4b1_row8_col0\" class=\"data row8 col0\" >Extra Trees Classifier</td>\n",
       "      <td id=\"T_dd4b1_row8_col1\" class=\"data row8 col1\" >0.7243</td>\n",
       "      <td id=\"T_dd4b1_row8_col2\" class=\"data row8 col2\" >0.7793</td>\n",
       "      <td id=\"T_dd4b1_row8_col3\" class=\"data row8 col3\" >0.4857</td>\n",
       "      <td id=\"T_dd4b1_row8_col4\" class=\"data row8 col4\" >0.6419</td>\n",
       "      <td id=\"T_dd4b1_row8_col5\" class=\"data row8 col5\" >0.5487</td>\n",
       "      <td id=\"T_dd4b1_row8_col6\" class=\"data row8 col6\" >0.3565</td>\n",
       "      <td id=\"T_dd4b1_row8_col7\" class=\"data row8 col7\" >0.3663</td>\n",
       "      <td id=\"T_dd4b1_row8_col8\" class=\"data row8 col8\" >0.0170</td>\n",
       "    </tr>\n",
       "    <tr>\n",
       "      <th id=\"T_dd4b1_level0_row9\" class=\"row_heading level0 row9\" >lightgbm</th>\n",
       "      <td id=\"T_dd4b1_row9_col0\" class=\"data row9 col0\" >Light Gradient Boosting Machine</td>\n",
       "      <td id=\"T_dd4b1_row9_col1\" class=\"data row9 col1\" >0.7133</td>\n",
       "      <td id=\"T_dd4b1_row9_col2\" class=\"data row9 col2\" >0.7645</td>\n",
       "      <td id=\"T_dd4b1_row9_col3\" class=\"data row9 col3\" >0.5398</td>\n",
       "      <td id=\"T_dd4b1_row9_col4\" class=\"data row9 col4\" >0.6036</td>\n",
       "      <td id=\"T_dd4b1_row9_col5\" class=\"data row9 col5\" >0.5650</td>\n",
       "      <td id=\"T_dd4b1_row9_col6\" class=\"data row9 col6\" >0.3534</td>\n",
       "      <td id=\"T_dd4b1_row9_col7\" class=\"data row9 col7\" >0.3580</td>\n",
       "      <td id=\"T_dd4b1_row9_col8\" class=\"data row9 col8\" >0.1940</td>\n",
       "    </tr>\n",
       "    <tr>\n",
       "      <th id=\"T_dd4b1_level0_row10\" class=\"row_heading level0 row10\" >knn</th>\n",
       "      <td id=\"T_dd4b1_row10_col0\" class=\"data row10 col0\" >K Neighbors Classifier</td>\n",
       "      <td id=\"T_dd4b1_row10_col1\" class=\"data row10 col1\" >0.7001</td>\n",
       "      <td id=\"T_dd4b1_row10_col2\" class=\"data row10 col2\" >0.7164</td>\n",
       "      <td id=\"T_dd4b1_row10_col3\" class=\"data row10 col3\" >0.5020</td>\n",
       "      <td id=\"T_dd4b1_row10_col4\" class=\"data row10 col4\" >0.5982</td>\n",
       "      <td id=\"T_dd4b1_row10_col5\" class=\"data row10 col5\" >0.5413</td>\n",
       "      <td id=\"T_dd4b1_row10_col6\" class=\"data row10 col6\" >0.3209</td>\n",
       "      <td id=\"T_dd4b1_row10_col7\" class=\"data row10 col7\" >0.3271</td>\n",
       "      <td id=\"T_dd4b1_row10_col8\" class=\"data row10 col8\" >0.1000</td>\n",
       "    </tr>\n",
       "    <tr>\n",
       "      <th id=\"T_dd4b1_level0_row11\" class=\"row_heading level0 row11\" >dt</th>\n",
       "      <td id=\"T_dd4b1_row11_col0\" class=\"data row11 col0\" >Decision Tree Classifier</td>\n",
       "      <td id=\"T_dd4b1_row11_col1\" class=\"data row11 col1\" >0.6928</td>\n",
       "      <td id=\"T_dd4b1_row11_col2\" class=\"data row11 col2\" >0.6512</td>\n",
       "      <td id=\"T_dd4b1_row11_col3\" class=\"data row11 col3\" >0.5137</td>\n",
       "      <td id=\"T_dd4b1_row11_col4\" class=\"data row11 col4\" >0.5636</td>\n",
       "      <td id=\"T_dd4b1_row11_col5\" class=\"data row11 col5\" >0.5328</td>\n",
       "      <td id=\"T_dd4b1_row11_col6\" class=\"data row11 col6\" >0.3070</td>\n",
       "      <td id=\"T_dd4b1_row11_col7\" class=\"data row11 col7\" >0.3098</td>\n",
       "      <td id=\"T_dd4b1_row11_col8\" class=\"data row11 col8\" >0.0050</td>\n",
       "    </tr>\n",
       "    <tr>\n",
       "      <th id=\"T_dd4b1_level0_row12\" class=\"row_heading level0 row12\" >dummy</th>\n",
       "      <td id=\"T_dd4b1_row12_col0\" class=\"data row12 col0\" >Dummy Classifier</td>\n",
       "      <td id=\"T_dd4b1_row12_col1\" class=\"data row12 col1\" >0.6518</td>\n",
       "      <td id=\"T_dd4b1_row12_col2\" class=\"data row12 col2\" >0.5000</td>\n",
       "      <td id=\"T_dd4b1_row12_col3\" class=\"data row12 col3\" >0.0000</td>\n",
       "      <td id=\"T_dd4b1_row12_col4\" class=\"data row12 col4\" >0.0000</td>\n",
       "      <td id=\"T_dd4b1_row12_col5\" class=\"data row12 col5\" >0.0000</td>\n",
       "      <td id=\"T_dd4b1_row12_col6\" class=\"data row12 col6\" >0.0000</td>\n",
       "      <td id=\"T_dd4b1_row12_col7\" class=\"data row12 col7\" >0.0000</td>\n",
       "      <td id=\"T_dd4b1_row12_col8\" class=\"data row12 col8\" >0.0040</td>\n",
       "    </tr>\n",
       "    <tr>\n",
       "      <th id=\"T_dd4b1_level0_row13\" class=\"row_heading level0 row13\" >svm</th>\n",
       "      <td id=\"T_dd4b1_row13_col0\" class=\"data row13 col0\" >SVM - Linear Kernel</td>\n",
       "      <td id=\"T_dd4b1_row13_col1\" class=\"data row13 col1\" >0.5954</td>\n",
       "      <td id=\"T_dd4b1_row13_col2\" class=\"data row13 col2\" >0.5914</td>\n",
       "      <td id=\"T_dd4b1_row13_col3\" class=\"data row13 col3\" >0.3395</td>\n",
       "      <td id=\"T_dd4b1_row13_col4\" class=\"data row13 col4\" >0.4090</td>\n",
       "      <td id=\"T_dd4b1_row13_col5\" class=\"data row13 col5\" >0.2671</td>\n",
       "      <td id=\"T_dd4b1_row13_col6\" class=\"data row13 col6\" >0.0720</td>\n",
       "      <td id=\"T_dd4b1_row13_col7\" class=\"data row13 col7\" >0.0912</td>\n",
       "      <td id=\"T_dd4b1_row13_col8\" class=\"data row13 col8\" >0.0040</td>\n",
       "    </tr>\n",
       "  </tbody>\n",
       "</table>\n"
      ],
      "text/plain": [
       "<pandas.io.formats.style.Styler at 0x322428a30>"
      ]
     },
     "metadata": {},
     "output_type": "display_data"
    },
    {
     "data": {
      "text/html": [],
      "text/plain": [
       "<IPython.core.display.HTML object>"
      ]
     },
     "metadata": {},
     "output_type": "display_data"
    }
   ],
   "source": [
    "# OOP API\n",
    "best = s.compare_models()"
   ]
  },
  {
   "cell_type": "code",
   "execution_count": 5,
   "id": "e0567054",
   "metadata": {},
   "outputs": [
    {
     "name": "stdout",
     "output_type": "stream",
     "text": [
      "LogisticRegression(C=1.0, class_weight=None, dual=False, fit_intercept=True,\n",
      "                   intercept_scaling=1, l1_ratio=None, max_iter=1000,\n",
      "                   multi_class='auto', n_jobs=None, penalty='l2',\n",
      "                   random_state=123, solver='lbfgs', tol=0.0001, verbose=0,\n",
      "                   warm_start=False)\n"
     ]
    }
   ],
   "source": [
    "print(best)"
   ]
  },
  {
   "cell_type": "code",
   "execution_count": 6,
   "id": "caa9d9ad",
   "metadata": {},
   "outputs": [
    {
     "data": {
      "application/vnd.jupyter.widget-view+json": {
       "model_id": "73a7274ec21b42d9a37a197a1069ed75",
       "version_major": 2,
       "version_minor": 0
      },
      "text/plain": [
       "interactive(children=(ToggleButtons(description='Plot Type:', icons=('',), options=(('Pipeline Plot', 'pipelin…"
      ]
     },
     "metadata": {},
     "output_type": "display_data"
    }
   ],
   "source": [
    "# OOP API\n",
    "s.evaluate_model(best)"
   ]
  },
  {
   "cell_type": "code",
   "execution_count": 7,
   "id": "0cd2280e",
   "metadata": {},
   "outputs": [
    {
     "data": {
      "text/html": [],
      "text/plain": [
       "<IPython.core.display.HTML object>"
      ]
     },
     "metadata": {},
     "output_type": "display_data"
    },
    {
     "data": {
      "image/png": "[encoded data removed]",
      "text/plain": [
       "<Figure size 800x550 with 1 Axes>"
      ]
     },
     "metadata": {},
     "output_type": "display_data"
    }
   ],
   "source": [
    "# OOP API\n",
    "s.plot_model(best, plot = 'auc')"
   ]
  },
  {
   "cell_type": "code",
   "execution_count": 8,
   "id": "62eeaecc",
   "metadata": {},
   "outputs": [
    {
     "data": {
      "text/html": [],
      "text/plain": [
       "<IPython.core.display.HTML object>"
      ]
     },
     "metadata": {},
     "output_type": "display_data"
    },
    {
     "data": {
      "image/png": "[encoded data removed]",
      "text/plain": [
       "<Figure size 800x550 with 1 Axes>"
      ]
     },
     "metadata": {},
     "output_type": "display_data"
    }
   ],
   "source": [
    "# OOP API\n",
    "s.plot_model(best, plot = 'confusion_matrix')"
   ]
  },
  {
   "cell_type": "code",
   "execution_count": 9,
   "id": "1f5d57fd",
   "metadata": {},
   "outputs": [
    {
     "data": {
      "text/html": [
       "<style type=\"text/css\">\n",
       "</style>\n",
       "<table id=\"T_f8f35\">\n",
       "  <thead>\n",
       "    <tr>\n",
       "      <th class=\"blank level0\" >&nbsp;</th>\n",
       "      <th id=\"T_f8f35_level0_col0\" class=\"col_heading level0 col0\" >Model</th>\n",
       "      <th id=\"T_f8f35_level0_col1\" class=\"col_heading level0 col1\" >Accuracy</th>\n",
       "      <th id=\"T_f8f35_level0_col2\" class=\"col_heading level0 col2\" >AUC</th>\n",
       "      <th id=\"T_f8f35_level0_col3\" class=\"col_heading level0 col3\" >Recall</th>\n",
       "      <th id=\"T_f8f35_level0_col4\" class=\"col_heading level0 col4\" >Prec.</th>\n",
       "      <th id=\"T_f8f35_level0_col5\" class=\"col_heading level0 col5\" >F1</th>\n",
       "      <th id=\"T_f8f35_level0_col6\" class=\"col_heading level0 col6\" >Kappa</th>\n",
       "      <th id=\"T_f8f35_level0_col7\" class=\"col_heading level0 col7\" >MCC</th>\n",
       "    </tr>\n",
       "  </thead>\n",
       "  <tbody>\n",
       "    <tr>\n",
       "      <th id=\"T_f8f35_level0_row0\" class=\"row_heading level0 row0\" >0</th>\n",
       "      <td id=\"T_f8f35_row0_col0\" class=\"data row0 col0\" >Logistic Regression</td>\n",
       "      <td id=\"T_f8f35_row0_col1\" class=\"data row0 col1\" >0.7576</td>\n",
       "      <td id=\"T_f8f35_row0_col2\" class=\"data row0 col2\" >0.8568</td>\n",
       "      <td id=\"T_f8f35_row0_col3\" class=\"data row0 col3\" >0.5309</td>\n",
       "      <td id=\"T_f8f35_row0_col4\" class=\"data row0 col4\" >0.7049</td>\n",
       "      <td id=\"T_f8f35_row0_col5\" class=\"data row0 col5\" >0.6056</td>\n",
       "      <td id=\"T_f8f35_row0_col6\" class=\"data row0 col6\" >0.4356</td>\n",
       "      <td id=\"T_f8f35_row0_col7\" class=\"data row0 col7\" >0.4447</td>\n",
       "    </tr>\n",
       "  </tbody>\n",
       "</table>\n"
      ],
      "text/plain": [
       "<pandas.io.formats.style.Styler at 0x3226e2760>"
      ]
     },
     "metadata": {},
     "output_type": "display_data"
    },
    {
     "data": {
      "application/vnd.microsoft.datawrangler.viewer.v0+json": {
       "columns": [
        {
         "name": "index",
         "rawType": "int64",
         "type": "integer"
        },
        {
         "name": "Number of times pregnant",
         "rawType": "int8",
         "type": "integer"
        },
        {
         "name": "Plasma glucose concentration a 2 hours in an oral glucose tolerance test",
         "rawType": "int32",
         "type": "integer"
        },
        {
         "name": "Diastolic blood pressure (mm Hg)",
         "rawType": "int8",
         "type": "integer"
        },
        {
         "name": "Triceps skin fold thickness (mm)",
         "rawType": "int8",
         "type": "integer"
        },
        {
         "name": "2-Hour serum insulin (mu U/ml)",
         "rawType": "int32",
         "type": "integer"
        },
        {
         "name": "Body mass index (weight in kg/(height in m)^2)",
         "rawType": "float32",
         "type": "float"
        },
        {
         "name": "Diabetes pedigree function",
         "rawType": "float32",
         "type": "float"
        },
        {
         "name": "Age (years)",
         "rawType": "int8",
         "type": "integer"
        },
        {
         "name": "Class variable",
         "rawType": "int8",
         "type": "integer"
        },
        {
         "name": "prediction_label",
         "rawType": "int64",
         "type": "integer"
        },
        {
         "name": "prediction_score",
         "rawType": "float64",
         "type": "float"
        }
       ],
       "ref": "4966f52a-bbab-465b-bbe4-950247598683",
       "rows": [
        [
         "552",
         "6",
         "114",
         "88",
         "0",
         "0",
         "27.8",
         "0.247",
         "66",
         "0",
         "0",
         "0.8037"
        ],
        [
         "438",
         "1",
         "97",
         "70",
         "15",
         "0",
         "18.2",
         "0.147",
         "21",
         "0",
         "0",
         "0.9648"
        ],
        [
         "149",
         "2",
         "90",
         "70",
         "17",
         "0",
         "27.3",
         "0.085",
         "22",
         "0",
         "0",
         "0.9394"
        ],
        [
         "373",
         "2",
         "105",
         "58",
         "40",
         "94",
         "34.9",
         "0.225",
         "25",
         "0",
         "0",
         "0.7999"
        ],
        [
         "36",
         "11",
         "138",
         "76",
         "0",
         "0",
         "33.2",
         "0.42",
         "35",
         "0",
         "1",
         "0.6393"
        ],
        [
         "377",
         "1",
         "87",
         "60",
         "37",
         "75",
         "37.2",
         "0.509",
         "22",
         "0",
         "0",
         "0.8577"
        ],
        [
         "492",
         "4",
         "99",
         "68",
         "38",
         "0",
         "32.8",
         "0.145",
         "33",
         "0",
         "0",
         "0.826"
        ],
        [
         "180",
         "6",
         "87",
         "80",
         "0",
         "0",
         "23.2",
         "0.084",
         "32",
         "0",
         "0",
         "0.9484"
        ],
        [
         "687",
         "1",
         "107",
         "50",
         "19",
         "0",
         "28.3",
         "0.181",
         "29",
         "0",
         "0",
         "0.8594"
        ],
        [
         "69",
         "4",
         "146",
         "85",
         "27",
         "100",
         "28.9",
         "0.189",
         "27",
         "0",
         "0",
         "0.6391"
        ],
        [
         "584",
         "8",
         "124",
         "76",
         "24",
         "600",
         "28.7",
         "0.687",
         "52",
         "1",
         "0",
         "0.7812"
        ],
        [
         "550",
         "1",
         "116",
         "70",
         "28",
         "0",
         "27.4",
         "0.204",
         "21",
         "0",
         "0",
         "0.855"
        ],
        [
         "314",
         "7",
         "109",
         "80",
         "31",
         "0",
         "35.9",
         "1.127",
         "43",
         "1",
         "0",
         "0.5324"
        ],
        [
         "527",
         "3",
         "116",
         "74",
         "15",
         "105",
         "26.3",
         "0.107",
         "24",
         "0",
         "0",
         "0.8781"
        ],
        [
         "759",
         "6",
         "190",
         "92",
         "0",
         "0",
         "35.5",
         "0.278",
         "66",
         "1",
         "1",
         "0.8771"
        ],
        [
         "415",
         "3",
         "173",
         "84",
         "33",
         "474",
         "35.7",
         "0.258",
         "22",
         "1",
         "1",
         "0.578"
        ],
        [
         "721",
         "1",
         "114",
         "66",
         "36",
         "200",
         "38.1",
         "0.289",
         "21",
         "0",
         "0",
         "0.7615"
        ],
        [
         "226",
         "0",
         "101",
         "76",
         "0",
         "0",
         "35.7",
         "0.198",
         "26",
         "0",
         "0",
         "0.8717"
        ],
        [
         "493",
         "4",
         "125",
         "70",
         "18",
         "122",
         "28.9",
         "1.144",
         "45",
         "1",
         "0",
         "0.6353"
        ],
        [
         "504",
         "3",
         "96",
         "78",
         "39",
         "0",
         "37.3",
         "0.238",
         "40",
         "0",
         "0",
         "0.8073"
        ],
        [
         "192",
         "7",
         "159",
         "66",
         "0",
         "0",
         "30.4",
         "0.383",
         "36",
         "1",
         "1",
         "0.6862"
        ],
        [
         "613",
         "6",
         "105",
         "80",
         "28",
         "0",
         "32.5",
         "0.878",
         "26",
         "0",
         "0",
         "0.7105"
        ],
        [
         "43",
         "9",
         "171",
         "110",
         "24",
         "240",
         "45.4",
         "0.721",
         "54",
         "1",
         "1",
         "0.8938"
        ],
        [
         "739",
         "1",
         "102",
         "74",
         "0",
         "0",
         "39.5",
         "0.293",
         "42",
         "1",
         "0",
         "0.7883"
        ],
        [
         "507",
         "1",
         "130",
         "60",
         "23",
         "170",
         "28.6",
         "0.692",
         "21",
         "0",
         "0",
         "0.738"
        ],
        [
         "215",
         "12",
         "151",
         "70",
         "40",
         "271",
         "41.8",
         "0.742",
         "38",
         "1",
         "1",
         "0.8661"
        ],
        [
         "172",
         "2",
         "87",
         "0",
         "23",
         "0",
         "28.9",
         "0.773",
         "25",
         "0",
         "0",
         "0.8039"
        ],
        [
         "562",
         "1",
         "87",
         "68",
         "34",
         "77",
         "37.6",
         "0.401",
         "24",
         "0",
         "0",
         "0.8738"
        ],
        [
         "664",
         "6",
         "115",
         "60",
         "39",
         "0",
         "33.7",
         "0.245",
         "40",
         "1",
         "0",
         "0.6219"
        ],
        [
         "220",
         "0",
         "177",
         "60",
         "29",
         "478",
         "34.6",
         "1.072",
         "21",
         "1",
         "1",
         "0.6956"
        ],
        [
         "242",
         "3",
         "139",
         "54",
         "0",
         "0",
         "25.6",
         "0.402",
         "22",
         "1",
         "0",
         "0.6606"
        ],
        [
         "749",
         "6",
         "162",
         "62",
         "0",
         "0",
         "24.3",
         "0.178",
         "50",
         "1",
         "1",
         "0.5638"
        ],
        [
         "639",
         "1",
         "100",
         "74",
         "12",
         "46",
         "19.5",
         "0.149",
         "28",
         "0",
         "0",
         "0.9609"
        ],
        [
         "656",
         "2",
         "101",
         "58",
         "35",
         "90",
         "21.8",
         "0.155",
         "22",
         "0",
         "0",
         "0.9357"
        ],
        [
         "168",
         "4",
         "110",
         "66",
         "0",
         "0",
         "31.9",
         "0.471",
         "29",
         "0",
         "0",
         "0.7634"
        ],
        [
         "392",
         "1",
         "131",
         "64",
         "14",
         "415",
         "23.7",
         "0.389",
         "21",
         "0",
         "0",
         "0.8888"
        ],
        [
         "426",
         "0",
         "94",
         "0",
         "0",
         "0",
         "0.0",
         "0.256",
         "25",
         "0",
         "0",
         "0.9847"
        ],
        [
         "498",
         "7",
         "195",
         "70",
         "33",
         "145",
         "25.1",
         "0.163",
         "55",
         "1",
         "1",
         "0.8091"
        ],
        [
         "64",
         "7",
         "114",
         "66",
         "0",
         "0",
         "32.8",
         "0.258",
         "42",
         "1",
         "0",
         "0.6719"
        ],
        [
         "295",
         "6",
         "151",
         "62",
         "31",
         "120",
         "35.5",
         "0.692",
         "28",
         "0",
         "1",
         "0.7204"
        ],
        [
         "571",
         "2",
         "130",
         "96",
         "0",
         "0",
         "22.6",
         "0.268",
         "21",
         "0",
         "0",
         "0.874"
        ],
        [
         "743",
         "9",
         "140",
         "94",
         "0",
         "0",
         "32.7",
         "0.734",
         "45",
         "1",
         "1",
         "0.6022"
        ],
        [
         "276",
         "7",
         "106",
         "60",
         "24",
         "0",
         "26.5",
         "0.296",
         "29",
         "1",
         "0",
         "0.7994"
        ],
        [
         "575",
         "1",
         "119",
         "44",
         "47",
         "63",
         "35.5",
         "0.28",
         "25",
         "0",
         "0",
         "0.6573"
        ],
        [
         "711",
         "5",
         "126",
         "78",
         "27",
         "22",
         "29.6",
         "0.439",
         "40",
         "0",
         "0",
         "0.6718"
        ],
        [
         "413",
         "1",
         "143",
         "74",
         "22",
         "61",
         "26.2",
         "0.256",
         "21",
         "0",
         "0",
         "0.7366"
        ],
        [
         "727",
         "0",
         "141",
         "84",
         "26",
         "0",
         "32.4",
         "0.433",
         "22",
         "0",
         "0",
         "0.6423"
        ],
        [
         "243",
         "6",
         "119",
         "50",
         "22",
         "176",
         "27.1",
         "1.318",
         "33",
         "1",
         "0",
         "0.6175"
        ],
        [
         "50",
         "1",
         "103",
         "80",
         "11",
         "82",
         "19.4",
         "0.491",
         "22",
         "0",
         "0",
         "0.9545"
        ],
        [
         "563",
         "6",
         "99",
         "60",
         "19",
         "54",
         "26.9",
         "0.497",
         "32",
         "0",
         "0",
         "0.843"
        ]
       ],
       "shape": {
        "columns": 11,
        "rows": 231
       }
      },
      "text/html": [
       "<div>\n",
       "<style scoped>\n",
       "    .dataframe tbody tr th:only-of-type {\n",
       "        vertical-align: middle;\n",
       "    }\n",
       "\n",
       "    .dataframe tbody tr th {\n",
       "        vertical-align: top;\n",
       "    }\n",
       "\n",
       "    .dataframe thead th {\n",
       "        text-align: right;\n",
       "    }\n",
       "</style>\n",
       "<table border=\"1\" class=\"dataframe\">\n",
       "  <thead>\n",
       "    <tr style=\"text-align: right;\">\n",
       "      <th></th>\n",
       "      <th>Number of times pregnant</th>\n",
       "      <th>Plasma glucose concentration a 2 hours in an oral glucose tolerance test</th>\n",
       "      <th>Diastolic blood pressure (mm Hg)</th>\n",
       "      <th>Triceps skin fold thickness (mm)</th>\n",
       "      <th>2-Hour serum insulin (mu U/ml)</th>\n",
       "      <th>Body mass index (weight in kg/(height in m)^2)</th>\n",
       "      <th>Diabetes pedigree function</th>\n",
       "      <th>Age (years)</th>\n",
       "      <th>Class variable</th>\n",
       "      <th>prediction_label</th>\n",
       "      <th>prediction_score</th>\n",
       "    </tr>\n",
       "  </thead>\n",
       "  <tbody>\n",
       "    <tr>\n",
       "      <th>552</th>\n",
       "      <td>6</td>\n",
       "      <td>114</td>\n",
       "      <td>88</td>\n",
       "      <td>0</td>\n",
       "      <td>0</td>\n",
       "      <td>27.799999</td>\n",
       "      <td>0.247</td>\n",
       "      <td>66</td>\n",
       "      <td>0</td>\n",
       "      <td>0</td>\n",
       "      <td>0.8037</td>\n",
       "    </tr>\n",
       "    <tr>\n",
       "      <th>438</th>\n",
       "      <td>1</td>\n",
       "      <td>97</td>\n",
       "      <td>70</td>\n",
       "      <td>15</td>\n",
       "      <td>0</td>\n",
       "      <td>18.200001</td>\n",
       "      <td>0.147</td>\n",
       "      <td>21</td>\n",
       "      <td>0</td>\n",
       "      <td>0</td>\n",
       "      <td>0.9648</td>\n",
       "    </tr>\n",
       "    <tr>\n",
       "      <th>149</th>\n",
       "      <td>2</td>\n",
       "      <td>90</td>\n",
       "      <td>70</td>\n",
       "      <td>17</td>\n",
       "      <td>0</td>\n",
       "      <td>27.299999</td>\n",
       "      <td>0.085</td>\n",
       "      <td>22</td>\n",
       "      <td>0</td>\n",
       "      <td>0</td>\n",
       "      <td>0.9394</td>\n",
       "    </tr>\n",
       "    <tr>\n",
       "      <th>373</th>\n",
       "      <td>2</td>\n",
       "      <td>105</td>\n",
       "      <td>58</td>\n",
       "      <td>40</td>\n",
       "      <td>94</td>\n",
       "      <td>34.900002</td>\n",
       "      <td>0.225</td>\n",
       "      <td>25</td>\n",
       "      <td>0</td>\n",
       "      <td>0</td>\n",
       "      <td>0.7999</td>\n",
       "    </tr>\n",
       "    <tr>\n",
       "      <th>36</th>\n",
       "      <td>11</td>\n",
       "      <td>138</td>\n",
       "      <td>76</td>\n",
       "      <td>0</td>\n",
       "      <td>0</td>\n",
       "      <td>33.200001</td>\n",
       "      <td>0.420</td>\n",
       "      <td>35</td>\n",
       "      <td>0</td>\n",
       "      <td>1</td>\n",
       "      <td>0.6393</td>\n",
       "    </tr>\n",
       "    <tr>\n",
       "      <th>...</th>\n",
       "      <td>...</td>\n",
       "      <td>...</td>\n",
       "      <td>...</td>\n",
       "      <td>...</td>\n",
       "      <td>...</td>\n",
       "      <td>...</td>\n",
       "      <td>...</td>\n",
       "      <td>...</td>\n",
       "      <td>...</td>\n",
       "      <td>...</td>\n",
       "      <td>...</td>\n",
       "    </tr>\n",
       "    <tr>\n",
       "      <th>85</th>\n",
       "      <td>2</td>\n",
       "      <td>110</td>\n",
       "      <td>74</td>\n",
       "      <td>29</td>\n",
       "      <td>125</td>\n",
       "      <td>32.400002</td>\n",
       "      <td>0.698</td>\n",
       "      <td>27</td>\n",
       "      <td>0</td>\n",
       "      <td>0</td>\n",
       "      <td>0.8002</td>\n",
       "    </tr>\n",
       "    <tr>\n",
       "      <th>7</th>\n",
       "      <td>10</td>\n",
       "      <td>115</td>\n",
       "      <td>0</td>\n",
       "      <td>0</td>\n",
       "      <td>0</td>\n",
       "      <td>35.299999</td>\n",
       "      <td>0.134</td>\n",
       "      <td>29</td>\n",
       "      <td>0</td>\n",
       "      <td>1</td>\n",
       "      <td>0.6230</td>\n",
       "    </tr>\n",
       "    <tr>\n",
       "      <th>298</th>\n",
       "      <td>14</td>\n",
       "      <td>100</td>\n",
       "      <td>78</td>\n",
       "      <td>25</td>\n",
       "      <td>184</td>\n",
       "      <td>36.599998</td>\n",
       "      <td>0.412</td>\n",
       "      <td>46</td>\n",
       "      <td>1</td>\n",
       "      <td>0</td>\n",
       "      <td>0.5984</td>\n",
       "    </tr>\n",
       "    <tr>\n",
       "      <th>341</th>\n",
       "      <td>1</td>\n",
       "      <td>95</td>\n",
       "      <td>74</td>\n",
       "      <td>21</td>\n",
       "      <td>73</td>\n",
       "      <td>25.900000</td>\n",
       "      <td>0.673</td>\n",
       "      <td>36</td>\n",
       "      <td>0</td>\n",
       "      <td>0</td>\n",
       "      <td>0.9244</td>\n",
       "    </tr>\n",
       "    <tr>\n",
       "      <th>472</th>\n",
       "      <td>0</td>\n",
       "      <td>119</td>\n",
       "      <td>66</td>\n",
       "      <td>27</td>\n",
       "      <td>0</td>\n",
       "      <td>38.799999</td>\n",
       "      <td>0.259</td>\n",
       "      <td>22</td>\n",
       "      <td>0</td>\n",
       "      <td>0</td>\n",
       "      <td>0.6798</td>\n",
       "    </tr>\n",
       "  </tbody>\n",
       "</table>\n",
       "<p>231 rows × 11 columns</p>\n",
       "</div>"
      ],
      "text/plain": [
       "     Number of times pregnant  \\\n",
       "552                         6   \n",
       "438                         1   \n",
       "149                         2   \n",
       "373                         2   \n",
       "36                         11   \n",
       "..                        ...   \n",
       "85                          2   \n",
       "7                          10   \n",
       "298                        14   \n",
       "341                         1   \n",
       "472                         0   \n",
       "\n",
       "     Plasma glucose concentration a 2 hours in an oral glucose tolerance test  \\\n",
       "552                                                114                          \n",
       "438                                                 97                          \n",
       "149                                                 90                          \n",
       "373                                                105                          \n",
       "36                                                 138                          \n",
       "..                                                 ...                          \n",
       "85                                                 110                          \n",
       "7                                                  115                          \n",
       "298                                                100                          \n",
       "341                                                 95                          \n",
       "472                                                119                          \n",
       "\n",
       "     Diastolic blood pressure (mm Hg)  Triceps skin fold thickness (mm)  \\\n",
       "552                                88                                 0   \n",
       "438                                70                                15   \n",
       "149                                70                                17   \n",
       "373                                58                                40   \n",
       "36                                 76                                 0   \n",
       "..                                ...                               ...   \n",
       "85                                 74                                29   \n",
       "7                                   0                                 0   \n",
       "298                                78                                25   \n",
       "341                                74                                21   \n",
       "472                                66                                27   \n",
       "\n",
       "     2-Hour serum insulin (mu U/ml)  \\\n",
       "552                               0   \n",
       "438                               0   \n",
       "149                               0   \n",
       "373                              94   \n",
       "36                                0   \n",
       "..                              ...   \n",
       "85                              125   \n",
       "7                                 0   \n",
       "298                             184   \n",
       "341                              73   \n",
       "472                               0   \n",
       "\n",
       "     Body mass index (weight in kg/(height in m)^2)  \\\n",
       "552                                       27.799999   \n",
       "438                                       18.200001   \n",
       "149                                       27.299999   \n",
       "373                                       34.900002   \n",
       "36                                        33.200001   \n",
       "..                                              ...   \n",
       "85                                        32.400002   \n",
       "7                                         35.299999   \n",
       "298                                       36.599998   \n",
       "341                                       25.900000   \n",
       "472                                       38.799999   \n",
       "\n",
       "     Diabetes pedigree function  Age (years)  Class variable  \\\n",
       "552                       0.247           66               0   \n",
       "438                       0.147           21               0   \n",
       "149                       0.085           22               0   \n",
       "373                       0.225           25               0   \n",
       "36                        0.420           35               0   \n",
       "..                          ...          ...             ...   \n",
       "85                        0.698           27               0   \n",
       "7                         0.134           29               0   \n",
       "298                       0.412           46               1   \n",
       "341                       0.673           36               0   \n",
       "472                       0.259           22               0   \n",
       "\n",
       "     prediction_label  prediction_score  \n",
       "552                 0            0.8037  \n",
       "438                 0            0.9648  \n",
       "149                 0            0.9394  \n",
       "373                 0            0.7999  \n",
       "36                  1            0.6393  \n",
       "..                ...               ...  \n",
       "85                  0            0.8002  \n",
       "7                   1            0.6230  \n",
       "298                 0            0.5984  \n",
       "341                 0            0.9244  \n",
       "472                 0            0.6798  \n",
       "\n",
       "[231 rows x 11 columns]"
      ]
     },
     "execution_count": 9,
     "metadata": {},
     "output_type": "execute_result"
    }
   ],
   "source": [
    "# OOP API\n",
    "s.predict_model(best)"
   ]
  },
  {
   "cell_type": "code",
   "execution_count": 10,
   "id": "043e94b7",
   "metadata": {},
   "outputs": [
    {
     "data": {
      "text/html": [
       "<style type=\"text/css\">\n",
       "</style>\n",
       "<table id=\"T_5f486\">\n",
       "  <thead>\n",
       "    <tr>\n",
       "      <th class=\"blank level0\" >&nbsp;</th>\n",
       "      <th id=\"T_5f486_level0_col0\" class=\"col_heading level0 col0\" >Model</th>\n",
       "      <th id=\"T_5f486_level0_col1\" class=\"col_heading level0 col1\" >Accuracy</th>\n",
       "      <th id=\"T_5f486_level0_col2\" class=\"col_heading level0 col2\" >AUC</th>\n",
       "      <th id=\"T_5f486_level0_col3\" class=\"col_heading level0 col3\" >Recall</th>\n",
       "      <th id=\"T_5f486_level0_col4\" class=\"col_heading level0 col4\" >Prec.</th>\n",
       "      <th id=\"T_5f486_level0_col5\" class=\"col_heading level0 col5\" >F1</th>\n",
       "      <th id=\"T_5f486_level0_col6\" class=\"col_heading level0 col6\" >Kappa</th>\n",
       "      <th id=\"T_5f486_level0_col7\" class=\"col_heading level0 col7\" >MCC</th>\n",
       "    </tr>\n",
       "  </thead>\n",
       "  <tbody>\n",
       "    <tr>\n",
       "      <th id=\"T_5f486_level0_row0\" class=\"row_heading level0 row0\" >0</th>\n",
       "      <td id=\"T_5f486_row0_col0\" class=\"data row0 col0\" >Logistic Regression</td>\n",
       "      <td id=\"T_5f486_row0_col1\" class=\"data row0 col1\" >0.7773</td>\n",
       "      <td id=\"T_5f486_row0_col2\" class=\"data row0 col2\" >0.8357</td>\n",
       "      <td id=\"T_5f486_row0_col3\" class=\"data row0 col3\" >0.5709</td>\n",
       "      <td id=\"T_5f486_row0_col4\" class=\"data row0 col4\" >0.7321</td>\n",
       "      <td id=\"T_5f486_row0_col5\" class=\"data row0 col5\" >0.6415</td>\n",
       "      <td id=\"T_5f486_row0_col6\" class=\"data row0 col6\" >0.4836</td>\n",
       "      <td id=\"T_5f486_row0_col7\" class=\"data row0 col7\" >0.4915</td>\n",
       "    </tr>\n",
       "  </tbody>\n",
       "</table>\n"
      ],
      "text/plain": [
       "<pandas.io.formats.style.Styler at 0x322577220>"
      ]
     },
     "metadata": {},
     "output_type": "display_data"
    },
    {
     "data": {
      "application/vnd.microsoft.datawrangler.viewer.v0+json": {
       "columns": [
        {
         "name": "index",
         "rawType": "int64",
         "type": "integer"
        },
        {
         "name": "Number of times pregnant",
         "rawType": "int8",
         "type": "integer"
        },
        {
         "name": "Plasma glucose concentration a 2 hours in an oral glucose tolerance test",
         "rawType": "int32",
         "type": "integer"
        },
        {
         "name": "Diastolic blood pressure (mm Hg)",
         "rawType": "int8",
         "type": "integer"
        },
        {
         "name": "Triceps skin fold thickness (mm)",
         "rawType": "int8",
         "type": "integer"
        },
        {
         "name": "2-Hour serum insulin (mu U/ml)",
         "rawType": "int32",
         "type": "integer"
        },
        {
         "name": "Body mass index (weight in kg/(height in m)^2)",
         "rawType": "float32",
         "type": "float"
        },
        {
         "name": "Diabetes pedigree function",
         "rawType": "float32",
         "type": "float"
        },
        {
         "name": "Age (years)",
         "rawType": "int8",
         "type": "integer"
        },
        {
         "name": "Class variable",
         "rawType": "int8",
         "type": "integer"
        },
        {
         "name": "prediction_label",
         "rawType": "int64",
         "type": "integer"
        },
        {
         "name": "prediction_score",
         "rawType": "float64",
         "type": "float"
        }
       ],
       "ref": "86cac57d-f766-40a7-b7a7-05106258a0ca",
       "rows": [
        [
         "0",
         "6",
         "148",
         "72",
         "35",
         "0",
         "33.6",
         "0.627",
         "50",
         "1",
         "1",
         "0.694"
        ],
        [
         "1",
         "1",
         "85",
         "66",
         "29",
         "0",
         "26.6",
         "0.351",
         "31",
         "0",
         "0",
         "0.9419"
        ],
        [
         "2",
         "8",
         "183",
         "64",
         "0",
         "0",
         "23.3",
         "0.672",
         "32",
         "1",
         "1",
         "0.7976"
        ],
        [
         "3",
         "1",
         "89",
         "66",
         "23",
         "94",
         "28.1",
         "0.167",
         "21",
         "0",
         "0",
         "0.9454"
        ],
        [
         "4",
         "0",
         "137",
         "40",
         "35",
         "168",
         "43.1",
         "2.288",
         "33",
         "1",
         "1",
         "0.8394"
        ]
       ],
       "shape": {
        "columns": 11,
        "rows": 5
       }
      },
      "text/html": [
       "<div>\n",
       "<style scoped>\n",
       "    .dataframe tbody tr th:only-of-type {\n",
       "        vertical-align: middle;\n",
       "    }\n",
       "\n",
       "    .dataframe tbody tr th {\n",
       "        vertical-align: top;\n",
       "    }\n",
       "\n",
       "    .dataframe thead th {\n",
       "        text-align: right;\n",
       "    }\n",
       "</style>\n",
       "<table border=\"1\" class=\"dataframe\">\n",
       "  <thead>\n",
       "    <tr style=\"text-align: right;\">\n",
       "      <th></th>\n",
       "      <th>Number of times pregnant</th>\n",
       "      <th>Plasma glucose concentration a 2 hours in an oral glucose tolerance test</th>\n",
       "      <th>Diastolic blood pressure (mm Hg)</th>\n",
       "      <th>Triceps skin fold thickness (mm)</th>\n",
       "      <th>2-Hour serum insulin (mu U/ml)</th>\n",
       "      <th>Body mass index (weight in kg/(height in m)^2)</th>\n",
       "      <th>Diabetes pedigree function</th>\n",
       "      <th>Age (years)</th>\n",
       "      <th>Class variable</th>\n",
       "      <th>prediction_label</th>\n",
       "      <th>prediction_score</th>\n",
       "    </tr>\n",
       "  </thead>\n",
       "  <tbody>\n",
       "    <tr>\n",
       "      <th>0</th>\n",
       "      <td>6</td>\n",
       "      <td>148</td>\n",
       "      <td>72</td>\n",
       "      <td>35</td>\n",
       "      <td>0</td>\n",
       "      <td>33.599998</td>\n",
       "      <td>0.627</td>\n",
       "      <td>50</td>\n",
       "      <td>1</td>\n",
       "      <td>1</td>\n",
       "      <td>0.6940</td>\n",
       "    </tr>\n",
       "    <tr>\n",
       "      <th>1</th>\n",
       "      <td>1</td>\n",
       "      <td>85</td>\n",
       "      <td>66</td>\n",
       "      <td>29</td>\n",
       "      <td>0</td>\n",
       "      <td>26.600000</td>\n",
       "      <td>0.351</td>\n",
       "      <td>31</td>\n",
       "      <td>0</td>\n",
       "      <td>0</td>\n",
       "      <td>0.9419</td>\n",
       "    </tr>\n",
       "    <tr>\n",
       "      <th>2</th>\n",
       "      <td>8</td>\n",
       "      <td>183</td>\n",
       "      <td>64</td>\n",
       "      <td>0</td>\n",
       "      <td>0</td>\n",
       "      <td>23.299999</td>\n",
       "      <td>0.672</td>\n",
       "      <td>32</td>\n",
       "      <td>1</td>\n",
       "      <td>1</td>\n",
       "      <td>0.7976</td>\n",
       "    </tr>\n",
       "    <tr>\n",
       "      <th>3</th>\n",
       "      <td>1</td>\n",
       "      <td>89</td>\n",
       "      <td>66</td>\n",
       "      <td>23</td>\n",
       "      <td>94</td>\n",
       "      <td>28.100000</td>\n",
       "      <td>0.167</td>\n",
       "      <td>21</td>\n",
       "      <td>0</td>\n",
       "      <td>0</td>\n",
       "      <td>0.9454</td>\n",
       "    </tr>\n",
       "    <tr>\n",
       "      <th>4</th>\n",
       "      <td>0</td>\n",
       "      <td>137</td>\n",
       "      <td>40</td>\n",
       "      <td>35</td>\n",
       "      <td>168</td>\n",
       "      <td>43.099998</td>\n",
       "      <td>2.288</td>\n",
       "      <td>33</td>\n",
       "      <td>1</td>\n",
       "      <td>1</td>\n",
       "      <td>0.8394</td>\n",
       "    </tr>\n",
       "  </tbody>\n",
       "</table>\n",
       "</div>"
      ],
      "text/plain": [
       "   Number of times pregnant  \\\n",
       "0                         6   \n",
       "1                         1   \n",
       "2                         8   \n",
       "3                         1   \n",
       "4                         0   \n",
       "\n",
       "   Plasma glucose concentration a 2 hours in an oral glucose tolerance test  \\\n",
       "0                                                148                          \n",
       "1                                                 85                          \n",
       "2                                                183                          \n",
       "3                                                 89                          \n",
       "4                                                137                          \n",
       "\n",
       "   Diastolic blood pressure (mm Hg)  Triceps skin fold thickness (mm)  \\\n",
       "0                                72                                35   \n",
       "1                                66                                29   \n",
       "2                                64                                 0   \n",
       "3                                66                                23   \n",
       "4                                40                                35   \n",
       "\n",
       "   2-Hour serum insulin (mu U/ml)  \\\n",
       "0                               0   \n",
       "1                               0   \n",
       "2                               0   \n",
       "3                              94   \n",
       "4                             168   \n",
       "\n",
       "   Body mass index (weight in kg/(height in m)^2)  Diabetes pedigree function  \\\n",
       "0                                       33.599998                       0.627   \n",
       "1                                       26.600000                       0.351   \n",
       "2                                       23.299999                       0.672   \n",
       "3                                       28.100000                       0.167   \n",
       "4                                       43.099998                       2.288   \n",
       "\n",
       "   Age (years)  Class variable  prediction_label  prediction_score  \n",
       "0           50               1                 1            0.6940  \n",
       "1           31               0                 0            0.9419  \n",
       "2           32               1                 1            0.7976  \n",
       "3           21               0                 0            0.9454  \n",
       "4           33               1                 1            0.8394  "
      ]
     },
     "execution_count": 10,
     "metadata": {},
     "output_type": "execute_result"
    }
   ],
   "source": [
    "# OOP API\n",
    "predictions = s.predict_model(best, data=data)\n",
    "predictions.head()"
   ]
  },
  {
   "cell_type": "code",
   "execution_count": 11,
   "id": "4e5f536c",
   "metadata": {},
   "outputs": [
    {
     "data": {
      "text/html": [
       "<style type=\"text/css\">\n",
       "</style>\n",
       "<table id=\"T_b5a2c\">\n",
       "  <thead>\n",
       "    <tr>\n",
       "      <th class=\"blank level0\" >&nbsp;</th>\n",
       "      <th id=\"T_b5a2c_level0_col0\" class=\"col_heading level0 col0\" >Model</th>\n",
       "      <th id=\"T_b5a2c_level0_col1\" class=\"col_heading level0 col1\" >Accuracy</th>\n",
       "      <th id=\"T_b5a2c_level0_col2\" class=\"col_heading level0 col2\" >AUC</th>\n",
       "      <th id=\"T_b5a2c_level0_col3\" class=\"col_heading level0 col3\" >Recall</th>\n",
       "      <th id=\"T_b5a2c_level0_col4\" class=\"col_heading level0 col4\" >Prec.</th>\n",
       "      <th id=\"T_b5a2c_level0_col5\" class=\"col_heading level0 col5\" >F1</th>\n",
       "      <th id=\"T_b5a2c_level0_col6\" class=\"col_heading level0 col6\" >Kappa</th>\n",
       "      <th id=\"T_b5a2c_level0_col7\" class=\"col_heading level0 col7\" >MCC</th>\n",
       "    </tr>\n",
       "  </thead>\n",
       "  <tbody>\n",
       "    <tr>\n",
       "      <th id=\"T_b5a2c_level0_row0\" class=\"row_heading level0 row0\" >0</th>\n",
       "      <td id=\"T_b5a2c_row0_col0\" class=\"data row0 col0\" >Logistic Regression</td>\n",
       "      <td id=\"T_b5a2c_row0_col1\" class=\"data row0 col1\" >0.7773</td>\n",
       "      <td id=\"T_b5a2c_row0_col2\" class=\"data row0 col2\" >0.8357</td>\n",
       "      <td id=\"T_b5a2c_row0_col3\" class=\"data row0 col3\" >0.5709</td>\n",
       "      <td id=\"T_b5a2c_row0_col4\" class=\"data row0 col4\" >0.7321</td>\n",
       "      <td id=\"T_b5a2c_row0_col5\" class=\"data row0 col5\" >0.6415</td>\n",
       "      <td id=\"T_b5a2c_row0_col6\" class=\"data row0 col6\" >0.4836</td>\n",
       "      <td id=\"T_b5a2c_row0_col7\" class=\"data row0 col7\" >0.4915</td>\n",
       "    </tr>\n",
       "  </tbody>\n",
       "</table>\n"
      ],
      "text/plain": [
       "<pandas.io.formats.style.Styler at 0x322577a90>"
      ]
     },
     "metadata": {},
     "output_type": "display_data"
    },
    {
     "data": {
      "application/vnd.microsoft.datawrangler.viewer.v0+json": {
       "columns": [
        {
         "name": "index",
         "rawType": "int64",
         "type": "integer"
        },
        {
         "name": "Number of times pregnant",
         "rawType": "int8",
         "type": "integer"
        },
        {
         "name": "Plasma glucose concentration a 2 hours in an oral glucose tolerance test",
         "rawType": "int32",
         "type": "integer"
        },
        {
         "name": "Diastolic blood pressure (mm Hg)",
         "rawType": "int8",
         "type": "integer"
        },
        {
         "name": "Triceps skin fold thickness (mm)",
         "rawType": "int8",
         "type": "integer"
        },
        {
         "name": "2-Hour serum insulin (mu U/ml)",
         "rawType": "int32",
         "type": "integer"
        },
        {
         "name": "Body mass index (weight in kg/(height in m)^2)",
         "rawType": "float32",
         "type": "float"
        },
        {
         "name": "Diabetes pedigree function",
         "rawType": "float32",
         "type": "float"
        },
        {
         "name": "Age (years)",
         "rawType": "int8",
         "type": "integer"
        },
        {
         "name": "Class variable",
         "rawType": "int8",
         "type": "integer"
        },
        {
         "name": "prediction_label",
         "rawType": "int64",
         "type": "integer"
        },
        {
         "name": "prediction_score_0",
         "rawType": "float64",
         "type": "float"
        },
        {
         "name": "prediction_score_1",
         "rawType": "float64",
         "type": "float"
        }
       ],
       "ref": "cdd27d1e-5bea-4361-ae41-774ca164b097",
       "rows": [
        [
         "0",
         "6",
         "148",
         "72",
         "35",
         "0",
         "33.6",
         "0.627",
         "50",
         "1",
         "1",
         "0.306",
         "0.694"
        ],
        [
         "1",
         "1",
         "85",
         "66",
         "29",
         "0",
         "26.6",
         "0.351",
         "31",
         "0",
         "0",
         "0.9419",
         "0.0581"
        ],
        [
         "2",
         "8",
         "183",
         "64",
         "0",
         "0",
         "23.3",
         "0.672",
         "32",
         "1",
         "1",
         "0.2024",
         "0.7976"
        ],
        [
         "3",
         "1",
         "89",
         "66",
         "23",
         "94",
         "28.1",
         "0.167",
         "21",
         "0",
         "0",
         "0.9454",
         "0.0546"
        ],
        [
         "4",
         "0",
         "137",
         "40",
         "35",
         "168",
         "43.1",
         "2.288",
         "33",
         "1",
         "1",
         "0.1606",
         "0.8394"
        ]
       ],
       "shape": {
        "columns": 12,
        "rows": 5
       }
      },
      "text/html": [
       "<div>\n",
       "<style scoped>\n",
       "    .dataframe tbody tr th:only-of-type {\n",
       "        vertical-align: middle;\n",
       "    }\n",
       "\n",
       "    .dataframe tbody tr th {\n",
       "        vertical-align: top;\n",
       "    }\n",
       "\n",
       "    .dataframe thead th {\n",
       "        text-align: right;\n",
       "    }\n",
       "</style>\n",
       "<table border=\"1\" class=\"dataframe\">\n",
       "  <thead>\n",
       "    <tr style=\"text-align: right;\">\n",
       "      <th></th>\n",
       "      <th>Number of times pregnant</th>\n",
       "      <th>Plasma glucose concentration a 2 hours in an oral glucose tolerance test</th>\n",
       "      <th>Diastolic blood pressure (mm Hg)</th>\n",
       "      <th>Triceps skin fold thickness (mm)</th>\n",
       "      <th>2-Hour serum insulin (mu U/ml)</th>\n",
       "      <th>Body mass index (weight in kg/(height in m)^2)</th>\n",
       "      <th>Diabetes pedigree function</th>\n",
       "      <th>Age (years)</th>\n",
       "      <th>Class variable</th>\n",
       "      <th>prediction_label</th>\n",
       "      <th>prediction_score_0</th>\n",
       "      <th>prediction_score_1</th>\n",
       "    </tr>\n",
       "  </thead>\n",
       "  <tbody>\n",
       "    <tr>\n",
       "      <th>0</th>\n",
       "      <td>6</td>\n",
       "      <td>148</td>\n",
       "      <td>72</td>\n",
       "      <td>35</td>\n",
       "      <td>0</td>\n",
       "      <td>33.599998</td>\n",
       "      <td>0.627</td>\n",
       "      <td>50</td>\n",
       "      <td>1</td>\n",
       "      <td>1</td>\n",
       "      <td>0.3060</td>\n",
       "      <td>0.6940</td>\n",
       "    </tr>\n",
       "    <tr>\n",
       "      <th>1</th>\n",
       "      <td>1</td>\n",
       "      <td>85</td>\n",
       "      <td>66</td>\n",
       "      <td>29</td>\n",
       "      <td>0</td>\n",
       "      <td>26.600000</td>\n",
       "      <td>0.351</td>\n",
       "      <td>31</td>\n",
       "      <td>0</td>\n",
       "      <td>0</td>\n",
       "      <td>0.9419</td>\n",
       "      <td>0.0581</td>\n",
       "    </tr>\n",
       "    <tr>\n",
       "      <th>2</th>\n",
       "      <td>8</td>\n",
       "      <td>183</td>\n",
       "      <td>64</td>\n",
       "      <td>0</td>\n",
       "      <td>0</td>\n",
       "      <td>23.299999</td>\n",
       "      <td>0.672</td>\n",
       "      <td>32</td>\n",
       "      <td>1</td>\n",
       "      <td>1</td>\n",
       "      <td>0.2024</td>\n",
       "      <td>0.7976</td>\n",
       "    </tr>\n",
       "    <tr>\n",
       "      <th>3</th>\n",
       "      <td>1</td>\n",
       "      <td>89</td>\n",
       "      <td>66</td>\n",
       "      <td>23</td>\n",
       "      <td>94</td>\n",
       "      <td>28.100000</td>\n",
       "      <td>0.167</td>\n",
       "      <td>21</td>\n",
       "      <td>0</td>\n",
       "      <td>0</td>\n",
       "      <td>0.9454</td>\n",
       "      <td>0.0546</td>\n",
       "    </tr>\n",
       "    <tr>\n",
       "      <th>4</th>\n",
       "      <td>0</td>\n",
       "      <td>137</td>\n",
       "      <td>40</td>\n",
       "      <td>35</td>\n",
       "      <td>168</td>\n",
       "      <td>43.099998</td>\n",
       "      <td>2.288</td>\n",
       "      <td>33</td>\n",
       "      <td>1</td>\n",
       "      <td>1</td>\n",
       "      <td>0.1606</td>\n",
       "      <td>0.8394</td>\n",
       "    </tr>\n",
       "  </tbody>\n",
       "</table>\n",
       "</div>"
      ],
      "text/plain": [
       "   Number of times pregnant  \\\n",
       "0                         6   \n",
       "1                         1   \n",
       "2                         8   \n",
       "3                         1   \n",
       "4                         0   \n",
       "\n",
       "   Plasma glucose concentration a 2 hours in an oral glucose tolerance test  \\\n",
       "0                                                148                          \n",
       "1                                                 85                          \n",
       "2                                                183                          \n",
       "3                                                 89                          \n",
       "4                                                137                          \n",
       "\n",
       "   Diastolic blood pressure (mm Hg)  Triceps skin fold thickness (mm)  \\\n",
       "0                                72                                35   \n",
       "1                                66                                29   \n",
       "2                                64                                 0   \n",
       "3                                66                                23   \n",
       "4                                40                                35   \n",
       "\n",
       "   2-Hour serum insulin (mu U/ml)  \\\n",
       "0                               0   \n",
       "1                               0   \n",
       "2                               0   \n",
       "3                              94   \n",
       "4                             168   \n",
       "\n",
       "   Body mass index (weight in kg/(height in m)^2)  Diabetes pedigree function  \\\n",
       "0                                       33.599998                       0.627   \n",
       "1                                       26.600000                       0.351   \n",
       "2                                       23.299999                       0.672   \n",
       "3                                       28.100000                       0.167   \n",
       "4                                       43.099998                       2.288   \n",
       "\n",
       "   Age (years)  Class variable  prediction_label  prediction_score_0  \\\n",
       "0           50               1                 1              0.3060   \n",
       "1           31               0                 0              0.9419   \n",
       "2           32               1                 1              0.2024   \n",
       "3           21               0                 0              0.9454   \n",
       "4           33               1                 1              0.1606   \n",
       "\n",
       "   prediction_score_1  \n",
       "0              0.6940  \n",
       "1              0.0581  \n",
       "2              0.7976  \n",
       "3              0.0546  \n",
       "4              0.8394  "
      ]
     },
     "execution_count": 11,
     "metadata": {},
     "output_type": "execute_result"
    }
   ],
   "source": [
    "# OOP API\n",
    "predictions = s.predict_model(best, data=data, raw_score=True)\n",
    "predictions.head()"
   ]
  },
  {
   "cell_type": "code",
   "execution_count": 12,
   "id": "4757676f",
   "metadata": {},
   "outputs": [
    {
     "name": "stdout",
     "output_type": "stream",
     "text": [
      "Transformation Pipeline and Model Successfully Saved\n"
     ]
    },
    {
     "data": {
      "text/plain": [
       "(Pipeline(memory=Memory(location=None),\n",
       "          steps=[('numerical_imputer',\n",
       "                  TransformerWrapper(exclude=None,\n",
       "                                     include=['Number of times pregnant',\n",
       "                                              'Plasma glucose concentration a 2 '\n",
       "                                              'hours in an oral glucose '\n",
       "                                              'tolerance test',\n",
       "                                              'Diastolic blood pressure (mm Hg)',\n",
       "                                              'Triceps skin fold thickness (mm)',\n",
       "                                              '2-Hour serum insulin (mu U/ml)',\n",
       "                                              'Body mass index (weight in '\n",
       "                                              'kg/(height in m)^2)',\n",
       "                                              'Diabetes pedigre...\n",
       "                  TransformerWrapper(exclude=None, include=None,\n",
       "                                     transformer=CleanColumnNames(match='[\\\\]\\\\[\\\\,\\\\{\\\\}\\\\\"\\\\:]+'))),\n",
       "                 ('trained_model',\n",
       "                  LogisticRegression(C=1.0, class_weight=None, dual=False,\n",
       "                                     fit_intercept=True, intercept_scaling=1,\n",
       "                                     l1_ratio=None, max_iter=1000,\n",
       "                                     multi_class='auto', n_jobs=None,\n",
       "                                     penalty='l2', random_state=123,\n",
       "                                     solver='lbfgs', tol=0.0001, verbose=0,\n",
       "                                     warm_start=False))],\n",
       "          verbose=False),\n",
       " 'my_best_pipeline.pkl')"
      ]
     },
     "execution_count": 12,
     "metadata": {},
     "output_type": "execute_result"
    }
   ],
   "source": [
    "# OOP API\n",
    "s.save_model(best, 'my_best_pipeline')"
   ]
  },
  {
   "cell_type": "code",
   "execution_count": 13,
   "id": "5bd13212",
   "metadata": {},
   "outputs": [
    {
     "name": "stdout",
     "output_type": "stream",
     "text": [
      "Transformation Pipeline and Model Successfully Loaded\n",
      "Pipeline(memory=FastMemory(location=/var/folders/q6/5p1bc37s5q98swf9z15w9k6m0000gn/T/joblib),\n",
      "         steps=[('numerical_imputer',\n",
      "                 TransformerWrapper(exclude=None,\n",
      "                                    include=['Number of times pregnant',\n",
      "                                             'Plasma glucose concentration a 2 '\n",
      "                                             'hours in an oral glucose '\n",
      "                                             'tolerance test',\n",
      "                                             'Diastolic blood pressure (mm Hg)',\n",
      "                                             'Triceps skin fold thickness (mm)',\n",
      "                                             '2-Hour serum insulin (mu U/ml)',\n",
      "                                             'Body...\n",
      "                 TransformerWrapper(exclude=None, include=None,\n",
      "                                    transformer=CleanColumnNames(match='[\\\\]\\\\[\\\\,\\\\{\\\\}\\\\\"\\\\:]+'))),\n",
      "                ('trained_model',\n",
      "                 LogisticRegression(C=1.0, class_weight=None, dual=False,\n",
      "                                    fit_intercept=True, intercept_scaling=1,\n",
      "                                    l1_ratio=None, max_iter=1000,\n",
      "                                    multi_class='auto', n_jobs=None,\n",
      "                                    penalty='l2', random_state=123,\n",
      "                                    solver='lbfgs', tol=0.0001, verbose=0,\n",
      "                                    warm_start=False))],\n",
      "         verbose=False)\n"
     ]
    }
   ],
   "source": [
    "# OOP API\n",
    "loaded_model = s.load_model('my_best_pipeline')\n",
    "print(loaded_model)"
   ]
  },
  {
   "cell_type": "markdown",
   "id": "ee23a138",
   "metadata": {},
   "source": [
    "REGRESSÃO"
   ]
  },
  {
   "cell_type": "code",
   "execution_count": 14,
   "id": "45563f0a",
   "metadata": {},
   "outputs": [
    {
     "data": {
      "application/vnd.microsoft.datawrangler.viewer.v0+json": {
       "columns": [
        {
         "name": "index",
         "rawType": "int64",
         "type": "integer"
        },
        {
         "name": "age",
         "rawType": "int64",
         "type": "integer"
        },
        {
         "name": "sex",
         "rawType": "object",
         "type": "string"
        },
        {
         "name": "bmi",
         "rawType": "float64",
         "type": "float"
        },
        {
         "name": "children",
         "rawType": "int64",
         "type": "integer"
        },
        {
         "name": "smoker",
         "rawType": "object",
         "type": "string"
        },
        {
         "name": "region",
         "rawType": "object",
         "type": "string"
        },
        {
         "name": "charges",
         "rawType": "float64",
         "type": "float"
        }
       ],
       "ref": "a6924383-79d8-4a9d-96b1-a15e3c4e59d5",
       "rows": [
        [
         "0",
         "19",
         "female",
         "27.9",
         "0",
         "yes",
         "southwest",
         "16884.924"
        ],
        [
         "1",
         "18",
         "male",
         "33.77",
         "1",
         "no",
         "southeast",
         "1725.5523"
        ],
        [
         "2",
         "28",
         "male",
         "33.0",
         "3",
         "no",
         "southeast",
         "4449.462"
        ],
        [
         "3",
         "33",
         "male",
         "22.705",
         "0",
         "no",
         "northwest",
         "21984.47061"
        ],
        [
         "4",
         "32",
         "male",
         "28.88",
         "0",
         "no",
         "northwest",
         "3866.8552"
        ]
       ],
       "shape": {
        "columns": 7,
        "rows": 5
       }
      },
      "text/html": [
       "<div>\n",
       "<style scoped>\n",
       "    .dataframe tbody tr th:only-of-type {\n",
       "        vertical-align: middle;\n",
       "    }\n",
       "\n",
       "    .dataframe tbody tr th {\n",
       "        vertical-align: top;\n",
       "    }\n",
       "\n",
       "    .dataframe thead th {\n",
       "        text-align: right;\n",
       "    }\n",
       "</style>\n",
       "<table border=\"1\" class=\"dataframe\">\n",
       "  <thead>\n",
       "    <tr style=\"text-align: right;\">\n",
       "      <th></th>\n",
       "      <th>age</th>\n",
       "      <th>sex</th>\n",
       "      <th>bmi</th>\n",
       "      <th>children</th>\n",
       "      <th>smoker</th>\n",
       "      <th>region</th>\n",
       "      <th>charges</th>\n",
       "    </tr>\n",
       "  </thead>\n",
       "  <tbody>\n",
       "    <tr>\n",
       "      <th>0</th>\n",
       "      <td>19</td>\n",
       "      <td>female</td>\n",
       "      <td>27.900</td>\n",
       "      <td>0</td>\n",
       "      <td>yes</td>\n",
       "      <td>southwest</td>\n",
       "      <td>16884.92400</td>\n",
       "    </tr>\n",
       "    <tr>\n",
       "      <th>1</th>\n",
       "      <td>18</td>\n",
       "      <td>male</td>\n",
       "      <td>33.770</td>\n",
       "      <td>1</td>\n",
       "      <td>no</td>\n",
       "      <td>southeast</td>\n",
       "      <td>1725.55230</td>\n",
       "    </tr>\n",
       "    <tr>\n",
       "      <th>2</th>\n",
       "      <td>28</td>\n",
       "      <td>male</td>\n",
       "      <td>33.000</td>\n",
       "      <td>3</td>\n",
       "      <td>no</td>\n",
       "      <td>southeast</td>\n",
       "      <td>4449.46200</td>\n",
       "    </tr>\n",
       "    <tr>\n",
       "      <th>3</th>\n",
       "      <td>33</td>\n",
       "      <td>male</td>\n",
       "      <td>22.705</td>\n",
       "      <td>0</td>\n",
       "      <td>no</td>\n",
       "      <td>northwest</td>\n",
       "      <td>21984.47061</td>\n",
       "    </tr>\n",
       "    <tr>\n",
       "      <th>4</th>\n",
       "      <td>32</td>\n",
       "      <td>male</td>\n",
       "      <td>28.880</td>\n",
       "      <td>0</td>\n",
       "      <td>no</td>\n",
       "      <td>northwest</td>\n",
       "      <td>3866.85520</td>\n",
       "    </tr>\n",
       "  </tbody>\n",
       "</table>\n",
       "</div>"
      ],
      "text/plain": [
       "   age     sex     bmi  children smoker     region      charges\n",
       "0   19  female  27.900         0    yes  southwest  16884.92400\n",
       "1   18    male  33.770         1     no  southeast   1725.55230\n",
       "2   28    male  33.000         3     no  southeast   4449.46200\n",
       "3   33    male  22.705         0     no  northwest  21984.47061\n",
       "4   32    male  28.880         0     no  northwest   3866.85520"
      ]
     },
     "metadata": {},
     "output_type": "display_data"
    }
   ],
   "source": [
    "# load sample dataset\n",
    "from pycaret.datasets import get_data\n",
    "data = get_data('insurance')"
   ]
  },
  {
   "cell_type": "code",
   "execution_count": 15,
   "id": "96f988d7",
   "metadata": {},
   "outputs": [
    {
     "data": {
      "text/html": [
       "<style type=\"text/css\">\n",
       "#T_83187_row9_col1 {\n",
       "  background-color: lightgreen;\n",
       "}\n",
       "</style>\n",
       "<table id=\"T_83187\">\n",
       "  <thead>\n",
       "    <tr>\n",
       "      <th class=\"blank level0\" >&nbsp;</th>\n",
       "      <th id=\"T_83187_level0_col0\" class=\"col_heading level0 col0\" >Description</th>\n",
       "      <th id=\"T_83187_level0_col1\" class=\"col_heading level0 col1\" >Value</th>\n",
       "    </tr>\n",
       "  </thead>\n",
       "  <tbody>\n",
       "    <tr>\n",
       "      <th id=\"T_83187_level0_row0\" class=\"row_heading level0 row0\" >0</th>\n",
       "      <td id=\"T_83187_row0_col0\" class=\"data row0 col0\" >Session id</td>\n",
       "      <td id=\"T_83187_row0_col1\" class=\"data row0 col1\" >123</td>\n",
       "    </tr>\n",
       "    <tr>\n",
       "      <th id=\"T_83187_level0_row1\" class=\"row_heading level0 row1\" >1</th>\n",
       "      <td id=\"T_83187_row1_col0\" class=\"data row1 col0\" >Target</td>\n",
       "      <td id=\"T_83187_row1_col1\" class=\"data row1 col1\" >charges</td>\n",
       "    </tr>\n",
       "    <tr>\n",
       "      <th id=\"T_83187_level0_row2\" class=\"row_heading level0 row2\" >2</th>\n",
       "      <td id=\"T_83187_row2_col0\" class=\"data row2 col0\" >Target type</td>\n",
       "      <td id=\"T_83187_row2_col1\" class=\"data row2 col1\" >Regression</td>\n",
       "    </tr>\n",
       "    <tr>\n",
       "      <th id=\"T_83187_level0_row3\" class=\"row_heading level0 row3\" >3</th>\n",
       "      <td id=\"T_83187_row3_col0\" class=\"data row3 col0\" >Original data shape</td>\n",
       "      <td id=\"T_83187_row3_col1\" class=\"data row3 col1\" >(1338, 7)</td>\n",
       "    </tr>\n",
       "    <tr>\n",
       "      <th id=\"T_83187_level0_row4\" class=\"row_heading level0 row4\" >4</th>\n",
       "      <td id=\"T_83187_row4_col0\" class=\"data row4 col0\" >Transformed data shape</td>\n",
       "      <td id=\"T_83187_row4_col1\" class=\"data row4 col1\" >(1338, 10)</td>\n",
       "    </tr>\n",
       "    <tr>\n",
       "      <th id=\"T_83187_level0_row5\" class=\"row_heading level0 row5\" >5</th>\n",
       "      <td id=\"T_83187_row5_col0\" class=\"data row5 col0\" >Transformed train set shape</td>\n",
       "      <td id=\"T_83187_row5_col1\" class=\"data row5 col1\" >(936, 10)</td>\n",
       "    </tr>\n",
       "    <tr>\n",
       "      <th id=\"T_83187_level0_row6\" class=\"row_heading level0 row6\" >6</th>\n",
       "      <td id=\"T_83187_row6_col0\" class=\"data row6 col0\" >Transformed test set shape</td>\n",
       "      <td id=\"T_83187_row6_col1\" class=\"data row6 col1\" >(402, 10)</td>\n",
       "    </tr>\n",
       "    <tr>\n",
       "      <th id=\"T_83187_level0_row7\" class=\"row_heading level0 row7\" >7</th>\n",
       "      <td id=\"T_83187_row7_col0\" class=\"data row7 col0\" >Numeric features</td>\n",
       "      <td id=\"T_83187_row7_col1\" class=\"data row7 col1\" >3</td>\n",
       "    </tr>\n",
       "    <tr>\n",
       "      <th id=\"T_83187_level0_row8\" class=\"row_heading level0 row8\" >8</th>\n",
       "      <td id=\"T_83187_row8_col0\" class=\"data row8 col0\" >Categorical features</td>\n",
       "      <td id=\"T_83187_row8_col1\" class=\"data row8 col1\" >3</td>\n",
       "    </tr>\n",
       "    <tr>\n",
       "      <th id=\"T_83187_level0_row9\" class=\"row_heading level0 row9\" >9</th>\n",
       "      <td id=\"T_83187_row9_col0\" class=\"data row9 col0\" >Preprocess</td>\n",
       "      <td id=\"T_83187_row9_col1\" class=\"data row9 col1\" >True</td>\n",
       "    </tr>\n",
       "    <tr>\n",
       "      <th id=\"T_83187_level0_row10\" class=\"row_heading level0 row10\" >10</th>\n",
       "      <td id=\"T_83187_row10_col0\" class=\"data row10 col0\" >Imputation type</td>\n",
       "      <td id=\"T_83187_row10_col1\" class=\"data row10 col1\" >simple</td>\n",
       "    </tr>\n",
       "    <tr>\n",
       "      <th id=\"T_83187_level0_row11\" class=\"row_heading level0 row11\" >11</th>\n",
       "      <td id=\"T_83187_row11_col0\" class=\"data row11 col0\" >Numeric imputation</td>\n",
       "      <td id=\"T_83187_row11_col1\" class=\"data row11 col1\" >mean</td>\n",
       "    </tr>\n",
       "    <tr>\n",
       "      <th id=\"T_83187_level0_row12\" class=\"row_heading level0 row12\" >12</th>\n",
       "      <td id=\"T_83187_row12_col0\" class=\"data row12 col0\" >Categorical imputation</td>\n",
       "      <td id=\"T_83187_row12_col1\" class=\"data row12 col1\" >mode</td>\n",
       "    </tr>\n",
       "    <tr>\n",
       "      <th id=\"T_83187_level0_row13\" class=\"row_heading level0 row13\" >13</th>\n",
       "      <td id=\"T_83187_row13_col0\" class=\"data row13 col0\" >Maximum one-hot encoding</td>\n",
       "      <td id=\"T_83187_row13_col1\" class=\"data row13 col1\" >25</td>\n",
       "    </tr>\n",
       "    <tr>\n",
       "      <th id=\"T_83187_level0_row14\" class=\"row_heading level0 row14\" >14</th>\n",
       "      <td id=\"T_83187_row14_col0\" class=\"data row14 col0\" >Encoding method</td>\n",
       "      <td id=\"T_83187_row14_col1\" class=\"data row14 col1\" >None</td>\n",
       "    </tr>\n",
       "    <tr>\n",
       "      <th id=\"T_83187_level0_row15\" class=\"row_heading level0 row15\" >15</th>\n",
       "      <td id=\"T_83187_row15_col0\" class=\"data row15 col0\" >Fold Generator</td>\n",
       "      <td id=\"T_83187_row15_col1\" class=\"data row15 col1\" >KFold</td>\n",
       "    </tr>\n",
       "    <tr>\n",
       "      <th id=\"T_83187_level0_row16\" class=\"row_heading level0 row16\" >16</th>\n",
       "      <td id=\"T_83187_row16_col0\" class=\"data row16 col0\" >Fold Number</td>\n",
       "      <td id=\"T_83187_row16_col1\" class=\"data row16 col1\" >10</td>\n",
       "    </tr>\n",
       "    <tr>\n",
       "      <th id=\"T_83187_level0_row17\" class=\"row_heading level0 row17\" >17</th>\n",
       "      <td id=\"T_83187_row17_col0\" class=\"data row17 col0\" >CPU Jobs</td>\n",
       "      <td id=\"T_83187_row17_col1\" class=\"data row17 col1\" >-1</td>\n",
       "    </tr>\n",
       "    <tr>\n",
       "      <th id=\"T_83187_level0_row18\" class=\"row_heading level0 row18\" >18</th>\n",
       "      <td id=\"T_83187_row18_col0\" class=\"data row18 col0\" >Use GPU</td>\n",
       "      <td id=\"T_83187_row18_col1\" class=\"data row18 col1\" >False</td>\n",
       "    </tr>\n",
       "    <tr>\n",
       "      <th id=\"T_83187_level0_row19\" class=\"row_heading level0 row19\" >19</th>\n",
       "      <td id=\"T_83187_row19_col0\" class=\"data row19 col0\" >Log Experiment</td>\n",
       "      <td id=\"T_83187_row19_col1\" class=\"data row19 col1\" >False</td>\n",
       "    </tr>\n",
       "    <tr>\n",
       "      <th id=\"T_83187_level0_row20\" class=\"row_heading level0 row20\" >20</th>\n",
       "      <td id=\"T_83187_row20_col0\" class=\"data row20 col0\" >Experiment Name</td>\n",
       "      <td id=\"T_83187_row20_col1\" class=\"data row20 col1\" >reg-default-name</td>\n",
       "    </tr>\n",
       "    <tr>\n",
       "      <th id=\"T_83187_level0_row21\" class=\"row_heading level0 row21\" >21</th>\n",
       "      <td id=\"T_83187_row21_col0\" class=\"data row21 col0\" >USI</td>\n",
       "      <td id=\"T_83187_row21_col1\" class=\"data row21 col1\" >95fb</td>\n",
       "    </tr>\n",
       "  </tbody>\n",
       "</table>\n"
      ],
      "text/plain": [
       "<pandas.io.formats.style.Styler at 0x32461d3a0>"
      ]
     },
     "metadata": {},
     "output_type": "display_data"
    },
    {
     "data": {
      "text/plain": [
       "<pycaret.regression.oop.RegressionExperiment at 0x322577640>"
      ]
     },
     "execution_count": 15,
     "metadata": {},
     "output_type": "execute_result"
    }
   ],
   "source": [
    "from pycaret.regression import RegressionExperiment\n",
    "s = RegressionExperiment()\n",
    "s.setup(data, target = 'charges', session_id = 123)"
   ]
  },
  {
   "cell_type": "code",
   "execution_count": 16,
   "id": "fe5ad4dc",
   "metadata": {},
   "outputs": [
    {
     "data": {
      "text/html": [],
      "text/plain": [
       "<IPython.core.display.HTML object>"
      ]
     },
     "metadata": {},
     "output_type": "display_data"
    },
    {
     "data": {
      "text/html": [
       "<style type=\"text/css\">\n",
       "#T_55749 th {\n",
       "  text-align: left;\n",
       "}\n",
       "#T_55749_row0_col0, #T_55749_row0_col6, #T_55749_row1_col0, #T_55749_row1_col1, #T_55749_row1_col2, #T_55749_row1_col3, #T_55749_row1_col4, #T_55749_row1_col5, #T_55749_row1_col6, #T_55749_row2_col0, #T_55749_row2_col1, #T_55749_row2_col2, #T_55749_row2_col3, #T_55749_row2_col4, #T_55749_row2_col5, #T_55749_row2_col6, #T_55749_row3_col0, #T_55749_row3_col1, #T_55749_row3_col2, #T_55749_row3_col3, #T_55749_row3_col4, #T_55749_row3_col5, #T_55749_row3_col6, #T_55749_row4_col0, #T_55749_row4_col1, #T_55749_row4_col2, #T_55749_row4_col3, #T_55749_row4_col4, #T_55749_row4_col5, #T_55749_row4_col6, #T_55749_row5_col0, #T_55749_row5_col1, #T_55749_row5_col2, #T_55749_row5_col3, #T_55749_row5_col4, #T_55749_row5_col5, #T_55749_row5_col6, #T_55749_row6_col0, #T_55749_row6_col1, #T_55749_row6_col2, #T_55749_row6_col3, #T_55749_row6_col4, #T_55749_row6_col5, #T_55749_row6_col6, #T_55749_row7_col0, #T_55749_row7_col1, #T_55749_row7_col2, #T_55749_row7_col3, #T_55749_row7_col4, #T_55749_row7_col5, #T_55749_row7_col6, #T_55749_row8_col0, #T_55749_row8_col1, #T_55749_row8_col2, #T_55749_row8_col3, #T_55749_row8_col4, #T_55749_row8_col5, #T_55749_row8_col6, #T_55749_row9_col0, #T_55749_row9_col1, #T_55749_row9_col2, #T_55749_row9_col3, #T_55749_row9_col4, #T_55749_row9_col5, #T_55749_row9_col6, #T_55749_row10_col0, #T_55749_row10_col1, #T_55749_row10_col2, #T_55749_row10_col3, #T_55749_row10_col4, #T_55749_row10_col5, #T_55749_row10_col6, #T_55749_row11_col0, #T_55749_row11_col1, #T_55749_row11_col2, #T_55749_row11_col3, #T_55749_row11_col4, #T_55749_row11_col5, #T_55749_row12_col0, #T_55749_row12_col1, #T_55749_row12_col2, #T_55749_row12_col3, #T_55749_row12_col4, #T_55749_row12_col5, #T_55749_row12_col6, #T_55749_row13_col0, #T_55749_row13_col1, #T_55749_row13_col2, #T_55749_row13_col3, #T_55749_row13_col4, #T_55749_row13_col5, #T_55749_row13_col6, #T_55749_row14_col0, #T_55749_row14_col1, #T_55749_row14_col2, #T_55749_row14_col3, #T_55749_row14_col4, #T_55749_row14_col5, #T_55749_row14_col6, #T_55749_row15_col0, #T_55749_row15_col1, #T_55749_row15_col2, #T_55749_row15_col3, #T_55749_row15_col4, #T_55749_row15_col5, #T_55749_row15_col6, #T_55749_row16_col0, #T_55749_row16_col1, #T_55749_row16_col2, #T_55749_row16_col3, #T_55749_row16_col4, #T_55749_row16_col5, #T_55749_row16_col6, #T_55749_row17_col0, #T_55749_row17_col1, #T_55749_row17_col2, #T_55749_row17_col3, #T_55749_row17_col4, #T_55749_row17_col5, #T_55749_row17_col6 {\n",
       "  text-align: left;\n",
       "}\n",
       "#T_55749_row0_col1, #T_55749_row0_col2, #T_55749_row0_col3, #T_55749_row0_col4, #T_55749_row0_col5, #T_55749_row11_col6 {\n",
       "  text-align: left;\n",
       "  background-color: yellow;\n",
       "}\n",
       "#T_55749_row0_col7, #T_55749_row1_col7, #T_55749_row2_col7, #T_55749_row3_col7, #T_55749_row4_col7, #T_55749_row5_col7, #T_55749_row6_col7, #T_55749_row7_col7, #T_55749_row8_col7, #T_55749_row9_col7, #T_55749_row10_col7, #T_55749_row11_col7, #T_55749_row12_col7, #T_55749_row13_col7, #T_55749_row14_col7, #T_55749_row15_col7, #T_55749_row16_col7 {\n",
       "  text-align: left;\n",
       "  background-color: lightgrey;\n",
       "}\n",
       "#T_55749_row17_col7 {\n",
       "  text-align: left;\n",
       "  background-color: yellow;\n",
       "  background-color: lightgrey;\n",
       "}\n",
       "</style>\n",
       "<table id=\"T_55749\">\n",
       "  <thead>\n",
       "    <tr>\n",
       "      <th class=\"blank level0\" >&nbsp;</th>\n",
       "      <th id=\"T_55749_level0_col0\" class=\"col_heading level0 col0\" >Model</th>\n",
       "      <th id=\"T_55749_level0_col1\" class=\"col_heading level0 col1\" >MAE</th>\n",
       "      <th id=\"T_55749_level0_col2\" class=\"col_heading level0 col2\" >MSE</th>\n",
       "      <th id=\"T_55749_level0_col3\" class=\"col_heading level0 col3\" >RMSE</th>\n",
       "      <th id=\"T_55749_level0_col4\" class=\"col_heading level0 col4\" >R2</th>\n",
       "      <th id=\"T_55749_level0_col5\" class=\"col_heading level0 col5\" >RMSLE</th>\n",
       "      <th id=\"T_55749_level0_col6\" class=\"col_heading level0 col6\" >MAPE</th>\n",
       "      <th id=\"T_55749_level0_col7\" class=\"col_heading level0 col7\" >TT (Sec)</th>\n",
       "    </tr>\n",
       "  </thead>\n",
       "  <tbody>\n",
       "    <tr>\n",
       "      <th id=\"T_55749_level0_row0\" class=\"row_heading level0 row0\" >gbr</th>\n",
       "      <td id=\"T_55749_row0_col0\" class=\"data row0 col0\" >Gradient Boosting Regressor</td>\n",
       "      <td id=\"T_55749_row0_col1\" class=\"data row0 col1\" >2701.9927</td>\n",
       "      <td id=\"T_55749_row0_col2\" class=\"data row0 col2\" >23548981.3626</td>\n",
       "      <td id=\"T_55749_row0_col3\" class=\"data row0 col3\" >4832.9682</td>\n",
       "      <td id=\"T_55749_row0_col4\" class=\"data row0 col4\" >0.8320</td>\n",
       "      <td id=\"T_55749_row0_col5\" class=\"data row0 col5\" >0.4447</td>\n",
       "      <td id=\"T_55749_row0_col6\" class=\"data row0 col6\" >0.3137</td>\n",
       "      <td id=\"T_55749_row0_col7\" class=\"data row0 col7\" >0.0140</td>\n",
       "    </tr>\n",
       "    <tr>\n",
       "      <th id=\"T_55749_level0_row1\" class=\"row_heading level0 row1\" >rf</th>\n",
       "      <td id=\"T_55749_row1_col0\" class=\"data row1 col0\" >Random Forest Regressor</td>\n",
       "      <td id=\"T_55749_row1_col1\" class=\"data row1 col1\" >2771.4583</td>\n",
       "      <td id=\"T_55749_row1_col2\" class=\"data row1 col2\" >25416502.3827</td>\n",
       "      <td id=\"T_55749_row1_col3\" class=\"data row1 col3\" >5028.6343</td>\n",
       "      <td id=\"T_55749_row1_col4\" class=\"data row1 col4\" >0.8172</td>\n",
       "      <td id=\"T_55749_row1_col5\" class=\"data row1 col5\" >0.4690</td>\n",
       "      <td id=\"T_55749_row1_col6\" class=\"data row1 col6\" >0.3303</td>\n",
       "      <td id=\"T_55749_row1_col7\" class=\"data row1 col7\" >0.0320</td>\n",
       "    </tr>\n",
       "    <tr>\n",
       "      <th id=\"T_55749_level0_row2\" class=\"row_heading level0 row2\" >lightgbm</th>\n",
       "      <td id=\"T_55749_row2_col0\" class=\"data row2 col0\" >Light Gradient Boosting Machine</td>\n",
       "      <td id=\"T_55749_row2_col1\" class=\"data row2 col1\" >2992.1828</td>\n",
       "      <td id=\"T_55749_row2_col2\" class=\"data row2 col2\" >25521038.3331</td>\n",
       "      <td id=\"T_55749_row2_col3\" class=\"data row2 col3\" >5042.0978</td>\n",
       "      <td id=\"T_55749_row2_col4\" class=\"data row2 col4\" >0.8149</td>\n",
       "      <td id=\"T_55749_row2_col5\" class=\"data row2 col5\" >0.5378</td>\n",
       "      <td id=\"T_55749_row2_col6\" class=\"data row2 col6\" >0.3751</td>\n",
       "      <td id=\"T_55749_row2_col7\" class=\"data row2 col7\" >0.2920</td>\n",
       "    </tr>\n",
       "    <tr>\n",
       "      <th id=\"T_55749_level0_row3\" class=\"row_heading level0 row3\" >et</th>\n",
       "      <td id=\"T_55749_row3_col0\" class=\"data row3 col0\" >Extra Trees Regressor</td>\n",
       "      <td id=\"T_55749_row3_col1\" class=\"data row3 col1\" >2833.3624</td>\n",
       "      <td id=\"T_55749_row3_col2\" class=\"data row3 col2\" >28427844.2412</td>\n",
       "      <td id=\"T_55749_row3_col3\" class=\"data row3 col3\" >5305.6516</td>\n",
       "      <td id=\"T_55749_row3_col4\" class=\"data row3 col4\" >0.7991</td>\n",
       "      <td id=\"T_55749_row3_col5\" class=\"data row3 col5\" >0.4877</td>\n",
       "      <td id=\"T_55749_row3_col6\" class=\"data row3 col6\" >0.3363</td>\n",
       "      <td id=\"T_55749_row3_col7\" class=\"data row3 col7\" >0.0230</td>\n",
       "    </tr>\n",
       "    <tr>\n",
       "      <th id=\"T_55749_level0_row4\" class=\"row_heading level0 row4\" >ada</th>\n",
       "      <td id=\"T_55749_row4_col0\" class=\"data row4 col0\" >AdaBoost Regressor</td>\n",
       "      <td id=\"T_55749_row4_col1\" class=\"data row4 col1\" >4316.0568</td>\n",
       "      <td id=\"T_55749_row4_col2\" class=\"data row4 col2\" >29220505.6498</td>\n",
       "      <td id=\"T_55749_row4_col3\" class=\"data row4 col3\" >5398.4561</td>\n",
       "      <td id=\"T_55749_row4_col4\" class=\"data row4 col4\" >0.7903</td>\n",
       "      <td id=\"T_55749_row4_col5\" class=\"data row4 col5\" >0.6368</td>\n",
       "      <td id=\"T_55749_row4_col6\" class=\"data row4 col6\" >0.7394</td>\n",
       "      <td id=\"T_55749_row4_col7\" class=\"data row4 col7\" >0.0080</td>\n",
       "    </tr>\n",
       "    <tr>\n",
       "      <th id=\"T_55749_level0_row5\" class=\"row_heading level0 row5\" >lar</th>\n",
       "      <td id=\"T_55749_row5_col0\" class=\"data row5 col0\" >Least Angle Regression</td>\n",
       "      <td id=\"T_55749_row5_col1\" class=\"data row5 col1\" >4303.5559</td>\n",
       "      <td id=\"T_55749_row5_col2\" class=\"data row5 col2\" >38388058.4578</td>\n",
       "      <td id=\"T_55749_row5_col3\" class=\"data row5 col3\" >6176.5920</td>\n",
       "      <td id=\"T_55749_row5_col4\" class=\"data row5 col4\" >0.7306</td>\n",
       "      <td id=\"T_55749_row5_col5\" class=\"data row5 col5\" >0.5949</td>\n",
       "      <td id=\"T_55749_row5_col6\" class=\"data row5 col6\" >0.4433</td>\n",
       "      <td id=\"T_55749_row5_col7\" class=\"data row5 col7\" >0.0090</td>\n",
       "    </tr>\n",
       "    <tr>\n",
       "      <th id=\"T_55749_level0_row6\" class=\"row_heading level0 row6\" >llar</th>\n",
       "      <td id=\"T_55749_row6_col0\" class=\"data row6 col0\" >Lasso Least Angle Regression</td>\n",
       "      <td id=\"T_55749_row6_col1\" class=\"data row6 col1\" >4303.7694</td>\n",
       "      <td id=\"T_55749_row6_col2\" class=\"data row6 col2\" >38386824.2786</td>\n",
       "      <td id=\"T_55749_row6_col3\" class=\"data row6 col3\" >6176.4846</td>\n",
       "      <td id=\"T_55749_row6_col4\" class=\"data row6 col4\" >0.7306</td>\n",
       "      <td id=\"T_55749_row6_col5\" class=\"data row6 col5\" >0.5952</td>\n",
       "      <td id=\"T_55749_row6_col6\" class=\"data row6 col6\" >0.4434</td>\n",
       "      <td id=\"T_55749_row6_col7\" class=\"data row6 col7\" >0.0110</td>\n",
       "    </tr>\n",
       "    <tr>\n",
       "      <th id=\"T_55749_level0_row7\" class=\"row_heading level0 row7\" >br</th>\n",
       "      <td id=\"T_55749_row7_col0\" class=\"data row7 col0\" >Bayesian Ridge</td>\n",
       "      <td id=\"T_55749_row7_col1\" class=\"data row7 col1\" >4311.2349</td>\n",
       "      <td id=\"T_55749_row7_col2\" class=\"data row7 col2\" >38391950.0874</td>\n",
       "      <td id=\"T_55749_row7_col3\" class=\"data row7 col3\" >6176.8896</td>\n",
       "      <td id=\"T_55749_row7_col4\" class=\"data row7 col4\" >0.7306</td>\n",
       "      <td id=\"T_55749_row7_col5\" class=\"data row7 col5\" >0.5910</td>\n",
       "      <td id=\"T_55749_row7_col6\" class=\"data row7 col6\" >0.4447</td>\n",
       "      <td id=\"T_55749_row7_col7\" class=\"data row7 col7\" >0.0100</td>\n",
       "    </tr>\n",
       "    <tr>\n",
       "      <th id=\"T_55749_level0_row8\" class=\"row_heading level0 row8\" >ridge</th>\n",
       "      <td id=\"T_55749_row8_col0\" class=\"data row8 col0\" >Ridge Regression</td>\n",
       "      <td id=\"T_55749_row8_col1\" class=\"data row8 col1\" >4317.6984</td>\n",
       "      <td id=\"T_55749_row8_col2\" class=\"data row8 col2\" >38396435.9578</td>\n",
       "      <td id=\"T_55749_row8_col3\" class=\"data row8 col3\" >6177.2329</td>\n",
       "      <td id=\"T_55749_row8_col4\" class=\"data row8 col4\" >0.7306</td>\n",
       "      <td id=\"T_55749_row8_col5\" class=\"data row8 col5\" >0.5891</td>\n",
       "      <td id=\"T_55749_row8_col6\" class=\"data row8 col6\" >0.4459</td>\n",
       "      <td id=\"T_55749_row8_col7\" class=\"data row8 col7\" >0.0090</td>\n",
       "    </tr>\n",
       "    <tr>\n",
       "      <th id=\"T_55749_level0_row9\" class=\"row_heading level0 row9\" >lasso</th>\n",
       "      <td id=\"T_55749_row9_col0\" class=\"data row9 col0\" >Lasso Regression</td>\n",
       "      <td id=\"T_55749_row9_col1\" class=\"data row9 col1\" >4303.7697</td>\n",
       "      <td id=\"T_55749_row9_col2\" class=\"data row9 col2\" >38386797.6709</td>\n",
       "      <td id=\"T_55749_row9_col3\" class=\"data row9 col3\" >6176.4824</td>\n",
       "      <td id=\"T_55749_row9_col4\" class=\"data row9 col4\" >0.7306</td>\n",
       "      <td id=\"T_55749_row9_col5\" class=\"data row9 col5\" >0.5952</td>\n",
       "      <td id=\"T_55749_row9_col6\" class=\"data row9 col6\" >0.4434</td>\n",
       "      <td id=\"T_55749_row9_col7\" class=\"data row9 col7\" >0.0110</td>\n",
       "    </tr>\n",
       "    <tr>\n",
       "      <th id=\"T_55749_level0_row10\" class=\"row_heading level0 row10\" >lr</th>\n",
       "      <td id=\"T_55749_row10_col0\" class=\"data row10 col0\" >Linear Regression</td>\n",
       "      <td id=\"T_55749_row10_col1\" class=\"data row10 col1\" >4303.5559</td>\n",
       "      <td id=\"T_55749_row10_col2\" class=\"data row10 col2\" >38388058.4578</td>\n",
       "      <td id=\"T_55749_row10_col3\" class=\"data row10 col3\" >6176.5920</td>\n",
       "      <td id=\"T_55749_row10_col4\" class=\"data row10 col4\" >0.7306</td>\n",
       "      <td id=\"T_55749_row10_col5\" class=\"data row10 col5\" >0.5949</td>\n",
       "      <td id=\"T_55749_row10_col6\" class=\"data row10 col6\" >0.4433</td>\n",
       "      <td id=\"T_55749_row10_col7\" class=\"data row10 col7\" >0.0160</td>\n",
       "    </tr>\n",
       "    <tr>\n",
       "      <th id=\"T_55749_level0_row11\" class=\"row_heading level0 row11\" >huber</th>\n",
       "      <td id=\"T_55749_row11_col0\" class=\"data row11 col0\" >Huber Regressor</td>\n",
       "      <td id=\"T_55749_row11_col1\" class=\"data row11 col1\" >3464.2446</td>\n",
       "      <td id=\"T_55749_row11_col2\" class=\"data row11 col2\" >48878853.8348</td>\n",
       "      <td id=\"T_55749_row11_col3\" class=\"data row11 col3\" >6969.1873</td>\n",
       "      <td id=\"T_55749_row11_col4\" class=\"data row11 col4\" >0.6539</td>\n",
       "      <td id=\"T_55749_row11_col5\" class=\"data row11 col5\" >0.4908</td>\n",
       "      <td id=\"T_55749_row11_col6\" class=\"data row11 col6\" >0.2210</td>\n",
       "      <td id=\"T_55749_row11_col7\" class=\"data row11 col7\" >0.0130</td>\n",
       "    </tr>\n",
       "    <tr>\n",
       "      <th id=\"T_55749_level0_row12\" class=\"row_heading level0 row12\" >dt</th>\n",
       "      <td id=\"T_55749_row12_col0\" class=\"data row12 col0\" >Decision Tree Regressor</td>\n",
       "      <td id=\"T_55749_row12_col1\" class=\"data row12 col1\" >3383.4916</td>\n",
       "      <td id=\"T_55749_row12_col2\" class=\"data row12 col2\" >47823199.0729</td>\n",
       "      <td id=\"T_55749_row12_col3\" class=\"data row12 col3\" >6895.7016</td>\n",
       "      <td id=\"T_55749_row12_col4\" class=\"data row12 col4\" >0.6497</td>\n",
       "      <td id=\"T_55749_row12_col5\" class=\"data row12 col5\" >0.5602</td>\n",
       "      <td id=\"T_55749_row12_col6\" class=\"data row12 col6\" >0.4013</td>\n",
       "      <td id=\"T_55749_row12_col7\" class=\"data row12 col7\" >0.0080</td>\n",
       "    </tr>\n",
       "    <tr>\n",
       "      <th id=\"T_55749_level0_row13\" class=\"row_heading level0 row13\" >par</th>\n",
       "      <td id=\"T_55749_row13_col0\" class=\"data row13 col0\" >Passive Aggressive Regressor</td>\n",
       "      <td id=\"T_55749_row13_col1\" class=\"data row13 col1\" >4537.0122</td>\n",
       "      <td id=\"T_55749_row13_col2\" class=\"data row13 col2\" >67346309.9218</td>\n",
       "      <td id=\"T_55749_row13_col3\" class=\"data row13 col3\" >8142.7826</td>\n",
       "      <td id=\"T_55749_row13_col4\" class=\"data row13 col4\" >0.5422</td>\n",
       "      <td id=\"T_55749_row13_col5\" class=\"data row13 col5\" >0.5276</td>\n",
       "      <td id=\"T_55749_row13_col6\" class=\"data row13 col6\" >0.3207</td>\n",
       "      <td id=\"T_55749_row13_col7\" class=\"data row13 col7\" >0.0120</td>\n",
       "    </tr>\n",
       "    <tr>\n",
       "      <th id=\"T_55749_level0_row14\" class=\"row_heading level0 row14\" >en</th>\n",
       "      <td id=\"T_55749_row14_col0\" class=\"data row14 col0\" >Elastic Net</td>\n",
       "      <td id=\"T_55749_row14_col1\" class=\"data row14 col1\" >7372.5238</td>\n",
       "      <td id=\"T_55749_row14_col2\" class=\"data row14 col2\" >90450782.5713</td>\n",
       "      <td id=\"T_55749_row14_col3\" class=\"data row14 col3\" >9468.3193</td>\n",
       "      <td id=\"T_55749_row14_col4\" class=\"data row14 col4\" >0.3792</td>\n",
       "      <td id=\"T_55749_row14_col5\" class=\"data row14 col5\" >0.7342</td>\n",
       "      <td id=\"T_55749_row14_col6\" class=\"data row14 col6\" >0.9184</td>\n",
       "      <td id=\"T_55749_row14_col7\" class=\"data row14 col7\" >0.0090</td>\n",
       "    </tr>\n",
       "    <tr>\n",
       "      <th id=\"T_55749_level0_row15\" class=\"row_heading level0 row15\" >omp</th>\n",
       "      <td id=\"T_55749_row15_col0\" class=\"data row15 col0\" >Orthogonal Matching Pursuit</td>\n",
       "      <td id=\"T_55749_row15_col1\" class=\"data row15 col1\" >9089.9268</td>\n",
       "      <td id=\"T_55749_row15_col2\" class=\"data row15 col2\" >133439413.5272</td>\n",
       "      <td id=\"T_55749_row15_col3\" class=\"data row15 col3\" >11488.4238</td>\n",
       "      <td id=\"T_55749_row15_col4\" class=\"data row15 col4\" >0.0884</td>\n",
       "      <td id=\"T_55749_row15_col5\" class=\"data row15 col5\" >0.8790</td>\n",
       "      <td id=\"T_55749_row15_col6\" class=\"data row15 col6\" >1.1514</td>\n",
       "      <td id=\"T_55749_row15_col7\" class=\"data row15 col7\" >0.0130</td>\n",
       "    </tr>\n",
       "    <tr>\n",
       "      <th id=\"T_55749_level0_row16\" class=\"row_heading level0 row16\" >knn</th>\n",
       "      <td id=\"T_55749_row16_col0\" class=\"data row16 col0\" >K Neighbors Regressor</td>\n",
       "      <td id=\"T_55749_row16_col1\" class=\"data row16 col1\" >8001.2492</td>\n",
       "      <td id=\"T_55749_row16_col2\" class=\"data row16 col2\" >131340102.4000</td>\n",
       "      <td id=\"T_55749_row16_col3\" class=\"data row16 col3\" >11423.2734</td>\n",
       "      <td id=\"T_55749_row16_col4\" class=\"data row16 col4\" >0.0862</td>\n",
       "      <td id=\"T_55749_row16_col5\" class=\"data row16 col5\" >0.8533</td>\n",
       "      <td id=\"T_55749_row16_col6\" class=\"data row16 col6\" >0.9225</td>\n",
       "      <td id=\"T_55749_row16_col7\" class=\"data row16 col7\" >0.0120</td>\n",
       "    </tr>\n",
       "    <tr>\n",
       "      <th id=\"T_55749_level0_row17\" class=\"row_heading level0 row17\" >dummy</th>\n",
       "      <td id=\"T_55749_row17_col0\" class=\"data row17 col0\" >Dummy Regressor</td>\n",
       "      <td id=\"T_55749_row17_col1\" class=\"data row17 col1\" >9192.5418</td>\n",
       "      <td id=\"T_55749_row17_col2\" class=\"data row17 col2\" >148516792.8000</td>\n",
       "      <td id=\"T_55749_row17_col3\" class=\"data row17 col3\" >12132.4733</td>\n",
       "      <td id=\"T_55749_row17_col4\" class=\"data row17 col4\" >-0.0175</td>\n",
       "      <td id=\"T_55749_row17_col5\" class=\"data row17 col5\" >1.0154</td>\n",
       "      <td id=\"T_55749_row17_col6\" class=\"data row17 col6\" >1.5637</td>\n",
       "      <td id=\"T_55749_row17_col7\" class=\"data row17 col7\" >0.0060</td>\n",
       "    </tr>\n",
       "  </tbody>\n",
       "</table>\n"
      ],
      "text/plain": [
       "<pandas.io.formats.style.Styler at 0x17fcaa8e0>"
      ]
     },
     "metadata": {},
     "output_type": "display_data"
    },
    {
     "data": {
      "text/html": [],
      "text/plain": [
       "<IPython.core.display.HTML object>"
      ]
     },
     "metadata": {},
     "output_type": "display_data"
    }
   ],
   "source": [
    "# OOP API\n",
    "best = s.compare_models()"
   ]
  },
  {
   "cell_type": "code",
   "execution_count": 17,
   "id": "551a5f8b",
   "metadata": {},
   "outputs": [
    {
     "name": "stdout",
     "output_type": "stream",
     "text": [
      "GradientBoostingRegressor(alpha=0.9, ccp_alpha=0.0, criterion='friedman_mse',\n",
      "                          init=None, learning_rate=0.1, loss='squared_error',\n",
      "                          max_depth=3, max_features=None, max_leaf_nodes=None,\n",
      "                          min_impurity_decrease=0.0, min_samples_leaf=1,\n",
      "                          min_samples_split=2, min_weight_fraction_leaf=0.0,\n",
      "                          n_estimators=100, n_iter_no_change=None,\n",
      "                          random_state=123, subsample=1.0, tol=0.0001,\n",
      "                          validation_fraction=0.1, verbose=0, warm_start=False)\n"
     ]
    }
   ],
   "source": [
    "print(best)"
   ]
  },
  {
   "cell_type": "code",
   "execution_count": 18,
   "id": "a57597a6",
   "metadata": {},
   "outputs": [
    {
     "data": {
      "application/vnd.jupyter.widget-view+json": {
       "model_id": "a06259a82faa49c8bbce495b6e0fb651",
       "version_major": 2,
       "version_minor": 0
      },
      "text/plain": [
       "interactive(children=(ToggleButtons(description='Plot Type:', icons=('',), options=(('Pipeline Plot', 'pipelin…"
      ]
     },
     "metadata": {},
     "output_type": "display_data"
    }
   ],
   "source": [
    "# OOP API\n",
    "s.evaluate_model(best)"
   ]
  },
  {
   "cell_type": "code",
   "execution_count": 19,
   "id": "f5590525",
   "metadata": {},
   "outputs": [
    {
     "data": {
      "text/html": [],
      "text/plain": [
       "<IPython.core.display.HTML object>"
      ]
     },
     "metadata": {},
     "output_type": "display_data"
    },
    {
     "data": {
      "image/png": "[encoded data removed]",
      "text/plain": [
       "<Figure size 800x550 with 2 Axes>"
      ]
     },
     "metadata": {},
     "output_type": "display_data"
    }
   ],
   "source": [
    "# OOP API\n",
    "s.plot_model(best, plot = 'residuals')"
   ]
  },
  {
   "cell_type": "code",
   "execution_count": 20,
   "id": "9bfd13f2",
   "metadata": {},
   "outputs": [
    {
     "data": {
      "text/html": [],
      "text/plain": [
       "<IPython.core.display.HTML object>"
      ]
     },
     "metadata": {},
     "output_type": "display_data"
    },
    {
     "data": {
      "image/png": "[encoded data removed]",
      "text/plain": [
       "<Figure size 800x500 with 1 Axes>"
      ]
     },
     "metadata": {},
     "output_type": "display_data"
    }
   ],
   "source": [
    "# OOP API\n",
    "s.plot_model(best, plot = 'feature')"
   ]
  },
  {
   "cell_type": "code",
   "execution_count": 21,
   "id": "f9ffb063",
   "metadata": {},
   "outputs": [
    {
     "data": {
      "text/html": [
       "<style type=\"text/css\">\n",
       "</style>\n",
       "<table id=\"T_9497d\">\n",
       "  <thead>\n",
       "    <tr>\n",
       "      <th class=\"blank level0\" >&nbsp;</th>\n",
       "      <th id=\"T_9497d_level0_col0\" class=\"col_heading level0 col0\" >Model</th>\n",
       "      <th id=\"T_9497d_level0_col1\" class=\"col_heading level0 col1\" >MAE</th>\n",
       "      <th id=\"T_9497d_level0_col2\" class=\"col_heading level0 col2\" >MSE</th>\n",
       "      <th id=\"T_9497d_level0_col3\" class=\"col_heading level0 col3\" >RMSE</th>\n",
       "      <th id=\"T_9497d_level0_col4\" class=\"col_heading level0 col4\" >R2</th>\n",
       "      <th id=\"T_9497d_level0_col5\" class=\"col_heading level0 col5\" >RMSLE</th>\n",
       "      <th id=\"T_9497d_level0_col6\" class=\"col_heading level0 col6\" >MAPE</th>\n",
       "    </tr>\n",
       "  </thead>\n",
       "  <tbody>\n",
       "    <tr>\n",
       "      <th id=\"T_9497d_level0_row0\" class=\"row_heading level0 row0\" >0</th>\n",
       "      <td id=\"T_9497d_row0_col0\" class=\"data row0 col0\" >Gradient Boosting Regressor</td>\n",
       "      <td id=\"T_9497d_row0_col1\" class=\"data row0 col1\" >2392.5661</td>\n",
       "      <td id=\"T_9497d_row0_col2\" class=\"data row0 col2\" >17148355.3169</td>\n",
       "      <td id=\"T_9497d_row0_col3\" class=\"data row0 col3\" >4141.0573</td>\n",
       "      <td id=\"T_9497d_row0_col4\" class=\"data row0 col4\" >0.8800</td>\n",
       "      <td id=\"T_9497d_row0_col5\" class=\"data row0 col5\" >0.3928</td>\n",
       "      <td id=\"T_9497d_row0_col6\" class=\"data row0 col6\" >0.2875</td>\n",
       "    </tr>\n",
       "  </tbody>\n",
       "</table>\n"
      ],
      "text/plain": [
       "<pandas.io.formats.style.Styler at 0x3244bad60>"
      ]
     },
     "metadata": {},
     "output_type": "display_data"
    },
    {
     "data": {
      "application/vnd.microsoft.datawrangler.viewer.v0+json": {
       "columns": [
        {
         "name": "index",
         "rawType": "int64",
         "type": "integer"
        },
        {
         "name": "age",
         "rawType": "int8",
         "type": "integer"
        },
        {
         "name": "sex",
         "rawType": "category",
         "type": "unknown"
        },
        {
         "name": "bmi",
         "rawType": "float32",
         "type": "float"
        },
        {
         "name": "children",
         "rawType": "int8",
         "type": "integer"
        },
        {
         "name": "smoker",
         "rawType": "category",
         "type": "unknown"
        },
        {
         "name": "region",
         "rawType": "category",
         "type": "unknown"
        },
        {
         "name": "charges",
         "rawType": "float32",
         "type": "float"
        },
        {
         "name": "prediction_label",
         "rawType": "float64",
         "type": "float"
        }
       ],
       "ref": "45a7c98e-5156-42a8-a1d0-d4795c1033b4",
       "rows": [
        [
         "650",
         "49",
         "female",
         "42.68",
         "2",
         "no",
         "southeast",
         "9800.889",
         "10681.513104417148"
        ],
        [
         "319",
         "32",
         "male",
         "37.335",
         "1",
         "no",
         "northeast",
         "4667.6074",
         "8043.453462741539"
        ],
        [
         "314",
         "27",
         "female",
         "31.4",
         "0",
         "yes",
         "southwest",
         "34838.87",
         "36153.09768578932"
        ],
        [
         "150",
         "35",
         "male",
         "24.13",
         "1",
         "no",
         "northwest",
         "5125.216",
         "7435.51685256111"
        ],
        [
         "336",
         "60",
         "male",
         "25.74",
         "0",
         "no",
         "southeast",
         "12142.578",
         "14676.544333814967"
        ],
        [
         "970",
         "50",
         "female",
         "28.16",
         "3",
         "no",
         "southeast",
         "10702.643",
         "11622.450977147455"
        ],
        [
         "169",
         "27",
         "male",
         "18.905",
         "3",
         "no",
         "northeast",
         "4827.905",
         "6378.655367768647"
        ],
        [
         "684",
         "33",
         "female",
         "18.5",
         "1",
         "no",
         "southwest",
         "4766.022",
         "5391.189379622299"
        ],
        [
         "1097",
         "22",
         "male",
         "33.77",
         "0",
         "no",
         "southeast",
         "1674.6323",
         "2709.038329193242"
        ],
        [
         "512",
         "51",
         "male",
         "22.42",
         "0",
         "no",
         "northeast",
         "9361.327",
         "18443.176132303935"
        ],
        [
         "597",
         "34",
         "female",
         "33.25",
         "1",
         "no",
         "northeast",
         "5594.8457",
         "8197.594526246654"
        ],
        [
         "698",
         "56",
         "male",
         "33.725",
         "0",
         "no",
         "northwest",
         "10976.246",
         "12061.6273893714"
        ],
        [
         "630",
         "53",
         "male",
         "36.1",
         "1",
         "no",
         "southwest",
         "10085.846",
         "12652.076665959874"
        ],
        [
         "738",
         "23",
         "male",
         "31.73",
         "3",
         "yes",
         "northeast",
         "36189.1",
         "35264.88987463222"
        ],
        [
         "696",
         "53",
         "female",
         "32.3",
         "2",
         "no",
         "northeast",
         "29186.482",
         "13389.070815384654"
        ],
        [
         "827",
         "36",
         "male",
         "28.025",
         "1",
         "yes",
         "northeast",
         "20773.627",
         "20692.584349681543"
        ],
        [
         "18",
         "56",
         "male",
         "40.3",
         "0",
         "no",
         "southwest",
         "10602.385",
         "11866.923201141984"
        ],
        [
         "31",
         "18",
         "female",
         "26.315",
         "0",
         "no",
         "northeast",
         "2198.19",
         "2403.089867188687"
        ],
        [
         "682",
         "39",
         "male",
         "35.3",
         "2",
         "yes",
         "southwest",
         "40103.89",
         "40489.82323165445"
        ],
        [
         "185",
         "36",
         "male",
         "41.895",
         "3",
         "yes",
         "northeast",
         "43753.336",
         "44589.53962147875"
        ],
        [
         "783",
         "50",
         "female",
         "27.6",
         "1",
         "yes",
         "southwest",
         "24520.264",
         "24869.873002235756"
        ],
        [
         "543",
         "54",
         "female",
         "47.41",
         "0",
         "yes",
         "southeast",
         "63770.43",
         "48210.186391987256"
        ],
        [
         "968",
         "21",
         "male",
         "25.745",
         "2",
         "no",
         "northeast",
         "3279.8687",
         "7000.183518150693"
        ],
        [
         "1326",
         "42",
         "female",
         "32.87",
         "0",
         "no",
         "northeast",
         "7050.0215",
         "7347.852669486258"
        ],
        [
         "28",
         "23",
         "male",
         "17.385",
         "1",
         "no",
         "northwest",
         "2775.1921",
         "4045.894066006388"
        ],
        [
         "683",
         "53",
         "male",
         "24.32",
         "0",
         "no",
         "northwest",
         "9863.472",
         "12382.708133001808"
        ],
        [
         "1079",
         "63",
         "male",
         "33.66",
         "3",
         "no",
         "southeast",
         "15161.534",
         "17134.385408291906"
        ],
        [
         "1104",
         "37",
         "male",
         "29.8",
         "0",
         "no",
         "southwest",
         "20420.605",
         "4812.789194630256"
        ],
        [
         "1256",
         "51",
         "female",
         "36.385",
         "3",
         "no",
         "northwest",
         "11436.738",
         "12493.781287390482"
        ],
        [
         "35",
         "19",
         "male",
         "20.425",
         "0",
         "no",
         "northwest",
         "1625.4337",
         "1215.1112824373004"
        ],
        [
         "1269",
         "45",
         "male",
         "27.5",
         "3",
         "no",
         "southwest",
         "8615.3",
         "9317.362644112478"
        ],
        [
         "1132",
         "57",
         "male",
         "40.28",
         "0",
         "no",
         "northeast",
         "20709.02",
         "12070.220159841181"
        ],
        [
         "761",
         "23",
         "male",
         "35.2",
         "1",
         "no",
         "southwest",
         "2416.955",
         "5053.095130789733"
        ],
        [
         "210",
         "20",
         "male",
         "33.0",
         "1",
         "no",
         "southwest",
         "1980.07",
         "4494.313021653381"
        ],
        [
         "307",
         "30",
         "female",
         "33.33",
         "1",
         "no",
         "southeast",
         "4151.029",
         "6172.531796117971"
        ],
        [
         "920",
         "62",
         "female",
         "25.0",
         "0",
         "no",
         "southwest",
         "13451.122",
         "15813.360066959545"
        ],
        [
         "895",
         "61",
         "female",
         "44.0",
         "0",
         "no",
         "southwest",
         "13063.883",
         "15439.066098935176"
        ],
        [
         "1058",
         "24",
         "female",
         "39.49",
         "0",
         "no",
         "southeast",
         "2480.979",
         "3814.22884471201"
        ],
        [
         "171",
         "49",
         "male",
         "30.3",
         "0",
         "no",
         "southwest",
         "8116.68",
         "9626.176082997084"
        ],
        [
         "1135",
         "50",
         "female",
         "28.12",
         "3",
         "no",
         "northwest",
         "11085.587",
         "11622.450977147455"
        ],
        [
         "189",
         "29",
         "female",
         "32.11",
         "2",
         "no",
         "northwest",
         "4922.916",
         "6702.049888721331"
        ],
        [
         "1262",
         "41",
         "female",
         "28.05",
         "1",
         "no",
         "southeast",
         "6770.1924",
         "7938.646421766397"
        ],
        [
         "391",
         "19",
         "female",
         "37.43",
         "0",
         "no",
         "northwest",
         "2138.0708",
         "3525.1213257765417"
        ],
        [
         "1171",
         "43",
         "female",
         "26.7",
         "2",
         "yes",
         "southwest",
         "22478.6",
         "22931.529340398607"
        ],
        [
         "756",
         "39",
         "female",
         "22.8",
         "3",
         "no",
         "northeast",
         "7985.815",
         "8809.241930089134"
        ],
        [
         "270",
         "18",
         "male",
         "29.37",
         "1",
         "no",
         "southeast",
         "1719.4363",
         "3285.3332077107066"
        ],
        [
         "221",
         "53",
         "female",
         "33.25",
         "0",
         "no",
         "northeast",
         "10564.885",
         "12008.130603144265"
        ],
        [
         "510",
         "56",
         "male",
         "32.11",
         "1",
         "no",
         "northeast",
         "11763.001",
         "12927.194339265929"
        ],
        [
         "1192",
         "58",
         "female",
         "32.395",
         "1",
         "no",
         "northeast",
         "13019.161",
         "13383.40515030992"
        ],
        [
         "778",
         "35",
         "male",
         "34.32",
         "3",
         "no",
         "southeast",
         "5934.38",
         "7295.393886480145"
        ]
       ],
       "shape": {
        "columns": 8,
        "rows": 402
       }
      },
      "text/html": [
       "<div>\n",
       "<style scoped>\n",
       "    .dataframe tbody tr th:only-of-type {\n",
       "        vertical-align: middle;\n",
       "    }\n",
       "\n",
       "    .dataframe tbody tr th {\n",
       "        vertical-align: top;\n",
       "    }\n",
       "\n",
       "    .dataframe thead th {\n",
       "        text-align: right;\n",
       "    }\n",
       "</style>\n",
       "<table border=\"1\" class=\"dataframe\">\n",
       "  <thead>\n",
       "    <tr style=\"text-align: right;\">\n",
       "      <th></th>\n",
       "      <th>age</th>\n",
       "      <th>sex</th>\n",
       "      <th>bmi</th>\n",
       "      <th>children</th>\n",
       "      <th>smoker</th>\n",
       "      <th>region</th>\n",
       "      <th>charges</th>\n",
       "      <th>prediction_label</th>\n",
       "    </tr>\n",
       "  </thead>\n",
       "  <tbody>\n",
       "    <tr>\n",
       "      <th>650</th>\n",
       "      <td>49</td>\n",
       "      <td>female</td>\n",
       "      <td>42.680000</td>\n",
       "      <td>2</td>\n",
       "      <td>no</td>\n",
       "      <td>southeast</td>\n",
       "      <td>9800.888672</td>\n",
       "      <td>10681.513104</td>\n",
       "    </tr>\n",
       "    <tr>\n",
       "      <th>319</th>\n",
       "      <td>32</td>\n",
       "      <td>male</td>\n",
       "      <td>37.334999</td>\n",
       "      <td>1</td>\n",
       "      <td>no</td>\n",
       "      <td>northeast</td>\n",
       "      <td>4667.607422</td>\n",
       "      <td>8043.453463</td>\n",
       "    </tr>\n",
       "    <tr>\n",
       "      <th>314</th>\n",
       "      <td>27</td>\n",
       "      <td>female</td>\n",
       "      <td>31.400000</td>\n",
       "      <td>0</td>\n",
       "      <td>yes</td>\n",
       "      <td>southwest</td>\n",
       "      <td>34838.871094</td>\n",
       "      <td>36153.097686</td>\n",
       "    </tr>\n",
       "    <tr>\n",
       "      <th>150</th>\n",
       "      <td>35</td>\n",
       "      <td>male</td>\n",
       "      <td>24.129999</td>\n",
       "      <td>1</td>\n",
       "      <td>no</td>\n",
       "      <td>northwest</td>\n",
       "      <td>5125.215820</td>\n",
       "      <td>7435.516853</td>\n",
       "    </tr>\n",
       "    <tr>\n",
       "      <th>336</th>\n",
       "      <td>60</td>\n",
       "      <td>male</td>\n",
       "      <td>25.740000</td>\n",
       "      <td>0</td>\n",
       "      <td>no</td>\n",
       "      <td>southeast</td>\n",
       "      <td>12142.578125</td>\n",
       "      <td>14676.544334</td>\n",
       "    </tr>\n",
       "    <tr>\n",
       "      <th>...</th>\n",
       "      <td>...</td>\n",
       "      <td>...</td>\n",
       "      <td>...</td>\n",
       "      <td>...</td>\n",
       "      <td>...</td>\n",
       "      <td>...</td>\n",
       "      <td>...</td>\n",
       "      <td>...</td>\n",
       "    </tr>\n",
       "    <tr>\n",
       "      <th>1221</th>\n",
       "      <td>40</td>\n",
       "      <td>male</td>\n",
       "      <td>24.969999</td>\n",
       "      <td>2</td>\n",
       "      <td>no</td>\n",
       "      <td>southeast</td>\n",
       "      <td>6593.508301</td>\n",
       "      <td>9264.152793</td>\n",
       "    </tr>\n",
       "    <tr>\n",
       "      <th>973</th>\n",
       "      <td>19</td>\n",
       "      <td>female</td>\n",
       "      <td>40.500000</td>\n",
       "      <td>0</td>\n",
       "      <td>no</td>\n",
       "      <td>southwest</td>\n",
       "      <td>1759.338013</td>\n",
       "      <td>2604.919960</td>\n",
       "    </tr>\n",
       "    <tr>\n",
       "      <th>1250</th>\n",
       "      <td>24</td>\n",
       "      <td>male</td>\n",
       "      <td>29.830000</td>\n",
       "      <td>0</td>\n",
       "      <td>yes</td>\n",
       "      <td>northeast</td>\n",
       "      <td>18648.421875</td>\n",
       "      <td>18639.490954</td>\n",
       "    </tr>\n",
       "    <tr>\n",
       "      <th>887</th>\n",
       "      <td>36</td>\n",
       "      <td>female</td>\n",
       "      <td>30.020000</td>\n",
       "      <td>0</td>\n",
       "      <td>no</td>\n",
       "      <td>northwest</td>\n",
       "      <td>5272.175781</td>\n",
       "      <td>5117.185514</td>\n",
       "    </tr>\n",
       "    <tr>\n",
       "      <th>50</th>\n",
       "      <td>18</td>\n",
       "      <td>female</td>\n",
       "      <td>35.625000</td>\n",
       "      <td>0</td>\n",
       "      <td>no</td>\n",
       "      <td>northeast</td>\n",
       "      <td>2211.130859</td>\n",
       "      <td>3146.534024</td>\n",
       "    </tr>\n",
       "  </tbody>\n",
       "</table>\n",
       "<p>402 rows × 8 columns</p>\n",
       "</div>"
      ],
      "text/plain": [
       "      age     sex        bmi  children smoker     region       charges  \\\n",
       "650    49  female  42.680000         2     no  southeast   9800.888672   \n",
       "319    32    male  37.334999         1     no  northeast   4667.607422   \n",
       "314    27  female  31.400000         0    yes  southwest  34838.871094   \n",
       "150    35    male  24.129999         1     no  northwest   5125.215820   \n",
       "336    60    male  25.740000         0     no  southeast  12142.578125   \n",
       "...   ...     ...        ...       ...    ...        ...           ...   \n",
       "1221   40    male  24.969999         2     no  southeast   6593.508301   \n",
       "973    19  female  40.500000         0     no  southwest   1759.338013   \n",
       "1250   24    male  29.830000         0    yes  northeast  18648.421875   \n",
       "887    36  female  30.020000         0     no  northwest   5272.175781   \n",
       "50     18  female  35.625000         0     no  northeast   2211.130859   \n",
       "\n",
       "      prediction_label  \n",
       "650       10681.513104  \n",
       "319        8043.453463  \n",
       "314       36153.097686  \n",
       "150        7435.516853  \n",
       "336       14676.544334  \n",
       "...                ...  \n",
       "1221       9264.152793  \n",
       "973        2604.919960  \n",
       "1250      18639.490954  \n",
       "887        5117.185514  \n",
       "50         3146.534024  \n",
       "\n",
       "[402 rows x 8 columns]"
      ]
     },
     "execution_count": 21,
     "metadata": {},
     "output_type": "execute_result"
    }
   ],
   "source": [
    "# OOP API\n",
    "s.predict_model(best)"
   ]
  },
  {
   "cell_type": "code",
   "execution_count": 22,
   "id": "045f1e32",
   "metadata": {},
   "outputs": [
    {
     "data": {
      "text/html": [
       "<style type=\"text/css\">\n",
       "</style>\n",
       "<table id=\"T_c01fb\">\n",
       "  <thead>\n",
       "    <tr>\n",
       "      <th class=\"blank level0\" >&nbsp;</th>\n",
       "      <th id=\"T_c01fb_level0_col0\" class=\"col_heading level0 col0\" >Model</th>\n",
       "      <th id=\"T_c01fb_level0_col1\" class=\"col_heading level0 col1\" >MAE</th>\n",
       "      <th id=\"T_c01fb_level0_col2\" class=\"col_heading level0 col2\" >MSE</th>\n",
       "      <th id=\"T_c01fb_level0_col3\" class=\"col_heading level0 col3\" >RMSE</th>\n",
       "      <th id=\"T_c01fb_level0_col4\" class=\"col_heading level0 col4\" >R2</th>\n",
       "      <th id=\"T_c01fb_level0_col5\" class=\"col_heading level0 col5\" >RMSLE</th>\n",
       "      <th id=\"T_c01fb_level0_col6\" class=\"col_heading level0 col6\" >MAPE</th>\n",
       "    </tr>\n",
       "  </thead>\n",
       "  <tbody>\n",
       "    <tr>\n",
       "      <th id=\"T_c01fb_level0_row0\" class=\"row_heading level0 row0\" >0</th>\n",
       "      <td id=\"T_c01fb_row0_col0\" class=\"data row0 col0\" >Gradient Boosting Regressor</td>\n",
       "      <td id=\"T_c01fb_row0_col1\" class=\"data row0 col1\" >2219.8743</td>\n",
       "      <td id=\"T_c01fb_row0_col2\" class=\"data row0 col2\" >15663377.0613</td>\n",
       "      <td id=\"T_c01fb_row0_col3\" class=\"data row0 col3\" >3957.6985</td>\n",
       "      <td id=\"T_c01fb_row0_col4\" class=\"data row0 col4\" >0.8931</td>\n",
       "      <td id=\"T_c01fb_row0_col5\" class=\"data row0 col5\" >0.3650</td>\n",
       "      <td id=\"T_c01fb_row0_col6\" class=\"data row0 col6\" >0.2634</td>\n",
       "    </tr>\n",
       "  </tbody>\n",
       "</table>\n"
      ],
      "text/plain": [
       "<pandas.io.formats.style.Styler at 0x32423ad60>"
      ]
     },
     "metadata": {},
     "output_type": "display_data"
    },
    {
     "data": {
      "application/vnd.microsoft.datawrangler.viewer.v0+json": {
       "columns": [
        {
         "name": "index",
         "rawType": "int64",
         "type": "integer"
        },
        {
         "name": "age",
         "rawType": "int8",
         "type": "integer"
        },
        {
         "name": "sex",
         "rawType": "category",
         "type": "unknown"
        },
        {
         "name": "bmi",
         "rawType": "float32",
         "type": "float"
        },
        {
         "name": "children",
         "rawType": "int8",
         "type": "integer"
        },
        {
         "name": "smoker",
         "rawType": "category",
         "type": "unknown"
        },
        {
         "name": "region",
         "rawType": "category",
         "type": "unknown"
        },
        {
         "name": "charges",
         "rawType": "float32",
         "type": "float"
        },
        {
         "name": "prediction_label",
         "rawType": "float64",
         "type": "float"
        }
       ],
       "ref": "48c4119d-2022-43b7-9805-acffb849bfe3",
       "rows": [
        [
         "0",
         "19",
         "female",
         "27.9",
         "0",
         "yes",
         "southwest",
         "16884.924",
         "18464.33444779357"
        ],
        [
         "1",
         "18",
         "male",
         "33.77",
         "1",
         "no",
         "southeast",
         "1725.5522",
         "4020.3453835473197"
        ],
        [
         "2",
         "28",
         "male",
         "33.0",
         "3",
         "no",
         "southeast",
         "4449.462",
         "6555.388388439391"
        ],
        [
         "3",
         "33",
         "male",
         "22.705",
         "0",
         "no",
         "northwest",
         "21984.47",
         "9627.04572466571"
        ],
        [
         "4",
         "32",
         "male",
         "28.88",
         "0",
         "no",
         "northwest",
         "3866.8552",
         "3325.531291586459"
        ]
       ],
       "shape": {
        "columns": 8,
        "rows": 5
       }
      },
      "text/html": [
       "<div>\n",
       "<style scoped>\n",
       "    .dataframe tbody tr th:only-of-type {\n",
       "        vertical-align: middle;\n",
       "    }\n",
       "\n",
       "    .dataframe tbody tr th {\n",
       "        vertical-align: top;\n",
       "    }\n",
       "\n",
       "    .dataframe thead th {\n",
       "        text-align: right;\n",
       "    }\n",
       "</style>\n",
       "<table border=\"1\" class=\"dataframe\">\n",
       "  <thead>\n",
       "    <tr style=\"text-align: right;\">\n",
       "      <th></th>\n",
       "      <th>age</th>\n",
       "      <th>sex</th>\n",
       "      <th>bmi</th>\n",
       "      <th>children</th>\n",
       "      <th>smoker</th>\n",
       "      <th>region</th>\n",
       "      <th>charges</th>\n",
       "      <th>prediction_label</th>\n",
       "    </tr>\n",
       "  </thead>\n",
       "  <tbody>\n",
       "    <tr>\n",
       "      <th>0</th>\n",
       "      <td>19</td>\n",
       "      <td>female</td>\n",
       "      <td>27.900000</td>\n",
       "      <td>0</td>\n",
       "      <td>yes</td>\n",
       "      <td>southwest</td>\n",
       "      <td>16884.923828</td>\n",
       "      <td>18464.334448</td>\n",
       "    </tr>\n",
       "    <tr>\n",
       "      <th>1</th>\n",
       "      <td>18</td>\n",
       "      <td>male</td>\n",
       "      <td>33.770000</td>\n",
       "      <td>1</td>\n",
       "      <td>no</td>\n",
       "      <td>southeast</td>\n",
       "      <td>1725.552246</td>\n",
       "      <td>4020.345384</td>\n",
       "    </tr>\n",
       "    <tr>\n",
       "      <th>2</th>\n",
       "      <td>28</td>\n",
       "      <td>male</td>\n",
       "      <td>33.000000</td>\n",
       "      <td>3</td>\n",
       "      <td>no</td>\n",
       "      <td>southeast</td>\n",
       "      <td>4449.461914</td>\n",
       "      <td>6555.388388</td>\n",
       "    </tr>\n",
       "    <tr>\n",
       "      <th>3</th>\n",
       "      <td>33</td>\n",
       "      <td>male</td>\n",
       "      <td>22.705000</td>\n",
       "      <td>0</td>\n",
       "      <td>no</td>\n",
       "      <td>northwest</td>\n",
       "      <td>21984.470703</td>\n",
       "      <td>9627.045725</td>\n",
       "    </tr>\n",
       "    <tr>\n",
       "      <th>4</th>\n",
       "      <td>32</td>\n",
       "      <td>male</td>\n",
       "      <td>28.879999</td>\n",
       "      <td>0</td>\n",
       "      <td>no</td>\n",
       "      <td>northwest</td>\n",
       "      <td>3866.855225</td>\n",
       "      <td>3325.531292</td>\n",
       "    </tr>\n",
       "  </tbody>\n",
       "</table>\n",
       "</div>"
      ],
      "text/plain": [
       "   age     sex        bmi  children smoker     region       charges  \\\n",
       "0   19  female  27.900000         0    yes  southwest  16884.923828   \n",
       "1   18    male  33.770000         1     no  southeast   1725.552246   \n",
       "2   28    male  33.000000         3     no  southeast   4449.461914   \n",
       "3   33    male  22.705000         0     no  northwest  21984.470703   \n",
       "4   32    male  28.879999         0     no  northwest   3866.855225   \n",
       "\n",
       "   prediction_label  \n",
       "0      18464.334448  \n",
       "1       4020.345384  \n",
       "2       6555.388388  \n",
       "3       9627.045725  \n",
       "4       3325.531292  "
      ]
     },
     "execution_count": 22,
     "metadata": {},
     "output_type": "execute_result"
    }
   ],
   "source": [
    "# OOP API\n",
    "predictions = s.predict_model(best, data=data)\n",
    "predictions.head()"
   ]
  },
  {
   "cell_type": "code",
   "execution_count": 23,
   "id": "b372e7c3",
   "metadata": {},
   "outputs": [
    {
     "name": "stdout",
     "output_type": "stream",
     "text": [
      "Transformation Pipeline and Model Successfully Saved\n"
     ]
    },
    {
     "data": {
      "text/plain": [
       "(Pipeline(memory=Memory(location=None),\n",
       "          steps=[('numerical_imputer',\n",
       "                  TransformerWrapper(exclude=None,\n",
       "                                     include=['age', 'bmi', 'children'],\n",
       "                                     transformer=SimpleImputer(add_indicator=False,\n",
       "                                                               copy=True,\n",
       "                                                               fill_value=None,\n",
       "                                                               keep_empty_features=False,\n",
       "                                                               missing_values=nan,\n",
       "                                                               strategy='mean'))),\n",
       "                 ('categorical_imputer',\n",
       "                  TransformerWrapper(exclude=None,\n",
       "                                     include=['sex', 'smoker', 'reg...\n",
       "                                            criterion='friedman_mse', init=None,\n",
       "                                            learning_rate=0.1,\n",
       "                                            loss='squared_error', max_depth=3,\n",
       "                                            max_features=None,\n",
       "                                            max_leaf_nodes=None,\n",
       "                                            min_impurity_decrease=0.0,\n",
       "                                            min_samples_leaf=1,\n",
       "                                            min_samples_split=2,\n",
       "                                            min_weight_fraction_leaf=0.0,\n",
       "                                            n_estimators=100,\n",
       "                                            n_iter_no_change=None,\n",
       "                                            random_state=123, subsample=1.0,\n",
       "                                            tol=0.0001, validation_fraction=0.1,\n",
       "                                            verbose=0, warm_start=False))],\n",
       "          verbose=False),\n",
       " 'my_best_pipeline.pkl')"
      ]
     },
     "execution_count": 23,
     "metadata": {},
     "output_type": "execute_result"
    }
   ],
   "source": [
    "# OOP API\n",
    "s.save_model(best, 'my_best_pipeline')"
   ]
  },
  {
   "cell_type": "code",
   "execution_count": 24,
   "id": "7fe783ff",
   "metadata": {},
   "outputs": [
    {
     "name": "stdout",
     "output_type": "stream",
     "text": [
      "Transformation Pipeline and Model Successfully Loaded\n",
      "Pipeline(memory=FastMemory(location=/var/folders/q6/5p1bc37s5q98swf9z15w9k6m0000gn/T/joblib),\n",
      "         steps=[('numerical_imputer',\n",
      "                 TransformerWrapper(exclude=None,\n",
      "                                    include=['age', 'bmi', 'children'],\n",
      "                                    transformer=SimpleImputer(add_indicator=False,\n",
      "                                                              copy=True,\n",
      "                                                              fill_value=None,\n",
      "                                                              keep_empty_features=False,\n",
      "                                                              missing_values=nan,\n",
      "                                                              strategy='mean'))),\n",
      "                ('categorical_imputer',\n",
      "                 Trans...\n",
      "                                           criterion='friedman_mse', init=None,\n",
      "                                           learning_rate=0.1,\n",
      "                                           loss='squared_error', max_depth=3,\n",
      "                                           max_features=None,\n",
      "                                           max_leaf_nodes=None,\n",
      "                                           min_impurity_decrease=0.0,\n",
      "                                           min_samples_leaf=1,\n",
      "                                           min_samples_split=2,\n",
      "                                           min_weight_fraction_leaf=0.0,\n",
      "                                           n_estimators=100,\n",
      "                                           n_iter_no_change=None,\n",
      "                                           random_state=123, subsample=1.0,\n",
      "                                           tol=0.0001, validation_fraction=0.1,\n",
      "                                           verbose=0, warm_start=False))],\n",
      "         verbose=False)\n"
     ]
    }
   ],
   "source": [
    "# OOP API\n",
    "loaded_model = s.load_model('my_best_pipeline')\n",
    "print(loaded_model)"
   ]
  },
  {
   "cell_type": "markdown",
   "id": "ae3666b4",
   "metadata": {},
   "source": [
    "AGRUPAMENTO"
   ]
  },
  {
   "cell_type": "code",
   "execution_count": 25,
   "id": "0719237f",
   "metadata": {},
   "outputs": [
    {
     "data": {
      "application/vnd.microsoft.datawrangler.viewer.v0+json": {
       "columns": [
        {
         "name": "index",
         "rawType": "int64",
         "type": "integer"
        },
        {
         "name": "Age",
         "rawType": "int64",
         "type": "integer"
        },
        {
         "name": "Income",
         "rawType": "int64",
         "type": "integer"
        },
        {
         "name": "SpendingScore",
         "rawType": "float64",
         "type": "float"
        },
        {
         "name": "Savings",
         "rawType": "float64",
         "type": "float"
        }
       ],
       "ref": "b5eadadb-97c3-4dc6-8f9c-2901301917dd",
       "rows": [
        [
         "0",
         "58",
         "77769",
         "0.7913287771988531",
         "6559.829923004832"
        ],
        [
         "1",
         "59",
         "81799",
         "0.7910820467274178",
         "5417.661426197439"
        ],
        [
         "2",
         "62",
         "74751",
         "0.7026569520102857",
         "9258.992965034067"
        ],
        [
         "3",
         "59",
         "74373",
         "0.7656795619984281",
         "7346.334503537976"
        ],
        [
         "4",
         "87",
         "17760",
         "0.3487775484305074",
         "16869.507130301474"
        ]
       ],
       "shape": {
        "columns": 4,
        "rows": 5
       }
      },
      "text/html": [
       "<div>\n",
       "<style scoped>\n",
       "    .dataframe tbody tr th:only-of-type {\n",
       "        vertical-align: middle;\n",
       "    }\n",
       "\n",
       "    .dataframe tbody tr th {\n",
       "        vertical-align: top;\n",
       "    }\n",
       "\n",
       "    .dataframe thead th {\n",
       "        text-align: right;\n",
       "    }\n",
       "</style>\n",
       "<table border=\"1\" class=\"dataframe\">\n",
       "  <thead>\n",
       "    <tr style=\"text-align: right;\">\n",
       "      <th></th>\n",
       "      <th>Age</th>\n",
       "      <th>Income</th>\n",
       "      <th>SpendingScore</th>\n",
       "      <th>Savings</th>\n",
       "    </tr>\n",
       "  </thead>\n",
       "  <tbody>\n",
       "    <tr>\n",
       "      <th>0</th>\n",
       "      <td>58</td>\n",
       "      <td>77769</td>\n",
       "      <td>0.791329</td>\n",
       "      <td>6559.829923</td>\n",
       "    </tr>\n",
       "    <tr>\n",
       "      <th>1</th>\n",
       "      <td>59</td>\n",
       "      <td>81799</td>\n",
       "      <td>0.791082</td>\n",
       "      <td>5417.661426</td>\n",
       "    </tr>\n",
       "    <tr>\n",
       "      <th>2</th>\n",
       "      <td>62</td>\n",
       "      <td>74751</td>\n",
       "      <td>0.702657</td>\n",
       "      <td>9258.992965</td>\n",
       "    </tr>\n",
       "    <tr>\n",
       "      <th>3</th>\n",
       "      <td>59</td>\n",
       "      <td>74373</td>\n",
       "      <td>0.765680</td>\n",
       "      <td>7346.334504</td>\n",
       "    </tr>\n",
       "    <tr>\n",
       "      <th>4</th>\n",
       "      <td>87</td>\n",
       "      <td>17760</td>\n",
       "      <td>0.348778</td>\n",
       "      <td>16869.507130</td>\n",
       "    </tr>\n",
       "  </tbody>\n",
       "</table>\n",
       "</div>"
      ],
      "text/plain": [
       "   Age  Income  SpendingScore       Savings\n",
       "0   58   77769       0.791329   6559.829923\n",
       "1   59   81799       0.791082   5417.661426\n",
       "2   62   74751       0.702657   9258.992965\n",
       "3   59   74373       0.765680   7346.334504\n",
       "4   87   17760       0.348778  16869.507130"
      ]
     },
     "metadata": {},
     "output_type": "display_data"
    }
   ],
   "source": [
    "# load sample dataset\n",
    "from pycaret.datasets import get_data\n",
    "data = get_data('jewellery')"
   ]
  },
  {
   "cell_type": "code",
   "execution_count": 26,
   "id": "2b9f72e2",
   "metadata": {},
   "outputs": [
    {
     "data": {
      "text/html": [
       "<style type=\"text/css\">\n",
       "#T_6bff1_row4_col1, #T_6bff1_row8_col1 {\n",
       "  background-color: lightgreen;\n",
       "}\n",
       "</style>\n",
       "<table id=\"T_6bff1\">\n",
       "  <thead>\n",
       "    <tr>\n",
       "      <th class=\"blank level0\" >&nbsp;</th>\n",
       "      <th id=\"T_6bff1_level0_col0\" class=\"col_heading level0 col0\" >Description</th>\n",
       "      <th id=\"T_6bff1_level0_col1\" class=\"col_heading level0 col1\" >Value</th>\n",
       "    </tr>\n",
       "  </thead>\n",
       "  <tbody>\n",
       "    <tr>\n",
       "      <th id=\"T_6bff1_level0_row0\" class=\"row_heading level0 row0\" >0</th>\n",
       "      <td id=\"T_6bff1_row0_col0\" class=\"data row0 col0\" >Session id</td>\n",
       "      <td id=\"T_6bff1_row0_col1\" class=\"data row0 col1\" >7699</td>\n",
       "    </tr>\n",
       "    <tr>\n",
       "      <th id=\"T_6bff1_level0_row1\" class=\"row_heading level0 row1\" >1</th>\n",
       "      <td id=\"T_6bff1_row1_col0\" class=\"data row1 col0\" >Original data shape</td>\n",
       "      <td id=\"T_6bff1_row1_col1\" class=\"data row1 col1\" >(505, 4)</td>\n",
       "    </tr>\n",
       "    <tr>\n",
       "      <th id=\"T_6bff1_level0_row2\" class=\"row_heading level0 row2\" >2</th>\n",
       "      <td id=\"T_6bff1_row2_col0\" class=\"data row2 col0\" >Transformed data shape</td>\n",
       "      <td id=\"T_6bff1_row2_col1\" class=\"data row2 col1\" >(505, 4)</td>\n",
       "    </tr>\n",
       "    <tr>\n",
       "      <th id=\"T_6bff1_level0_row3\" class=\"row_heading level0 row3\" >3</th>\n",
       "      <td id=\"T_6bff1_row3_col0\" class=\"data row3 col0\" >Numeric features</td>\n",
       "      <td id=\"T_6bff1_row3_col1\" class=\"data row3 col1\" >4</td>\n",
       "    </tr>\n",
       "    <tr>\n",
       "      <th id=\"T_6bff1_level0_row4\" class=\"row_heading level0 row4\" >4</th>\n",
       "      <td id=\"T_6bff1_row4_col0\" class=\"data row4 col0\" >Preprocess</td>\n",
       "      <td id=\"T_6bff1_row4_col1\" class=\"data row4 col1\" >True</td>\n",
       "    </tr>\n",
       "    <tr>\n",
       "      <th id=\"T_6bff1_level0_row5\" class=\"row_heading level0 row5\" >5</th>\n",
       "      <td id=\"T_6bff1_row5_col0\" class=\"data row5 col0\" >Imputation type</td>\n",
       "      <td id=\"T_6bff1_row5_col1\" class=\"data row5 col1\" >simple</td>\n",
       "    </tr>\n",
       "    <tr>\n",
       "      <th id=\"T_6bff1_level0_row6\" class=\"row_heading level0 row6\" >6</th>\n",
       "      <td id=\"T_6bff1_row6_col0\" class=\"data row6 col0\" >Numeric imputation</td>\n",
       "      <td id=\"T_6bff1_row6_col1\" class=\"data row6 col1\" >mean</td>\n",
       "    </tr>\n",
       "    <tr>\n",
       "      <th id=\"T_6bff1_level0_row7\" class=\"row_heading level0 row7\" >7</th>\n",
       "      <td id=\"T_6bff1_row7_col0\" class=\"data row7 col0\" >Categorical imputation</td>\n",
       "      <td id=\"T_6bff1_row7_col1\" class=\"data row7 col1\" >mode</td>\n",
       "    </tr>\n",
       "    <tr>\n",
       "      <th id=\"T_6bff1_level0_row8\" class=\"row_heading level0 row8\" >8</th>\n",
       "      <td id=\"T_6bff1_row8_col0\" class=\"data row8 col0\" >Normalize</td>\n",
       "      <td id=\"T_6bff1_row8_col1\" class=\"data row8 col1\" >True</td>\n",
       "    </tr>\n",
       "    <tr>\n",
       "      <th id=\"T_6bff1_level0_row9\" class=\"row_heading level0 row9\" >9</th>\n",
       "      <td id=\"T_6bff1_row9_col0\" class=\"data row9 col0\" >Normalize method</td>\n",
       "      <td id=\"T_6bff1_row9_col1\" class=\"data row9 col1\" >zscore</td>\n",
       "    </tr>\n",
       "    <tr>\n",
       "      <th id=\"T_6bff1_level0_row10\" class=\"row_heading level0 row10\" >10</th>\n",
       "      <td id=\"T_6bff1_row10_col0\" class=\"data row10 col0\" >CPU Jobs</td>\n",
       "      <td id=\"T_6bff1_row10_col1\" class=\"data row10 col1\" >-1</td>\n",
       "    </tr>\n",
       "    <tr>\n",
       "      <th id=\"T_6bff1_level0_row11\" class=\"row_heading level0 row11\" >11</th>\n",
       "      <td id=\"T_6bff1_row11_col0\" class=\"data row11 col0\" >Use GPU</td>\n",
       "      <td id=\"T_6bff1_row11_col1\" class=\"data row11 col1\" >False</td>\n",
       "    </tr>\n",
       "    <tr>\n",
       "      <th id=\"T_6bff1_level0_row12\" class=\"row_heading level0 row12\" >12</th>\n",
       "      <td id=\"T_6bff1_row12_col0\" class=\"data row12 col0\" >Log Experiment</td>\n",
       "      <td id=\"T_6bff1_row12_col1\" class=\"data row12 col1\" >False</td>\n",
       "    </tr>\n",
       "    <tr>\n",
       "      <th id=\"T_6bff1_level0_row13\" class=\"row_heading level0 row13\" >13</th>\n",
       "      <td id=\"T_6bff1_row13_col0\" class=\"data row13 col0\" >Experiment Name</td>\n",
       "      <td id=\"T_6bff1_row13_col1\" class=\"data row13 col1\" >cluster-default-name</td>\n",
       "    </tr>\n",
       "    <tr>\n",
       "      <th id=\"T_6bff1_level0_row14\" class=\"row_heading level0 row14\" >14</th>\n",
       "      <td id=\"T_6bff1_row14_col0\" class=\"data row14 col0\" >USI</td>\n",
       "      <td id=\"T_6bff1_row14_col1\" class=\"data row14 col1\" >8218</td>\n",
       "    </tr>\n",
       "  </tbody>\n",
       "</table>\n"
      ],
      "text/plain": [
       "<pandas.io.formats.style.Styler at 0x325129d30>"
      ]
     },
     "metadata": {},
     "output_type": "display_data"
    },
    {
     "data": {
      "text/plain": [
       "<pycaret.clustering.oop.ClusteringExperiment at 0x323e18d90>"
      ]
     },
     "execution_count": 26,
     "metadata": {},
     "output_type": "execute_result"
    }
   ],
   "source": [
    "from pycaret.clustering import ClusteringExperiment\n",
    "s = ClusteringExperiment()\n",
    "s.setup(data, normalize = True)"
   ]
  },
  {
   "cell_type": "code",
   "execution_count": 27,
   "id": "7aaed133",
   "metadata": {},
   "outputs": [
    {
     "data": {
      "text/html": [],
      "text/plain": [
       "<IPython.core.display.HTML object>"
      ]
     },
     "metadata": {},
     "output_type": "display_data"
    },
    {
     "data": {
      "text/html": [
       "<style type=\"text/css\">\n",
       "</style>\n",
       "<table id=\"T_4bdd7\">\n",
       "  <thead>\n",
       "    <tr>\n",
       "      <th class=\"blank level0\" >&nbsp;</th>\n",
       "      <th id=\"T_4bdd7_level0_col0\" class=\"col_heading level0 col0\" >Silhouette</th>\n",
       "      <th id=\"T_4bdd7_level0_col1\" class=\"col_heading level0 col1\" >Calinski-Harabasz</th>\n",
       "      <th id=\"T_4bdd7_level0_col2\" class=\"col_heading level0 col2\" >Davies-Bouldin</th>\n",
       "      <th id=\"T_4bdd7_level0_col3\" class=\"col_heading level0 col3\" >Homogeneity</th>\n",
       "      <th id=\"T_4bdd7_level0_col4\" class=\"col_heading level0 col4\" >Rand Index</th>\n",
       "      <th id=\"T_4bdd7_level0_col5\" class=\"col_heading level0 col5\" >Completeness</th>\n",
       "    </tr>\n",
       "  </thead>\n",
       "  <tbody>\n",
       "    <tr>\n",
       "      <th id=\"T_4bdd7_level0_row0\" class=\"row_heading level0 row0\" >0</th>\n",
       "      <td id=\"T_4bdd7_row0_col0\" class=\"data row0 col0\" >0.7581</td>\n",
       "      <td id=\"T_4bdd7_row0_col1\" class=\"data row0 col1\" >1611.2647</td>\n",
       "      <td id=\"T_4bdd7_row0_col2\" class=\"data row0 col2\" >0.3743</td>\n",
       "      <td id=\"T_4bdd7_row0_col3\" class=\"data row0 col3\" >0</td>\n",
       "      <td id=\"T_4bdd7_row0_col4\" class=\"data row0 col4\" >0</td>\n",
       "      <td id=\"T_4bdd7_row0_col5\" class=\"data row0 col5\" >0</td>\n",
       "    </tr>\n",
       "  </tbody>\n",
       "</table>\n"
      ],
      "text/plain": [
       "<pandas.io.formats.style.Styler at 0x3245b5580>"
      ]
     },
     "metadata": {},
     "output_type": "display_data"
    },
    {
     "data": {
      "text/html": [],
      "text/plain": [
       "<IPython.core.display.HTML object>"
      ]
     },
     "metadata": {},
     "output_type": "display_data"
    }
   ],
   "source": [
    "# OOP API\n",
    "kmeans = s.create_model('kmeans')"
   ]
  },
  {
   "cell_type": "code",
   "execution_count": 28,
   "id": "1022a43a",
   "metadata": {},
   "outputs": [
    {
     "name": "stdout",
     "output_type": "stream",
     "text": [
      "KMeans(algorithm='lloyd', copy_x=True, init='k-means++', max_iter=300,\n",
      "       n_clusters=4, n_init='auto', random_state=7699, tol=0.0001, verbose=0)\n"
     ]
    }
   ],
   "source": [
    "print(kmeans)"
   ]
  },
  {
   "cell_type": "code",
   "execution_count": 29,
   "id": "0c4833e8",
   "metadata": {},
   "outputs": [
    {
     "data": {
      "application/vnd.jupyter.widget-view+json": {
       "model_id": "e0a36e433b4e499e95aa3d1fcf46f115",
       "version_major": 2,
       "version_minor": 0
      },
      "text/plain": [
       "interactive(children=(ToggleButtons(description='Plot Type:', icons=('',), options=(('Pipeline Plot', 'pipelin…"
      ]
     },
     "metadata": {},
     "output_type": "display_data"
    }
   ],
   "source": [
    "# OOP API\n",
    "s.evaluate_model(kmeans)"
   ]
  },
  {
   "cell_type": "code",
   "execution_count": 30,
   "id": "0b597acb",
   "metadata": {},
   "outputs": [
    {
     "data": {
      "text/html": [],
      "text/plain": [
       "<IPython.core.display.HTML object>"
      ]
     },
     "metadata": {},
     "output_type": "display_data"
    },
    {
     "data": {
      "image/png": "[encoded data removed]",
      "text/plain": [
       "<Figure size 800x550 with 1 Axes>"
      ]
     },
     "metadata": {},
     "output_type": "display_data"
    }
   ],
   "source": [
    "# OOP API\n",
    "s.plot_model(kmeans, plot = 'elbow')"
   ]
  },
  {
   "cell_type": "code",
   "execution_count": 31,
   "id": "7fc2384b",
   "metadata": {},
   "outputs": [
    {
     "data": {
      "text/html": [],
      "text/plain": [
       "<IPython.core.display.HTML object>"
      ]
     },
     "metadata": {},
     "output_type": "display_data"
    },
    {
     "data": {
      "image/png": "[encoded data removed]",
      "text/plain": [
       "<Figure size 800x550 with 1 Axes>"
      ]
     },
     "metadata": {},
     "output_type": "display_data"
    }
   ],
   "source": [
    "# OOP API\n",
    "s.plot_model(kmeans, plot = 'silhouette')"
   ]
  },
  {
   "cell_type": "code",
   "execution_count": 32,
   "id": "123aef86",
   "metadata": {},
   "outputs": [
    {
     "data": {
      "application/vnd.microsoft.datawrangler.viewer.v0+json": {
       "columns": [
        {
         "name": "index",
         "rawType": "int64",
         "type": "integer"
        },
        {
         "name": "Age",
         "rawType": "int8",
         "type": "integer"
        },
        {
         "name": "Income",
         "rawType": "int32",
         "type": "integer"
        },
        {
         "name": "SpendingScore",
         "rawType": "float32",
         "type": "float"
        },
        {
         "name": "Savings",
         "rawType": "float32",
         "type": "float"
        },
        {
         "name": "Cluster",
         "rawType": "object",
         "type": "string"
        }
       ],
       "ref": "5da0aaa6-f7a4-4c5a-a319-8a9100cbcc42",
       "rows": [
        [
         "0",
         "58",
         "77769",
         "0.7913288",
         "6559.83",
         "Cluster 1"
        ],
        [
         "1",
         "59",
         "81799",
         "0.791082",
         "5417.6616",
         "Cluster 1"
        ],
        [
         "2",
         "62",
         "74751",
         "0.7026569",
         "9258.993",
         "Cluster 1"
        ],
        [
         "3",
         "59",
         "74373",
         "0.76567954",
         "7346.3345",
         "Cluster 1"
        ],
        [
         "4",
         "87",
         "17760",
         "0.34877756",
         "16869.508",
         "Cluster 2"
        ]
       ],
       "shape": {
        "columns": 5,
        "rows": 5
       }
      },
      "text/html": [
       "<div>\n",
       "<style scoped>\n",
       "    .dataframe tbody tr th:only-of-type {\n",
       "        vertical-align: middle;\n",
       "    }\n",
       "\n",
       "    .dataframe tbody tr th {\n",
       "        vertical-align: top;\n",
       "    }\n",
       "\n",
       "    .dataframe thead th {\n",
       "        text-align: right;\n",
       "    }\n",
       "</style>\n",
       "<table border=\"1\" class=\"dataframe\">\n",
       "  <thead>\n",
       "    <tr style=\"text-align: right;\">\n",
       "      <th></th>\n",
       "      <th>Age</th>\n",
       "      <th>Income</th>\n",
       "      <th>SpendingScore</th>\n",
       "      <th>Savings</th>\n",
       "      <th>Cluster</th>\n",
       "    </tr>\n",
       "  </thead>\n",
       "  <tbody>\n",
       "    <tr>\n",
       "      <th>0</th>\n",
       "      <td>58</td>\n",
       "      <td>77769</td>\n",
       "      <td>0.791329</td>\n",
       "      <td>6559.830078</td>\n",
       "      <td>Cluster 1</td>\n",
       "    </tr>\n",
       "    <tr>\n",
       "      <th>1</th>\n",
       "      <td>59</td>\n",
       "      <td>81799</td>\n",
       "      <td>0.791082</td>\n",
       "      <td>5417.661621</td>\n",
       "      <td>Cluster 1</td>\n",
       "    </tr>\n",
       "    <tr>\n",
       "      <th>2</th>\n",
       "      <td>62</td>\n",
       "      <td>74751</td>\n",
       "      <td>0.702657</td>\n",
       "      <td>9258.993164</td>\n",
       "      <td>Cluster 1</td>\n",
       "    </tr>\n",
       "    <tr>\n",
       "      <th>3</th>\n",
       "      <td>59</td>\n",
       "      <td>74373</td>\n",
       "      <td>0.765680</td>\n",
       "      <td>7346.334473</td>\n",
       "      <td>Cluster 1</td>\n",
       "    </tr>\n",
       "    <tr>\n",
       "      <th>4</th>\n",
       "      <td>87</td>\n",
       "      <td>17760</td>\n",
       "      <td>0.348778</td>\n",
       "      <td>16869.507812</td>\n",
       "      <td>Cluster 2</td>\n",
       "    </tr>\n",
       "  </tbody>\n",
       "</table>\n",
       "</div>"
      ],
      "text/plain": [
       "   Age  Income  SpendingScore       Savings    Cluster\n",
       "0   58   77769       0.791329   6559.830078  Cluster 1\n",
       "1   59   81799       0.791082   5417.661621  Cluster 1\n",
       "2   62   74751       0.702657   9258.993164  Cluster 1\n",
       "3   59   74373       0.765680   7346.334473  Cluster 1\n",
       "4   87   17760       0.348778  16869.507812  Cluster 2"
      ]
     },
     "execution_count": 32,
     "metadata": {},
     "output_type": "execute_result"
    }
   ],
   "source": [
    "# OOP API\n",
    "result = s.assign_model(kmeans)\n",
    "result.head()"
   ]
  },
  {
   "cell_type": "code",
   "execution_count": 33,
   "id": "aafad90d",
   "metadata": {},
   "outputs": [
    {
     "data": {
      "application/vnd.microsoft.datawrangler.viewer.v0+json": {
       "columns": [
        {
         "name": "index",
         "rawType": "int64",
         "type": "integer"
        },
        {
         "name": "Age",
         "rawType": "float64",
         "type": "float"
        },
        {
         "name": "Income",
         "rawType": "float64",
         "type": "float"
        },
        {
         "name": "SpendingScore",
         "rawType": "float64",
         "type": "float"
        },
        {
         "name": "Savings",
         "rawType": "float64",
         "type": "float"
        },
        {
         "name": "Cluster",
         "rawType": "object",
         "type": "string"
        }
       ],
       "ref": "31998137-e5d5-453f-b816-49ee2ce77fb4",
       "rows": [
        [
         "0",
         "-0.04228713229465624",
         "0.0627330450381976",
         "1.1035926099035558",
         "-1.0724667659927836",
         "Cluster 1"
        ],
        [
         "1",
         "-0.0008211093649447099",
         "0.17481052555143697",
         "1.1026413655908436",
         "-1.3034726436286217",
         "Cluster 1"
        ],
        [
         "2",
         "0.12357695942418988",
         "-0.021199916795290357",
         "0.7617273797284226",
         "-0.5265556073948521",
         "Cluster 1"
        ],
        [
         "3",
         "-0.0008211093649447099",
         "-0.03171239511638328",
         "1.004704661678088",
         "-0.9133946313659572",
         "Cluster 1"
        ],
        [
         "4",
         "1.1602275326669782",
         "-1.606164604619118",
         "-0.6026187753413362",
         "1.0126862023046523",
         "Cluster 2"
        ]
       ],
       "shape": {
        "columns": 5,
        "rows": 5
       }
      },
      "text/html": [
       "<div>\n",
       "<style scoped>\n",
       "    .dataframe tbody tr th:only-of-type {\n",
       "        vertical-align: middle;\n",
       "    }\n",
       "\n",
       "    .dataframe tbody tr th {\n",
       "        vertical-align: top;\n",
       "    }\n",
       "\n",
       "    .dataframe thead th {\n",
       "        text-align: right;\n",
       "    }\n",
       "</style>\n",
       "<table border=\"1\" class=\"dataframe\">\n",
       "  <thead>\n",
       "    <tr style=\"text-align: right;\">\n",
       "      <th></th>\n",
       "      <th>Age</th>\n",
       "      <th>Income</th>\n",
       "      <th>SpendingScore</th>\n",
       "      <th>Savings</th>\n",
       "      <th>Cluster</th>\n",
       "    </tr>\n",
       "  </thead>\n",
       "  <tbody>\n",
       "    <tr>\n",
       "      <th>0</th>\n",
       "      <td>-0.042287</td>\n",
       "      <td>0.062733</td>\n",
       "      <td>1.103593</td>\n",
       "      <td>-1.072467</td>\n",
       "      <td>Cluster 1</td>\n",
       "    </tr>\n",
       "    <tr>\n",
       "      <th>1</th>\n",
       "      <td>-0.000821</td>\n",
       "      <td>0.174811</td>\n",
       "      <td>1.102641</td>\n",
       "      <td>-1.303473</td>\n",
       "      <td>Cluster 1</td>\n",
       "    </tr>\n",
       "    <tr>\n",
       "      <th>2</th>\n",
       "      <td>0.123577</td>\n",
       "      <td>-0.021200</td>\n",
       "      <td>0.761727</td>\n",
       "      <td>-0.526556</td>\n",
       "      <td>Cluster 1</td>\n",
       "    </tr>\n",
       "    <tr>\n",
       "      <th>3</th>\n",
       "      <td>-0.000821</td>\n",
       "      <td>-0.031712</td>\n",
       "      <td>1.004705</td>\n",
       "      <td>-0.913395</td>\n",
       "      <td>Cluster 1</td>\n",
       "    </tr>\n",
       "    <tr>\n",
       "      <th>4</th>\n",
       "      <td>1.160228</td>\n",
       "      <td>-1.606165</td>\n",
       "      <td>-0.602619</td>\n",
       "      <td>1.012686</td>\n",
       "      <td>Cluster 2</td>\n",
       "    </tr>\n",
       "  </tbody>\n",
       "</table>\n",
       "</div>"
      ],
      "text/plain": [
       "        Age    Income  SpendingScore   Savings    Cluster\n",
       "0 -0.042287  0.062733       1.103593 -1.072467  Cluster 1\n",
       "1 -0.000821  0.174811       1.102641 -1.303473  Cluster 1\n",
       "2  0.123577 -0.021200       0.761727 -0.526556  Cluster 1\n",
       "3 -0.000821 -0.031712       1.004705 -0.913395  Cluster 1\n",
       "4  1.160228 -1.606165      -0.602619  1.012686  Cluster 2"
      ]
     },
     "execution_count": 33,
     "metadata": {},
     "output_type": "execute_result"
    }
   ],
   "source": [
    "# OOP API\n",
    "predictions = s.predict_model(kmeans, data = data)\n",
    "predictions.head()"
   ]
  },
  {
   "cell_type": "code",
   "execution_count": 34,
   "id": "10fcf551",
   "metadata": {},
   "outputs": [
    {
     "name": "stdout",
     "output_type": "stream",
     "text": [
      "Transformation Pipeline and Model Successfully Saved\n"
     ]
    },
    {
     "data": {
      "text/plain": [
       "(Pipeline(memory=Memory(location=None),\n",
       "          steps=[('numerical_imputer',\n",
       "                  TransformerWrapper(exclude=None,\n",
       "                                     include=['Age', 'Income', 'SpendingScore',\n",
       "                                              'Savings'],\n",
       "                                     transformer=SimpleImputer(add_indicator=False,\n",
       "                                                               copy=True,\n",
       "                                                               fill_value=None,\n",
       "                                                               keep_empty_features=False,\n",
       "                                                               missing_values=nan,\n",
       "                                                               strategy='mean'))),\n",
       "                 ('categorical_imputer',\n",
       "                  TransformerWrapper(exclude=None, include=[]...\n",
       "                                                               keep_empty_features=False,\n",
       "                                                               missing_values=nan,\n",
       "                                                               strategy='most_frequent'))),\n",
       "                 ('normalize',\n",
       "                  TransformerWrapper(exclude=None, include=None,\n",
       "                                     transformer=StandardScaler(copy=True,\n",
       "                                                                with_mean=True,\n",
       "                                                                with_std=True))),\n",
       "                 ('trained_model',\n",
       "                  KMeans(algorithm='lloyd', copy_x=True, init='k-means++',\n",
       "                         max_iter=300, n_clusters=4, n_init='auto',\n",
       "                         random_state=7699, tol=0.0001, verbose=0))],\n",
       "          verbose=False),\n",
       " 'kmeans_pipeline.pkl')"
      ]
     },
     "execution_count": 34,
     "metadata": {},
     "output_type": "execute_result"
    }
   ],
   "source": [
    "# OOP API\n",
    "s.save_model(kmeans, 'kmeans_pipeline')"
   ]
  },
  {
   "cell_type": "code",
   "execution_count": 35,
   "id": "e79076a5",
   "metadata": {},
   "outputs": [
    {
     "name": "stdout",
     "output_type": "stream",
     "text": [
      "Transformation Pipeline and Model Successfully Loaded\n",
      "Pipeline(memory=FastMemory(location=/var/folders/q6/5p1bc37s5q98swf9z15w9k6m0000gn/T/joblib),\n",
      "         steps=[('numerical_imputer',\n",
      "                 TransformerWrapper(exclude=None,\n",
      "                                    include=['Age', 'Income', 'SpendingScore',\n",
      "                                             'Savings'],\n",
      "                                    transformer=SimpleImputer(add_indicator=False,\n",
      "                                                              copy=True,\n",
      "                                                              fill_value=None,\n",
      "                                                              keep_empty_features=False,\n",
      "                                                              missing_values=nan,\n",
      "                                                              strategy='mean'))),\n",
      "                ('categori...\n",
      "                                                              keep_empty_features=False,\n",
      "                                                              missing_values=nan,\n",
      "                                                              strategy='most_frequent'))),\n",
      "                ('normalize',\n",
      "                 TransformerWrapper(exclude=None, include=None,\n",
      "                                    transformer=StandardScaler(copy=True,\n",
      "                                                               with_mean=True,\n",
      "                                                               with_std=True))),\n",
      "                ('trained_model',\n",
      "                 KMeans(algorithm='lloyd', copy_x=True, init='k-means++',\n",
      "                        max_iter=300, n_clusters=4, n_init='auto',\n",
      "                        random_state=7699, tol=0.0001, verbose=0))],\n",
      "         verbose=False)\n"
     ]
    }
   ],
   "source": [
    "# OOP API\n",
    "loaded_model = s.load_model('kmeans_pipeline')\n",
    "print(loaded_model)\n"
   ]
  },
  {
   "cell_type": "markdown",
   "id": "208fd821",
   "metadata": {},
   "source": [
    "DETECÇÃO DE ANOMALIAS"
   ]
  },
  {
   "cell_type": "code",
   "execution_count": 36,
   "id": "7110190a",
   "metadata": {},
   "outputs": [
    {
     "data": {
      "application/vnd.microsoft.datawrangler.viewer.v0+json": {
       "columns": [
        {
         "name": "index",
         "rawType": "int64",
         "type": "integer"
        },
        {
         "name": "Col1",
         "rawType": "float64",
         "type": "float"
        },
        {
         "name": "Col2",
         "rawType": "float64",
         "type": "float"
        },
        {
         "name": "Col3",
         "rawType": "float64",
         "type": "float"
        },
        {
         "name": "Col4",
         "rawType": "float64",
         "type": "float"
        },
        {
         "name": "Col5",
         "rawType": "float64",
         "type": "float"
        },
        {
         "name": "Col6",
         "rawType": "float64",
         "type": "float"
        },
        {
         "name": "Col7",
         "rawType": "float64",
         "type": "float"
        },
        {
         "name": "Col8",
         "rawType": "float64",
         "type": "float"
        },
        {
         "name": "Col9",
         "rawType": "float64",
         "type": "float"
        },
        {
         "name": "Col10",
         "rawType": "float64",
         "type": "float"
        }
       ],
       "ref": "24077cd0-3427-4efa-ad59-6bd70c0f49b1",
       "rows": [
        [
         "0",
         "0.263995357",
         "0.764928588",
         "0.13842355",
         "0.935242061",
         "0.605866573",
         "0.518789697",
         "0.912225161",
         "0.608234451",
         "0.723781923",
         "0.73359095"
        ],
        [
         "1",
         "0.546092303",
         "0.65397459",
         "0.065575135",
         "0.227771913",
         "0.845269445",
         "0.837065879",
         "0.272378939",
         "0.331678698",
         "0.429296975",
         "0.367422001"
        ],
        [
         "2",
         "0.336714104",
         "0.538842451",
         "0.192801069",
         "0.553562822",
         "0.074514511",
         "0.332993162",
         "0.365792205",
         "0.861309323",
         "0.899016587",
         "0.088600152"
        ],
        [
         "3",
         "0.092107835",
         "0.995016662",
         "0.014465045",
         "0.176370646",
         "0.241530075",
         "0.514723634",
         "0.562208164",
         "0.158963258",
         "0.073715215",
         "0.208463224"
        ],
        [
         "4",
         "0.325261175",
         "0.805967636",
         "0.957033424",
         "0.331664957",
         "0.307923366",
         "0.355314772",
         "0.50189852",
         "0.558449452",
         "0.885169295",
         "0.182754409"
        ]
       ],
       "shape": {
        "columns": 10,
        "rows": 5
       }
      },
      "text/html": [
       "<div>\n",
       "<style scoped>\n",
       "    .dataframe tbody tr th:only-of-type {\n",
       "        vertical-align: middle;\n",
       "    }\n",
       "\n",
       "    .dataframe tbody tr th {\n",
       "        vertical-align: top;\n",
       "    }\n",
       "\n",
       "    .dataframe thead th {\n",
       "        text-align: right;\n",
       "    }\n",
       "</style>\n",
       "<table border=\"1\" class=\"dataframe\">\n",
       "  <thead>\n",
       "    <tr style=\"text-align: right;\">\n",
       "      <th></th>\n",
       "      <th>Col1</th>\n",
       "      <th>Col2</th>\n",
       "      <th>Col3</th>\n",
       "      <th>Col4</th>\n",
       "      <th>Col5</th>\n",
       "      <th>Col6</th>\n",
       "      <th>Col7</th>\n",
       "      <th>Col8</th>\n",
       "      <th>Col9</th>\n",
       "      <th>Col10</th>\n",
       "    </tr>\n",
       "  </thead>\n",
       "  <tbody>\n",
       "    <tr>\n",
       "      <th>0</th>\n",
       "      <td>0.263995</td>\n",
       "      <td>0.764929</td>\n",
       "      <td>0.138424</td>\n",
       "      <td>0.935242</td>\n",
       "      <td>0.605867</td>\n",
       "      <td>0.518790</td>\n",
       "      <td>0.912225</td>\n",
       "      <td>0.608234</td>\n",
       "      <td>0.723782</td>\n",
       "      <td>0.733591</td>\n",
       "    </tr>\n",
       "    <tr>\n",
       "      <th>1</th>\n",
       "      <td>0.546092</td>\n",
       "      <td>0.653975</td>\n",
       "      <td>0.065575</td>\n",
       "      <td>0.227772</td>\n",
       "      <td>0.845269</td>\n",
       "      <td>0.837066</td>\n",
       "      <td>0.272379</td>\n",
       "      <td>0.331679</td>\n",
       "      <td>0.429297</td>\n",
       "      <td>0.367422</td>\n",
       "    </tr>\n",
       "    <tr>\n",
       "      <th>2</th>\n",
       "      <td>0.336714</td>\n",
       "      <td>0.538842</td>\n",
       "      <td>0.192801</td>\n",
       "      <td>0.553563</td>\n",
       "      <td>0.074515</td>\n",
       "      <td>0.332993</td>\n",
       "      <td>0.365792</td>\n",
       "      <td>0.861309</td>\n",
       "      <td>0.899017</td>\n",
       "      <td>0.088600</td>\n",
       "    </tr>\n",
       "    <tr>\n",
       "      <th>3</th>\n",
       "      <td>0.092108</td>\n",
       "      <td>0.995017</td>\n",
       "      <td>0.014465</td>\n",
       "      <td>0.176371</td>\n",
       "      <td>0.241530</td>\n",
       "      <td>0.514724</td>\n",
       "      <td>0.562208</td>\n",
       "      <td>0.158963</td>\n",
       "      <td>0.073715</td>\n",
       "      <td>0.208463</td>\n",
       "    </tr>\n",
       "    <tr>\n",
       "      <th>4</th>\n",
       "      <td>0.325261</td>\n",
       "      <td>0.805968</td>\n",
       "      <td>0.957033</td>\n",
       "      <td>0.331665</td>\n",
       "      <td>0.307923</td>\n",
       "      <td>0.355315</td>\n",
       "      <td>0.501899</td>\n",
       "      <td>0.558449</td>\n",
       "      <td>0.885169</td>\n",
       "      <td>0.182754</td>\n",
       "    </tr>\n",
       "  </tbody>\n",
       "</table>\n",
       "</div>"
      ],
      "text/plain": [
       "       Col1      Col2      Col3      Col4      Col5      Col6      Col7  \\\n",
       "0  0.263995  0.764929  0.138424  0.935242  0.605867  0.518790  0.912225   \n",
       "1  0.546092  0.653975  0.065575  0.227772  0.845269  0.837066  0.272379   \n",
       "2  0.336714  0.538842  0.192801  0.553563  0.074515  0.332993  0.365792   \n",
       "3  0.092108  0.995017  0.014465  0.176371  0.241530  0.514724  0.562208   \n",
       "4  0.325261  0.805968  0.957033  0.331665  0.307923  0.355315  0.501899   \n",
       "\n",
       "       Col8      Col9     Col10  \n",
       "0  0.608234  0.723782  0.733591  \n",
       "1  0.331679  0.429297  0.367422  \n",
       "2  0.861309  0.899017  0.088600  \n",
       "3  0.158963  0.073715  0.208463  \n",
       "4  0.558449  0.885169  0.182754  "
      ]
     },
     "metadata": {},
     "output_type": "display_data"
    }
   ],
   "source": [
    "# load sample dataset\n",
    "from pycaret.datasets import get_data\n",
    "data = get_data('anomaly')"
   ]
  },
  {
   "cell_type": "code",
   "execution_count": 37,
   "id": "30f36e97",
   "metadata": {},
   "outputs": [
    {
     "data": {
      "text/html": [
       "<style type=\"text/css\">\n",
       "#T_b659d_row4_col1 {\n",
       "  background-color: lightgreen;\n",
       "}\n",
       "</style>\n",
       "<table id=\"T_b659d\">\n",
       "  <thead>\n",
       "    <tr>\n",
       "      <th class=\"blank level0\" >&nbsp;</th>\n",
       "      <th id=\"T_b659d_level0_col0\" class=\"col_heading level0 col0\" >Description</th>\n",
       "      <th id=\"T_b659d_level0_col1\" class=\"col_heading level0 col1\" >Value</th>\n",
       "    </tr>\n",
       "  </thead>\n",
       "  <tbody>\n",
       "    <tr>\n",
       "      <th id=\"T_b659d_level0_row0\" class=\"row_heading level0 row0\" >0</th>\n",
       "      <td id=\"T_b659d_row0_col0\" class=\"data row0 col0\" >Session id</td>\n",
       "      <td id=\"T_b659d_row0_col1\" class=\"data row0 col1\" >123</td>\n",
       "    </tr>\n",
       "    <tr>\n",
       "      <th id=\"T_b659d_level0_row1\" class=\"row_heading level0 row1\" >1</th>\n",
       "      <td id=\"T_b659d_row1_col0\" class=\"data row1 col0\" >Original data shape</td>\n",
       "      <td id=\"T_b659d_row1_col1\" class=\"data row1 col1\" >(1000, 10)</td>\n",
       "    </tr>\n",
       "    <tr>\n",
       "      <th id=\"T_b659d_level0_row2\" class=\"row_heading level0 row2\" >2</th>\n",
       "      <td id=\"T_b659d_row2_col0\" class=\"data row2 col0\" >Transformed data shape</td>\n",
       "      <td id=\"T_b659d_row2_col1\" class=\"data row2 col1\" >(1000, 10)</td>\n",
       "    </tr>\n",
       "    <tr>\n",
       "      <th id=\"T_b659d_level0_row3\" class=\"row_heading level0 row3\" >3</th>\n",
       "      <td id=\"T_b659d_row3_col0\" class=\"data row3 col0\" >Numeric features</td>\n",
       "      <td id=\"T_b659d_row3_col1\" class=\"data row3 col1\" >10</td>\n",
       "    </tr>\n",
       "    <tr>\n",
       "      <th id=\"T_b659d_level0_row4\" class=\"row_heading level0 row4\" >4</th>\n",
       "      <td id=\"T_b659d_row4_col0\" class=\"data row4 col0\" >Preprocess</td>\n",
       "      <td id=\"T_b659d_row4_col1\" class=\"data row4 col1\" >True</td>\n",
       "    </tr>\n",
       "    <tr>\n",
       "      <th id=\"T_b659d_level0_row5\" class=\"row_heading level0 row5\" >5</th>\n",
       "      <td id=\"T_b659d_row5_col0\" class=\"data row5 col0\" >Imputation type</td>\n",
       "      <td id=\"T_b659d_row5_col1\" class=\"data row5 col1\" >simple</td>\n",
       "    </tr>\n",
       "    <tr>\n",
       "      <th id=\"T_b659d_level0_row6\" class=\"row_heading level0 row6\" >6</th>\n",
       "      <td id=\"T_b659d_row6_col0\" class=\"data row6 col0\" >Numeric imputation</td>\n",
       "      <td id=\"T_b659d_row6_col1\" class=\"data row6 col1\" >mean</td>\n",
       "    </tr>\n",
       "    <tr>\n",
       "      <th id=\"T_b659d_level0_row7\" class=\"row_heading level0 row7\" >7</th>\n",
       "      <td id=\"T_b659d_row7_col0\" class=\"data row7 col0\" >Categorical imputation</td>\n",
       "      <td id=\"T_b659d_row7_col1\" class=\"data row7 col1\" >mode</td>\n",
       "    </tr>\n",
       "    <tr>\n",
       "      <th id=\"T_b659d_level0_row8\" class=\"row_heading level0 row8\" >8</th>\n",
       "      <td id=\"T_b659d_row8_col0\" class=\"data row8 col0\" >CPU Jobs</td>\n",
       "      <td id=\"T_b659d_row8_col1\" class=\"data row8 col1\" >-1</td>\n",
       "    </tr>\n",
       "    <tr>\n",
       "      <th id=\"T_b659d_level0_row9\" class=\"row_heading level0 row9\" >9</th>\n",
       "      <td id=\"T_b659d_row9_col0\" class=\"data row9 col0\" >Use GPU</td>\n",
       "      <td id=\"T_b659d_row9_col1\" class=\"data row9 col1\" >False</td>\n",
       "    </tr>\n",
       "    <tr>\n",
       "      <th id=\"T_b659d_level0_row10\" class=\"row_heading level0 row10\" >10</th>\n",
       "      <td id=\"T_b659d_row10_col0\" class=\"data row10 col0\" >Log Experiment</td>\n",
       "      <td id=\"T_b659d_row10_col1\" class=\"data row10 col1\" >False</td>\n",
       "    </tr>\n",
       "    <tr>\n",
       "      <th id=\"T_b659d_level0_row11\" class=\"row_heading level0 row11\" >11</th>\n",
       "      <td id=\"T_b659d_row11_col0\" class=\"data row11 col0\" >Experiment Name</td>\n",
       "      <td id=\"T_b659d_row11_col1\" class=\"data row11 col1\" >anomaly-default-name</td>\n",
       "    </tr>\n",
       "    <tr>\n",
       "      <th id=\"T_b659d_level0_row12\" class=\"row_heading level0 row12\" >12</th>\n",
       "      <td id=\"T_b659d_row12_col0\" class=\"data row12 col0\" >USI</td>\n",
       "      <td id=\"T_b659d_row12_col1\" class=\"data row12 col1\" >fad9</td>\n",
       "    </tr>\n",
       "  </tbody>\n",
       "</table>\n"
      ],
      "text/plain": [
       "<pandas.io.formats.style.Styler at 0x3275e68b0>"
      ]
     },
     "metadata": {},
     "output_type": "display_data"
    },
    {
     "data": {
      "text/plain": [
       "<pycaret.anomaly.oop.AnomalyExperiment at 0x324735e20>"
      ]
     },
     "execution_count": 37,
     "metadata": {},
     "output_type": "execute_result"
    }
   ],
   "source": [
    "from pycaret.anomaly import AnomalyExperiment\n",
    "s = AnomalyExperiment()\n",
    "s.setup(data, session_id = 123)"
   ]
  },
  {
   "cell_type": "code",
   "execution_count": 38,
   "id": "4ebc2491",
   "metadata": {},
   "outputs": [
    {
     "data": {
      "text/html": [],
      "text/plain": [
       "<IPython.core.display.HTML object>"
      ]
     },
     "metadata": {},
     "output_type": "display_data"
    },
    {
     "data": {
      "text/html": [],
      "text/plain": [
       "<IPython.core.display.HTML object>"
      ]
     },
     "metadata": {},
     "output_type": "display_data"
    },
    {
     "data": {
      "text/html": [],
      "text/plain": [
       "<IPython.core.display.HTML object>"
      ]
     },
     "metadata": {},
     "output_type": "display_data"
    },
    {
     "name": "stdout",
     "output_type": "stream",
     "text": [
      "IForest(behaviour='new', bootstrap=False, contamination=0.05,\n",
      "    max_features=1.0, max_samples='auto', n_estimators=100, n_jobs=-1,\n",
      "    random_state=123, verbose=0)\n"
     ]
    }
   ],
   "source": [
    "# OOP API\n",
    "iforest = s.create_model('iforest')\n",
    "print(iforest)"
   ]
  },
  {
   "cell_type": "code",
   "execution_count": 39,
   "id": "fb9a281e",
   "metadata": {},
   "outputs": [
    {
     "data": {
      "application/vnd.microsoft.datawrangler.viewer.v0+json": {
       "columns": [
        {
         "name": "ID",
         "rawType": "object",
         "type": "string"
        },
        {
         "name": "Name",
         "rawType": "object",
         "type": "string"
        },
        {
         "name": "Reference",
         "rawType": "object",
         "type": "string"
        }
       ],
       "ref": "45732240-df84-4930-90f1-5c6781e8d2b7",
       "rows": [
        [
         "abod",
         "Angle-base Outlier Detection",
         "pyod.models.abod.ABOD"
        ],
        [
         "cluster",
         "Clustering-Based Local Outlier",
         "pycaret.internal.patches.pyod.CBLOFForceToDouble"
        ],
        [
         "cof",
         "Connectivity-Based Local Outlier",
         "pyod.models.cof.COF"
        ],
        [
         "iforest",
         "Isolation Forest",
         "pyod.models.iforest.IForest"
        ],
        [
         "histogram",
         "Histogram-based Outlier Detection",
         "pyod.models.hbos.HBOS"
        ],
        [
         "knn",
         "K-Nearest Neighbors Detector",
         "pyod.models.knn.KNN"
        ],
        [
         "lof",
         "Local Outlier Factor",
         "pyod.models.lof.LOF"
        ],
        [
         "svm",
         "One-class SVM detector",
         "pyod.models.ocsvm.OCSVM"
        ],
        [
         "pca",
         "Principal Component Analysis",
         "pyod.models.pca.PCA"
        ],
        [
         "mcd",
         "Minimum Covariance Determinant",
         "pyod.models.mcd.MCD"
        ],
        [
         "sod",
         "Subspace Outlier Detection",
         "pyod.models.sod.SOD"
        ],
        [
         "sos",
         "Stochastic Outlier Selection",
         "pyod.models.sos.SOS"
        ]
       ],
       "shape": {
        "columns": 2,
        "rows": 12
       }
      },
      "text/html": [
       "<div>\n",
       "<style scoped>\n",
       "    .dataframe tbody tr th:only-of-type {\n",
       "        vertical-align: middle;\n",
       "    }\n",
       "\n",
       "    .dataframe tbody tr th {\n",
       "        vertical-align: top;\n",
       "    }\n",
       "\n",
       "    .dataframe thead th {\n",
       "        text-align: right;\n",
       "    }\n",
       "</style>\n",
       "<table border=\"1\" class=\"dataframe\">\n",
       "  <thead>\n",
       "    <tr style=\"text-align: right;\">\n",
       "      <th></th>\n",
       "      <th>Name</th>\n",
       "      <th>Reference</th>\n",
       "    </tr>\n",
       "    <tr>\n",
       "      <th>ID</th>\n",
       "      <th></th>\n",
       "      <th></th>\n",
       "    </tr>\n",
       "  </thead>\n",
       "  <tbody>\n",
       "    <tr>\n",
       "      <th>abod</th>\n",
       "      <td>Angle-base Outlier Detection</td>\n",
       "      <td>pyod.models.abod.ABOD</td>\n",
       "    </tr>\n",
       "    <tr>\n",
       "      <th>cluster</th>\n",
       "      <td>Clustering-Based Local Outlier</td>\n",
       "      <td>pycaret.internal.patches.pyod.CBLOFForceToDouble</td>\n",
       "    </tr>\n",
       "    <tr>\n",
       "      <th>cof</th>\n",
       "      <td>Connectivity-Based Local Outlier</td>\n",
       "      <td>pyod.models.cof.COF</td>\n",
       "    </tr>\n",
       "    <tr>\n",
       "      <th>iforest</th>\n",
       "      <td>Isolation Forest</td>\n",
       "      <td>pyod.models.iforest.IForest</td>\n",
       "    </tr>\n",
       "    <tr>\n",
       "      <th>histogram</th>\n",
       "      <td>Histogram-based Outlier Detection</td>\n",
       "      <td>pyod.models.hbos.HBOS</td>\n",
       "    </tr>\n",
       "    <tr>\n",
       "      <th>knn</th>\n",
       "      <td>K-Nearest Neighbors Detector</td>\n",
       "      <td>pyod.models.knn.KNN</td>\n",
       "    </tr>\n",
       "    <tr>\n",
       "      <th>lof</th>\n",
       "      <td>Local Outlier Factor</td>\n",
       "      <td>pyod.models.lof.LOF</td>\n",
       "    </tr>\n",
       "    <tr>\n",
       "      <th>svm</th>\n",
       "      <td>One-class SVM detector</td>\n",
       "      <td>pyod.models.ocsvm.OCSVM</td>\n",
       "    </tr>\n",
       "    <tr>\n",
       "      <th>pca</th>\n",
       "      <td>Principal Component Analysis</td>\n",
       "      <td>pyod.models.pca.PCA</td>\n",
       "    </tr>\n",
       "    <tr>\n",
       "      <th>mcd</th>\n",
       "      <td>Minimum Covariance Determinant</td>\n",
       "      <td>pyod.models.mcd.MCD</td>\n",
       "    </tr>\n",
       "    <tr>\n",
       "      <th>sod</th>\n",
       "      <td>Subspace Outlier Detection</td>\n",
       "      <td>pyod.models.sod.SOD</td>\n",
       "    </tr>\n",
       "    <tr>\n",
       "      <th>sos</th>\n",
       "      <td>Stochastic Outlier Selection</td>\n",
       "      <td>pyod.models.sos.SOS</td>\n",
       "    </tr>\n",
       "  </tbody>\n",
       "</table>\n",
       "</div>"
      ],
      "text/plain": [
       "                                        Name  \\\n",
       "ID                                             \n",
       "abod            Angle-base Outlier Detection   \n",
       "cluster       Clustering-Based Local Outlier   \n",
       "cof         Connectivity-Based Local Outlier   \n",
       "iforest                     Isolation Forest   \n",
       "histogram  Histogram-based Outlier Detection   \n",
       "knn             K-Nearest Neighbors Detector   \n",
       "lof                     Local Outlier Factor   \n",
       "svm                   One-class SVM detector   \n",
       "pca             Principal Component Analysis   \n",
       "mcd           Minimum Covariance Determinant   \n",
       "sod               Subspace Outlier Detection   \n",
       "sos             Stochastic Outlier Selection   \n",
       "\n",
       "                                                  Reference  \n",
       "ID                                                           \n",
       "abod                                  pyod.models.abod.ABOD  \n",
       "cluster    pycaret.internal.patches.pyod.CBLOFForceToDouble  \n",
       "cof                                     pyod.models.cof.COF  \n",
       "iforest                         pyod.models.iforest.IForest  \n",
       "histogram                             pyod.models.hbos.HBOS  \n",
       "knn                                     pyod.models.knn.KNN  \n",
       "lof                                     pyod.models.lof.LOF  \n",
       "svm                                 pyod.models.ocsvm.OCSVM  \n",
       "pca                                     pyod.models.pca.PCA  \n",
       "mcd                                     pyod.models.mcd.MCD  \n",
       "sod                                     pyod.models.sod.SOD  \n",
       "sos                                     pyod.models.sos.SOS  "
      ]
     },
     "execution_count": 39,
     "metadata": {},
     "output_type": "execute_result"
    }
   ],
   "source": [
    "# OOP API\n",
    "s.models()"
   ]
  },
  {
   "cell_type": "code",
   "execution_count": 40,
   "id": "84c0e28e",
   "metadata": {},
   "outputs": [
    {
     "data": {
      "text/html": [],
      "text/plain": [
       "<IPython.core.display.HTML object>"
      ]
     },
     "metadata": {},
     "output_type": "display_data"
    },
    {
     "data": {
      "application/vnd.plotly.v1+json": {
       "config": {
        "plotlyServerURL": "https://plot.ly"
       },
       "data": [
        {
         "customdata": [
          [
           0.26399535
          ],
          [
           0.54609233
          ],
          [
           0.33671412
          ],
          [
           0.09210783
          ],
          [
           0.32526118
          ],
          [
           0.21246485
          ],
          [
           0.25856572
          ],
          [
           0.86923677
          ],
          [
           0.19707796
          ],
          [
           0.29298452
          ],
          [
           0.8217832
          ],
          [
           0.79662293
          ],
          [
           0.045577012
          ],
          [
           0.61366034
          ],
          [
           0.95074457
          ],
          [
           0.33634633
          ],
          [
           0.034440666
          ],
          [
           0.74154425
          ],
          [
           0.18443266
          ],
          [
           0.66451496
          ],
          [
           0.16282485
          ],
          [
           0.72983843
          ],
          [
           0.62837386
          ],
          [
           0.05788366
          ],
          [
           0.44553483
          ],
          [
           0.80183697
          ],
          [
           0.27709612
          ],
          [
           0.22863401
          ],
          [
           0.8348607
          ],
          [
           0.6697665
          ],
          [
           0.5325273
          ],
          [
           0.17045908
          ],
          [
           0.5102885
          ],
          [
           0.977562
          ],
          [
           0.24977599
          ],
          [
           0.9755007
          ],
          [
           0.6137017
          ],
          [
           0.16742036
          ],
          [
           0.5374725
          ],
          [
           0.37989914
          ],
          [
           0.6338973
          ],
          [
           0.6339604
          ],
          [
           0.5499747
          ],
          [
           0.17817299
          ],
          [
           0.85563815
          ],
          [
           0.3217967
          ],
          [
           0.8174905
          ],
          [
           0.25487942
          ],
          [
           0.3441405
          ],
          [
           0.8061457
          ],
          [
           0.27708167
          ],
          [
           0.5443285
          ],
          [
           0.07708393
          ],
          [
           0.27308145
          ],
          [
           0.39087734
          ],
          [
           0.3496214
          ],
          [
           0.21454975
          ],
          [
           0.20607522
          ],
          [
           0.86462
          ],
          [
           0.9817088
          ],
          [
           0.33482966
          ],
          [
           0.6483871
          ],
          [
           0.09364356
          ],
          [
           0.8378027
          ],
          [
           0.76034397
          ],
          [
           0.2914042
          ],
          [
           0.3413454
          ],
          [
           0.7611125
          ],
          [
           0.5418998
          ],
          [
           0.6841766
          ],
          [
           0.9835356
          ],
          [
           0.52081245
          ],
          [
           0.32822773
          ],
          [
           0.09715794
          ],
          [
           0.8760886
          ],
          [
           0.8702145
          ],
          [
           0.656087
          ],
          [
           0.3067915
          ],
          [
           0.48126733
          ],
          [
           0.25955918
          ],
          [
           0.32612365
          ],
          [
           0.93056804
          ],
          [
           0.6583894
          ],
          [
           0.6899923
          ],
          [
           0.31578112
          ],
          [
           0.5669051
          ],
          [
           0.63752663
          ],
          [
           0.6875407
          ],
          [
           0.3243006
          ],
          [
           0.5927049
          ],
          [
           0.74025315
          ],
          [
           0.5940329
          ],
          [
           0.59645295
          ],
          [
           0.2776808
          ],
          [
           0.25832966
          ],
          [
           0.14246087
          ],
          [
           0.43553346
          ],
          [
           0.70249903
          ],
          [
           0.58897537
          ],
          [
           0.6533044
          ],
          [
           0.3369685
          ],
          [
           0.6312447
          ],
          [
           0.7353008
          ],
          [
           0.050390366
          ],
          [
           0.06426492
          ],
          [
           0.6653595
          ],
          [
           0.91783524
          ],
          [
           0.4465101
          ],
          [
           0.6619382
          ],
          [
           0.43935984
          ],
          [
           0.6875724
          ],
          [
           0.36346224
          ],
          [
           0.6542622
          ],
          [
           0.57855356
          ],
          [
           0.065927945
          ],
          [
           0.55014855
          ],
          [
           0.13918282
          ],
          [
           0.08000463
          ],
          [
           0.27822837
          ],
          [
           0.5601243
          ],
          [
           0.53639865
          ],
          [
           0.4265319
          ],
          [
           0.78910977
          ],
          [
           0.7429005
          ],
          [
           0.90169257
          ],
          [
           0.6503374
          ],
          [
           0.11405731
          ],
          [
           0.26081258
          ],
          [
           0.43991232
          ],
          [
           0.9644093
          ],
          [
           0.18440141
          ],
          [
           0.34514543
          ],
          [
           0.17589459
          ],
          [
           0.31251445
          ],
          [
           0.6741319
          ],
          [
           0.32825044
          ],
          [
           0.5982311
          ],
          [
           0.09259882
          ],
          [
           0.49791652
          ],
          [
           0.41977653
          ],
          [
           0.3121767
          ],
          [
           0.9378571
          ],
          [
           0.049030963
          ],
          [
           0.47610453
          ],
          [
           0.44739753
          ],
          [
           0.29580605
          ],
          [
           0.737364
          ],
          [
           0.6258963
          ],
          [
           0.40881342
          ],
          [
           0.43751115
          ],
          [
           0.69135135
          ],
          [
           0.9355553
          ],
          [
           0.43784666
          ],
          [
           0.07221772
          ],
          [
           0.67636067
          ],
          [
           0.468884
          ],
          [
           0.5438206
          ],
          [
           0.65552264
          ],
          [
           0.69352895
          ],
          [
           0.108878314
          ],
          [
           0.28546375
          ],
          [
           0
          ],
          [
           0.7064955
          ],
          [
           0.27353063
          ],
          [
           0.29232028
          ],
          [
           0.6739843
          ],
          [
           0.12612183
          ],
          [
           0.9467075
          ],
          [
           0.9363389
          ],
          [
           0.85375535
          ],
          [
           0.7060714
          ],
          [
           0.6936822
          ],
          [
           0.5085279
          ],
          [
           0.34717038
          ],
          [
           0.70415425
          ],
          [
           0.6587301
          ],
          [
           0.15584156
          ],
          [
           0.31108543
          ],
          [
           0.28113535
          ],
          [
           0.0945878
          ],
          [
           0.683261
          ],
          [
           0.90772927
          ],
          [
           0.29151267
          ],
          [
           0.7527345
          ],
          [
           0.93482965
          ],
          [
           0.07141396
          ],
          [
           0.5948963
          ],
          [
           0.40467203
          ],
          [
           0.1383762
          ],
          [
           0.7473385
          ],
          [
           0.5308825
          ],
          [
           0.2826496
          ],
          [
           0.69933575
          ],
          [
           0.05611125
          ],
          [
           0.855235
          ],
          [
           0.07789513
          ],
          [
           0.8916496
          ],
          [
           0.3867423
          ],
          [
           0.27113158
          ],
          [
           0.95888895
          ],
          [
           0.08512087
          ],
          [
           0.52690226
          ],
          [
           0.066577785
          ],
          [
           0.8415067
          ],
          [
           0.2553421
          ],
          [
           0.060545772
          ],
          [
           0.07338587
          ],
          [
           0.18749373
          ],
          [
           0.8583657
          ],
          [
           0.09064035
          ],
          [
           0.7097252
          ],
          [
           0.6313006
          ],
          [
           0.24750447
          ],
          [
           0.8228436
          ],
          [
           0.37347677
          ],
          [
           0.6255386
          ],
          [
           0.2929517
          ],
          [
           0.29973033
          ],
          [
           0.25121406
          ],
          [
           0.34448054
          ],
          [
           0.29306477
          ],
          [
           0.7628032
          ],
          [
           0.7384708
          ],
          [
           0.67488325
          ],
          [
           0.7191516
          ],
          [
           0.13098022
          ],
          [
           0.51132804
          ],
          [
           0.04492903
          ],
          [
           0.56091446
          ],
          [
           0.74404067
          ],
          [
           0.26696163
          ],
          [
           0.64423186
          ],
          [
           0.038113352
          ],
          [
           0.0571553
          ],
          [
           0.34139246
          ],
          [
           0.72046363
          ],
          [
           0.40287822
          ],
          [
           0.63514894
          ],
          [
           0.32072946
          ],
          [
           0.091209695
          ],
          [
           0.23414609
          ],
          [
           0.8902211
          ],
          [
           0.6021709
          ],
          [
           0.63365203
          ],
          [
           0.80624086
          ],
          [
           0.7397312
          ],
          [
           0.46523127
          ],
          [
           0.7321109
          ],
          [
           0.3738743
          ],
          [
           0.5015879
          ],
          [
           0.115383156
          ],
          [
           0.7319466
          ],
          [
           0.41829872
          ],
          [
           0.062259592
          ],
          [
           0.3914964
          ],
          [
           0.3598493
          ],
          [
           0.24523562
          ],
          [
           0.6100283
          ],
          [
           0.43540362
          ],
          [
           0.43430966
          ],
          [
           0.52376336
          ],
          [
           0.17118786
          ],
          [
           0.1877343
          ],
          [
           0.94501466
          ],
          [
           0.027851097
          ],
          [
           0.68445706
          ],
          [
           0.17801453
          ],
          [
           0.6434279
          ],
          [
           0.59588355
          ],
          [
           0.3723617
          ],
          [
           0.58610356
          ],
          [
           0.27165884
          ],
          [
           0.5995111
          ],
          [
           0.46836308
          ],
          [
           0.31451556
          ],
          [
           0.21893726
          ],
          [
           0.25471658
          ],
          [
           0.25612816
          ],
          [
           0.60225976
          ],
          [
           0.13438107
          ],
          [
           0.5138874
          ],
          [
           0.62424165
          ],
          [
           0.16025186
          ],
          [
           0.5807081
          ],
          [
           0.27054048
          ],
          [
           0.83291996
          ],
          [
           0.93032134
          ],
          [
           0.7191579
          ],
          [
           0.88672006
          ],
          [
           0.09879228
          ],
          [
           0.7871743
          ],
          [
           0.3655924
          ],
          [
           0.7195762
          ],
          [
           0.8058956
          ],
          [
           0.75557834
          ],
          [
           0.5260059
          ],
          [
           0.68880427
          ],
          [
           0.2211153
          ],
          [
           0.73936945
          ],
          [
           0.40844023
          ],
          [
           0.34892654
          ],
          [
           0.43371376
          ],
          [
           0.5964966
          ],
          [
           0.6942953
          ],
          [
           0.709031
          ],
          [
           0.867653
          ],
          [
           0.89332545
          ],
          [
           0.7460209
          ],
          [
           0.5382844
          ],
          [
           0.8922193
          ],
          [
           0.9351758
          ],
          [
           0.2605277
          ],
          [
           0.95678043
          ],
          [
           0.20493248
          ],
          [
           0.68773335
          ],
          [
           0.32906362
          ],
          [
           0.6321498
          ],
          [
           0.4637445
          ],
          [
           0.69885963
          ],
          [
           0.38544658
          ],
          [
           0.47997537
          ],
          [
           0.7322791
          ],
          [
           0.3813543
          ],
          [
           0.459326
          ],
          [
           0.25740144
          ],
          [
           0.6650148
          ],
          [
           0.103399545
          ],
          [
           0.42528442
          ],
          [
           0.94352907
          ],
          [
           0.5947502
          ],
          [
           0.5437768
          ],
          [
           0.18203989
          ],
          [
           0.23584208
          ],
          [
           0.58598447
          ],
          [
           0.7620132
          ],
          [
           0.6849829
          ],
          [
           0.6769369
          ],
          [
           0.29018497
          ],
          [
           0.48106822
          ],
          [
           0.49276602
          ],
          [
           0.22185624
          ],
          [
           0.053875998
          ],
          [
           0.08275115
          ],
          [
           0.38536623
          ],
          [
           0.70251393
          ],
          [
           0.9155316
          ],
          [
           0.082087435
          ],
          [
           0.25128037
          ],
          [
           0.41672182
          ],
          [
           0.27703267
          ],
          [
           0.5795398
          ],
          [
           0.5693635
          ],
          [
           0.13339971
          ],
          [
           0.26504546
          ],
          [
           0.9365719
          ],
          [
           0.25261855
          ],
          [
           0.054033082
          ],
          [
           0.8024814
          ],
          [
           0.5281977
          ],
          [
           0.9515026
          ],
          [
           0.57212114
          ],
          [
           0.7529382
          ],
          [
           0.14385754
          ],
          [
           0.5134846
          ],
          [
           0.3133224
          ],
          [
           0.68779737
          ],
          [
           0.37705985
          ],
          [
           0.34822613
          ],
          [
           0.6776328
          ],
          [
           0.24138752
          ],
          [
           0.8506502
          ],
          [
           0.2203481
          ],
          [
           0.47644547
          ],
          [
           0.690324
          ],
          [
           0.36469594
          ],
          [
           0.6492492
          ],
          [
           0.9437019
          ],
          [
           0.529646
          ],
          [
           0.299097
          ],
          [
           0.96696246
          ],
          [
           0.27200523
          ],
          [
           0.31416145
          ],
          [
           0.752021
          ],
          [
           0.22188245
          ],
          [
           0.7203327
          ],
          [
           0.37920478
          ],
          [
           0.60168654
          ],
          [
           0.58293265
          ],
          [
           0.95080984
          ],
          [
           0.5883014
          ],
          [
           0.8808872
          ],
          [
           0.4678577
          ],
          [
           0.8799022
          ],
          [
           0.619844
          ],
          [
           0.35900256
          ],
          [
           0.29151127
          ],
          [
           0.6941571
          ],
          [
           0.72796035
          ],
          [
           0.6177039
          ],
          [
           0.39581257
          ],
          [
           0.5831728
          ],
          [
           0.7103324
          ],
          [
           0.2537537
          ],
          [
           0.04941223
          ],
          [
           0.7283787
          ],
          [
           0.4324329
          ],
          [
           0.58612347
          ],
          [
           0.052342374
          ],
          [
           0.053483903
          ],
          [
           0.5187294
          ],
          [
           0.9330402
          ],
          [
           0.7035543
          ],
          [
           0.2689899
          ],
          [
           0.73300695
          ],
          [
           0.44435248
          ],
          [
           0.58339465
          ],
          [
           0.87117267
          ],
          [
           0.42876709
          ],
          [
           0.30046085
          ],
          [
           0.95332944
          ],
          [
           0.60644394
          ],
          [
           0.9098681
          ],
          [
           0.71489644
          ],
          [
           0.4973495
          ],
          [
           0.8530975
          ],
          [
           0.72180414
          ],
          [
           0.30346733
          ],
          [
           0.6644851
          ],
          [
           0.27978063
          ],
          [
           0.5694817
          ],
          [
           0.6286289
          ],
          [
           0.088368125
          ],
          [
           0.7335673
          ],
          [
           0.5374368
          ],
          [
           0.6385937
          ],
          [
           0.95472693
          ],
          [
           0.6322023
          ],
          [
           0.64213467
          ],
          [
           0.7446531
          ],
          [
           0.115714006
          ],
          [
           0.48625007
          ],
          [
           0.44035614
          ],
          [
           0.08272289
          ],
          [
           0.511591
          ],
          [
           0.39462754
          ],
          [
           0.224394
          ],
          [
           0.62692755
          ],
          [
           0.29025406
          ],
          [
           0.77900803
          ],
          [
           0.8661058
          ],
          [
           0.87332606
          ],
          [
           0.49548915
          ],
          [
           0.5942977
          ],
          [
           0.91820157
          ],
          [
           0.57704276
          ],
          [
           0.01946767
          ],
          [
           0.6702983
          ],
          [
           0.54659534
          ],
          [
           0.59166515
          ],
          [
           0.4215582
          ],
          [
           0.68560857
          ],
          [
           0.34030303
          ],
          [
           0.67562675
          ],
          [
           0.31906736
          ],
          [
           0.38849968
          ],
          [
           0.7069496
          ],
          [
           0.5594095
          ],
          [
           0.6876635
          ],
          [
           0.70880455
          ],
          [
           0.6818881
          ],
          [
           0.42253512
          ],
          [
           0.3200046
          ],
          [
           0.6582814
          ],
          [
           0.63415486
          ],
          [
           0.777332
          ],
          [
           0.8126772
          ],
          [
           0.0742808
          ],
          [
           0.39600217
          ],
          [
           0.054933913
          ],
          [
           0.82505894
          ],
          [
           0.382642
          ],
          [
           0.8687298
          ],
          [
           0.58804333
          ],
          [
           0.89155155
          ],
          [
           0.10920046
          ],
          [
           0.6476828
          ],
          [
           0.7243425
          ],
          [
           0.07016304
          ],
          [
           0.28088206
          ],
          [
           0.03911326
          ],
          [
           0.5796416
          ],
          [
           0.6390009
          ],
          [
           0.2817459
          ],
          [
           0.6478577
          ],
          [
           0.6479058
          ],
          [
           0.87522626
          ],
          [
           0.5676033
          ],
          [
           0.2629406
          ],
          [
           0.26802605
          ],
          [
           0.40519133
          ],
          [
           0.47996545
          ],
          [
           0.33552402
          ],
          [
           0.77716535
          ],
          [
           0.42548797
          ],
          [
           0.23798612
          ],
          [
           0.14252298
          ],
          [
           0.72417647
          ],
          [
           0.23469894
          ],
          [
           0.07818228
          ],
          [
           0.8559902
          ],
          [
           0.27025175
          ],
          [
           0.43551785
          ],
          [
           0.7626975
          ],
          [
           0.46448725
          ],
          [
           0.39611268
          ],
          [
           0.37638092
          ],
          [
           0.29459468
          ],
          [
           0.6944921
          ],
          [
           0.6227679
          ],
          [
           0.84755975
          ],
          [
           0.30146307
          ],
          [
           0.9129378
          ],
          [
           0.50001717
          ],
          [
           0.90258795
          ],
          [
           0.30451795
          ],
          [
           0.29916567
          ],
          [
           0.09201409
          ],
          [
           0.4885489
          ],
          [
           0.66466445
          ],
          [
           0.26534954
          ],
          [
           0.723657
          ],
          [
           0.14926238
          ],
          [
           0.04577339
          ],
          [
           0.6966106
          ],
          [
           0.42181486
          ],
          [
           0.7338458
          ],
          [
           0.41879538
          ],
          [
           0.6774435
          ],
          [
           0.2612836
          ],
          [
           0.26852778
          ],
          [
           0.54432225
          ],
          [
           0.43163204
          ],
          [
           0.9810181
          ],
          [
           0.21498072
          ],
          [
           0.39473
          ],
          [
           0.12222494
          ],
          [
           0.29749689
          ],
          [
           0.37490442
          ],
          [
           0.6869877
          ],
          [
           0.3885492
          ],
          [
           0.039296072
          ],
          [
           0.73553425
          ],
          [
           0.3792949
          ],
          [
           0.7321234
          ],
          [
           0.33922145
          ],
          [
           0.6594506
          ],
          [
           0.054838642
          ],
          [
           0.6401121
          ],
          [
           0.3071417
          ],
          [
           0.3966119
          ],
          [
           0.42043915
          ],
          [
           0.24171497
          ],
          [
           0.06589315
          ],
          [
           0.9105219
          ],
          [
           0.6971631
          ],
          [
           0.072559856
          ],
          [
           0.81825095
          ],
          [
           0.3118888
          ],
          [
           0.9616446
          ],
          [
           0.81632555
          ],
          [
           0.14647302
          ],
          [
           0.5487539
          ],
          [
           0.9461581
          ],
          [
           0.29399273
          ],
          [
           0.33147964
          ],
          [
           0.90622
          ],
          [
           0.5255404
          ],
          [
           0.83301413
          ],
          [
           0.5148498
          ],
          [
           0.57460904
          ],
          [
           0.46871185
          ],
          [
           0.71002775
          ],
          [
           0.64597327
          ],
          [
           0.22979441
          ],
          [
           0.5517834
          ],
          [
           0.05582299
          ],
          [
           0.33175093
          ],
          [
           0.7155202
          ],
          [
           0.58392435
          ],
          [
           0.3069577
          ],
          [
           0.7914782
          ],
          [
           0.16423663
          ],
          [
           0.06571122
          ],
          [
           0.94899315
          ],
          [
           0.08042383
          ],
          [
           0.052495427
          ],
          [
           0.5663461
          ],
          [
           0.3630266
          ],
          [
           0.60544217
          ],
          [
           0.6308506
          ],
          [
           0.065791234
          ],
          [
           0.28681707
          ],
          [
           0.68546283
          ],
          [
           0.2608537
          ],
          [
           0.6591224
          ],
          [
           0.44317392
          ],
          [
           0.602064
          ],
          [
           0.06036691
          ],
          [
           0.78190315
          ],
          [
           0.51457983
          ],
          [
           0.4838862
          ],
          [
           0.6002138
          ],
          [
           0.49736404
          ],
          [
           0.41114524
          ],
          [
           0.11699917
          ],
          [
           0.34189013
          ],
          [
           0.74695086
          ],
          [
           0.39629275
          ],
          [
           0.62214386
          ],
          [
           0.33527115
          ],
          [
           0.14025714
          ],
          [
           0.08162068
          ],
          [
           0.06983757
          ],
          [
           0.46894002
          ],
          [
           0.9908574
          ],
          [
           0.8966168
          ],
          [
           0.25531057
          ],
          [
           0.22464527
          ],
          [
           0.01991825
          ],
          [
           0.29648042
          ],
          [
           0.155459
          ],
          [
           0.57791674
          ],
          [
           0.95630306
          ],
          [
           0.8134644
          ],
          [
           0.5296758
          ],
          [
           0.28767136
          ],
          [
           0.48039135
          ],
          [
           0.2810448
          ],
          [
           0.63319653
          ],
          [
           0.09332538
          ],
          [
           0.284474
          ],
          [
           0.052223776
          ],
          [
           0.051129386
          ],
          [
           0.9674056
          ],
          [
           0.040045727
          ],
          [
           0.9085829
          ],
          [
           0.6621174
          ],
          [
           0.4247032
          ],
          [
           0.7220781
          ],
          [
           0.6661933
          ],
          [
           0.5096812
          ],
          [
           0.7513536
          ],
          [
           0.27907312
          ],
          [
           0.074927
          ],
          [
           0.91635954
          ],
          [
           0.31040326
          ],
          [
           0.71660405
          ],
          [
           0.4855871
          ],
          [
           0.3060752
          ],
          [
           0.4775582
          ],
          [
           0.71192396
          ],
          [
           0.066348635
          ],
          [
           0.27453935
          ],
          [
           0.31082252
          ],
          [
           0.47607312
          ],
          [
           0.18679556
          ],
          [
           0.26654208
          ],
          [
           0.07023114
          ],
          [
           0.26951927
          ],
          [
           0.8000047
          ],
          [
           0.27363366
          ],
          [
           0.14647919
          ],
          [
           0.37831897
          ],
          [
           0.37384906
          ],
          [
           0.24217084
          ],
          [
           0.2497965
          ],
          [
           0.06659119
          ],
          [
           0.3729568
          ],
          [
           0.5018123
          ],
          [
           0.31309775
          ],
          [
           0.8802022
          ],
          [
           0.5198189
          ],
          [
           0.36413875
          ],
          [
           0.4926829
          ],
          [
           0.28573266
          ],
          [
           0.89011496
          ],
          [
           0.31641957
          ],
          [
           0.26866353
          ],
          [
           0.77197593
          ],
          [
           0.968889
          ],
          [
           0.08033438
          ],
          [
           0.7368282
          ],
          [
           0.30055806
          ],
          [
           0.9179504
          ],
          [
           0.46581504
          ],
          [
           0.05403668
          ],
          [
           0.96315014
          ],
          [
           0.0896535
          ],
          [
           0.7076932
          ],
          [
           0.636416
          ],
          [
           0.5395211
          ],
          [
           0.11475716
          ],
          [
           0.3573124
          ],
          [
           0.67639834
          ],
          [
           0.4348284
          ],
          [
           0.032326385
          ],
          [
           0.7113656
          ],
          [
           0.18748651
          ],
          [
           0.052789655
          ],
          [
           0.5058636
          ],
          [
           0.9274319
          ],
          [
           0.68098426
          ],
          [
           0.8828222
          ],
          [
           0.49570546
          ],
          [
           0.5962404
          ],
          [
           0.3206107
          ],
          [
           0.3413685
          ],
          [
           0.1596818
          ],
          [
           0.31813368
          ],
          [
           0.83930105
          ],
          [
           0.06435925
          ],
          [
           0.47021663
          ],
          [
           0.77625227
          ],
          [
           0.6358434
          ],
          [
           0.62510544
          ],
          [
           0.52959067
          ],
          [
           0.98690015
          ],
          [
           0.078585684
          ],
          [
           0.23328426
          ],
          [
           0.36333096
          ],
          [
           0.716717
          ],
          [
           0.37588978
          ],
          [
           0.2233169
          ],
          [
           0.29934397
          ],
          [
           0.5385958
          ],
          [
           0.73029715
          ],
          [
           0.6603308
          ],
          [
           0.435296
          ],
          [
           0.3264943
          ],
          [
           0.8544027
          ],
          [
           0.57349384
          ],
          [
           0.75778615
          ],
          [
           0.7047432
          ],
          [
           0.2815756
          ],
          [
           0.6719682
          ],
          [
           0.313726
          ],
          [
           0.36433828
          ],
          [
           0.3682164
          ],
          [
           0.3862952
          ],
          [
           0.6559719
          ],
          [
           0.56602526
          ],
          [
           0.4249991
          ],
          [
           0.09011037
          ],
          [
           0.77235055
          ],
          [
           0.33104727
          ],
          [
           0.27371618
          ],
          [
           0.23877569
          ],
          [
           0.37307978
          ],
          [
           0.33118588
          ],
          [
           0.25613454
          ],
          [
           0.6783732
          ],
          [
           0.43463835
          ],
          [
           0.65466833
          ],
          [
           0.98668104
          ],
          [
           0.3715205
          ],
          [
           0.40835962
          ],
          [
           0.40932366
          ],
          [
           0.28341207
          ],
          [
           0.39524654
          ],
          [
           0.010984428
          ],
          [
           0.30601388
          ],
          [
           0.26619482
          ],
          [
           0.29931852
          ],
          [
           0.31829396
          ],
          [
           0.7428259
          ],
          [
           0.09766433
          ],
          [
           0.07966694
          ],
          [
           0.6132588
          ],
          [
           0.9944307
          ],
          [
           0.5688351
          ],
          [
           0.7080345
          ],
          [
           0.3705927
          ],
          [
           0.66986734
          ],
          [
           0.6512956
          ],
          [
           0.46253157
          ],
          [
           0.7196256
          ],
          [
           0.4537725
          ],
          [
           0.39486393
          ],
          [
           0.32397482
          ],
          [
           0.14645472
          ],
          [
           0.77906704
          ],
          [
           0.4018289
          ],
          [
           0.6014796
          ],
          [
           0.856423
          ],
          [
           0.56524295
          ],
          [
           0.3012251
          ],
          [
           0.28210816
          ],
          [
           0.594378
          ],
          [
           0.7053124
          ],
          [
           0.54086965
          ],
          [
           0.31924957
          ],
          [
           0.36176613
          ],
          [
           0.6250007
          ],
          [
           0.3162874
          ],
          [
           0.04723902
          ],
          [
           0.8011822
          ],
          [
           0.5084744
          ],
          [
           0.8178934
          ],
          [
           0.3992356
          ],
          [
           0.974052
          ],
          [
           0.7224153
          ],
          [
           0.039564762
          ],
          [
           0.90868413
          ],
          [
           0.47301012
          ],
          [
           0.71804965
          ],
          [
           0.76347905
          ],
          [
           0.64759654
          ],
          [
           0.89499736
          ],
          [
           0.2228259
          ],
          [
           0.35901225
          ],
          [
           0.9449102
          ],
          [
           0.29787782
          ],
          [
           0.172518
          ],
          [
           0.55658627
          ],
          [
           0.8764817
          ],
          [
           0.48667786
          ],
          [
           0.45949674
          ],
          [
           0.47412637
          ],
          [
           0.7010114
          ],
          [
           0.3375974
          ],
          [
           0.5375789
          ],
          [
           0.96699244
          ],
          [
           0.056849547
          ],
          [
           0.23324907
          ],
          [
           0.3800547
          ],
          [
           0.6029294
          ],
          [
           0.303848
          ],
          [
           0.17019455
          ],
          [
           0.97216856
          ],
          [
           0.33216894
          ],
          [
           0.6887287
          ],
          [
           0.1107734
          ],
          [
           0.27335206
          ],
          [
           0.5729397
          ],
          [
           0.49145707
          ],
          [
           0.28139
          ],
          [
           0.82169724
          ],
          [
           0.67497766
          ],
          [
           0.58513457
          ],
          [
           0.71059614
          ],
          [
           0.04048879
          ],
          [
           0.5680543
          ],
          [
           0.32175294
          ],
          [
           0.61185026
          ],
          [
           0.9260969
          ],
          [
           0.6183474
          ],
          [
           0.6676298
          ],
          [
           0.39773348
          ],
          [
           0.2908755
          ],
          [
           0.5943751
          ],
          [
           0.50825524
          ],
          [
           0.33857137
          ],
          [
           0.43230236
          ],
          [
           0.30222198
          ],
          [
           0.8761982
          ],
          [
           0.080204494
          ],
          [
           0.09233353
          ],
          [
           0.09365645
          ],
          [
           0.6084524
          ],
          [
           0.7326546
          ],
          [
           0.94415885
          ],
          [
           0.2674231
          ],
          [
           0.7311242
          ],
          [
           0.6613085
          ],
          [
           0.38776627
          ],
          [
           0.9625853
          ],
          [
           0.32206705
          ],
          [
           0.63408107
          ],
          [
           0.47534502
          ],
          [
           0.353559
          ],
          [
           0.8859363
          ],
          [
           0.8767981
          ],
          [
           0.22158106
          ],
          [
           0.39436245
          ],
          [
           0.80503565
          ],
          [
           0.45289847
          ],
          [
           0.59252053
          ],
          [
           0.7610264
          ],
          [
           0.24504903
          ],
          [
           0.37213936
          ],
          [
           0.68105483
          ],
          [
           0.74714315
          ],
          [
           0.92073953
          ],
          [
           0.09720795
          ],
          [
           0.699303
          ],
          [
           0.721647
          ],
          [
           0.5353561
          ],
          [
           0.7382938
          ],
          [
           0.70646757
          ],
          [
           0.6739506
          ],
          [
           0.7112123
          ],
          [
           0.30255872
          ],
          [
           0.080097854
          ],
          [
           0.70701087
          ],
          [
           0.51224864
          ],
          [
           0.6596275
          ],
          [
           0.6575597
          ],
          [
           0.10064561
          ],
          [
           0.9266536
          ],
          [
           0.89287937
          ],
          [
           0.8391575
          ],
          [
           0.89095974
          ],
          [
           0.55675447
          ],
          [
           0.96036196
          ],
          [
           0.6310379
          ],
          [
           0.029838065
          ],
          [
           0.27884334
          ],
          [
           0.9261577
          ],
          [
           0.55150425
          ],
          [
           0.48594236
          ],
          [
           0.4372347
          ],
          [
           0.25231802
          ],
          [
           0.515467
          ],
          [
           0.43725228
          ],
          [
           0.4937242
          ],
          [
           0.83324724
          ],
          [
           0.31752148
          ],
          [
           0.28623456
          ],
          [
           0.72683394
          ],
          [
           0.49566704
          ],
          [
           0.028645255
          ],
          [
           0.31967193
          ],
          [
           0.6743446
          ],
          [
           0.76603717
          ],
          [
           0.6545699
          ],
          [
           0.7565144
          ],
          [
           0.52825373
          ],
          [
           0.3897195
          ],
          [
           0.35508746
          ],
          [
           0.870152
          ],
          [
           0.7390833
          ],
          [
           0.30576184
          ],
          [
           0.4115877
          ],
          [
           0.06363309
          ],
          [
           0.7354094
          ],
          [
           0.6059167
          ],
          [
           0.5393956
          ],
          [
           0.5661835
          ],
          [
           0.6747952
          ],
          [
           0.070993364
          ],
          [
           0.1252641
          ],
          [
           0.27960148
          ],
          [
           0.9521744
          ],
          [
           0.23380676
          ],
          [
           0.43724743
          ],
          [
           0.9254231
          ],
          [
           0.43349862
          ],
          [
           0.525179
          ],
          [
           0.08843553
          ],
          [
           0.44767764
          ],
          [
           0.6470006
          ],
          [
           0.9036033
          ],
          [
           0.26579073
          ],
          [
           0.66419697
          ],
          [
           0.49812067
          ],
          [
           0.49018896
          ],
          [
           0.7470842
          ],
          [
           0.90678364
          ],
          [
           0.6787709
          ],
          [
           0.34859985
          ],
          [
           0.29483968
          ],
          [
           0.7056918
          ],
          [
           0.21191794
          ],
          [
           0.06320112
          ],
          [
           0.27669954
          ],
          [
           0.6724594
          ],
          [
           0.80820596
          ],
          [
           0.29653838
          ],
          [
           0.16012686
          ],
          [
           0.43938503
          ],
          [
           0.5559514
          ],
          [
           0.38624012
          ],
          [
           0.15868962
          ],
          [
           0.21449986
          ],
          [
           0.29957944
          ],
          [
           0.56916165
          ],
          [
           0.4886148
          ],
          [
           0.878295
          ],
          [
           0.6493809
          ],
          [
           0.46571335
          ],
          [
           0.16813774
          ],
          [
           0.87529546
          ],
          [
           0.84113234
          ],
          [
           0.33292082
          ],
          [
           0.5130479
          ],
          [
           0.30505508
          ],
          [
           0.812627
          ],
          [
           0.25096706
          ],
          [
           0.50243556
          ],
          [
           0.45799074
          ]
         ],
         "hovertemplate": "0=%{x}<br>1=%{y}<br>2=%{z}<br>Feature=%{customdata[0]}<br>Anomaly=%{marker.color}<extra></extra>",
         "legendgroup": "",
         "marker": {
          "color": [
           0,
           0,
           1,
           1,
           0,
           0,
           0,
           1,
           1,
           0,
           0,
           1,
           0,
           0,
           1,
           0,
           1,
           0,
           0,
           0,
           1,
           0,
           0,
           1,
           1,
           1,
           0,
           0,
           1,
           1,
           0,
           0,
           1,
           1,
           1,
           0,
           0,
           0,
           0,
           0,
           1,
           0,
           0,
           1,
           0,
           0,
           0,
           0,
           0,
           0,
           0,
           1,
           0,
           1,
           0,
           1,
           0,
           0,
           0,
           1,
           0,
           0,
           1,
           1,
           0,
           0,
           1,
           0,
           0,
           1,
           0,
           0,
           0,
           0,
           0,
           0,
           0,
           0,
           0,
           0,
           0,
           0,
           0,
           0,
           0,
           0,
           0,
           0,
           0,
           0,
           0,
           0,
           0,
           0,
           0,
           0,
           0,
           0,
           0,
           0,
           0,
           0,
           0,
           0,
           0,
           0,
           0,
           0,
           0,
           0,
           0,
           0,
           0,
           0,
           0,
           0,
           0,
           0,
           0,
           0,
           0,
           0,
           0,
           0,
           0,
           0,
           0,
           0,
           0,
           0,
           0,
           0,
           0,
           0,
           0,
           0,
           0,
           0,
           0,
           0,
           0,
           0,
           0,
           0,
           0,
           0,
           0,
           0,
           0,
           0,
           0,
           0,
           0,
           0,
           0,
           0,
           0,
           0,
           0,
           0,
           0,
           0,
           0,
           0,
           0,
           0,
           0,
           0,
           0,
           0,
           0,
           0,
           0,
           0,
           0,
           0,
           0,
           0,
           0,
           0,
           0,
           0,
           0,
           0,
           0,
           0,
           0,
           0,
           0,
           0,
           0,
           0,
           0,
           0,
           0,
           0,
           0,
           0,
           1,
           0,
           0,
           0,
           0,
           0,
           0,
           0,
           0,
           0,
           0,
           0,
           0,
           0,
           0,
           0,
           0,
           0,
           0,
           0,
           0,
           0,
           0,
           0,
           0,
           0,
           0,
           0,
           0,
           0,
           0,
           0,
           0,
           0,
           0,
           0,
           0,
           0,
           0,
           0,
           0,
           0,
           0,
           0,
           0,
           0,
           0,
           0,
           0,
           0,
           0,
           0,
           0,
           0,
           0,
           0,
           0,
           0,
           0,
           0,
           0,
           0,
           0,
           0,
           0,
           0,
           0,
           0,
           0,
           0,
           0,
           0,
           0,
           0,
           0,
           0,
           0,
           0,
           0,
           0,
           0,
           0,
           0,
           0,
           0,
           0,
           0,
           0,
           0,
           0,
           0,
           0,
           0,
           0,
           0,
           0,
           0,
           0,
           0,
           0,
           0,
           0,
           0,
           0,
           0,
           0,
           0,
           0,
           0,
           0,
           0,
           0,
           0,
           0,
           0,
           0,
           0,
           0,
           0,
           0,
           0,
           0,
           0,
           0,
           0,
           0,
           0,
           0,
           0,
           0,
           0,
           0,
           0,
           0,
           0,
           0,
           0,
           0,
           0,
           0,
           0,
           0,
           0,
           0,
           0,
           0,
           0,
           0,
           0,
           0,
           0,
           0,
           0,
           0,
           0,
           0,
           0,
           0,
           0,
           0,
           0,
           0,
           0,
           0,
           0,
           0,
           0,
           0,
           0,
           0,
           0,
           0,
           0,
           0,
           0,
           0,
           0,
           0,
           0,
           0,
           0,
           0,
           0,
           0,
           0,
           0,
           0,
           0,
           0,
           0,
           0,
           0,
           0,
           0,
           0,
           0,
           0,
           0,
           0,
           0,
           0,
           0,
           0,
           0,
           0,
           0,
           0,
           0,
           0,
           0,
           0,
           0,
           0,
           0,
           0,
           0,
           0,
           0,
           0,
           0,
           0,
           0,
           0,
           0,
           0,
           0,
           0,
           0,
           0,
           0,
           0,
           0,
           0,
           0,
           0,
           0,
           0,
           0,
           0,
           0,
           0,
           0,
           0,
           0,
           0,
           0,
           0,
           0,
           0,
           0,
           0,
           0,
           0,
           0,
           0,
           0,
           0,
           0,
           0,
           0,
           0,
           0,
           0,
           0,
           0,
           0,
           0,
           0,
           0,
           0,
           0,
           0,
           0,
           0,
           0,
           0,
           0,
           0,
           0,
           0,
           0,
           0,
           0,
           0,
           0,
           0,
           0,
           0,
           0,
           0,
           0,
           0,
           0,
           0,
           0,
           0,
           0,
           0,
           0,
           0,
           0,
           0,
           0,
           0,
           0,
           0,
           0,
           0,
           0,
           0,
           0,
           0,
           0,
           0,
           0,
           0,
           0,
           0,
           0,
           0,
           0,
           0,
           0,
           0,
           0,
           0,
           0,
           0,
           0,
           0,
           0,
           0,
           0,
           0,
           0,
           0,
           0,
           0,
           0,
           0,
           0,
           0,
           0,
           0,
           0,
           0,
           0,
           1,
           0,
           0,
           0,
           0,
           0,
           0,
           0,
           0,
           0,
           0,
           0,
           0,
           0,
           0,
           0,
           0,
           0,
           0,
           0,
           0,
           0,
           0,
           0,
           0,
           0,
           0,
           0,
           0,
           0,
           0,
           0,
           1,
           0,
           0,
           0,
           0,
           0,
           0,
           0,
           0,
           0,
           0,
           0,
           0,
           0,
           0,
           0,
           0,
           0,
           0,
           0,
           0,
           0,
           0,
           0,
           0,
           1,
           0,
           0,
           0,
           0,
           0,
           0,
           0,
           0,
           0,
           0,
           0,
           0,
           0,
           0,
           0,
           0,
           0,
           0,
           0,
           0,
           0,
           0,
           0,
           0,
           0,
           0,
           0,
           0,
           0,
           0,
           0,
           0,
           0,
           0,
           0,
           0,
           0,
           0,
           0,
           0,
           0,
           0,
           0,
           0,
           0,
           0,
           0,
           0,
           0,
           0,
           0,
           0,
           0,
           0,
           0,
           0,
           0,
           0,
           0,
           0,
           0,
           0,
           0,
           0,
           0,
           0,
           0,
           0,
           0,
           0,
           0,
           0,
           0,
           0,
           0,
           0,
           0,
           1,
           0,
           0,
           0,
           0,
           0,
           0,
           0,
           0,
           0,
           0,
           0,
           0,
           0,
           0,
           0,
           0,
           0,
           0,
           0,
           1,
           1,
           0,
           1,
           1,
           0,
           0,
           1,
           1,
           0,
           0,
           0,
           0,
           1,
           0,
           0,
           1,
           1,
           1,
           0,
           1,
           0,
           1,
           1,
           1,
           0,
           0,
           0,
           1,
           0,
           0,
           0,
           0,
           0,
           0,
           0,
           0,
           0,
           0,
           0,
           0,
           0,
           0,
           1,
           0,
           0,
           0,
           0,
           0,
           0,
           0,
           0,
           0,
           0,
           0,
           0,
           0,
           0,
           0,
           0,
           0,
           0,
           0,
           0,
           0,
           0,
           0,
           0,
           0,
           0,
           0,
           0,
           0,
           0,
           0,
           0,
           0,
           0,
           0,
           0,
           1,
           0,
           0,
           0,
           0,
           0,
           0,
           0,
           0,
           0,
           0,
           0,
           0,
           0,
           0,
           0,
           0,
           0,
           0,
           0,
           0,
           0,
           0,
           0,
           0,
           0,
           0,
           0,
           0,
           0,
           0,
           0,
           0,
           0,
           0,
           0,
           0,
           0,
           0,
           0,
           0,
           0,
           0,
           0,
           0,
           0,
           0,
           0,
           0,
           0,
           0,
           0,
           0,
           0,
           0,
           0,
           0,
           0,
           0,
           0,
           0,
           0,
           0,
           0,
           0,
           0,
           0,
           0,
           0,
           0,
           0,
           0,
           0,
           0,
           0,
           0,
           0,
           0,
           0,
           0,
           0,
           0,
           0,
           1,
           0,
           0,
           0,
           0,
           0,
           0,
           0,
           0,
           0,
           0,
           0,
           0,
           0,
           0,
           0,
           0,
           0,
           0,
           0,
           0,
           0,
           0,
           0,
           0,
           0,
           0,
           0,
           0,
           0,
           0,
           0,
           0,
           0,
           0,
           0,
           0,
           0,
           0,
           0,
           0,
           0,
           0,
           0,
           0,
           0,
           0,
           0,
           0,
           0,
           0,
           0,
           0,
           0,
           0,
           0,
           0,
           0,
           1,
           0,
           0,
           0,
           0,
           0,
           0,
           0,
           0,
           0,
           0,
           0,
           0,
           0,
           0,
           0,
           0,
           0,
           0,
           0,
           0,
           0,
           0,
           0,
           0,
           0,
           0,
           0,
           0,
           0,
           0,
           0,
           0,
           0,
           0,
           0,
           0,
           0,
           0,
           0,
           0,
           0,
           0,
           0,
           0,
           0,
           0,
           0,
           0,
           0,
           0,
           0,
           0,
           0,
           0,
           0,
           0,
           0,
           0,
           0,
           0,
           0,
           0,
           0,
           0,
           0,
           0,
           0,
           0,
           0,
           0,
           0,
           0,
           0,
           0,
           0,
           0,
           0,
           0
          ],
          "coloraxis": "coloraxis",
          "opacity": 0.7,
          "symbol": "circle"
         },
         "mode": "markers",
         "name": "",
         "scene": "scene",
         "showlegend": false,
         "type": "scatter3d",
         "x": [
          -1.3942465,
          1.4019163,
          5.6103325,
          12.845549,
          11.314184,
          8.42792,
          -2.7261636,
          19.259089,
          1.5162896,
          7.2527113,
          18.842703,
          13.30887,
          12.077043,
          5.531227,
          8.427411,
          17.435698,
          12.096837,
          -3.7157655,
          4.027994,
          12.0319195,
          7.653183,
          -4.1621866,
          6.825521,
          2.0256891,
          10.189022,
          -2.6412265,
          12.025704,
          -2.4520366,
          13.153035,
          15.931784,
          -0.20950527,
          3.4970396,
          2.5430288,
          8.708333,
          -5.784218,
          -3.7701342,
          2.359326,
          -2.7791824,
          -2.6212046,
          8.80038,
          -12.614791,
          12.481702,
          -9.881869,
          8.211121,
          11.061234,
          17.754982,
          10.712078,
          1.6652002,
          12.967749,
          -7.29195,
          10.460987,
          2.2316432,
          -7.426242,
          17.58385,
          10.161746,
          8.866931,
          8.450919,
          -5.597522,
          9.35382,
          6.342724,
          -2.6849701,
          -5.520142,
          17.64761,
          12.796104,
          -8.454181,
          10.683151,
          -9.280206,
          -3.954736,
          12.319094,
          11.980323,
          20.357094,
          16.424807,
          -3.4782984,
          14.948165,
          -13.65006,
          -7.3801956,
          12.3924885,
          15.972762,
          -15.693878,
          -11.988998,
          -11.328564,
          -8.522257,
          10.883515,
          -3.9675524,
          -1.7561303,
          2.297729,
          -5.794172,
          -5.9802027,
          -3.7447991,
          -5.940274,
          -5.9550896,
          16.984688,
          -9.729185,
          -4.393943,
          0.37716708,
          18.300318,
          -9.140785,
          0.9646217,
          -3.4041626,
          12.266868,
          -2.67041,
          -8.508394,
          0.64659566,
          -9.275785,
          19.14859,
          -10.505587,
          -6.321768,
          0.15605119,
          -13.361518,
          15.642401,
          -7.706254,
          -3.1226857,
          16.166565,
          -7.6276207,
          10.231465,
          -10.040569,
          -3.159738,
          -4.6071434,
          13.375875,
          -4.6943355,
          -10.733634,
          -3.1695666,
          1.5767136,
          -9.244291,
          -2.2311318,
          0.30185238,
          0.63878435,
          14.095751,
          -1.5296569,
          -0.50391424,
          -3.6951444,
          -8.913228,
          18.60866,
          0.08106421,
          -8.183813,
          -5.249212,
          9.504135,
          16.97299,
          0.83145535,
          -2.0786037,
          15.9350605,
          -6.852675,
          -8.793081,
          11.494634,
          -4.9119864,
          -11.390609,
          16.058786,
          -9.076967,
          1.2661394,
          -4.606767,
          -7.2510757,
          -9.985916,
          0.18382578,
          -9.605885,
          -3.7152307,
          -9.73524,
          -8.724701,
          -10.330158,
          -15.4274235,
          12.414862,
          -2.0152178,
          -6.053811,
          -12.053693,
          -15.307945,
          12.687275,
          -8.787471,
          15.944028,
          17.929445,
          9.010005,
          -4.065713,
          -7.212664,
          1.3540044,
          11.048191,
          8.570587,
          -0.29919368,
          -7.1235633,
          10.3770275,
          7.8077226,
          2.1526082,
          16.118559,
          -1.5352488,
          11.956102,
          3.651882,
          17.613085,
          17.679636,
          -3.801942,
          12.856219,
          -4.5969844,
          -9.523529,
          -9.486031,
          -9.198001,
          11.74612,
          17.834202,
          8.759888,
          -5.6119394,
          -1.3441689,
          -2.0241084,
          1.2454826,
          -1.6711388,
          -1.3745435,
          -2.4594116,
          -3.316784,
          1.7417299,
          11.729027,
          7.3489637,
          3.336474,
          -12.635091,
          -2.6057906,
          11.96395,
          1.3766959,
          -1.2012691,
          13.969665,
          15.671097,
          -8.968091,
          -2.902226,
          -3.1321678,
          0.9076446,
          16.409313,
          18.31218,
          -0.4491208,
          7.288178,
          -1.846124,
          11.694321,
          -14.182603,
          -5.699494,
          -11.971851,
          -10.029951,
          -8.945568,
          -8.951298,
          13.466031,
          -2.078498,
          -9.935618,
          16.076254,
          16.66077,
          -5.4967074,
          -1.9675881,
          -0.54021007,
          -9.114202,
          14.279209,
          7.111211,
          -2.7083104,
          0.72701615,
          8.173244,
          -4.0925317,
          17.027317,
          -6.276836,
          -8.571585,
          -14.644016,
          -10.305947,
          7.944289,
          -7.7090793,
          -1.2248499,
          15.86837,
          -5.989113,
          -11.030199,
          2.103149,
          -2.557911,
          -6.339047,
          13.218284,
          -4.7481775,
          7.0725393,
          -5.7307005,
          10.279455,
          -1.4181474,
          -8.2777815,
          -3.8166044,
          18.341595,
          -3.9640346,
          -13.132328,
          1.1006639,
          -0.83309644,
          2.0126235,
          -5.9549117,
          7.3564405,
          11.919833,
          -8.702085,
          16.5083,
          11.857173,
          -0.8709754,
          -9.426346,
          -10.084277,
          7.367854,
          -9.8405075,
          -5.3848195,
          10.20805,
          -2.4528275,
          -6.322537,
          -1.5341461,
          -5.577648,
          -1.0867044,
          -6.972279,
          -0.5099109,
          -6.4194446,
          -3.260458,
          -4.0567327,
          16.017899,
          14.996341,
          -14.365705,
          -4.1086974,
          -2.940357,
          3.235374,
          -5.761549,
          17.625034,
          17.281414,
          13.603163,
          -12.666456,
          -0.5269719,
          -11.700103,
          -11.906999,
          17.49042,
          16.991007,
          -10.530739,
          11.945907,
          7.389906,
          -3.5217512,
          -1.802456,
          -3.867203,
          -2.7265377,
          -13.623967,
          0.9939617,
          2.3163111,
          -8.898853,
          16.472555,
          1.496979,
          -12.62444,
          -4.730626,
          17.824755,
          18.889668,
          9.6777315,
          13.751829,
          -4.10544,
          16.018934,
          -7.267861,
          -9.780865,
          -6.028248,
          11.510169,
          -0.11991501,
          -5.1694465,
          13.169481,
          14.735731,
          -4.793592,
          -10.695392,
          13.393306,
          -9.715034,
          18.749874,
          10.213588,
          0.58171195,
          -10.979272,
          14.001839,
          16.548723,
          -0.9308116,
          -6.2204456,
          -4.7394905,
          2.0423117,
          -6.378328,
          -10.055613,
          -6.2304187,
          -1.1707015,
          19.349009,
          -4.218375,
          0.9726273,
          -0.32256496,
          -2.4506845,
          -10.621456,
          15.681258,
          -12.208776,
          17.65163,
          -5.3598843,
          -6.7105136,
          0.08194492,
          -8.102161,
          -2.8375874,
          12.472741,
          10.445656,
          16.369406,
          -8.283094,
          -12.645561,
          14.18008,
          1.0258459,
          -6.3476434,
          14.272733,
          -3.3359177,
          -11.729538,
          -3.1805453,
          0.024484796,
          -8.475175,
          -6.526078,
          -5.4646335,
          -0.5353365,
          -4.1505404,
          -6.8665395,
          -9.552442,
          -6.8013535,
          -9.849811,
          -4.2594213,
          2.0288653,
          -10.140632,
          16.96926,
          -3.6138663,
          -8.937618,
          -4.4844832,
          -5.7836933,
          -10.331884,
          3.9257796,
          19.18426,
          -3.4864607,
          7.2176824,
          -4.102822,
          12.232299,
          3.456396,
          -3.168621,
          -7.196091,
          19.679306,
          -12.648533,
          -0.29832703,
          -9.81108,
          -6.265542,
          -1.4667143,
          18.683563,
          10.62303,
          -4.1574006,
          -3.8085926,
          -2.0377638,
          2.261291,
          9.9435425,
          -7.2011676,
          -2.5652974,
          13.840909,
          -2.8264928,
          12.502311,
          -9.549536,
          -2.89518,
          -4.174158,
          14.737303,
          20.14516,
          -1.9641075,
          -7.2800426,
          11.910195,
          -13.672395,
          7.2239814,
          -10.500824,
          -15.193226,
          8.695937,
          14.864253,
          -4.611108,
          10.939786,
          18.531738,
          -9.167105,
          8.175999,
          12.259915,
          -6.283039,
          10.116504,
          -9.191687,
          -12.756609,
          16.378439,
          0.72906995,
          1.4761744,
          8.970611,
          -15.361601,
          -15.337108,
          -0.24848315,
          9.933379,
          -9.47948,
          -10.437724,
          0.71934617,
          -6.141405,
          -13.220603,
          19.85705,
          -8.674686,
          9.226972,
          -11.232148,
          -7.7382736,
          -6.435846,
          -7.7922955,
          -7.617556,
          -5.867333,
          -1.0345545,
          12.65417,
          -3.6868675,
          -2.944032,
          -10.957079,
          -4.5718822,
          14.217948,
          13.581163,
          -3.1257524,
          13.729081,
          0.91177386,
          -2.516632,
          -4.3203855,
          7.9396105,
          -13.062581,
          16.119253,
          11.091861,
          17.94753,
          8.345745,
          15.885806,
          2.86514,
          13.560056,
          -8.351615,
          -5.3853326,
          0.52041763,
          -1.8180358,
          -5.1505723,
          -3.353514,
          -2.8080003,
          7.9811554,
          -15.318737,
          -10.767623,
          -2.8068588,
          11.408139,
          11.779485,
          -10.500262,
          -1.1060183,
          14.519383,
          -14.835104,
          -10.806726,
          -8.941669,
          -15.631714,
          -0.8159308,
          -0.17214784,
          -3.3208745,
          11.516855,
          11.81829,
          9.94211,
          18.438694,
          -3.587503,
          -2.6230814,
          -5.8545136,
          0.020649899,
          -0.9108017,
          0.6482772,
          16.46988,
          13.806954,
          -8.211085,
          14.538672,
          16.188393,
          3.6395667,
          12.678238,
          -4.0121784,
          1.1840801,
          -0.41621655,
          13.544425,
          -3.1243303,
          1.7385299,
          -10.475028,
          16.700933,
          -11.512585,
          14.753711,
          15.572018,
          -10.52801,
          -10.119797,
          -6.3625894,
          11.2628765,
          -15.448066,
          -8.468903,
          -3.2630324,
          12.862514,
          -13.060986,
          18.627337,
          2.3140552,
          14.876741,
          18.780281,
          -9.021505,
          16.087248,
          -5.737669,
          -13.518239,
          -8.130411,
          -1.8241171,
          17.70865,
          15.384605,
          -2.397484,
          15.240257,
          18.638876,
          16.797665,
          3.4780488,
          18.760775,
          -2.0206935,
          -5.758333,
          -4.7022886,
          -11.45839,
          -3.454856,
          -12.335048,
          10.151805,
          -1.621405,
          -11.8574,
          -12.626499,
          -1.174788,
          -6.8243184,
          -5.8690147,
          17.411554,
          -5.220404,
          -11.16357,
          1.7122736,
          18.922691,
          -0.098403476,
          -8.473049,
          17.205294,
          16.03994,
          12.726231,
          14.096452,
          15.14869,
          -3.2073286,
          10.770767,
          -2.9970376,
          12.972257,
          0.8439098,
          19.15339,
          16.69169,
          -4.5923567,
          2.8500676,
          11.915318,
          -6.423008,
          -4.318922,
          -4.6441417,
          -9.240032,
          -9.621755,
          -1.6147684,
          -3.176376,
          -3.313554,
          -0.9474452,
          -1.3042945,
          -7.953531,
          -8.232675,
          -0.81457514,
          9.781129,
          20.574778,
          -2.6781473,
          11.07408,
          -4.075936,
          -10.873431,
          -5.2565355,
          1.3195345,
          -15.176272,
          11.178742,
          -5.6019793,
          -4.1897902,
          -6.5479584,
          -1.2544388,
          16.186544,
          -0.81735307,
          7.1367097,
          1.4840847,
          -1.4950848,
          -6.8782253,
          15.110626,
          -13.15108,
          7.9357853,
          -6.865674,
          13.520349,
          -6.7773066,
          -9.973312,
          -7.7677536,
          -2.9389307,
          16.694757,
          -7.014363,
          2.017859,
          11.769193,
          -5.2339654,
          -5.28424,
          15.919415,
          18.720594,
          -7.094173,
          0.6761526,
          -2.5274494,
          14.153115,
          -0.44247124,
          15.875043,
          0.44152966,
          1.1351484,
          -7.8138475,
          -1.3965098,
          -10.114999,
          -9.063351,
          -1.751977,
          11.649226,
          -10.263003,
          2.5924716,
          15.203315,
          15.128084,
          -0.07906248,
          8.9543295,
          -9.600616,
          -5.6949544,
          10.982059,
          -9.800381,
          -7.736517,
          -12.331926,
          -11.75235,
          17.48055,
          18.036482,
          14.401229,
          15.920006,
          19.293676,
          0.91334385,
          17.661251,
          12.739407,
          -5.1352444,
          -11.736741,
          -15.670344,
          11.999544,
          -1.6871628,
          -13.062949,
          5.543438,
          13.143763,
          -8.92091,
          8.1099,
          18.044262,
          14.414111,
          -1.7386427,
          9.000849,
          9.257078,
          -10.01223,
          -5.0989046,
          -2.5143456,
          -6.498517,
          10.850515,
          8.169508,
          17.388689,
          -6.4820056,
          -5.1565037,
          4.14627,
          -3.7633455,
          1.7182976,
          2.134025,
          0.57733303,
          2.5984883,
          11.928006,
          12.223203,
          15.693607,
          8.711631,
          -1.482306,
          13.166398,
          -1.658893,
          -4.4858766,
          1.4415208,
          16.661022,
          -9.235404,
          -13.1889,
          -14.5860195,
          12.24156,
          -3.7196462,
          -6.197605,
          -5.8299594,
          11.982332,
          -3.6085925,
          -14.243198,
          -11.639653,
          15.769657,
          8.757154,
          19.255281,
          1.2485194,
          11.72925,
          0.0069409763,
          -5.574697,
          -10.695996,
          8.062966,
          -11.853675,
          -5.8936777,
          14.680613,
          -10.774395,
          17.816673,
          -9.080537,
          -8.058694,
          -5.9159856,
          -2.0880816,
          -4.7370434,
          -3.5219476,
          12.323736,
          -2.5548956,
          12.431134,
          -11.518552,
          -4.4887013,
          -0.16267413,
          -2.0646672,
          -4.683608,
          -11.412639,
          -4.0043883,
          -1.6330281,
          -15.1383095,
          -3.49921,
          -10.199411,
          -3.7639024,
          1.5417548,
          -7.326135,
          -14.803313,
          18.922297,
          -5.973972,
          12.257632,
          -14.442469,
          -11.189934,
          19.701038,
          -9.235459,
          13.224944,
          -13.077445,
          -5.0490174,
          4.61189,
          -10.705243,
          8.210711,
          -11.452742,
          -9.340226,
          -4.82797,
          -3.6860726,
          -0.48393056,
          1.8983415,
          7.6404676,
          -8.290499,
          -10.592432,
          -3.0793898,
          16.517939,
          -7.435288,
          11.316611,
          11.365211,
          -13.487302,
          -3.3842225,
          1.9131387,
          8.205273,
          0.5064262,
          19.623295,
          9.766814,
          15.337096,
          16.180063,
          7.5148616,
          -15.155889,
          2.6632752,
          -1.7317766,
          -7.017928,
          16.498556,
          -12.933436,
          -6.388584,
          16.639696,
          -3.1661177,
          -5.2039685,
          17.203028,
          11.064777,
          8.802646,
          12.285867,
          13.981621,
          11.328228,
          15.034848,
          -9.192265,
          -10.826175,
          -9.005512,
          15.377448,
          -1.0229977,
          -3.6179593,
          13.520939,
          1.9681985,
          -11.422386,
          -7.8011675,
          -2.4732032,
          12.912705,
          -4.568515,
          -9.506589,
          -10.583802,
          -0.63697904,
          0.09976201,
          -2.3752153,
          16.691065,
          -13.057876,
          13.047248,
          -3.4860353,
          -11.812964,
          2.6264763,
          -11.318677,
          -0.5034899,
          16.925287,
          -4.782149,
          -11.463884,
          13.177492,
          -6.3876395,
          17.930767,
          -9.995192,
          -5.7369385,
          -8.560953,
          -0.46016163,
          -7.018509,
          -4.615899,
          -3.723493,
          -4.696287,
          6.9869494,
          -7.329665,
          -13.459142,
          -10.010297,
          16.830177,
          17.348055,
          16.38943,
          -3.8304443,
          -5.298603,
          -2.757231,
          9.785175,
          11.488058,
          16.794577,
          9.646659,
          -9.352081,
          17.024021,
          -8.356763,
          -6.2671123,
          -7.1916203,
          0.33807138,
          -2.0081334,
          -1.4193808,
          -6.2429824,
          -11.133777,
          20.141638,
          -12.71709,
          11.428185,
          15.567493,
          2.8691795,
          9.619226,
          -14.392465,
          -4.758348,
          -6.4249544,
          -9.993652,
          -14.142027,
          12.756087,
          11.507561,
          -4.2062855,
          -0.9866529,
          16.48711,
          17.13271,
          -3.8988225,
          18.780466,
          -3.45185,
          -9.29059,
          0.9975703,
          -7.4238763,
          2.578865,
          -3.9132483,
          -3.770823,
          0.26013094,
          12.638758,
          -8.585677,
          -5.695923,
          18.988771,
          17.109617,
          11.719963,
          -9.253391,
          6.442212,
          1.9715898,
          16.524363,
          6.975961,
          -4.1954513,
          -14.988654,
          13.753603,
          -13.246195,
          12.716572,
          -13.148393,
          -9.965951,
          -1.0264208,
          3.0791173,
          -3.5454447,
          -3.741747,
          19.477009,
          16.521292,
          -5.235686,
          -6.218161,
          17.390085,
          13.970351,
          10.840344,
          -3.1299863,
          -6.073981,
          -4.2266498,
          7.4155183,
          -15.036819,
          -4.8544455,
          -10.469928,
          -3.2607603,
          -15.822409,
          11.791252,
          -7.4616733,
          17.2807,
          -12.330345,
          -5.076787,
          11.250297,
          -9.903176,
          -4.360033,
          -3.566504,
          16.383049,
          -1.6007749,
          12.0597515,
          11.825565,
          -2.6456318,
          -14.089537,
          -3.8204682,
          16.638304,
          -6.00791,
          -3.8172357,
          14.425968,
          15.27295,
          13.921729,
          12.741382,
          -13.378426,
          -13.412653,
          6.451346,
          13.771653,
          -4.308277,
          -4.9571166,
          -13.831672,
          14.2827835,
          13.628632
         ],
         "y": [
          7.2752457,
          -9.680383,
          13.30791,
          -1.3406327,
          14.741457,
          -3.3325582,
          -16.100285,
          -2.643056,
          2.9605546,
          -6.3334107,
          -5.2200193,
          10.254574,
          -0.93255764,
          10.834625,
          5.271469,
          3.9792998,
          -1.0478176,
          -7.8068995,
          13.695381,
          8.465809,
          -3.5215454,
          12.605832,
          10.958159,
          2.5595024,
          -0.21178277,
          14.916388,
          9.407826,
          1.8970892,
          4.121483,
          2.569482,
          2.1359458,
          -11.354542,
          10.146671,
          3.5462809,
          -1.1128993,
          13.09165,
          1.768593,
          2.0509322,
          11.621773,
          -4.0768566,
          -8.980602,
          3.050616,
          -5.8221254,
          2.0411825,
          4.078603,
          3.309658,
          3.8945012,
          2.4632118,
          9.994172,
          -8.610289,
          -7.5494413,
          14.066708,
          -0.054496996,
          3.416539,
          -1.8373066,
          -7.666761,
          -5.380187,
          -0.29188728,
          3.1170967,
          8.304205,
          1.0640231,
          -3.4844272,
          7.8026857,
          2.5246687,
          -5.0363207,
          4.1379313,
          -7.1248326,
          -7.4950466,
          9.993764,
          -2.3579366,
          4.065683,
          -0.13976982,
          9.231883,
          -4.794439,
          10.075373,
          9.121294,
          9.458631,
          3.9972413,
          6.741667,
          6.1750803,
          5.8592854,
          10.80996,
          10.9174185,
          -3.4794824,
          -12.777418,
          -7.1115932,
          -9.160965,
          -11.329511,
          -3.8771887,
          10.740981,
          11.249651,
          -4.767385,
          -4.5273447,
          -15.737777,
          -13.3479595,
          6.997495,
          -0.79022425,
          -7.2901034,
          -4.2157044,
          9.497142,
          10.564717,
          -9.01646,
          -7.1225376,
          -0.8700027,
          6.796789,
          1.9862931,
          -3.0302358,
          -9.888606,
          10.610206,
          2.9969647,
          9.520908,
          12.600558,
          -7.6205583,
          8.065846,
          13.044425,
          9.890785,
          -15.492531,
          -16.003716,
          -3.0401733,
          -4.6871023,
          9.4222355,
          -2.158871,
          -8.488646,
          -6.9384155,
          -1.3500887,
          -9.134452,
          -11.761922,
          -1.2611356,
          -11.94681,
          -8.239561,
          -3.0760534,
          -0.6999263,
          -4.3437395,
          -13.635356,
          -10.622392,
          6.570652,
          11.748538,
          -2.8659484,
          -10.361735,
          -0.652241,
          -4.742475,
          12.108228,
          -0.8897553,
          12.08287,
          -5.7027354,
          4.3739033,
          -2.8523538,
          -8.422896,
          -10.485668,
          -0.62368786,
          10.657114,
          9.192874,
          -4.2201195,
          -1.4028083,
          11.481524,
          -1.6390268,
          -6.4317803,
          -8.451109,
          7.175626,
          -4.0915093,
          -15.151339,
          -0.9621699,
          5.631573,
          6.260841,
          -2.0367785,
          -9.555084,
          -4.508369,
          2.2795265,
          8.333296,
          -1.1851932,
          -3.2144654,
          -6.1022224,
          -0.9240669,
          11.774065,
          -2.670086,
          -10.346528,
          -1.8589495,
          11.331316,
          -10.802593,
          -1.4644626,
          -3.648434,
          0.9500251,
          -11.17878,
          5.0321555,
          3.185396,
          -15.928708,
          3.646051,
          -3.2526586,
          5.7654533,
          9.084404,
          -8.5556345,
          12.75359,
          -5.203274,
          13.119585,
          -12.108738,
          -15.933417,
          -4.942951,
          -9.377792,
          10.706471,
          -1.5598553,
          -1.6688433,
          -0.45819902,
          -12.595691,
          10.999521,
          12.729104,
          -11.416161,
          6.575805,
          -2.2827046,
          0.086199924,
          -12.533396,
          -3.2569687,
          4.813781,
          4.4270754,
          10.782743,
          -2.2392836,
          -3.1852326,
          -11.802363,
          4.808493,
          5.5384064,
          -0.20362641,
          13.437642,
          -8.915841,
          10.599058,
          9.969589,
          -11.3956995,
          7.4001136,
          -5.0668902,
          5.6207724,
          -10.912806,
          3.1011305,
          -14.9004965,
          -4.749666,
          -2.4097664,
          -2.4314687,
          -14.955462,
          -8.765909,
          1.5179543,
          8.742575,
          -1.0001638,
          11.305784,
          -2.677969,
          -5.9800296,
          9.257991,
          -11.677668,
          -0.54239947,
          -10.918005,
          6.044991,
          5.555391,
          -4.721794,
          11.399612,
          -0.37348256,
          -1.3618652,
          0.061413527,
          -1.3925856,
          2.5425298,
          0.33121195,
          7.7309723,
          -13.005702,
          3.8168676,
          -5.478596,
          9.870215,
          -2.4293892,
          13.356709,
          -3.1132877,
          0.43182907,
          -11.4154215,
          -2.4859443,
          -12.535459,
          10.552994,
          -7.934438,
          -8.74237,
          -13.233049,
          7.9881783,
          9.448013,
          -2.6657846,
          -4.607496,
          6.7771983,
          12.79886,
          -9.469173,
          5.5933585,
          -5.756475,
          9.2203665,
          4.147691,
          8.262689,
          12.327782,
          -8.078056,
          -5.858655,
          -9.412944,
          -11.903857,
          10.460838,
          11.652723,
          -10.97077,
          -2.5654802,
          -7.918774,
          -3.4040122,
          -6.3421855,
          -2.3447926,
          5.182705,
          -2.5060265,
          8.565741,
          -7.7267714,
          -14.440207,
          3.503993,
          -0.8512996,
          -0.6045223,
          7.483902,
          -7.039459,
          7.0234294,
          -8.406418,
          3.6150286,
          2.7699995,
          -8.275763,
          1.4944863,
          10.63911,
          -5.2476773,
          8.980576,
          -1.2784537,
          -13.534406,
          7.616551,
          -12.1779175,
          -7.306274,
          7.0420012,
          -0.87813735,
          -9.097883,
          9.8050165,
          11.000697,
          -1.0152658,
          -2.3674035,
          7.218147,
          -1.5888349,
          -12.83895,
          6.268824,
          -4.252334,
          0.43979394,
          -10.791827,
          9.101651,
          -9.316664,
          6.0559726,
          3.4031873,
          6.3246136,
          6.623437,
          3.6222858,
          -3.313709,
          -2.1606846,
          -2.2998872,
          8.89688,
          -14.224749,
          -10.538147,
          -1.9615955,
          6.143091,
          -0.4298894,
          7.3044195,
          -5.114612,
          -12.7744875,
          -5.9013824,
          3.5697296,
          -1.1778269,
          -9.535318,
          6.080465,
          13.393589,
          -8.744981,
          -7.8488903,
          3.0099702,
          -7.5700827,
          -1.7516714,
          5.341531,
          3.4801023,
          -15.092581,
          -12.7740345,
          -10.49706,
          -6.953685,
          -2.7571409,
          10.808338,
          6.283169,
          -0.82821864,
          -5.8519616,
          8.793774,
          -0.95735365,
          -12.608036,
          12.267616,
          -3.6441064,
          0.18541287,
          9.606019,
          8.193844,
          -8.64226,
          -0.85180575,
          -2.1479821,
          -1.487556,
          -2.0063834,
          12.055579,
          -6.684096,
          -0.26420298,
          9.563745,
          8.459038,
          -14.470407,
          -12.847209,
          2.1196792,
          -0.21144082,
          10.865973,
          5.223259,
          -4.221472,
          -5.8420935,
          -8.130608,
          -11.653373,
          -0.22300962,
          -13.402941,
          9.39064,
          1.4469297,
          -5.526042,
          -9.5691805,
          -9.487992,
          10.942551,
          5.303358,
          6.7961435,
          -11.673761,
          -5.281791,
          -9.614827,
          -12.33,
          -2.7764075,
          8.681338,
          12.317449,
          -5.1146655,
          -8.733959,
          -8.833644,
          8.283327,
          -11.254375,
          -14.859556,
          -1.1120174,
          9.086904,
          9.084924,
          10.080842,
          -16.155296,
          -3.8243349,
          -0.44047028,
          4.481194,
          -3.525629,
          -14.1250925,
          10.370178,
          10.027265,
          12.914635,
          2.78925,
          6.076343,
          13.001347,
          9.571103,
          -2.6658974,
          -2.3237007,
          3.1608262,
          -3.7717865,
          10.153085,
          0.6884353,
          -5.998179,
          11.746895,
          -6.4572654,
          7.2955384,
          -6.433207,
          -12.457195,
          -2.1717637,
          11.311011,
          7.198402,
          8.026089,
          -8.348101,
          11.854047,
          -6.196865,
          4.0760903,
          0.77851534,
          11.01835,
          11.008433,
          2.354239,
          -9.796876,
          9.117208,
          8.813985,
          -15.283786,
          -9.1900215,
          6.917303,
          -5.998117,
          -12.406931,
          -15.34005,
          -0.42752424,
          6.366606,
          -10.961313,
          -7.888989,
          -4.390649,
          -0.3390755,
          9.219258,
          -15.713827,
          10.043116,
          -4.8672996,
          8.79465,
          6.85823,
          11.792046,
          5.692091,
          -6.2703667,
          1.6250906,
          3.3957787,
          9.375062,
          -2.1472983,
          -9.134797,
          -5.2664423,
          -2.435468,
          9.764605,
          -10.4835615,
          1.524816,
          11.889796,
          -3.6276948,
          8.535224,
          11.278775,
          8.322784,
          -9.720918,
          9.160769,
          1.4695636,
          13.299534,
          -8.977526,
          -6.488305,
          5.55025,
          6.3706374,
          -3.6890244,
          -0.95678717,
          7.8100758,
          -0.583421,
          -7.063941,
          11.217,
          9.5231905,
          4.0286903,
          6.853354,
          6.398099,
          -14.668544,
          7.7191677,
          -14.333859,
          -2.1867044,
          9.890664,
          -7.0916457,
          3.5853848,
          -5.1920447,
          -6.9056067,
          -6.0070953,
          2.5647705,
          -10.466788,
          10.9058485,
          5.3648944,
          -8.2926235,
          -1.2214167,
          -3.13872,
          -9.182223,
          -11.254062,
          -10.912936,
          -5.90516,
          3.3872461,
          -2.47253,
          -1.4830244,
          4.055006,
          -2.1080148,
          8.016743,
          10.893178,
          7.3135953,
          -4.208611,
          -10.608336,
          -5.332868,
          9.513178,
          -1.925672,
          0.22018984,
          10.12567,
          5.3999867,
          -4.879478,
          -3.9053264,
          -5.6963325,
          5.8595705,
          -7.9877357,
          1.1735655,
          -2.0439339,
          -5.3842063,
          8.144057,
          -5.7860913,
          -1.224117,
          6.5446353,
          -11.136186,
          3.1879263,
          -12.292939,
          -12.007805,
          8.1720085,
          9.768301,
          11.785203,
          7.9056644,
          6.770565,
          -13.219704,
          -8.4095745,
          6.4190335,
          9.3482,
          -4.883019,
          -12.899554,
          3.5461483,
          -6.467369,
          -5.592586,
          0.69010377,
          -0.44087687,
          1.1629611,
          -0.41136777,
          -1.3578917,
          4.1651177,
          -0.7634517,
          9.70006,
          -3.6174626,
          -1.3524884,
          1.788025,
          -15.728999,
          -2.8775835,
          -10.636045,
          -2.131226,
          7.24734,
          -5.375444,
          -8.359099,
          3.2960963,
          10.428629,
          10.684145,
          7.6273084,
          4.2721624,
          -5.575491,
          -4.103923,
          -4.516973,
          -1.3945674,
          9.799929,
          2.9387946,
          -1.1666708,
          -0.113054484,
          0.26711616,
          6.9009013,
          0.69623554,
          -15.228467,
          13.367088,
          0.3227844,
          4.03703,
          5.9645505,
          -8.846767,
          8.863556,
          10.162614,
          10.868863,
          5.6950803,
          8.717287,
          2.5431757,
          -6.133803,
          1.5684944,
          12.674918,
          -12.581246,
          -15.66882,
          11.934086,
          6.35116,
          5.5464783,
          9.2076235,
          6.485831,
          0.9643517,
          8.400588,
          -5.0212293,
          -7.6851068,
          -0.26062372,
          -4.234137,
          -9.971974,
          -9.780564,
          10.122929,
          7.807118,
          -0.7255812,
          3.233784,
          3.1557894,
          -1.0848242,
          0.90075845,
          8.052404,
          -2.7337284,
          1.4799962,
          -3.1755857,
          -14.066682,
          -9.572178,
          -9.208859,
          -0.76496184,
          3.5615885,
          -1.1883031,
          2.1994627,
          -3.3332808,
          -2.9782188,
          -12.109073,
          -7.464512,
          -1.6427716,
          -13.485936,
          7.8652925,
          -6.2959332,
          6.6673717,
          -1.173632,
          -4.2561235,
          -9.663888,
          3.9131584,
          -9.864857,
          -5.1010695,
          2.6957538,
          5.8100147,
          2.4067693,
          5.249093,
          -3.8278804,
          -7.1022267,
          -5.3091087,
          12.436134,
          7.6136637,
          7.155428,
          3.9093466,
          -4.0825086,
          3.8353035,
          10.832701,
          4.122886,
          4.4095917,
          -7.6251793,
          -3.8719525,
          6.8926353,
          4.176714,
          2.150496,
          3.651536,
          -7.7361565,
          -1.1261437,
          15.096698,
          4.8302674,
          -5.015974,
          -3.4894843,
          2.6563673,
          4.8244143,
          -4.8171062,
          13.669886,
          -14.061537,
          -4.252652,
          14.092239,
          -4.3707757,
          10.148582,
          0.98266405,
          -5.740458,
          -0.39368075,
          -3.5905282,
          -3.4072592,
          10.085681,
          2.2616725,
          0.7598537,
          -2.2717388,
          -5.62967,
          10.230477,
          4.8692985,
          5.827093,
          3.2819295,
          -0.5775345,
          9.362186,
          8.576595,
          2.4797254,
          11.122593,
          5.3367524,
          9.554734,
          -7.1040306,
          11.378836,
          3.4869175,
          -9.605601,
          10.926975,
          -13.844791,
          -12.253135,
          -6.0655313,
          11.924681,
          6.2191052,
          -2.7285626,
          5.6735635,
          -10.025343,
          4.421825,
          -1.1122627,
          -4.110476,
          -10.012347,
          8.677386,
          -14.837089,
          -13.471797,
          12.1003895,
          -13.852582,
          13.288182,
          6.232717,
          6.612444,
          2.2027948,
          -14.591913,
          10.024429,
          -6.3019295,
          0.25832212,
          -3.8864923,
          8.840632,
          9.6365795,
          9.95948,
          -14.329447,
          -6.3443584,
          10.302497,
          5.2328,
          3.700678,
          -4.6354012,
          -3.512845,
          6.700607,
          7.764409,
          -0.60388714,
          7.5364985,
          3.068129,
          7.974282,
          -13.1152525,
          -11.545387,
          -4.0936065,
          10.434431,
          8.974204,
          -8.065248,
          -2.416034,
          0.96037036,
          -1.30024,
          -10.437784,
          11.793771,
          -9.700635,
          -3.8058064,
          -10.246348,
          -5.007674,
          -6.63917,
          10.307984,
          1.507465,
          8.394619,
          12.589903,
          -6.2926855,
          9.974881,
          -8.054876,
          0.595906,
          -1.6275781,
          -2.4045372,
          -4.0086536,
          10.129747,
          5.252423,
          -8.378838,
          -5.9884624,
          -14.853786,
          -5.005403,
          7.114034,
          10.428055,
          4.498369,
          -10.530916,
          12.4088545,
          7.297666,
          1.8149621,
          11.85816,
          -2.3191884,
          10.6521,
          13.186628,
          -4.309368,
          -3.5214858,
          9.440532,
          -0.7343069,
          -2.2526052,
          -10.065739,
          -13.34984,
          -5.5708694,
          -6.2783465,
          8.994142,
          9.844025,
          -1.2169328,
          -5.1513815,
          10.736836,
          -2.4581347,
          9.326107,
          -2.2584426,
          -7.425303,
          -2.4614043,
          -6.525971,
          7.142239,
          3.1464007,
          11.230136,
          7.2106433,
          -0.74728423,
          9.895746,
          -6.781893,
          -2.8502848,
          -16.269829,
          7.6187515,
          -3.0124128,
          11.482517,
          -2.3285875,
          -2.4633741,
          -9.43837,
          9.919753,
          -12.93829,
          -4.63436,
          -14.574437,
          -4.6682725,
          7.7757173,
          11.212871,
          11.894815,
          4.80754,
          3.5766063,
          0.6870363,
          -0.37796715,
          -7.29831,
          9.854891,
          -2.5919342,
          8.100941,
          2.2788951,
          10.844605,
          3.1934717,
          7.6776676,
          4.4112034,
          4.7232423,
          10.502584,
          7.0459485,
          -10.893654,
          -2.2483878,
          -4.7948403,
          -9.145303,
          -2.4874127,
          -5.1857395,
          0.9958115,
          9.964491,
          11.424021,
          -2.1795626,
          -10.808375,
          7.2302103,
          9.6602955,
          -7.493267,
          -4.7294693,
          -4.3309836,
          9.937995,
          2.6506279,
          13.601392,
          6.8882947,
          -7.3492026,
          -6.443998,
          -6.341916,
          10.820651,
          -4.3828926,
          -4.681872,
          6.3349366,
          -7.565146,
          11.445568,
          -12.532159,
          7.1498995,
          -2.6975896,
          -7.8123775,
          13.626769,
          -3.1259267,
          -8.5061865,
          2.3025734,
          -0.83536786,
          8.862274,
          -1.1280472,
          11.905108,
          -10.303083,
          -4.4309354,
          8.71601,
          -3.177321,
          6.3608437,
          -5.968826,
          6.916188,
          4.62205,
          5.5538363,
          6.7814465,
          -8.926411,
          -13.134998,
          5.9577255,
          1.0520724,
          0.31275067,
          -1.6210942,
          -0.9386648,
          -9.555766,
          -6.9597735,
          2.8857956,
          1.8840679,
          -3.8819134,
          -13.2470665,
          -4.9263334,
          11.147672,
          7.226825,
          7.9893126,
          -9.429729,
          -8.081559,
          7.8345027,
          3.50821,
          -3.807856,
          5.5480466,
          8.437597,
          6.2680116,
          13.577881,
          6.2082815,
          -12.039843,
          -11.084647,
          6.134063,
          2.1769097,
          -3.7481205,
          3.5626137,
          10.822812,
          4.7688236,
          -15.872189,
          5.5176845,
          -5.6934175,
          -4.2481365,
          -2.626396,
          -5.395873,
          10.527975,
          -3.1027067,
          8.261587,
          5.146654,
          11.755443,
          4.2836943,
          7.088354,
          -5.7668805,
          6.6226907,
          -1.0520625,
          10.330692
         ],
         "z": [
          -0.4759774,
          5.2845783,
          -2.180625,
          -3.5133064,
          0.07424734,
          -1.748312,
          1.4381177,
          0.6355757,
          0.21008626,
          0.81025225,
          2.3272862,
          -4.0663013,
          6.5528483,
          4.0186486,
          -0.95345694,
          -5.1035776,
          6.6086435,
          -4.332467,
          -2.0565817,
          -4.1782136,
          -2.196319,
          -1.0652251,
          3.1513057,
          0.8171664,
          3.297853,
          -1.9956224,
          -3.7360618,
          -2.430322,
          -5.9062386,
          1.2522478,
          -2.0302403,
          0.8019785,
          3.849858,
          -1.4725277,
          3.1361125,
          -2.7553,
          -3.3703542,
          -2.6904345,
          -0.034706708,
          -0.3378639,
          -0.37259522,
          -1.8946959,
          -3.20221,
          3.556788,
          -1.0828853,
          -5.531813,
          -1.9597266,
          0.51633996,
          -3.961963,
          0.1976451,
          -2.752102,
          -1.7888341,
          1.8573929,
          -5.3472776,
          -1.5133007,
          -2.5639873,
          0.2290279,
          5.796317,
          -1.4429168,
          0.6758052,
          4.4726405,
          -4.688345,
          -1.9979459,
          -1.7638999,
          -0.48067996,
          -2.8132105,
          4.0778327,
          -4.821087,
          -2.838389,
          2.8333821,
          1.2018698,
          -1.3453434,
          2.3786232,
          -2.2717812,
          -3.1414964,
          -2.1053014,
          -0.7814093,
          -0.565729,
          -0.059757948,
          1.7825766,
          1.5090196,
          -1.9500092,
          2.6438556,
          -4.4314423,
          0.8742126,
          2.5026255,
          -1.91977,
          1.9377543,
          2.4650164,
          0.971199,
          -3.3722851,
          1.4004562,
          -4.063048,
          0.9563155,
          -3.1670353,
          -0.79605067,
          -0.8870108,
          0.65287894,
          -6.196313,
          0.45218074,
          1.4778183,
          0.28084368,
          0.90190923,
          2.196004,
          -2.2329366,
          -1.7130158,
          -2.5843868,
          -1.6189873,
          -2.2992637,
          -1.171016,
          0.87808156,
          2.1950693,
          2.1166563,
          -0.354996,
          -1.7729402,
          0.40752864,
          -2.9983773,
          0.91602916,
          -2.876092,
          -7.2984457,
          0.60481507,
          2.1235557,
          -1.5884842,
          -1.2642235,
          -5.432107,
          3.1642048,
          -3.7685125,
          -2.2035668,
          1.3297287,
          2.7302785,
          5.2035513,
          -0.06730069,
          -2.455717,
          0.115078084,
          -0.112483084,
          -2.275035,
          1.3347772,
          -3.9151223,
          2.3765063,
          0.52502126,
          -1.7039856,
          -0.14820077,
          2.9599817,
          1.2831681,
          -8.099325,
          -0.34841686,
          2.2934647,
          2.0830595,
          3.5680397,
          -1.601152,
          1.8492395,
          -2.649463,
          0.9810431,
          3.564332,
          -0.44021946,
          -1.1104962,
          0.5031195,
          -1.3590221,
          -3.6920824,
          -1.0736017,
          -2.0097504,
          5.2861967,
          -3.1004598,
          1.6336621,
          -1.2795967,
          -1.0687944,
          -2.6123605,
          2.4874952,
          -0.32097223,
          -5.6899767,
          -2.4390712,
          1.1285344,
          2.07145,
          -1.2884649,
          -3.253395,
          1.5670179,
          -0.26595697,
          -1.948394,
          3.2044585,
          -3.5689995,
          -0.46865657,
          1.2695774,
          -0.89687335,
          2.627877,
          2.772211,
          -2.067065,
          0.52533495,
          4.836047,
          0.04913541,
          -2.0324361,
          1.3295206,
          0.25915366,
          1.0232302,
          -1.3833716,
          -3.4623852,
          -0.20574446,
          -0.5628962,
          -2.7738698,
          2.3301399,
          -5.020481,
          3.80178,
          -0.9365217,
          -3.1748164,
          2.485438,
          -1.7899702,
          0.29731816,
          3.79812,
          4.0303698,
          0.7932563,
          1.9945157,
          -3.811168,
          1.9858357,
          -2.1534262,
          0.83706075,
          2.2164876,
          0.4256457,
          2.0827315,
          0.51586205,
          -1.4449362,
          0.8118371,
          -2.086108,
          0.43355948,
          1.3923678,
          -1.1857362,
          -1.9050118,
          3.28548,
          -1.6389002,
          1.4374167,
          -0.13506216,
          4.875907,
          0.3376927,
          -4.051334,
          -2.830346,
          -3.8089345,
          2.1825268,
          -0.049139827,
          3.829395,
          -1.6918539,
          -2.022961,
          -3.304251,
          3.7309022,
          -1.2961638,
          -2.0373268,
          1.6044421,
          0.9419277,
          -1.31947,
          -2.1341236,
          -1.7589887,
          -1.1893692,
          2.5418005,
          5.5519505,
          -1.2826594,
          -1.3425176,
          5.0209455,
          -1.1133823,
          -0.15206197,
          -2.6453028,
          0.58309793,
          4.8186774,
          -8.42505,
          -1.919984,
          4.1999564,
          0.13190395,
          -1.6485643,
          4.3203416,
          1.7243662,
          -3.437007,
          -2.4995217,
          -2.5441384,
          -3.8678274,
          -1.9613633,
          -1.5280293,
          -3.842843,
          -2.7745085,
          -1.3218434,
          4.052435,
          -1.0110327,
          0.094388746,
          -1.0827885,
          -0.22237827,
          -1.7214649,
          -2.4936593,
          -0.17871836,
          -0.6114083,
          -1.7442338,
          2.2772162,
          -5.256294,
          0.62437874,
          0.2940447,
          1.6306099,
          1.4442967,
          -1.0068452,
          -2.4992735,
          1.8614557,
          -4.2163897,
          -0.32208943,
          1.8840663,
          1.2282718,
          -2.3781736,
          -1.8095192,
          2.8619099,
          0.18100128,
          0.019709373,
          0.21842389,
          2.1962306,
          -3.9225998,
          -0.7098394,
          -3.1923952,
          0.12966299,
          2.966688,
          2.9786336,
          2.4644423,
          1.9548119,
          -3.1614692,
          0.60624504,
          -0.79284346,
          -5.503903,
          1.5671276,
          -3.2692714,
          -2.3658488,
          2.7633584,
          -3.6404407,
          -2.2254827,
          0.68433625,
          2.329069,
          -2.3068612,
          -3.676744,
          -2.3158467,
          1.383507,
          1.4040821,
          -2.8310792,
          0.62706685,
          4.3068094,
          -1.3873736,
          2.0521111,
          -0.04688076,
          2.360578,
          -2.5281172,
          0.22832313,
          1.6910421,
          -3.3902333,
          1.4584674,
          -3.012415,
          3.9665852,
          0.031652093,
          2.0498316,
          0.44868186,
          0.60757893,
          -2.0218456,
          0.9215846,
          -1.7138718,
          -3.925496,
          -9.180926,
          -1.4002796,
          -5.24008,
          1.7206627,
          1.9337208,
          1.6612468,
          -0.18216054,
          -1.693164,
          3.9758835,
          0.054042716,
          1.0778421,
          0.34514853,
          -2.023068,
          -2.740857,
          -1.8478557,
          -1.5360589,
          0.1467816,
          -2.1060038,
          -3.225011,
          3.523192,
          -0.68956393,
          0.082242794,
          -2.2890387,
          -1.4921577,
          -2.482659,
          1.2120436,
          -2.2978673,
          -1.2188215,
          -0.678921,
          0.57534784,
          -3.4876902,
          2.8102946,
          3.4809504,
          -1.2178826,
          -2.4985697,
          -2.1262586,
          -4.5796576,
          2.079864,
          0.10389603,
          -1.0956268,
          -4.5119424,
          -2.0277264,
          2.5515797,
          -1.5347793,
          -1.9123931,
          0.5848251,
          -1.4925195,
          -1.7567531,
          -7.154354,
          1.6235595,
          2.767164,
          0.038346265,
          -0.4425018,
          -2.176915,
          0.11753479,
          0.9244,
          -0.8233482,
          -2.0148053,
          2.7734005,
          -1.130451,
          -2.2558146,
          -2.8873506,
          -0.62972754,
          -3.6173408,
          2.2610762,
          2.750588,
          -2.513491,
          1.927939,
          2.1787362,
          -1.6844633,
          0.22241814,
          3.5278995,
          -0.37786314,
          -0.122648135,
          0.70499635,
          1.8278404,
          1.2062979,
          -0.42723197,
          0.014183314,
          -1.1613551,
          -4.919652,
          0.13821608,
          0.44810614,
          -1.8116257,
          0.102219,
          0.13767831,
          -1.8045012,
          -1.0761762,
          -1.4991592,
          -0.15888596,
          -1.9179211,
          0.19769411,
          1.3717656,
          0.3124092,
          0.5053593,
          2.9794865,
          1.9861029,
          -0.343207,
          0.7108999,
          0.8745614,
          -1.4042648,
          -3.5209944,
          1.9432206,
          -3.7000902,
          -1.8918443,
          0.75441855,
          -0.6588693,
          0.71909183,
          3.927302,
          -2.2174475,
          -4.0529847,
          3.0707202,
          -0.55240166,
          -3.3822856,
          -2.3479042,
          0.7040284,
          -0.6688568,
          -0.44297794,
          1.2169287,
          -1.5764756,
          -2.5311382,
          -2.8877394,
          -1.7315847,
          -2.791541,
          0.21194072,
          3.1486523,
          -0.4631011,
          2.6523511,
          -0.24461482,
          -4.2811685,
          3.0272229,
          1.7181498,
          -2.4403431,
          0.7268818,
          0.5582958,
          1.9794985,
          -2.4227254,
          -3.973284,
          -1.7206557,
          0.48841414,
          4.420577,
          -0.251665,
          -1.2980987,
          2.56182,
          -2.3023226,
          -0.2573475,
          3.1307096,
          1.527515,
          2.4355826,
          -2.0027375,
          -2.236503,
          2.1676018,
          1.1199541,
          -3.574454,
          -2.0005183,
          1.7146704,
          2.798987,
          1.6115339,
          -0.8462554,
          -1.1072967,
          -1.5646323,
          1.4184284,
          0.9308799,
          2.4508421,
          5.2150393,
          -1.2968512,
          -1.9059025,
          -1.5694236,
          3.3890526,
          3.2917788,
          3.82554,
          1.6359005,
          -1.2762126,
          -3.789459,
          2.5429304,
          0.06658547,
          -3.1761498,
          -0.4627869,
          0.7249892,
          -1.5823805,
          -1.8878299,
          -3.9155302,
          0.82135767,
          3.0649478,
          -1.4868624,
          1.9269427,
          1.6928355,
          -3.600479,
          1.0878197,
          0.9397964,
          2.749828,
          3.6650658,
          0.47300357,
          -2.7011518,
          -0.79046416,
          -0.16590601,
          2.4370668,
          -0.7066656,
          1.019853,
          -1.5228301,
          -1.4943615,
          -3.7158892,
          3.6570926,
          -3.2438962,
          -1.3497635,
          -4.603127,
          -3.3150241,
          -0.25041705,
          -0.116872326,
          -1.6550432,
          3.7788389,
          3.1011653,
          -5.9816804,
          3.1712158,
          -0.42974082,
          -1.697956,
          2.8138082,
          2.762558,
          0.169465,
          1.5986203,
          0.61862546,
          0.8751171,
          2.5660703,
          2.6952817,
          2.7876077,
          1.4361475,
          -1.1745051,
          0.6601674,
          1.857746,
          -0.9152838,
          -0.20110288,
          2.4216316,
          -0.0683284,
          4.0956893,
          -1.0618349,
          -1.6075239,
          -2.1433468,
          -1.7689694,
          1.5559185,
          0.88972765,
          0.9036483,
          0.3398648,
          1.6332961,
          3.1294615,
          -0.7675337,
          -2.1632454,
          2.29055,
          0.32507753,
          -3.0995822,
          3.0941546,
          1.6268886,
          -0.14684658,
          1.9118757,
          2.5299726,
          -1.577155,
          -0.9353083,
          -6.850019,
          1.9790224,
          3.9296317,
          0.8207897,
          3.2811706,
          -3.4383047,
          2.2308872,
          3.000509,
          0.6836421,
          2.9238505,
          -5.572267,
          -0.7922617,
          0.5859491,
          2.3637335,
          5.1195984,
          -1.7491176,
          0.9558131,
          0.835039,
          -1.9424224,
          -2.2113152,
          1.5372579,
          2.9674945,
          2.7377157,
          -2.0999517,
          -2.666772,
          2.9570463,
          1.060735,
          1.698084,
          2.2830613,
          0.9559535,
          2.1440141,
          2.6095326,
          -1.9737972,
          1.8916149,
          -0.17065056,
          -0.7768305,
          -0.6521742,
          -3.2430131,
          -0.5004708,
          -1.502905,
          2.266753,
          -4.382453,
          -1.6820154,
          0.17003722,
          1.0253015,
          -2.8504875,
          1.1158259,
          0.73766804,
          1.2013803,
          -1.2901555,
          -0.95479727,
          -0.6751425,
          0.99105906,
          1.9268285,
          -0.1999128,
          -1.1136864,
          0.64163196,
          3.9225426,
          -4.1405187,
          0.38673908,
          -2.9283097,
          1.2745206,
          1.0171113,
          0.97342396,
          5.274537,
          2.36841,
          -0.27592844,
          0.48364207,
          2.3751721,
          0.8612048,
          0.4241877,
          0.02865309,
          -0.49293223,
          -2.679344,
          -3.940257,
          1.8693855,
          5.374207,
          0.8042721,
          -0.44063407,
          0.08262137,
          1.8357091,
          2.0917444,
          -1.5340955,
          3.1624866,
          -1.7519937,
          -0.63640684,
          1.451189,
          -2.091551,
          -1.92278,
          3.1810305,
          -2.2091982,
          0.8182009,
          2.6321297,
          4.3294168,
          3.9886527,
          -5.9370112,
          -2.170674,
          -2.4354596,
          0.7280038,
          3.7722676,
          0.45588464,
          3.569896,
          -1.8036764,
          -1.4472569,
          -5.8001313,
          -2.0167298,
          6.4732904,
          0.6927057,
          -1.7763897,
          -5.177267,
          6.4971614,
          -2.1734612,
          -2.070627,
          -4.4473453,
          0.82325417,
          -1.777632,
          -5.384145,
          3.8695428,
          0.3820405,
          -2.503543,
          -3.306863,
          -0.36000887,
          -3.8838966,
          -1.1923133,
          1.9853302,
          -4.7704315,
          -0.9825899,
          2.4037921,
          0.39840248,
          -0.4431748,
          0.5827216,
          2.9080887,
          -1.870242,
          -1.8256941,
          -1.6139989,
          5.225498,
          -1.4819477,
          0.9757319,
          1.9890807,
          1.04973,
          0.071969815,
          0.7063472,
          4.446182,
          -1.0583707,
          -3.1500087,
          -3.403638,
          -0.71828145,
          -1.8638086,
          1.7704484,
          4.21659,
          0.88256925,
          1.4091616,
          2.117652,
          5.464512,
          -2.061559,
          -0.163171,
          -0.63421446,
          -1.571838,
          -2.239917,
          -0.28853866,
          1.6923841,
          0.25089517,
          1.450993,
          0.093729615,
          -0.47997183,
          0.4223058,
          -2.192262,
          1.3220588,
          1.3973793,
          1.2922442,
          -2.8766737,
          -2.9145973,
          -1.2984226,
          -1.8299557,
          1.4895256,
          1.5600047,
          -1.1084827,
          1.615211,
          3.0857704,
          -0.098181844,
          2.534965,
          3.9681478,
          -0.8515552,
          -1.3830452,
          4.276997,
          -4.2968554,
          -3.2122211,
          -0.24273463,
          -0.14888646,
          1.2843101,
          -1.2758363,
          2.7235465,
          1.3175279,
          -0.07591209,
          -2.6975763,
          4.6983,
          -3.0989664,
          -0.23575126,
          2.844832,
          -2.5617416,
          -1.33015,
          -3.9254725,
          0.3588757,
          5.459867,
          -3.6248639,
          2.063424,
          1.93098,
          1.9246051,
          0.53382283,
          0.54615486,
          0.15001376,
          -0.9395634,
          3.1897407,
          -3.2732697,
          1.3584913,
          1.2489793,
          -1.1559098,
          -1.0064355,
          -1.1050401,
          1.5035517,
          -3.8518064,
          -0.9859592,
          -3.609972,
          -2.065891,
          -1.1839967,
          4.5161037,
          0.82611245,
          1.6808147,
          -0.8167712,
          0.7232596,
          3.4022393,
          2.7332175,
          -0.7873921,
          2.2391188,
          -1.5564034,
          -0.9198976,
          0.5498265,
          -0.02452143,
          -1.3532828,
          -0.76088053,
          1.5481073,
          -5.529726,
          -1.4046657,
          3.4305508,
          3.4804385,
          -0.2103776,
          -3.897686,
          -2.5599506,
          -0.40943497,
          -1.6274872,
          2.4576585,
          4.586381,
          0.46561894,
          1.6987194,
          -0.5754946,
          2.3793597,
          -1.2067852,
          -3.5948527,
          0.365744,
          3.5922647,
          1.6490475,
          0.14557645,
          3.2317755,
          0.83010006,
          -1.8125437,
          1.8946291,
          -2.3111024,
          -2.4132364,
          2.7068617,
          1.3068037,
          0.24748926,
          -1.1711688,
          0.8535052,
          -3.8267407,
          0.93786913,
          -2.0256226,
          0.70993125,
          1.6823686,
          -2.7482097,
          -2.4538317,
          -1.911535,
          3.683088,
          1.035981,
          2.5093048,
          0.11961925,
          0.9692686,
          2.960299,
          -1.8882438,
          -2.1716418,
          0.71355855,
          -3.0766392,
          -7.1260786,
          0.6973091,
          4.123165,
          0.7021875,
          0.40332577,
          2.1369853,
          2.7095826,
          1.6687669,
          0.7966587,
          0.27291405,
          -1.3877839,
          1.3582413,
          -1.8172792,
          -4.2243166,
          -3.0971677,
          3.3893325,
          -1.7850997,
          1.014574,
          2.547279,
          -0.8856486,
          2.213638,
          2.6268842,
          -2.3492472,
          -7.106139,
          -1.0675907,
          -3.1290216,
          1.9860014,
          -0.9921619,
          0.17870277,
          -2.3472557,
          -2.7803447,
          -1.180765,
          1.406254,
          -2.204303,
          0.8247313,
          0.17321284,
          -0.49653056,
          -1.1560318,
          -0.93636274,
          3.6378622,
          3.0411968,
          0.2775726,
          4.9240594,
          0.39994127,
          -0.8734056,
          -2.7322114,
          2.7254605,
          -1.4523834,
          -3.328674,
          -0.4874291,
          -0.4185638,
          -0.4081023,
          0.400413,
          0.6171094,
          -2.726988,
          -1.6718088,
          2.2738533,
          1.5235078,
          -0.19137715,
          4.763553,
          2.3493457,
          -1.950313,
          -1.7734027,
          -2.2743092,
          -1.3367529,
          -1.3401251,
          -1.087236,
          1.2184658,
          -4.0544853,
          2.3579907,
          3.9162006,
          -1.1778846,
          0.013303262,
          -3.7114916,
          -1.5428371,
          0.22412272,
          0.39243746,
          2.1485646,
          -0.38768166,
          1.9252474,
          0.36701304,
          3.4412954,
          1.6047844,
          1.7286383,
          -1.1240261,
          0.0037892365,
          1.8593668,
          1.7092061,
          2.5540519,
          1.968967,
          0.26403755,
          -1.1842649,
          -4.2168126,
          -3.2588656,
          -0.8880924,
          2.0699246,
          -0.8390409,
          -6.7444654,
          2.4960616,
          0.6737305,
          -0.95669323
         ]
        }
       ],
       "layout": {
        "coloraxis": {
         "colorbar": {
          "title": {
           "text": "Anomaly"
          }
         },
         "colorscale": [
          [
           0,
           "#0d0887"
          ],
          [
           0.1111111111111111,
           "#46039f"
          ],
          [
           0.2222222222222222,
           "#7201a8"
          ],
          [
           0.3333333333333333,
           "#9c179e"
          ],
          [
           0.4444444444444444,
           "#bd3786"
          ],
          [
           0.5555555555555556,
           "#d8576b"
          ],
          [
           0.6666666666666666,
           "#ed7953"
          ],
          [
           0.7777777777777778,
           "#fb9f3a"
          ],
          [
           0.8888888888888888,
           "#fdca26"
          ],
          [
           1,
           "#f0f921"
          ]
         ]
        },
        "height": 800,
        "legend": {
         "tracegroupgap": 0
        },
        "scene": {
         "domain": {
          "x": [
           0,
           1
          ],
          "y": [
           0,
           1
          ]
         },
         "xaxis": {
          "title": {
           "text": "0"
          }
         },
         "yaxis": {
          "title": {
           "text": "1"
          }
         },
         "zaxis": {
          "title": {
           "text": "2"
          }
         }
        },
        "template": {
         "data": {
          "bar": [
           {
            "error_x": {
             "color": "#2a3f5f"
            },
            "error_y": {
             "color": "#2a3f5f"
            },
            "marker": {
             "line": {
              "color": "#E5ECF6",
              "width": 0.5
             },
             "pattern": {
              "fillmode": "overlay",
              "size": 10,
              "solidity": 0.2
             }
            },
            "type": "bar"
           }
          ],
          "barpolar": [
           {
            "marker": {
             "line": {
              "color": "#E5ECF6",
              "width": 0.5
             },
             "pattern": {
              "fillmode": "overlay",
              "size": 10,
              "solidity": 0.2
             }
            },
            "type": "barpolar"
           }
          ],
          "carpet": [
           {
            "aaxis": {
             "endlinecolor": "#2a3f5f",
             "gridcolor": "white",
             "linecolor": "white",
             "minorgridcolor": "white",
             "startlinecolor": "#2a3f5f"
            },
            "baxis": {
             "endlinecolor": "#2a3f5f",
             "gridcolor": "white",
             "linecolor": "white",
             "minorgridcolor": "white",
             "startlinecolor": "#2a3f5f"
            },
            "type": "carpet"
           }
          ],
          "choropleth": [
           {
            "colorbar": {
             "outlinewidth": 0,
             "ticks": ""
            },
            "type": "choropleth"
           }
          ],
          "contour": [
           {
            "colorbar": {
             "outlinewidth": 0,
             "ticks": ""
            },
            "colorscale": [
             [
              0,
              "#0d0887"
             ],
             [
              0.1111111111111111,
              "#46039f"
             ],
             [
              0.2222222222222222,
              "#7201a8"
             ],
             [
              0.3333333333333333,
              "#9c179e"
             ],
             [
              0.4444444444444444,
              "#bd3786"
             ],
             [
              0.5555555555555556,
              "#d8576b"
             ],
             [
              0.6666666666666666,
              "#ed7953"
             ],
             [
              0.7777777777777778,
              "#fb9f3a"
             ],
             [
              0.8888888888888888,
              "#fdca26"
             ],
             [
              1,
              "#f0f921"
             ]
            ],
            "type": "contour"
           }
          ],
          "contourcarpet": [
           {
            "colorbar": {
             "outlinewidth": 0,
             "ticks": ""
            },
            "type": "contourcarpet"
           }
          ],
          "heatmap": [
           {
            "colorbar": {
             "outlinewidth": 0,
             "ticks": ""
            },
            "colorscale": [
             [
              0,
              "#0d0887"
             ],
             [
              0.1111111111111111,
              "#46039f"
             ],
             [
              0.2222222222222222,
              "#7201a8"
             ],
             [
              0.3333333333333333,
              "#9c179e"
             ],
             [
              0.4444444444444444,
              "#bd3786"
             ],
             [
              0.5555555555555556,
              "#d8576b"
             ],
             [
              0.6666666666666666,
              "#ed7953"
             ],
             [
              0.7777777777777778,
              "#fb9f3a"
             ],
             [
              0.8888888888888888,
              "#fdca26"
             ],
             [
              1,
              "#f0f921"
             ]
            ],
            "type": "heatmap"
           }
          ],
          "heatmapgl": [
           {
            "colorbar": {
             "outlinewidth": 0,
             "ticks": ""
            },
            "colorscale": [
             [
              0,
              "#0d0887"
             ],
             [
              0.1111111111111111,
              "#46039f"
             ],
             [
              0.2222222222222222,
              "#7201a8"
             ],
             [
              0.3333333333333333,
              "#9c179e"
             ],
             [
              0.4444444444444444,
              "#bd3786"
             ],
             [
              0.5555555555555556,
              "#d8576b"
             ],
             [
              0.6666666666666666,
              "#ed7953"
             ],
             [
              0.7777777777777778,
              "#fb9f3a"
             ],
             [
              0.8888888888888888,
              "#fdca26"
             ],
             [
              1,
              "#f0f921"
             ]
            ],
            "type": "heatmapgl"
           }
          ],
          "histogram": [
           {
            "marker": {
             "pattern": {
              "fillmode": "overlay",
              "size": 10,
              "solidity": 0.2
             }
            },
            "type": "histogram"
           }
          ],
          "histogram2d": [
           {
            "colorbar": {
             "outlinewidth": 0,
             "ticks": ""
            },
            "colorscale": [
             [
              0,
              "#0d0887"
             ],
             [
              0.1111111111111111,
              "#46039f"
             ],
             [
              0.2222222222222222,
              "#7201a8"
             ],
             [
              0.3333333333333333,
              "#9c179e"
             ],
             [
              0.4444444444444444,
              "#bd3786"
             ],
             [
              0.5555555555555556,
              "#d8576b"
             ],
             [
              0.6666666666666666,
              "#ed7953"
             ],
             [
              0.7777777777777778,
              "#fb9f3a"
             ],
             [
              0.8888888888888888,
              "#fdca26"
             ],
             [
              1,
              "#f0f921"
             ]
            ],
            "type": "histogram2d"
           }
          ],
          "histogram2dcontour": [
           {
            "colorbar": {
             "outlinewidth": 0,
             "ticks": ""
            },
            "colorscale": [
             [
              0,
              "#0d0887"
             ],
             [
              0.1111111111111111,
              "#46039f"
             ],
             [
              0.2222222222222222,
              "#7201a8"
             ],
             [
              0.3333333333333333,
              "#9c179e"
             ],
             [
              0.4444444444444444,
              "#bd3786"
             ],
             [
              0.5555555555555556,
              "#d8576b"
             ],
             [
              0.6666666666666666,
              "#ed7953"
             ],
             [
              0.7777777777777778,
              "#fb9f3a"
             ],
             [
              0.8888888888888888,
              "#fdca26"
             ],
             [
              1,
              "#f0f921"
             ]
            ],
            "type": "histogram2dcontour"
           }
          ],
          "mesh3d": [
           {
            "colorbar": {
             "outlinewidth": 0,
             "ticks": ""
            },
            "type": "mesh3d"
           }
          ],
          "parcoords": [
           {
            "line": {
             "colorbar": {
              "outlinewidth": 0,
              "ticks": ""
             }
            },
            "type": "parcoords"
           }
          ],
          "pie": [
           {
            "automargin": true,
            "type": "pie"
           }
          ],
          "scatter": [
           {
            "fillpattern": {
             "fillmode": "overlay",
             "size": 10,
             "solidity": 0.2
            },
            "type": "scatter"
           }
          ],
          "scatter3d": [
           {
            "line": {
             "colorbar": {
              "outlinewidth": 0,
              "ticks": ""
             }
            },
            "marker": {
             "colorbar": {
              "outlinewidth": 0,
              "ticks": ""
             }
            },
            "type": "scatter3d"
           }
          ],
          "scattercarpet": [
           {
            "marker": {
             "colorbar": {
              "outlinewidth": 0,
              "ticks": ""
             }
            },
            "type": "scattercarpet"
           }
          ],
          "scattergeo": [
           {
            "marker": {
             "colorbar": {
              "outlinewidth": 0,
              "ticks": ""
             }
            },
            "type": "scattergeo"
           }
          ],
          "scattergl": [
           {
            "marker": {
             "colorbar": {
              "outlinewidth": 0,
              "ticks": ""
             }
            },
            "type": "scattergl"
           }
          ],
          "scattermapbox": [
           {
            "marker": {
             "colorbar": {
              "outlinewidth": 0,
              "ticks": ""
             }
            },
            "type": "scattermapbox"
           }
          ],
          "scatterpolar": [
           {
            "marker": {
             "colorbar": {
              "outlinewidth": 0,
              "ticks": ""
             }
            },
            "type": "scatterpolar"
           }
          ],
          "scatterpolargl": [
           {
            "marker": {
             "colorbar": {
              "outlinewidth": 0,
              "ticks": ""
             }
            },
            "type": "scatterpolargl"
           }
          ],
          "scatterternary": [
           {
            "marker": {
             "colorbar": {
              "outlinewidth": 0,
              "ticks": ""
             }
            },
            "type": "scatterternary"
           }
          ],
          "surface": [
           {
            "colorbar": {
             "outlinewidth": 0,
             "ticks": ""
            },
            "colorscale": [
             [
              0,
              "#0d0887"
             ],
             [
              0.1111111111111111,
              "#46039f"
             ],
             [
              0.2222222222222222,
              "#7201a8"
             ],
             [
              0.3333333333333333,
              "#9c179e"
             ],
             [
              0.4444444444444444,
              "#bd3786"
             ],
             [
              0.5555555555555556,
              "#d8576b"
             ],
             [
              0.6666666666666666,
              "#ed7953"
             ],
             [
              0.7777777777777778,
              "#fb9f3a"
             ],
             [
              0.8888888888888888,
              "#fdca26"
             ],
             [
              1,
              "#f0f921"
             ]
            ],
            "type": "surface"
           }
          ],
          "table": [
           {
            "cells": {
             "fill": {
              "color": "#EBF0F8"
             },
             "line": {
              "color": "white"
             }
            },
            "header": {
             "fill": {
              "color": "#C8D4E3"
             },
             "line": {
              "color": "white"
             }
            },
            "type": "table"
           }
          ]
         },
         "layout": {
          "annotationdefaults": {
           "arrowcolor": "#2a3f5f",
           "arrowhead": 0,
           "arrowwidth": 1
          },
          "autotypenumbers": "strict",
          "coloraxis": {
           "colorbar": {
            "outlinewidth": 0,
            "ticks": ""
           }
          },
          "colorscale": {
           "diverging": [
            [
             0,
             "#8e0152"
            ],
            [
             0.1,
             "#c51b7d"
            ],
            [
             0.2,
             "#de77ae"
            ],
            [
             0.3,
             "#f1b6da"
            ],
            [
             0.4,
             "#fde0ef"
            ],
            [
             0.5,
             "#f7f7f7"
            ],
            [
             0.6,
             "#e6f5d0"
            ],
            [
             0.7,
             "#b8e186"
            ],
            [
             0.8,
             "#7fbc41"
            ],
            [
             0.9,
             "#4d9221"
            ],
            [
             1,
             "#276419"
            ]
           ],
           "sequential": [
            [
             0,
             "#0d0887"
            ],
            [
             0.1111111111111111,
             "#46039f"
            ],
            [
             0.2222222222222222,
             "#7201a8"
            ],
            [
             0.3333333333333333,
             "#9c179e"
            ],
            [
             0.4444444444444444,
             "#bd3786"
            ],
            [
             0.5555555555555556,
             "#d8576b"
            ],
            [
             0.6666666666666666,
             "#ed7953"
            ],
            [
             0.7777777777777778,
             "#fb9f3a"
            ],
            [
             0.8888888888888888,
             "#fdca26"
            ],
            [
             1,
             "#f0f921"
            ]
           ],
           "sequentialminus": [
            [
             0,
             "#0d0887"
            ],
            [
             0.1111111111111111,
             "#46039f"
            ],
            [
             0.2222222222222222,
             "#7201a8"
            ],
            [
             0.3333333333333333,
             "#9c179e"
            ],
            [
             0.4444444444444444,
             "#bd3786"
            ],
            [
             0.5555555555555556,
             "#d8576b"
            ],
            [
             0.6666666666666666,
             "#ed7953"
            ],
            [
             0.7777777777777778,
             "#fb9f3a"
            ],
            [
             0.8888888888888888,
             "#fdca26"
            ],
            [
             1,
             "#f0f921"
            ]
           ]
          },
          "colorway": [
           "#636efa",
           "#EF553B",
           "#00cc96",
           "#ab63fa",
           "#FFA15A",
           "#19d3f3",
           "#FF6692",
           "#B6E880",
           "#FF97FF",
           "#FECB52"
          ],
          "font": {
           "color": "#2a3f5f"
          },
          "geo": {
           "bgcolor": "white",
           "lakecolor": "white",
           "landcolor": "#E5ECF6",
           "showlakes": true,
           "showland": true,
           "subunitcolor": "white"
          },
          "hoverlabel": {
           "align": "left"
          },
          "hovermode": "closest",
          "mapbox": {
           "style": "light"
          },
          "paper_bgcolor": "white",
          "plot_bgcolor": "#E5ECF6",
          "polar": {
           "angularaxis": {
            "gridcolor": "white",
            "linecolor": "white",
            "ticks": ""
           },
           "bgcolor": "#E5ECF6",
           "radialaxis": {
            "gridcolor": "white",
            "linecolor": "white",
            "ticks": ""
           }
          },
          "scene": {
           "xaxis": {
            "backgroundcolor": "#E5ECF6",
            "gridcolor": "white",
            "gridwidth": 2,
            "linecolor": "white",
            "showbackground": true,
            "ticks": "",
            "zerolinecolor": "white"
           },
           "yaxis": {
            "backgroundcolor": "#E5ECF6",
            "gridcolor": "white",
            "gridwidth": 2,
            "linecolor": "white",
            "showbackground": true,
            "ticks": "",
            "zerolinecolor": "white"
           },
           "zaxis": {
            "backgroundcolor": "#E5ECF6",
            "gridcolor": "white",
            "gridwidth": 2,
            "linecolor": "white",
            "showbackground": true,
            "ticks": "",
            "zerolinecolor": "white"
           }
          },
          "shapedefaults": {
           "line": {
            "color": "#2a3f5f"
           }
          },
          "ternary": {
           "aaxis": {
            "gridcolor": "white",
            "linecolor": "white",
            "ticks": ""
           },
           "baxis": {
            "gridcolor": "white",
            "linecolor": "white",
            "ticks": ""
           },
           "bgcolor": "#E5ECF6",
           "caxis": {
            "gridcolor": "white",
            "linecolor": "white",
            "ticks": ""
           }
          },
          "title": {
           "x": 0.05
          },
          "xaxis": {
           "automargin": true,
           "gridcolor": "white",
           "linecolor": "white",
           "ticks": "",
           "title": {
            "standoff": 15
           },
           "zerolinecolor": "white",
           "zerolinewidth": 2
          },
          "yaxis": {
           "automargin": true,
           "gridcolor": "white",
           "linecolor": "white",
           "ticks": "",
           "title": {
            "standoff": 15
           },
           "zerolinecolor": "white",
           "zerolinewidth": 2
          }
         }
        },
        "title": {
         "text": "3d TSNE Plot for Outliers"
        },
        "width": 900
       }
      }
     },
     "metadata": {},
     "output_type": "display_data"
    }
   ],
   "source": [
    "# OOP API\n",
    "s.plot_model(iforest, plot = 'tsne')"
   ]
  },
  {
   "cell_type": "code",
   "execution_count": 41,
   "id": "16bb31f7",
   "metadata": {},
   "outputs": [
    {
     "data": {
      "text/html": [],
      "text/plain": [
       "<IPython.core.display.HTML object>"
      ]
     },
     "metadata": {},
     "output_type": "display_data"
    },
    {
     "ename": "ModuleNotFoundError",
     "evalue": "\n'umap' is a soft dependency and not included in the pycaret installation. Please run: `pip install umap-learn` to install.\nAlternately, you can install this by running `pip install pycaret[analysis]`",
     "output_type": "error",
     "traceback": [
      "\u001b[0;31m---------------------------------------------------------------------------\u001b[0m",
      "\u001b[0;31mModuleNotFoundError\u001b[0m                       Traceback (most recent call last)",
      "Cell \u001b[0;32mIn[41], line 2\u001b[0m\n\u001b[1;32m      1\u001b[0m \u001b[38;5;66;03m# OOP API\u001b[39;00m\n\u001b[0;32m----> 2\u001b[0m \u001b[43ms\u001b[49m\u001b[38;5;241;43m.\u001b[39;49m\u001b[43mplot_model\u001b[49m\u001b[43m(\u001b[49m\u001b[43miforest\u001b[49m\u001b[43m,\u001b[49m\u001b[43m \u001b[49m\u001b[43mplot\u001b[49m\u001b[43m \u001b[49m\u001b[38;5;241;43m=\u001b[39;49m\u001b[43m \u001b[49m\u001b[38;5;124;43m'\u001b[39;49m\u001b[38;5;124;43mumap\u001b[39;49m\u001b[38;5;124;43m'\u001b[39;49m\u001b[43m)\u001b[49m\n",
      "File \u001b[0;32m~/projetos/pyparet_teste/.venv/lib/python3.9/site-packages/pycaret/anomaly/oop.py:152\u001b[0m, in \u001b[0;36mAnomalyExperiment.plot_model\u001b[0;34m(self, estimator, plot, scale, save, fold, fit_kwargs, plot_kwargs, groups, feature_name, label, verbose, display_format)\u001b[0m\n\u001b[1;32m     85\u001b[0m \u001b[38;5;28;01mdef\u001b[39;00m\u001b[38;5;250m \u001b[39m\u001b[38;5;21mplot_model\u001b[39m(\n\u001b[1;32m     86\u001b[0m     \u001b[38;5;28mself\u001b[39m,\n\u001b[1;32m     87\u001b[0m     estimator,\n\u001b[0;32m   (...)\u001b[0m\n\u001b[1;32m     98\u001b[0m     display_format: Optional[\u001b[38;5;28mstr\u001b[39m] \u001b[38;5;241m=\u001b[39m \u001b[38;5;28;01mNone\u001b[39;00m,\n\u001b[1;32m     99\u001b[0m ) \u001b[38;5;241m-\u001b[39m\u001b[38;5;241m>\u001b[39m Optional[\u001b[38;5;28mstr\u001b[39m]:\n\u001b[1;32m    100\u001b[0m \u001b[38;5;250m    \u001b[39m\u001b[38;5;124;03m\"\"\"\u001b[39;00m\n\u001b[1;32m    101\u001b[0m \u001b[38;5;124;03m    This function analyzes the performance of a trained model.\u001b[39;00m\n\u001b[1;32m    102\u001b[0m \n\u001b[0;32m   (...)\u001b[0m\n\u001b[1;32m    150\u001b[0m \n\u001b[1;32m    151\u001b[0m \u001b[38;5;124;03m    \"\"\"\u001b[39;00m\n\u001b[0;32m--> 152\u001b[0m     \u001b[38;5;28;01mreturn\u001b[39;00m \u001b[38;5;28;43msuper\u001b[39;49m\u001b[43m(\u001b[49m\u001b[43m)\u001b[49m\u001b[38;5;241;43m.\u001b[39;49m\u001b[43mplot_model\u001b[49m\u001b[43m(\u001b[49m\n\u001b[1;32m    153\u001b[0m \u001b[43m        \u001b[49m\u001b[43mestimator\u001b[49m\u001b[43m,\u001b[49m\n\u001b[1;32m    154\u001b[0m \u001b[43m        \u001b[49m\u001b[43mplot\u001b[49m\u001b[43m,\u001b[49m\n\u001b[1;32m    155\u001b[0m \u001b[43m        \u001b[49m\u001b[43mscale\u001b[49m\u001b[43m,\u001b[49m\n\u001b[1;32m    156\u001b[0m \u001b[43m        \u001b[49m\u001b[43msave\u001b[49m\u001b[43m,\u001b[49m\n\u001b[1;32m    157\u001b[0m \u001b[43m        \u001b[49m\u001b[43mfold\u001b[49m\u001b[43m,\u001b[49m\n\u001b[1;32m    158\u001b[0m \u001b[43m        \u001b[49m\u001b[43mfit_kwargs\u001b[49m\u001b[43m,\u001b[49m\n\u001b[1;32m    159\u001b[0m \u001b[43m        \u001b[49m\u001b[43mplot_kwargs\u001b[49m\u001b[43m,\u001b[49m\n\u001b[1;32m    160\u001b[0m \u001b[43m        \u001b[49m\u001b[43mgroups\u001b[49m\u001b[43m,\u001b[49m\n\u001b[1;32m    161\u001b[0m \u001b[43m        \u001b[49m\u001b[43mfeature_name\u001b[49m\u001b[43m,\u001b[49m\n\u001b[1;32m    162\u001b[0m \u001b[43m        \u001b[49m\u001b[43mlabel\u001b[49m\u001b[43m,\u001b[49m\n\u001b[1;32m    163\u001b[0m \u001b[43m        \u001b[49m\u001b[43mverbose\u001b[49m\u001b[43m,\u001b[49m\n\u001b[1;32m    164\u001b[0m \u001b[43m        \u001b[49m\u001b[43mdisplay_format\u001b[49m\u001b[43m,\u001b[49m\n\u001b[1;32m    165\u001b[0m \u001b[43m    \u001b[49m\u001b[43m)\u001b[49m\n",
      "File \u001b[0;32m~/projetos/pyparet_teste/.venv/lib/python3.9/site-packages/pycaret/internal/pycaret_experiment/tabular_experiment.py:2045\u001b[0m, in \u001b[0;36m_TabularExperiment.plot_model\u001b[0;34m(self, estimator, plot, scale, save, fold, fit_kwargs, plot_kwargs, groups, feature_name, label, verbose, display_format)\u001b[0m\n\u001b[1;32m   1933\u001b[0m \u001b[38;5;28;01mdef\u001b[39;00m\u001b[38;5;250m \u001b[39m\u001b[38;5;21mplot_model\u001b[39m(\n\u001b[1;32m   1934\u001b[0m     \u001b[38;5;28mself\u001b[39m,\n\u001b[1;32m   1935\u001b[0m     estimator,\n\u001b[0;32m   (...)\u001b[0m\n\u001b[1;32m   1946\u001b[0m     display_format: Optional[\u001b[38;5;28mstr\u001b[39m] \u001b[38;5;241m=\u001b[39m \u001b[38;5;28;01mNone\u001b[39;00m,\n\u001b[1;32m   1947\u001b[0m ) \u001b[38;5;241m-\u001b[39m\u001b[38;5;241m>\u001b[39m Optional[\u001b[38;5;28mstr\u001b[39m]:\n\u001b[1;32m   1948\u001b[0m \u001b[38;5;250m    \u001b[39m\u001b[38;5;124;03m\"\"\"\u001b[39;00m\n\u001b[1;32m   1949\u001b[0m \u001b[38;5;124;03m    This function takes a trained model object and returns a plot based on the\u001b[39;00m\n\u001b[1;32m   1950\u001b[0m \u001b[38;5;124;03m    test / hold-out set. The process may require the model to be re-trained in\u001b[39;00m\n\u001b[0;32m   (...)\u001b[0m\n\u001b[1;32m   2043\u001b[0m \n\u001b[1;32m   2044\u001b[0m \u001b[38;5;124;03m    \"\"\"\u001b[39;00m\n\u001b[0;32m-> 2045\u001b[0m     \u001b[38;5;28;01mreturn\u001b[39;00m \u001b[38;5;28;43mself\u001b[39;49m\u001b[38;5;241;43m.\u001b[39;49m\u001b[43m_plot_model\u001b[49m\u001b[43m(\u001b[49m\n\u001b[1;32m   2046\u001b[0m \u001b[43m        \u001b[49m\u001b[43mestimator\u001b[49m\u001b[38;5;241;43m=\u001b[39;49m\u001b[43mestimator\u001b[49m\u001b[43m,\u001b[49m\n\u001b[1;32m   2047\u001b[0m \u001b[43m        \u001b[49m\u001b[43mplot\u001b[49m\u001b[38;5;241;43m=\u001b[39;49m\u001b[43mplot\u001b[49m\u001b[43m,\u001b[49m\n\u001b[1;32m   2048\u001b[0m \u001b[43m        \u001b[49m\u001b[43mscale\u001b[49m\u001b[38;5;241;43m=\u001b[39;49m\u001b[43mscale\u001b[49m\u001b[43m,\u001b[49m\n\u001b[1;32m   2049\u001b[0m \u001b[43m        \u001b[49m\u001b[43msave\u001b[49m\u001b[38;5;241;43m=\u001b[39;49m\u001b[43msave\u001b[49m\u001b[43m,\u001b[49m\n\u001b[1;32m   2050\u001b[0m \u001b[43m        \u001b[49m\u001b[43mfold\u001b[49m\u001b[38;5;241;43m=\u001b[39;49m\u001b[43mfold\u001b[49m\u001b[43m,\u001b[49m\n\u001b[1;32m   2051\u001b[0m \u001b[43m        \u001b[49m\u001b[43mfit_kwargs\u001b[49m\u001b[38;5;241;43m=\u001b[39;49m\u001b[43mfit_kwargs\u001b[49m\u001b[43m,\u001b[49m\n\u001b[1;32m   2052\u001b[0m \u001b[43m        \u001b[49m\u001b[43mplot_kwargs\u001b[49m\u001b[38;5;241;43m=\u001b[39;49m\u001b[43mplot_kwargs\u001b[49m\u001b[43m,\u001b[49m\n\u001b[1;32m   2053\u001b[0m \u001b[43m        \u001b[49m\u001b[43mgroups\u001b[49m\u001b[38;5;241;43m=\u001b[39;49m\u001b[43mgroups\u001b[49m\u001b[43m,\u001b[49m\n\u001b[1;32m   2054\u001b[0m \u001b[43m        \u001b[49m\u001b[43mfeature_name\u001b[49m\u001b[38;5;241;43m=\u001b[39;49m\u001b[43mfeature_name\u001b[49m\u001b[43m,\u001b[49m\n\u001b[1;32m   2055\u001b[0m \u001b[43m        \u001b[49m\u001b[43mlabel\u001b[49m\u001b[38;5;241;43m=\u001b[39;49m\u001b[43mlabel\u001b[49m\u001b[43m,\u001b[49m\n\u001b[1;32m   2056\u001b[0m \u001b[43m        \u001b[49m\u001b[43mverbose\u001b[49m\u001b[38;5;241;43m=\u001b[39;49m\u001b[43mverbose\u001b[49m\u001b[43m,\u001b[49m\n\u001b[1;32m   2057\u001b[0m \u001b[43m        \u001b[49m\u001b[43mdisplay_format\u001b[49m\u001b[38;5;241;43m=\u001b[39;49m\u001b[43mdisplay_format\u001b[49m\u001b[43m,\u001b[49m\n\u001b[1;32m   2058\u001b[0m \u001b[43m    \u001b[49m\u001b[43m)\u001b[49m\n",
      "File \u001b[0;32m~/projetos/pyparet_teste/.venv/lib/python3.9/site-packages/pycaret/internal/pycaret_experiment/tabular_experiment.py:1913\u001b[0m, in \u001b[0;36m_TabularExperiment._plot_model\u001b[0;34m(self, estimator, plot, scale, save, fold, fit_kwargs, plot_kwargs, groups, feature_name, label, verbose, system, display, display_format)\u001b[0m\n\u001b[1;32m   1911\u001b[0m \u001b[38;5;66;03m# execute the plot method\u001b[39;00m\n\u001b[1;32m   1912\u001b[0m \u001b[38;5;28;01mwith\u001b[39;00m redirect_output(\u001b[38;5;28mself\u001b[39m\u001b[38;5;241m.\u001b[39mlogger):\n\u001b[0;32m-> 1913\u001b[0m     ret \u001b[38;5;241m=\u001b[39m \u001b[38;5;28;43mlocals\u001b[39;49m\u001b[43m(\u001b[49m\u001b[43m)\u001b[49m\u001b[43m[\u001b[49m\u001b[43mplot\u001b[49m\u001b[43m]\u001b[49m\u001b[43m(\u001b[49m\u001b[43m)\u001b[49m\n\u001b[1;32m   1914\u001b[0m \u001b[38;5;28;01mif\u001b[39;00m ret:\n\u001b[1;32m   1915\u001b[0m     plot_filename \u001b[38;5;241m=\u001b[39m ret\n",
      "File \u001b[0;32m~/projetos/pyparet_teste/.venv/lib/python3.9/site-packages/pycaret/internal/pycaret_experiment/tabular_experiment.py:725\u001b[0m, in \u001b[0;36m_TabularExperiment._plot_model.<locals>.umap\u001b[0;34m()\u001b[0m\n\u001b[1;32m    722\u001b[0m b\u001b[38;5;241m.\u001b[39mdropna(axis\u001b[38;5;241m=\u001b[39m\u001b[38;5;241m0\u001b[39m, inplace\u001b[38;5;241m=\u001b[39m\u001b[38;5;28;01mTrue\u001b[39;00m)  \u001b[38;5;66;03m# droping rows with NA's\u001b[39;00m\n\u001b[1;32m    723\u001b[0m b\u001b[38;5;241m.\u001b[39mdrop([\u001b[38;5;124m\"\u001b[39m\u001b[38;5;124mAnomaly\u001b[39m\u001b[38;5;124m\"\u001b[39m], axis\u001b[38;5;241m=\u001b[39m\u001b[38;5;241m1\u001b[39m, inplace\u001b[38;5;241m=\u001b[39m\u001b[38;5;28;01mTrue\u001b[39;00m)\n\u001b[0;32m--> 725\u001b[0m \u001b[43m_check_soft_dependencies\u001b[49m\u001b[43m(\u001b[49m\n\u001b[1;32m    726\u001b[0m \u001b[43m    \u001b[49m\u001b[38;5;124;43m\"\u001b[39;49m\u001b[38;5;124;43mumap\u001b[39;49m\u001b[38;5;124;43m\"\u001b[39;49m\u001b[43m,\u001b[49m\n\u001b[1;32m    727\u001b[0m \u001b[43m    \u001b[49m\u001b[43mextra\u001b[49m\u001b[38;5;241;43m=\u001b[39;49m\u001b[38;5;124;43m\"\u001b[39;49m\u001b[38;5;124;43manalysis\u001b[39;49m\u001b[38;5;124;43m\"\u001b[39;49m\u001b[43m,\u001b[49m\n\u001b[1;32m    728\u001b[0m \u001b[43m    \u001b[49m\u001b[43mseverity\u001b[49m\u001b[38;5;241;43m=\u001b[39;49m\u001b[38;5;124;43m\"\u001b[39;49m\u001b[38;5;124;43merror\u001b[39;49m\u001b[38;5;124;43m\"\u001b[39;49m\u001b[43m,\u001b[49m\n\u001b[1;32m    729\u001b[0m \u001b[43m    \u001b[49m\u001b[43minstall_name\u001b[49m\u001b[38;5;241;43m=\u001b[39;49m\u001b[38;5;124;43m\"\u001b[39;49m\u001b[38;5;124;43mumap-learn\u001b[39;49m\u001b[38;5;124;43m\"\u001b[39;49m\u001b[43m,\u001b[49m\n\u001b[1;32m    730\u001b[0m \u001b[43m\u001b[49m\u001b[43m)\u001b[49m\n\u001b[1;32m    731\u001b[0m \u001b[38;5;28;01mimport\u001b[39;00m\u001b[38;5;250m \u001b[39m\u001b[38;5;21;01mumap\u001b[39;00m\n\u001b[1;32m    733\u001b[0m reducer \u001b[38;5;241m=\u001b[39m umap\u001b[38;5;241m.\u001b[39mUMAP()\n",
      "File \u001b[0;32m~/projetos/pyparet_teste/.venv/lib/python3.9/site-packages/pycaret/utils/_dependencies.py:152\u001b[0m, in \u001b[0;36m_check_soft_dependencies\u001b[0;34m(package, severity, extra, install_name)\u001b[0m\n\u001b[1;32m    150\u001b[0m \u001b[38;5;28;01mif\u001b[39;00m severity \u001b[38;5;241m==\u001b[39m \u001b[38;5;124m\"\u001b[39m\u001b[38;5;124merror\u001b[39m\u001b[38;5;124m\"\u001b[39m:\n\u001b[1;32m    151\u001b[0m     logger\u001b[38;5;241m.\u001b[39mexception(\u001b[38;5;124mf\u001b[39m\u001b[38;5;124m\"\u001b[39m\u001b[38;5;132;01m{\u001b[39;00mmsg\u001b[38;5;132;01m}\u001b[39;00m\u001b[38;5;124m\"\u001b[39m)\n\u001b[0;32m--> 152\u001b[0m     \u001b[38;5;28;01mraise\u001b[39;00m \u001b[38;5;167;01mModuleNotFoundError\u001b[39;00m(msg)\n\u001b[1;32m    153\u001b[0m \u001b[38;5;28;01melif\u001b[39;00m severity \u001b[38;5;241m==\u001b[39m \u001b[38;5;124m\"\u001b[39m\u001b[38;5;124mwarning\u001b[39m\u001b[38;5;124m\"\u001b[39m:\n\u001b[1;32m    154\u001b[0m     logger\u001b[38;5;241m.\u001b[39mwarning(\u001b[38;5;124mf\u001b[39m\u001b[38;5;124m\"\u001b[39m\u001b[38;5;132;01m{\u001b[39;00mmsg\u001b[38;5;132;01m}\u001b[39;00m\u001b[38;5;124m\"\u001b[39m)\n",
      "\u001b[0;31mModuleNotFoundError\u001b[0m: \n'umap' is a soft dependency and not included in the pycaret installation. Please run: `pip install umap-learn` to install.\nAlternately, you can install this by running `pip install pycaret[analysis]`"
     ]
    }
   ],
   "source": [
    "# OOP API\n",
    "s.plot_model(iforest, plot = 'umap')"
   ]
  },
  {
   "cell_type": "code",
   "execution_count": null,
   "id": "6698a758",
   "metadata": {},
   "outputs": [
    {
     "data": {
      "application/vnd.microsoft.datawrangler.viewer.v0+json": {
       "columns": [
        {
         "name": "index",
         "rawType": "int64",
         "type": "integer"
        },
        {
         "name": "Col1",
         "rawType": "float32",
         "type": "float"
        },
        {
         "name": "Col2",
         "rawType": "float32",
         "type": "float"
        },
        {
         "name": "Col3",
         "rawType": "float32",
         "type": "float"
        },
        {
         "name": "Col4",
         "rawType": "float32",
         "type": "float"
        },
        {
         "name": "Col5",
         "rawType": "float32",
         "type": "float"
        },
        {
         "name": "Col6",
         "rawType": "float32",
         "type": "float"
        },
        {
         "name": "Col7",
         "rawType": "float32",
         "type": "float"
        },
        {
         "name": "Col8",
         "rawType": "float32",
         "type": "float"
        },
        {
         "name": "Col9",
         "rawType": "float32",
         "type": "float"
        },
        {
         "name": "Col10",
         "rawType": "float32",
         "type": "float"
        },
        {
         "name": "Anomaly",
         "rawType": "int64",
         "type": "integer"
        },
        {
         "name": "Anomaly_Score",
         "rawType": "float64",
         "type": "float"
        }
       ],
       "ref": "f312dc0a-889e-40f5-9671-e1cfb2801dac",
       "rows": [
        [
         "0",
         "0.26399535",
         "0.7649286",
         "0.13842355",
         "0.93524206",
         "0.60586655",
         "0.5187897",
         "0.9122252",
         "0.60823447",
         "0.72378194",
         "0.73359096",
         "0",
         "-0.035865320749126406"
        ],
        [
         "1",
         "0.54609233",
         "0.6539746",
         "0.06557514",
         "0.22777191",
         "0.84526944",
         "0.8370659",
         "0.27237895",
         "0.3316787",
         "0.42929697",
         "0.367422",
         "0",
         "-0.08492748207753231"
        ],
        [
         "2",
         "0.33671412",
         "0.53884244",
         "0.19280107",
         "0.5535628",
         "0.07451451",
         "0.33299315",
         "0.3657922",
         "0.86130935",
         "0.89901656",
         "0.08860015",
         "1",
         "0.025355834528991483"
        ],
        [
         "3",
         "0.09210783",
         "0.99501663",
         "0.014465045",
         "0.17637065",
         "0.24153008",
         "0.51472366",
         "0.5622082",
         "0.15896326",
         "0.07371522",
         "0.20846322",
         "1",
         "0.04241493108566574"
        ],
        [
         "4",
         "0.32526118",
         "0.8059676",
         "0.9570334",
         "0.33166495",
         "0.30792338",
         "0.35531476",
         "0.5018985",
         "0.55844945",
         "0.88516927",
         "0.18275441",
         "0",
         "-0.023408125435879445"
        ]
       ],
       "shape": {
        "columns": 12,
        "rows": 5
       }
      },
      "text/html": [
       "<div>\n",
       "<style scoped>\n",
       "    .dataframe tbody tr th:only-of-type {\n",
       "        vertical-align: middle;\n",
       "    }\n",
       "\n",
       "    .dataframe tbody tr th {\n",
       "        vertical-align: top;\n",
       "    }\n",
       "\n",
       "    .dataframe thead th {\n",
       "        text-align: right;\n",
       "    }\n",
       "</style>\n",
       "<table border=\"1\" class=\"dataframe\">\n",
       "  <thead>\n",
       "    <tr style=\"text-align: right;\">\n",
       "      <th></th>\n",
       "      <th>Col1</th>\n",
       "      <th>Col2</th>\n",
       "      <th>Col3</th>\n",
       "      <th>Col4</th>\n",
       "      <th>Col5</th>\n",
       "      <th>Col6</th>\n",
       "      <th>Col7</th>\n",
       "      <th>Col8</th>\n",
       "      <th>Col9</th>\n",
       "      <th>Col10</th>\n",
       "      <th>Anomaly</th>\n",
       "      <th>Anomaly_Score</th>\n",
       "    </tr>\n",
       "  </thead>\n",
       "  <tbody>\n",
       "    <tr>\n",
       "      <th>0</th>\n",
       "      <td>0.263995</td>\n",
       "      <td>0.764929</td>\n",
       "      <td>0.138424</td>\n",
       "      <td>0.935242</td>\n",
       "      <td>0.605867</td>\n",
       "      <td>0.518790</td>\n",
       "      <td>0.912225</td>\n",
       "      <td>0.608234</td>\n",
       "      <td>0.723782</td>\n",
       "      <td>0.733591</td>\n",
       "      <td>0</td>\n",
       "      <td>-0.035865</td>\n",
       "    </tr>\n",
       "    <tr>\n",
       "      <th>1</th>\n",
       "      <td>0.546092</td>\n",
       "      <td>0.653975</td>\n",
       "      <td>0.065575</td>\n",
       "      <td>0.227772</td>\n",
       "      <td>0.845269</td>\n",
       "      <td>0.837066</td>\n",
       "      <td>0.272379</td>\n",
       "      <td>0.331679</td>\n",
       "      <td>0.429297</td>\n",
       "      <td>0.367422</td>\n",
       "      <td>0</td>\n",
       "      <td>-0.084927</td>\n",
       "    </tr>\n",
       "    <tr>\n",
       "      <th>2</th>\n",
       "      <td>0.336714</td>\n",
       "      <td>0.538842</td>\n",
       "      <td>0.192801</td>\n",
       "      <td>0.553563</td>\n",
       "      <td>0.074515</td>\n",
       "      <td>0.332993</td>\n",
       "      <td>0.365792</td>\n",
       "      <td>0.861309</td>\n",
       "      <td>0.899017</td>\n",
       "      <td>0.088600</td>\n",
       "      <td>1</td>\n",
       "      <td>0.025356</td>\n",
       "    </tr>\n",
       "    <tr>\n",
       "      <th>3</th>\n",
       "      <td>0.092108</td>\n",
       "      <td>0.995017</td>\n",
       "      <td>0.014465</td>\n",
       "      <td>0.176371</td>\n",
       "      <td>0.241530</td>\n",
       "      <td>0.514724</td>\n",
       "      <td>0.562208</td>\n",
       "      <td>0.158963</td>\n",
       "      <td>0.073715</td>\n",
       "      <td>0.208463</td>\n",
       "      <td>1</td>\n",
       "      <td>0.042415</td>\n",
       "    </tr>\n",
       "    <tr>\n",
       "      <th>4</th>\n",
       "      <td>0.325261</td>\n",
       "      <td>0.805968</td>\n",
       "      <td>0.957033</td>\n",
       "      <td>0.331665</td>\n",
       "      <td>0.307923</td>\n",
       "      <td>0.355315</td>\n",
       "      <td>0.501899</td>\n",
       "      <td>0.558449</td>\n",
       "      <td>0.885169</td>\n",
       "      <td>0.182754</td>\n",
       "      <td>0</td>\n",
       "      <td>-0.023408</td>\n",
       "    </tr>\n",
       "  </tbody>\n",
       "</table>\n",
       "</div>"
      ],
      "text/plain": [
       "       Col1      Col2      Col3      Col4      Col5      Col6      Col7  \\\n",
       "0  0.263995  0.764929  0.138424  0.935242  0.605867  0.518790  0.912225   \n",
       "1  0.546092  0.653975  0.065575  0.227772  0.845269  0.837066  0.272379   \n",
       "2  0.336714  0.538842  0.192801  0.553563  0.074515  0.332993  0.365792   \n",
       "3  0.092108  0.995017  0.014465  0.176371  0.241530  0.514724  0.562208   \n",
       "4  0.325261  0.805968  0.957033  0.331665  0.307923  0.355315  0.501899   \n",
       "\n",
       "       Col8      Col9     Col10  Anomaly  Anomaly_Score  \n",
       "0  0.608234  0.723782  0.733591        0      -0.035865  \n",
       "1  0.331679  0.429297  0.367422        0      -0.084927  \n",
       "2  0.861309  0.899017  0.088600        1       0.025356  \n",
       "3  0.158963  0.073715  0.208463        1       0.042415  \n",
       "4  0.558449  0.885169  0.182754        0      -0.023408  "
      ]
     },
     "execution_count": 52,
     "metadata": {},
     "output_type": "execute_result"
    }
   ],
   "source": [
    "# OOP API\n",
    "result = s.assign_model(iforest)\n",
    "result.head()"
   ]
  },
  {
   "cell_type": "code",
   "execution_count": null,
   "id": "efd197b1",
   "metadata": {},
   "outputs": [
    {
     "data": {
      "application/vnd.microsoft.datawrangler.viewer.v0+json": {
       "columns": [
        {
         "name": "index",
         "rawType": "int64",
         "type": "integer"
        },
        {
         "name": "Col1",
         "rawType": "float64",
         "type": "float"
        },
        {
         "name": "Col2",
         "rawType": "float64",
         "type": "float"
        },
        {
         "name": "Col3",
         "rawType": "float64",
         "type": "float"
        },
        {
         "name": "Col4",
         "rawType": "float64",
         "type": "float"
        },
        {
         "name": "Col5",
         "rawType": "float64",
         "type": "float"
        },
        {
         "name": "Col6",
         "rawType": "float64",
         "type": "float"
        },
        {
         "name": "Col7",
         "rawType": "float64",
         "type": "float"
        },
        {
         "name": "Col8",
         "rawType": "float64",
         "type": "float"
        },
        {
         "name": "Col9",
         "rawType": "float64",
         "type": "float"
        },
        {
         "name": "Col10",
         "rawType": "float64",
         "type": "float"
        },
        {
         "name": "Anomaly",
         "rawType": "int64",
         "type": "integer"
        },
        {
         "name": "Anomaly_Score",
         "rawType": "float64",
         "type": "float"
        }
       ],
       "ref": "85268305-b5f2-4aed-bbb6-d79e1a8dfed5",
       "rows": [
        [
         "0",
         "0.263995357",
         "0.764928588",
         "0.13842355",
         "0.935242061",
         "0.605866573",
         "0.518789697",
         "0.912225161",
         "0.608234451",
         "0.723781923",
         "0.73359095",
         "0",
         "-0.035865320749126406"
        ],
        [
         "1",
         "0.546092303",
         "0.65397459",
         "0.065575135",
         "0.227771913",
         "0.845269445",
         "0.837065879",
         "0.272378939",
         "0.331678698",
         "0.429296975",
         "0.367422001",
         "0",
         "-0.08492748207753231"
        ],
        [
         "2",
         "0.336714104",
         "0.538842451",
         "0.192801069",
         "0.553562822",
         "0.074514511",
         "0.332993162",
         "0.365792205",
         "0.861309323",
         "0.899016587",
         "0.088600152",
         "1",
         "0.025355834528991483"
        ],
        [
         "3",
         "0.092107835",
         "0.995016662",
         "0.014465045",
         "0.176370646",
         "0.241530075",
         "0.514723634",
         "0.562208164",
         "0.158963258",
         "0.073715215",
         "0.208463224",
         "1",
         "0.04241493108566574"
        ],
        [
         "4",
         "0.325261175",
         "0.805967636",
         "0.957033424",
         "0.331664957",
         "0.307923366",
         "0.355314772",
         "0.50189852",
         "0.558449452",
         "0.885169295",
         "0.182754409",
         "0",
         "-0.023408125435879445"
        ]
       ],
       "shape": {
        "columns": 12,
        "rows": 5
       }
      },
      "text/html": [
       "<div>\n",
       "<style scoped>\n",
       "    .dataframe tbody tr th:only-of-type {\n",
       "        vertical-align: middle;\n",
       "    }\n",
       "\n",
       "    .dataframe tbody tr th {\n",
       "        vertical-align: top;\n",
       "    }\n",
       "\n",
       "    .dataframe thead th {\n",
       "        text-align: right;\n",
       "    }\n",
       "</style>\n",
       "<table border=\"1\" class=\"dataframe\">\n",
       "  <thead>\n",
       "    <tr style=\"text-align: right;\">\n",
       "      <th></th>\n",
       "      <th>Col1</th>\n",
       "      <th>Col2</th>\n",
       "      <th>Col3</th>\n",
       "      <th>Col4</th>\n",
       "      <th>Col5</th>\n",
       "      <th>Col6</th>\n",
       "      <th>Col7</th>\n",
       "      <th>Col8</th>\n",
       "      <th>Col9</th>\n",
       "      <th>Col10</th>\n",
       "      <th>Anomaly</th>\n",
       "      <th>Anomaly_Score</th>\n",
       "    </tr>\n",
       "  </thead>\n",
       "  <tbody>\n",
       "    <tr>\n",
       "      <th>0</th>\n",
       "      <td>0.263995</td>\n",
       "      <td>0.764929</td>\n",
       "      <td>0.138424</td>\n",
       "      <td>0.935242</td>\n",
       "      <td>0.605867</td>\n",
       "      <td>0.518790</td>\n",
       "      <td>0.912225</td>\n",
       "      <td>0.608234</td>\n",
       "      <td>0.723782</td>\n",
       "      <td>0.733591</td>\n",
       "      <td>0</td>\n",
       "      <td>-0.035865</td>\n",
       "    </tr>\n",
       "    <tr>\n",
       "      <th>1</th>\n",
       "      <td>0.546092</td>\n",
       "      <td>0.653975</td>\n",
       "      <td>0.065575</td>\n",
       "      <td>0.227772</td>\n",
       "      <td>0.845269</td>\n",
       "      <td>0.837066</td>\n",
       "      <td>0.272379</td>\n",
       "      <td>0.331679</td>\n",
       "      <td>0.429297</td>\n",
       "      <td>0.367422</td>\n",
       "      <td>0</td>\n",
       "      <td>-0.084927</td>\n",
       "    </tr>\n",
       "    <tr>\n",
       "      <th>2</th>\n",
       "      <td>0.336714</td>\n",
       "      <td>0.538842</td>\n",
       "      <td>0.192801</td>\n",
       "      <td>0.553563</td>\n",
       "      <td>0.074515</td>\n",
       "      <td>0.332993</td>\n",
       "      <td>0.365792</td>\n",
       "      <td>0.861309</td>\n",
       "      <td>0.899017</td>\n",
       "      <td>0.088600</td>\n",
       "      <td>1</td>\n",
       "      <td>0.025356</td>\n",
       "    </tr>\n",
       "    <tr>\n",
       "      <th>3</th>\n",
       "      <td>0.092108</td>\n",
       "      <td>0.995017</td>\n",
       "      <td>0.014465</td>\n",
       "      <td>0.176371</td>\n",
       "      <td>0.241530</td>\n",
       "      <td>0.514724</td>\n",
       "      <td>0.562208</td>\n",
       "      <td>0.158963</td>\n",
       "      <td>0.073715</td>\n",
       "      <td>0.208463</td>\n",
       "      <td>1</td>\n",
       "      <td>0.042415</td>\n",
       "    </tr>\n",
       "    <tr>\n",
       "      <th>4</th>\n",
       "      <td>0.325261</td>\n",
       "      <td>0.805968</td>\n",
       "      <td>0.957033</td>\n",
       "      <td>0.331665</td>\n",
       "      <td>0.307923</td>\n",
       "      <td>0.355315</td>\n",
       "      <td>0.501899</td>\n",
       "      <td>0.558449</td>\n",
       "      <td>0.885169</td>\n",
       "      <td>0.182754</td>\n",
       "      <td>0</td>\n",
       "      <td>-0.023408</td>\n",
       "    </tr>\n",
       "  </tbody>\n",
       "</table>\n",
       "</div>"
      ],
      "text/plain": [
       "       Col1      Col2      Col3      Col4      Col5      Col6      Col7  \\\n",
       "0  0.263995  0.764929  0.138424  0.935242  0.605867  0.518790  0.912225   \n",
       "1  0.546092  0.653975  0.065575  0.227772  0.845269  0.837066  0.272379   \n",
       "2  0.336714  0.538842  0.192801  0.553563  0.074515  0.332993  0.365792   \n",
       "3  0.092108  0.995017  0.014465  0.176371  0.241530  0.514724  0.562208   \n",
       "4  0.325261  0.805968  0.957033  0.331665  0.307923  0.355315  0.501899   \n",
       "\n",
       "       Col8      Col9     Col10  Anomaly  Anomaly_Score  \n",
       "0  0.608234  0.723782  0.733591        0      -0.035865  \n",
       "1  0.331679  0.429297  0.367422        0      -0.084927  \n",
       "2  0.861309  0.899017  0.088600        1       0.025356  \n",
       "3  0.158963  0.073715  0.208463        1       0.042415  \n",
       "4  0.558449  0.885169  0.182754        0      -0.023408  "
      ]
     },
     "execution_count": 53,
     "metadata": {},
     "output_type": "execute_result"
    }
   ],
   "source": [
    "# OOP API\n",
    "predictions = s.predict_model(iforest, data = data)\n",
    "predictions.head()"
   ]
  },
  {
   "cell_type": "code",
   "execution_count": null,
   "id": "d90c78e2",
   "metadata": {},
   "outputs": [
    {
     "name": "stdout",
     "output_type": "stream",
     "text": [
      "Transformation Pipeline and Model Successfully Saved\n"
     ]
    },
    {
     "data": {
      "text/plain": [
       "(Pipeline(memory=Memory(location=None),\n",
       "          steps=[('numerical_imputer',\n",
       "                  TransformerWrapper(exclude=None,\n",
       "                                     include=['Col1', 'Col2', 'Col3', 'Col4',\n",
       "                                              'Col5', 'Col6', 'Col7', 'Col8',\n",
       "                                              'Col9', 'Col10'],\n",
       "                                     transformer=SimpleImputer(add_indicator=False,\n",
       "                                                               copy=True,\n",
       "                                                               fill_value=None,\n",
       "                                                               keep_empty_features=False,\n",
       "                                                               missing_values=nan,\n",
       "                                                               strategy='mean'))),\n",
       "                 ('categorical_imputer',\n",
       "                  TransformerW...clude=None, include=[],\n",
       "                                     transformer=SimpleImputer(add_indicator=False,\n",
       "                                                               copy=True,\n",
       "                                                               fill_value=None,\n",
       "                                                               keep_empty_features=False,\n",
       "                                                               missing_values=nan,\n",
       "                                                               strategy='most_frequent'))),\n",
       "                 ('trained_model',\n",
       "                  IForest(behaviour='new', bootstrap=False, contamination=0.05,\n",
       "     max_features=1.0, max_samples='auto', n_estimators=100, n_jobs=-1,\n",
       "     random_state=123, verbose=0))],\n",
       "          verbose=False),\n",
       " 'iforest_pipeline.pkl')"
      ]
     },
     "execution_count": 54,
     "metadata": {},
     "output_type": "execute_result"
    }
   ],
   "source": [
    "# OOP API\n",
    "s.save_model(iforest, 'iforest_pipeline')"
   ]
  },
  {
   "cell_type": "code",
   "execution_count": null,
   "id": "9e6e6242",
   "metadata": {},
   "outputs": [
    {
     "name": "stdout",
     "output_type": "stream",
     "text": [
      "Transformation Pipeline and Model Successfully Loaded\n",
      "Pipeline(memory=FastMemory(location=/var/folders/q6/5p1bc37s5q98swf9z15w9k6m0000gn/T/joblib),\n",
      "         steps=[('numerical_imputer',\n",
      "                 TransformerWrapper(exclude=None,\n",
      "                                    include=['Col1', 'Col2', 'Col3', 'Col4',\n",
      "                                             'Col5', 'Col6', 'Col7', 'Col8',\n",
      "                                             'Col9', 'Col10'],\n",
      "                                    transformer=SimpleImputer(add_indicator=False,\n",
      "                                                              copy=True,\n",
      "                                                              fill_value=None,\n",
      "                                                              keep_empty_features=False,\n",
      "                                                              missing_values=nan...\n",
      "                 TransformerWrapper(exclude=None, include=[],\n",
      "                                    transformer=SimpleImputer(add_indicator=False,\n",
      "                                                              copy=True,\n",
      "                                                              fill_value=None,\n",
      "                                                              keep_empty_features=False,\n",
      "                                                              missing_values=nan,\n",
      "                                                              strategy='most_frequent'))),\n",
      "                ('trained_model',\n",
      "                 IForest(behaviour='new', bootstrap=False, contamination=0.05,\n",
      "    max_features=1.0, max_samples='auto', n_estimators=100, n_jobs=-1,\n",
      "    random_state=123, verbose=0))],\n",
      "         verbose=False)\n"
     ]
    }
   ],
   "source": [
    "# OOP API\n",
    "loaded_model = s.load_model('iforest_pipeline')\n",
    "print(loaded_model)"
   ]
  },
  {
   "cell_type": "markdown",
   "id": "509c3f53",
   "metadata": {},
   "source": [
    "SERIES TEMPORAIS"
   ]
  },
  {
   "cell_type": "code",
   "execution_count": 42,
   "id": "c5ec2768",
   "metadata": {},
   "outputs": [
    {
     "data": {
      "application/vnd.microsoft.datawrangler.viewer.v0+json": {
       "columns": [
        {
         "name": "Period",
         "rawType": "period[M]",
         "type": "unknown"
        },
        {
         "name": "Number of airline passengers",
         "rawType": "float64",
         "type": "float"
        }
       ],
       "ref": "62cae9f3-6334-4c87-863c-aed629415d48",
       "rows": [
        [
         "1949-01",
         "112.0"
        ],
        [
         "1949-02",
         "118.0"
        ],
        [
         "1949-03",
         "132.0"
        ],
        [
         "1949-04",
         "129.0"
        ],
        [
         "1949-05",
         "121.0"
        ]
       ],
       "shape": {
        "columns": 1,
        "rows": 5
       }
      },
      "text/plain": [
       "Period\n",
       "1949-01    112.0\n",
       "1949-02    118.0\n",
       "1949-03    132.0\n",
       "1949-04    129.0\n",
       "1949-05    121.0\n",
       "Freq: M, Name: Number of airline passengers, dtype: float64"
      ]
     },
     "metadata": {},
     "output_type": "display_data"
    }
   ],
   "source": [
    "# load sample dataset\n",
    "from pycaret.datasets import get_data\n",
    "data = get_data('airline')"
   ]
  },
  {
   "cell_type": "code",
   "execution_count": 46,
   "id": "66b5addb",
   "metadata": {},
   "outputs": [
    {
     "data": {
      "text/html": [
       "<style type=\"text/css\">\n",
       "#T_23ff5_row25_col1 {\n",
       "  background-color: lightgreen;\n",
       "}\n",
       "</style>\n",
       "<table id=\"T_23ff5\">\n",
       "  <thead>\n",
       "    <tr>\n",
       "      <th class=\"blank level0\" >&nbsp;</th>\n",
       "      <th id=\"T_23ff5_level0_col0\" class=\"col_heading level0 col0\" >Description</th>\n",
       "      <th id=\"T_23ff5_level0_col1\" class=\"col_heading level0 col1\" >Value</th>\n",
       "    </tr>\n",
       "  </thead>\n",
       "  <tbody>\n",
       "    <tr>\n",
       "      <th id=\"T_23ff5_level0_row0\" class=\"row_heading level0 row0\" >0</th>\n",
       "      <td id=\"T_23ff5_row0_col0\" class=\"data row0 col0\" >session_id</td>\n",
       "      <td id=\"T_23ff5_row0_col1\" class=\"data row0 col1\" >123</td>\n",
       "    </tr>\n",
       "    <tr>\n",
       "      <th id=\"T_23ff5_level0_row1\" class=\"row_heading level0 row1\" >1</th>\n",
       "      <td id=\"T_23ff5_row1_col0\" class=\"data row1 col0\" >Target</td>\n",
       "      <td id=\"T_23ff5_row1_col1\" class=\"data row1 col1\" >Number of airline passengers</td>\n",
       "    </tr>\n",
       "    <tr>\n",
       "      <th id=\"T_23ff5_level0_row2\" class=\"row_heading level0 row2\" >2</th>\n",
       "      <td id=\"T_23ff5_row2_col0\" class=\"data row2 col0\" >Approach</td>\n",
       "      <td id=\"T_23ff5_row2_col1\" class=\"data row2 col1\" >Univariate</td>\n",
       "    </tr>\n",
       "    <tr>\n",
       "      <th id=\"T_23ff5_level0_row3\" class=\"row_heading level0 row3\" >3</th>\n",
       "      <td id=\"T_23ff5_row3_col0\" class=\"data row3 col0\" >Exogenous Variables</td>\n",
       "      <td id=\"T_23ff5_row3_col1\" class=\"data row3 col1\" >Not Present</td>\n",
       "    </tr>\n",
       "    <tr>\n",
       "      <th id=\"T_23ff5_level0_row4\" class=\"row_heading level0 row4\" >4</th>\n",
       "      <td id=\"T_23ff5_row4_col0\" class=\"data row4 col0\" >Original data shape</td>\n",
       "      <td id=\"T_23ff5_row4_col1\" class=\"data row4 col1\" >(144, 1)</td>\n",
       "    </tr>\n",
       "    <tr>\n",
       "      <th id=\"T_23ff5_level0_row5\" class=\"row_heading level0 row5\" >5</th>\n",
       "      <td id=\"T_23ff5_row5_col0\" class=\"data row5 col0\" >Transformed data shape</td>\n",
       "      <td id=\"T_23ff5_row5_col1\" class=\"data row5 col1\" >(144, 1)</td>\n",
       "    </tr>\n",
       "    <tr>\n",
       "      <th id=\"T_23ff5_level0_row6\" class=\"row_heading level0 row6\" >6</th>\n",
       "      <td id=\"T_23ff5_row6_col0\" class=\"data row6 col0\" >Transformed train set shape</td>\n",
       "      <td id=\"T_23ff5_row6_col1\" class=\"data row6 col1\" >(141, 1)</td>\n",
       "    </tr>\n",
       "    <tr>\n",
       "      <th id=\"T_23ff5_level0_row7\" class=\"row_heading level0 row7\" >7</th>\n",
       "      <td id=\"T_23ff5_row7_col0\" class=\"data row7 col0\" >Transformed test set shape</td>\n",
       "      <td id=\"T_23ff5_row7_col1\" class=\"data row7 col1\" >(3, 1)</td>\n",
       "    </tr>\n",
       "    <tr>\n",
       "      <th id=\"T_23ff5_level0_row8\" class=\"row_heading level0 row8\" >8</th>\n",
       "      <td id=\"T_23ff5_row8_col0\" class=\"data row8 col0\" >Rows with missing values</td>\n",
       "      <td id=\"T_23ff5_row8_col1\" class=\"data row8 col1\" >0.0%</td>\n",
       "    </tr>\n",
       "    <tr>\n",
       "      <th id=\"T_23ff5_level0_row9\" class=\"row_heading level0 row9\" >9</th>\n",
       "      <td id=\"T_23ff5_row9_col0\" class=\"data row9 col0\" >Fold Generator</td>\n",
       "      <td id=\"T_23ff5_row9_col1\" class=\"data row9 col1\" >ExpandingWindowSplitter</td>\n",
       "    </tr>\n",
       "    <tr>\n",
       "      <th id=\"T_23ff5_level0_row10\" class=\"row_heading level0 row10\" >10</th>\n",
       "      <td id=\"T_23ff5_row10_col0\" class=\"data row10 col0\" >Fold Number</td>\n",
       "      <td id=\"T_23ff5_row10_col1\" class=\"data row10 col1\" >5</td>\n",
       "    </tr>\n",
       "    <tr>\n",
       "      <th id=\"T_23ff5_level0_row11\" class=\"row_heading level0 row11\" >11</th>\n",
       "      <td id=\"T_23ff5_row11_col0\" class=\"data row11 col0\" >Enforce Prediction Interval</td>\n",
       "      <td id=\"T_23ff5_row11_col1\" class=\"data row11 col1\" >False</td>\n",
       "    </tr>\n",
       "    <tr>\n",
       "      <th id=\"T_23ff5_level0_row12\" class=\"row_heading level0 row12\" >12</th>\n",
       "      <td id=\"T_23ff5_row12_col0\" class=\"data row12 col0\" >Splits used for hyperparameters</td>\n",
       "      <td id=\"T_23ff5_row12_col1\" class=\"data row12 col1\" >all</td>\n",
       "    </tr>\n",
       "    <tr>\n",
       "      <th id=\"T_23ff5_level0_row13\" class=\"row_heading level0 row13\" >13</th>\n",
       "      <td id=\"T_23ff5_row13_col0\" class=\"data row13 col0\" >User Defined Seasonal Period(s)</td>\n",
       "      <td id=\"T_23ff5_row13_col1\" class=\"data row13 col1\" >None</td>\n",
       "    </tr>\n",
       "    <tr>\n",
       "      <th id=\"T_23ff5_level0_row14\" class=\"row_heading level0 row14\" >14</th>\n",
       "      <td id=\"T_23ff5_row14_col0\" class=\"data row14 col0\" >Ignore Seasonality Test</td>\n",
       "      <td id=\"T_23ff5_row14_col1\" class=\"data row14 col1\" >False</td>\n",
       "    </tr>\n",
       "    <tr>\n",
       "      <th id=\"T_23ff5_level0_row15\" class=\"row_heading level0 row15\" >15</th>\n",
       "      <td id=\"T_23ff5_row15_col0\" class=\"data row15 col0\" >Seasonality Detection Algo</td>\n",
       "      <td id=\"T_23ff5_row15_col1\" class=\"data row15 col1\" >auto</td>\n",
       "    </tr>\n",
       "    <tr>\n",
       "      <th id=\"T_23ff5_level0_row16\" class=\"row_heading level0 row16\" >16</th>\n",
       "      <td id=\"T_23ff5_row16_col0\" class=\"data row16 col0\" >Max Period to Consider</td>\n",
       "      <td id=\"T_23ff5_row16_col1\" class=\"data row16 col1\" >60</td>\n",
       "    </tr>\n",
       "    <tr>\n",
       "      <th id=\"T_23ff5_level0_row17\" class=\"row_heading level0 row17\" >17</th>\n",
       "      <td id=\"T_23ff5_row17_col0\" class=\"data row17 col0\" >Seasonal Period(s) Tested</td>\n",
       "      <td id=\"T_23ff5_row17_col1\" class=\"data row17 col1\" >[12, 24, 36, 11, 48]</td>\n",
       "    </tr>\n",
       "    <tr>\n",
       "      <th id=\"T_23ff5_level0_row18\" class=\"row_heading level0 row18\" >18</th>\n",
       "      <td id=\"T_23ff5_row18_col0\" class=\"data row18 col0\" >Significant Seasonal Period(s)</td>\n",
       "      <td id=\"T_23ff5_row18_col1\" class=\"data row18 col1\" >[12, 24, 36, 11, 48]</td>\n",
       "    </tr>\n",
       "    <tr>\n",
       "      <th id=\"T_23ff5_level0_row19\" class=\"row_heading level0 row19\" >19</th>\n",
       "      <td id=\"T_23ff5_row19_col0\" class=\"data row19 col0\" >Significant Seasonal Period(s) without Harmonics</td>\n",
       "      <td id=\"T_23ff5_row19_col1\" class=\"data row19 col1\" >[48, 36, 11]</td>\n",
       "    </tr>\n",
       "    <tr>\n",
       "      <th id=\"T_23ff5_level0_row20\" class=\"row_heading level0 row20\" >20</th>\n",
       "      <td id=\"T_23ff5_row20_col0\" class=\"data row20 col0\" >Remove Harmonics</td>\n",
       "      <td id=\"T_23ff5_row20_col1\" class=\"data row20 col1\" >False</td>\n",
       "    </tr>\n",
       "    <tr>\n",
       "      <th id=\"T_23ff5_level0_row21\" class=\"row_heading level0 row21\" >21</th>\n",
       "      <td id=\"T_23ff5_row21_col0\" class=\"data row21 col0\" >Harmonics Order Method</td>\n",
       "      <td id=\"T_23ff5_row21_col1\" class=\"data row21 col1\" >harmonic_max</td>\n",
       "    </tr>\n",
       "    <tr>\n",
       "      <th id=\"T_23ff5_level0_row22\" class=\"row_heading level0 row22\" >22</th>\n",
       "      <td id=\"T_23ff5_row22_col0\" class=\"data row22 col0\" >Num Seasonalities to Use</td>\n",
       "      <td id=\"T_23ff5_row22_col1\" class=\"data row22 col1\" >1</td>\n",
       "    </tr>\n",
       "    <tr>\n",
       "      <th id=\"T_23ff5_level0_row23\" class=\"row_heading level0 row23\" >23</th>\n",
       "      <td id=\"T_23ff5_row23_col0\" class=\"data row23 col0\" >All Seasonalities to Use</td>\n",
       "      <td id=\"T_23ff5_row23_col1\" class=\"data row23 col1\" >[12]</td>\n",
       "    </tr>\n",
       "    <tr>\n",
       "      <th id=\"T_23ff5_level0_row24\" class=\"row_heading level0 row24\" >24</th>\n",
       "      <td id=\"T_23ff5_row24_col0\" class=\"data row24 col0\" >Primary Seasonality</td>\n",
       "      <td id=\"T_23ff5_row24_col1\" class=\"data row24 col1\" >12</td>\n",
       "    </tr>\n",
       "    <tr>\n",
       "      <th id=\"T_23ff5_level0_row25\" class=\"row_heading level0 row25\" >25</th>\n",
       "      <td id=\"T_23ff5_row25_col0\" class=\"data row25 col0\" >Seasonality Present</td>\n",
       "      <td id=\"T_23ff5_row25_col1\" class=\"data row25 col1\" >True</td>\n",
       "    </tr>\n",
       "    <tr>\n",
       "      <th id=\"T_23ff5_level0_row26\" class=\"row_heading level0 row26\" >26</th>\n",
       "      <td id=\"T_23ff5_row26_col0\" class=\"data row26 col0\" >Seasonality Type</td>\n",
       "      <td id=\"T_23ff5_row26_col1\" class=\"data row26 col1\" >mul</td>\n",
       "    </tr>\n",
       "    <tr>\n",
       "      <th id=\"T_23ff5_level0_row27\" class=\"row_heading level0 row27\" >27</th>\n",
       "      <td id=\"T_23ff5_row27_col0\" class=\"data row27 col0\" >Target Strictly Positive</td>\n",
       "      <td id=\"T_23ff5_row27_col1\" class=\"data row27 col1\" >True</td>\n",
       "    </tr>\n",
       "    <tr>\n",
       "      <th id=\"T_23ff5_level0_row28\" class=\"row_heading level0 row28\" >28</th>\n",
       "      <td id=\"T_23ff5_row28_col0\" class=\"data row28 col0\" >Target White Noise</td>\n",
       "      <td id=\"T_23ff5_row28_col1\" class=\"data row28 col1\" >No</td>\n",
       "    </tr>\n",
       "    <tr>\n",
       "      <th id=\"T_23ff5_level0_row29\" class=\"row_heading level0 row29\" >29</th>\n",
       "      <td id=\"T_23ff5_row29_col0\" class=\"data row29 col0\" >Recommended d</td>\n",
       "      <td id=\"T_23ff5_row29_col1\" class=\"data row29 col1\" >1</td>\n",
       "    </tr>\n",
       "    <tr>\n",
       "      <th id=\"T_23ff5_level0_row30\" class=\"row_heading level0 row30\" >30</th>\n",
       "      <td id=\"T_23ff5_row30_col0\" class=\"data row30 col0\" >Recommended Seasonal D</td>\n",
       "      <td id=\"T_23ff5_row30_col1\" class=\"data row30 col1\" >1</td>\n",
       "    </tr>\n",
       "    <tr>\n",
       "      <th id=\"T_23ff5_level0_row31\" class=\"row_heading level0 row31\" >31</th>\n",
       "      <td id=\"T_23ff5_row31_col0\" class=\"data row31 col0\" >Preprocess</td>\n",
       "      <td id=\"T_23ff5_row31_col1\" class=\"data row31 col1\" >False</td>\n",
       "    </tr>\n",
       "    <tr>\n",
       "      <th id=\"T_23ff5_level0_row32\" class=\"row_heading level0 row32\" >32</th>\n",
       "      <td id=\"T_23ff5_row32_col0\" class=\"data row32 col0\" >CPU Jobs</td>\n",
       "      <td id=\"T_23ff5_row32_col1\" class=\"data row32 col1\" >-1</td>\n",
       "    </tr>\n",
       "    <tr>\n",
       "      <th id=\"T_23ff5_level0_row33\" class=\"row_heading level0 row33\" >33</th>\n",
       "      <td id=\"T_23ff5_row33_col0\" class=\"data row33 col0\" >Use GPU</td>\n",
       "      <td id=\"T_23ff5_row33_col1\" class=\"data row33 col1\" >False</td>\n",
       "    </tr>\n",
       "    <tr>\n",
       "      <th id=\"T_23ff5_level0_row34\" class=\"row_heading level0 row34\" >34</th>\n",
       "      <td id=\"T_23ff5_row34_col0\" class=\"data row34 col0\" >Log Experiment</td>\n",
       "      <td id=\"T_23ff5_row34_col1\" class=\"data row34 col1\" >False</td>\n",
       "    </tr>\n",
       "    <tr>\n",
       "      <th id=\"T_23ff5_level0_row35\" class=\"row_heading level0 row35\" >35</th>\n",
       "      <td id=\"T_23ff5_row35_col0\" class=\"data row35 col0\" >Experiment Name</td>\n",
       "      <td id=\"T_23ff5_row35_col1\" class=\"data row35 col1\" >ts-default-name</td>\n",
       "    </tr>\n",
       "    <tr>\n",
       "      <th id=\"T_23ff5_level0_row36\" class=\"row_heading level0 row36\" >36</th>\n",
       "      <td id=\"T_23ff5_row36_col0\" class=\"data row36 col0\" >USI</td>\n",
       "      <td id=\"T_23ff5_row36_col1\" class=\"data row36 col1\" >e613</td>\n",
       "    </tr>\n",
       "  </tbody>\n",
       "</table>\n"
      ],
      "text/plain": [
       "<pandas.io.formats.style.Styler at 0x3411909d0>"
      ]
     },
     "metadata": {},
     "output_type": "display_data"
    }
   ],
   "source": [
    "from pycaret.time_series import *\n",
    "s = setup(data, fh = 3, fold = 5, session_id = 123)"
   ]
  },
  {
   "cell_type": "code",
   "execution_count": 47,
   "id": "86a2ef68",
   "metadata": {},
   "outputs": [
    {
     "data": {
      "text/html": [],
      "text/plain": [
       "<IPython.core.display.HTML object>"
      ]
     },
     "metadata": {},
     "output_type": "display_data"
    },
    {
     "data": {
      "text/html": [
       "<style type=\"text/css\">\n",
       "#T_31052 th {\n",
       "  text-align: left;\n",
       "}\n",
       "#T_31052_row0_col0, #T_31052_row1_col0, #T_31052_row1_col1, #T_31052_row1_col2, #T_31052_row1_col3, #T_31052_row1_col4, #T_31052_row1_col5, #T_31052_row1_col6, #T_31052_row1_col7, #T_31052_row2_col0, #T_31052_row2_col1, #T_31052_row2_col2, #T_31052_row2_col3, #T_31052_row2_col4, #T_31052_row2_col5, #T_31052_row2_col6, #T_31052_row2_col7, #T_31052_row3_col0, #T_31052_row3_col1, #T_31052_row3_col2, #T_31052_row3_col3, #T_31052_row3_col4, #T_31052_row3_col5, #T_31052_row3_col6, #T_31052_row3_col7, #T_31052_row4_col0, #T_31052_row4_col1, #T_31052_row4_col2, #T_31052_row4_col3, #T_31052_row4_col4, #T_31052_row4_col5, #T_31052_row4_col6, #T_31052_row4_col7, #T_31052_row5_col0, #T_31052_row5_col1, #T_31052_row5_col2, #T_31052_row5_col3, #T_31052_row5_col4, #T_31052_row5_col5, #T_31052_row5_col6, #T_31052_row5_col7, #T_31052_row6_col0, #T_31052_row6_col1, #T_31052_row6_col2, #T_31052_row6_col3, #T_31052_row6_col4, #T_31052_row6_col5, #T_31052_row6_col6, #T_31052_row6_col7, #T_31052_row7_col0, #T_31052_row7_col1, #T_31052_row7_col2, #T_31052_row7_col3, #T_31052_row7_col4, #T_31052_row7_col5, #T_31052_row7_col6, #T_31052_row7_col7, #T_31052_row8_col0, #T_31052_row8_col1, #T_31052_row8_col2, #T_31052_row8_col3, #T_31052_row8_col4, #T_31052_row8_col5, #T_31052_row8_col6, #T_31052_row8_col7, #T_31052_row9_col0, #T_31052_row9_col1, #T_31052_row9_col2, #T_31052_row9_col3, #T_31052_row9_col4, #T_31052_row9_col5, #T_31052_row9_col6, #T_31052_row9_col7, #T_31052_row10_col0, #T_31052_row10_col1, #T_31052_row10_col2, #T_31052_row10_col3, #T_31052_row10_col4, #T_31052_row10_col5, #T_31052_row10_col6, #T_31052_row10_col7, #T_31052_row11_col0, #T_31052_row11_col1, #T_31052_row11_col2, #T_31052_row11_col3, #T_31052_row11_col4, #T_31052_row11_col5, #T_31052_row11_col6, #T_31052_row11_col7, #T_31052_row12_col0, #T_31052_row12_col1, #T_31052_row12_col2, #T_31052_row12_col3, #T_31052_row12_col4, #T_31052_row12_col5, #T_31052_row12_col6, #T_31052_row12_col7, #T_31052_row13_col0, #T_31052_row13_col1, #T_31052_row13_col2, #T_31052_row13_col3, #T_31052_row13_col4, #T_31052_row13_col5, #T_31052_row13_col6, #T_31052_row13_col7, #T_31052_row14_col0, #T_31052_row14_col1, #T_31052_row14_col2, #T_31052_row14_col3, #T_31052_row14_col4, #T_31052_row14_col5, #T_31052_row14_col6, #T_31052_row14_col7, #T_31052_row15_col0, #T_31052_row15_col1, #T_31052_row15_col2, #T_31052_row15_col3, #T_31052_row15_col4, #T_31052_row15_col5, #T_31052_row15_col6, #T_31052_row15_col7, #T_31052_row16_col0, #T_31052_row16_col1, #T_31052_row16_col2, #T_31052_row16_col3, #T_31052_row16_col4, #T_31052_row16_col5, #T_31052_row16_col6, #T_31052_row16_col7, #T_31052_row17_col0, #T_31052_row17_col1, #T_31052_row17_col2, #T_31052_row17_col3, #T_31052_row17_col4, #T_31052_row17_col5, #T_31052_row17_col6, #T_31052_row17_col7, #T_31052_row18_col0, #T_31052_row18_col1, #T_31052_row18_col2, #T_31052_row18_col3, #T_31052_row18_col4, #T_31052_row18_col5, #T_31052_row18_col6, #T_31052_row18_col7, #T_31052_row19_col0, #T_31052_row19_col1, #T_31052_row19_col2, #T_31052_row19_col3, #T_31052_row19_col4, #T_31052_row19_col5, #T_31052_row19_col6, #T_31052_row19_col7, #T_31052_row20_col0, #T_31052_row20_col1, #T_31052_row20_col2, #T_31052_row20_col3, #T_31052_row20_col4, #T_31052_row20_col5, #T_31052_row20_col6, #T_31052_row20_col7, #T_31052_row21_col0, #T_31052_row21_col1, #T_31052_row21_col2, #T_31052_row21_col3, #T_31052_row21_col4, #T_31052_row21_col5, #T_31052_row21_col6, #T_31052_row21_col7, #T_31052_row22_col0, #T_31052_row22_col1, #T_31052_row22_col2, #T_31052_row22_col3, #T_31052_row22_col4, #T_31052_row22_col5, #T_31052_row22_col6, #T_31052_row22_col7, #T_31052_row23_col0, #T_31052_row23_col1, #T_31052_row23_col2, #T_31052_row23_col3, #T_31052_row23_col4, #T_31052_row23_col5, #T_31052_row23_col6, #T_31052_row23_col7, #T_31052_row24_col0, #T_31052_row24_col1, #T_31052_row24_col2, #T_31052_row24_col3, #T_31052_row24_col4, #T_31052_row24_col5, #T_31052_row24_col6, #T_31052_row24_col7, #T_31052_row25_col0, #T_31052_row25_col1, #T_31052_row25_col2, #T_31052_row25_col3, #T_31052_row25_col4, #T_31052_row25_col5, #T_31052_row25_col6, #T_31052_row25_col7 {\n",
       "  text-align: left;\n",
       "}\n",
       "#T_31052_row0_col1, #T_31052_row0_col2, #T_31052_row0_col3, #T_31052_row0_col4, #T_31052_row0_col5, #T_31052_row0_col6, #T_31052_row0_col7 {\n",
       "  text-align: left;\n",
       "  background-color: yellow;\n",
       "}\n",
       "#T_31052_row0_col8, #T_31052_row1_col8, #T_31052_row2_col8, #T_31052_row3_col8, #T_31052_row4_col8, #T_31052_row5_col8, #T_31052_row6_col8, #T_31052_row7_col8, #T_31052_row8_col8, #T_31052_row9_col8, #T_31052_row10_col8, #T_31052_row11_col8, #T_31052_row12_col8, #T_31052_row13_col8, #T_31052_row14_col8, #T_31052_row15_col8, #T_31052_row16_col8, #T_31052_row17_col8, #T_31052_row18_col8, #T_31052_row19_col8, #T_31052_row20_col8, #T_31052_row21_col8, #T_31052_row22_col8, #T_31052_row23_col8, #T_31052_row25_col8 {\n",
       "  text-align: left;\n",
       "  background-color: lightgrey;\n",
       "}\n",
       "#T_31052_row24_col8 {\n",
       "  text-align: left;\n",
       "  background-color: yellow;\n",
       "  background-color: lightgrey;\n",
       "}\n",
       "</style>\n",
       "<table id=\"T_31052\">\n",
       "  <thead>\n",
       "    <tr>\n",
       "      <th class=\"blank level0\" >&nbsp;</th>\n",
       "      <th id=\"T_31052_level0_col0\" class=\"col_heading level0 col0\" >Model</th>\n",
       "      <th id=\"T_31052_level0_col1\" class=\"col_heading level0 col1\" >MASE</th>\n",
       "      <th id=\"T_31052_level0_col2\" class=\"col_heading level0 col2\" >RMSSE</th>\n",
       "      <th id=\"T_31052_level0_col3\" class=\"col_heading level0 col3\" >MAE</th>\n",
       "      <th id=\"T_31052_level0_col4\" class=\"col_heading level0 col4\" >RMSE</th>\n",
       "      <th id=\"T_31052_level0_col5\" class=\"col_heading level0 col5\" >MAPE</th>\n",
       "      <th id=\"T_31052_level0_col6\" class=\"col_heading level0 col6\" >SMAPE</th>\n",
       "      <th id=\"T_31052_level0_col7\" class=\"col_heading level0 col7\" >R2</th>\n",
       "      <th id=\"T_31052_level0_col8\" class=\"col_heading level0 col8\" >TT (Sec)</th>\n",
       "    </tr>\n",
       "  </thead>\n",
       "  <tbody>\n",
       "    <tr>\n",
       "      <th id=\"T_31052_level0_row0\" class=\"row_heading level0 row0\" >stlf</th>\n",
       "      <td id=\"T_31052_row0_col0\" class=\"data row0 col0\" >STLF</td>\n",
       "      <td id=\"T_31052_row0_col1\" class=\"data row0 col1\" >0.4240</td>\n",
       "      <td id=\"T_31052_row0_col2\" class=\"data row0 col2\" >0.4429</td>\n",
       "      <td id=\"T_31052_row0_col3\" class=\"data row0 col3\" >12.8002</td>\n",
       "      <td id=\"T_31052_row0_col4\" class=\"data row0 col4\" >15.1933</td>\n",
       "      <td id=\"T_31052_row0_col5\" class=\"data row0 col5\" >0.0266</td>\n",
       "      <td id=\"T_31052_row0_col6\" class=\"data row0 col6\" >0.0268</td>\n",
       "      <td id=\"T_31052_row0_col7\" class=\"data row0 col7\" >0.4296</td>\n",
       "      <td id=\"T_31052_row0_col8\" class=\"data row0 col8\" >0.2720</td>\n",
       "    </tr>\n",
       "    <tr>\n",
       "      <th id=\"T_31052_level0_row1\" class=\"row_heading level0 row1\" >exp_smooth</th>\n",
       "      <td id=\"T_31052_row1_col0\" class=\"data row1 col0\" >Exponential Smoothing</td>\n",
       "      <td id=\"T_31052_row1_col1\" class=\"data row1 col1\" >0.5063</td>\n",
       "      <td id=\"T_31052_row1_col2\" class=\"data row1 col2\" >0.5378</td>\n",
       "      <td id=\"T_31052_row1_col3\" class=\"data row1 col3\" >15.2898</td>\n",
       "      <td id=\"T_31052_row1_col4\" class=\"data row1 col4\" >18.4448</td>\n",
       "      <td id=\"T_31052_row1_col5\" class=\"data row1 col5\" >0.0334</td>\n",
       "      <td id=\"T_31052_row1_col6\" class=\"data row1 col6\" >0.0335</td>\n",
       "      <td id=\"T_31052_row1_col7\" class=\"data row1 col7\" >-0.0522</td>\n",
       "      <td id=\"T_31052_row1_col8\" class=\"data row1 col8\" >0.0540</td>\n",
       "    </tr>\n",
       "    <tr>\n",
       "      <th id=\"T_31052_level0_row2\" class=\"row_heading level0 row2\" >ets</th>\n",
       "      <td id=\"T_31052_row2_col0\" class=\"data row2 col0\" >ETS</td>\n",
       "      <td id=\"T_31052_row2_col1\" class=\"data row2 col1\" >0.5519</td>\n",
       "      <td id=\"T_31052_row2_col2\" class=\"data row2 col2\" >0.5801</td>\n",
       "      <td id=\"T_31052_row2_col3\" class=\"data row2 col3\" >16.6150</td>\n",
       "      <td id=\"T_31052_row2_col4\" class=\"data row2 col4\" >19.8377</td>\n",
       "      <td id=\"T_31052_row2_col5\" class=\"data row2 col5\" >0.0354</td>\n",
       "      <td id=\"T_31052_row2_col6\" class=\"data row2 col6\" >0.0357</td>\n",
       "      <td id=\"T_31052_row2_col7\" class=\"data row2 col7\" >-0.0740</td>\n",
       "      <td id=\"T_31052_row2_col8\" class=\"data row2 col8\" >0.0260</td>\n",
       "    </tr>\n",
       "    <tr>\n",
       "      <th id=\"T_31052_level0_row3\" class=\"row_heading level0 row3\" >arima</th>\n",
       "      <td id=\"T_31052_row3_col0\" class=\"data row3 col0\" >ARIMA</td>\n",
       "      <td id=\"T_31052_row3_col1\" class=\"data row3 col1\" >0.6480</td>\n",
       "      <td id=\"T_31052_row3_col2\" class=\"data row3 col2\" >0.6501</td>\n",
       "      <td id=\"T_31052_row3_col3\" class=\"data row3 col3\" >19.5728</td>\n",
       "      <td id=\"T_31052_row3_col4\" class=\"data row3 col4\" >22.3027</td>\n",
       "      <td id=\"T_31052_row3_col5\" class=\"data row3 col5\" >0.0412</td>\n",
       "      <td id=\"T_31052_row3_col6\" class=\"data row3 col6\" >0.0420</td>\n",
       "      <td id=\"T_31052_row3_col7\" class=\"data row3 col7\" >-0.0796</td>\n",
       "      <td id=\"T_31052_row3_col8\" class=\"data row3 col8\" >0.0200</td>\n",
       "    </tr>\n",
       "    <tr>\n",
       "      <th id=\"T_31052_level0_row4\" class=\"row_heading level0 row4\" >auto_arima</th>\n",
       "      <td id=\"T_31052_row4_col0\" class=\"data row4 col0\" >Auto ARIMA</td>\n",
       "      <td id=\"T_31052_row4_col1\" class=\"data row4 col1\" >0.6529</td>\n",
       "      <td id=\"T_31052_row4_col2\" class=\"data row4 col2\" >0.6303</td>\n",
       "      <td id=\"T_31052_row4_col3\" class=\"data row4 col3\" >19.7484</td>\n",
       "      <td id=\"T_31052_row4_col4\" class=\"data row4 col4\" >21.6322</td>\n",
       "      <td id=\"T_31052_row4_col5\" class=\"data row4 col5\" >0.0415</td>\n",
       "      <td id=\"T_31052_row4_col6\" class=\"data row4 col6\" >0.0421</td>\n",
       "      <td id=\"T_31052_row4_col7\" class=\"data row4 col7\" >-0.0567</td>\n",
       "      <td id=\"T_31052_row4_col8\" class=\"data row4 col8\" >4.7940</td>\n",
       "    </tr>\n",
       "    <tr>\n",
       "      <th id=\"T_31052_level0_row5\" class=\"row_heading level0 row5\" >theta</th>\n",
       "      <td id=\"T_31052_row5_col0\" class=\"data row5 col0\" >Theta Forecaster</td>\n",
       "      <td id=\"T_31052_row5_col1\" class=\"data row5 col1\" >0.8458</td>\n",
       "      <td id=\"T_31052_row5_col2\" class=\"data row5 col2\" >0.8223</td>\n",
       "      <td id=\"T_31052_row5_col3\" class=\"data row5 col3\" >25.7024</td>\n",
       "      <td id=\"T_31052_row5_col4\" class=\"data row5 col4\" >28.3332</td>\n",
       "      <td id=\"T_31052_row5_col5\" class=\"data row5 col5\" >0.0524</td>\n",
       "      <td id=\"T_31052_row5_col6\" class=\"data row5 col6\" >0.0541</td>\n",
       "      <td id=\"T_31052_row5_col7\" class=\"data row5 col7\" >-0.7710</td>\n",
       "      <td id=\"T_31052_row5_col8\" class=\"data row5 col8\" >0.0180</td>\n",
       "    </tr>\n",
       "    <tr>\n",
       "      <th id=\"T_31052_level0_row6\" class=\"row_heading level0 row6\" >huber_cds_dt</th>\n",
       "      <td id=\"T_31052_row6_col0\" class=\"data row6 col0\" >Huber w/ Cond. Deseasonalize & Detrending</td>\n",
       "      <td id=\"T_31052_row6_col1\" class=\"data row6 col1\" >0.9002</td>\n",
       "      <td id=\"T_31052_row6_col2\" class=\"data row6 col2\" >0.8900</td>\n",
       "      <td id=\"T_31052_row6_col3\" class=\"data row6 col3\" >27.2568</td>\n",
       "      <td id=\"T_31052_row6_col4\" class=\"data row6 col4\" >30.5782</td>\n",
       "      <td id=\"T_31052_row6_col5\" class=\"data row6 col5\" >0.0550</td>\n",
       "      <td id=\"T_31052_row6_col6\" class=\"data row6 col6\" >0.0572</td>\n",
       "      <td id=\"T_31052_row6_col7\" class=\"data row6 col7\" >-0.0309</td>\n",
       "      <td id=\"T_31052_row6_col8\" class=\"data row6 col8\" >0.0280</td>\n",
       "    </tr>\n",
       "    <tr>\n",
       "      <th id=\"T_31052_level0_row7\" class=\"row_heading level0 row7\" >knn_cds_dt</th>\n",
       "      <td id=\"T_31052_row7_col0\" class=\"data row7 col0\" >K Neighbors w/ Cond. Deseasonalize & Detrending</td>\n",
       "      <td id=\"T_31052_row7_col1\" class=\"data row7 col1\" >0.9381</td>\n",
       "      <td id=\"T_31052_row7_col2\" class=\"data row7 col2\" >0.8830</td>\n",
       "      <td id=\"T_31052_row7_col3\" class=\"data row7 col3\" >28.5678</td>\n",
       "      <td id=\"T_31052_row7_col4\" class=\"data row7 col4\" >30.5007</td>\n",
       "      <td id=\"T_31052_row7_col5\" class=\"data row7 col5\" >0.0555</td>\n",
       "      <td id=\"T_31052_row7_col6\" class=\"data row7 col6\" >0.0575</td>\n",
       "      <td id=\"T_31052_row7_col7\" class=\"data row7 col7\" >0.0908</td>\n",
       "      <td id=\"T_31052_row7_col8\" class=\"data row7 col8\" >0.0300</td>\n",
       "    </tr>\n",
       "    <tr>\n",
       "      <th id=\"T_31052_level0_row8\" class=\"row_heading level0 row8\" >lr_cds_dt</th>\n",
       "      <td id=\"T_31052_row8_col0\" class=\"data row8 col0\" >Linear w/ Cond. Deseasonalize & Detrending</td>\n",
       "      <td id=\"T_31052_row8_col1\" class=\"data row8 col1\" >0.9469</td>\n",
       "      <td id=\"T_31052_row8_col2\" class=\"data row8 col2\" >0.9297</td>\n",
       "      <td id=\"T_31052_row8_col3\" class=\"data row8 col3\" >28.6337</td>\n",
       "      <td id=\"T_31052_row8_col4\" class=\"data row8 col4\" >31.9163</td>\n",
       "      <td id=\"T_31052_row8_col5\" class=\"data row8 col5\" >0.0581</td>\n",
       "      <td id=\"T_31052_row8_col6\" class=\"data row8 col6\" >0.0605</td>\n",
       "      <td id=\"T_31052_row8_col7\" class=\"data row8 col7\" >-0.1620</td>\n",
       "      <td id=\"T_31052_row8_col8\" class=\"data row8 col8\" >0.2840</td>\n",
       "    </tr>\n",
       "    <tr>\n",
       "      <th id=\"T_31052_level0_row9\" class=\"row_heading level0 row9\" >ridge_cds_dt</th>\n",
       "      <td id=\"T_31052_row9_col0\" class=\"data row9 col0\" >Ridge w/ Cond. Deseasonalize & Detrending</td>\n",
       "      <td id=\"T_31052_row9_col1\" class=\"data row9 col1\" >0.9469</td>\n",
       "      <td id=\"T_31052_row9_col2\" class=\"data row9 col2\" >0.9297</td>\n",
       "      <td id=\"T_31052_row9_col3\" class=\"data row9 col3\" >28.6340</td>\n",
       "      <td id=\"T_31052_row9_col4\" class=\"data row9 col4\" >31.9164</td>\n",
       "      <td id=\"T_31052_row9_col5\" class=\"data row9 col5\" >0.0581</td>\n",
       "      <td id=\"T_31052_row9_col6\" class=\"data row9 col6\" >0.0605</td>\n",
       "      <td id=\"T_31052_row9_col7\" class=\"data row9 col7\" >-0.1620</td>\n",
       "      <td id=\"T_31052_row9_col8\" class=\"data row9 col8\" >0.0340</td>\n",
       "    </tr>\n",
       "    <tr>\n",
       "      <th id=\"T_31052_level0_row10\" class=\"row_heading level0 row10\" >en_cds_dt</th>\n",
       "      <td id=\"T_31052_row10_col0\" class=\"data row10 col0\" >Elastic Net w/ Cond. Deseasonalize & Detrending</td>\n",
       "      <td id=\"T_31052_row10_col1\" class=\"data row10 col1\" >0.9499</td>\n",
       "      <td id=\"T_31052_row10_col2\" class=\"data row10 col2\" >0.9320</td>\n",
       "      <td id=\"T_31052_row10_col3\" class=\"data row10 col3\" >28.7271</td>\n",
       "      <td id=\"T_31052_row10_col4\" class=\"data row10 col4\" >31.9952</td>\n",
       "      <td id=\"T_31052_row10_col5\" class=\"data row10 col5\" >0.0582</td>\n",
       "      <td id=\"T_31052_row10_col6\" class=\"data row10 col6\" >0.0606</td>\n",
       "      <td id=\"T_31052_row10_col7\" class=\"data row10 col7\" >-0.1579</td>\n",
       "      <td id=\"T_31052_row10_col8\" class=\"data row10 col8\" >0.0460</td>\n",
       "    </tr>\n",
       "    <tr>\n",
       "      <th id=\"T_31052_level0_row11\" class=\"row_heading level0 row11\" >llar_cds_dt</th>\n",
       "      <td id=\"T_31052_row11_col0\" class=\"data row11 col0\" >Lasso Least Angular Regressor w/ Cond. Deseasonalize & Detrending</td>\n",
       "      <td id=\"T_31052_row11_col1\" class=\"data row11 col1\" >0.9520</td>\n",
       "      <td id=\"T_31052_row11_col2\" class=\"data row11 col2\" >0.9336</td>\n",
       "      <td id=\"T_31052_row11_col3\" class=\"data row11 col3\" >28.7917</td>\n",
       "      <td id=\"T_31052_row11_col4\" class=\"data row11 col4\" >32.0528</td>\n",
       "      <td id=\"T_31052_row11_col5\" class=\"data row11 col5\" >0.0583</td>\n",
       "      <td id=\"T_31052_row11_col6\" class=\"data row11 col6\" >0.0607</td>\n",
       "      <td id=\"T_31052_row11_col7\" class=\"data row11 col7\" >-0.1559</td>\n",
       "      <td id=\"T_31052_row11_col8\" class=\"data row11 col8\" >0.0360</td>\n",
       "    </tr>\n",
       "    <tr>\n",
       "      <th id=\"T_31052_level0_row12\" class=\"row_heading level0 row12\" >lasso_cds_dt</th>\n",
       "      <td id=\"T_31052_row12_col0\" class=\"data row12 col0\" >Lasso w/ Cond. Deseasonalize & Detrending</td>\n",
       "      <td id=\"T_31052_row12_col1\" class=\"data row12 col1\" >0.9521</td>\n",
       "      <td id=\"T_31052_row12_col2\" class=\"data row12 col2\" >0.9337</td>\n",
       "      <td id=\"T_31052_row12_col3\" class=\"data row12 col3\" >28.7941</td>\n",
       "      <td id=\"T_31052_row12_col4\" class=\"data row12 col4\" >32.0557</td>\n",
       "      <td id=\"T_31052_row12_col5\" class=\"data row12 col5\" >0.0583</td>\n",
       "      <td id=\"T_31052_row12_col6\" class=\"data row12 col6\" >0.0607</td>\n",
       "      <td id=\"T_31052_row12_col7\" class=\"data row12 col7\" >-0.1560</td>\n",
       "      <td id=\"T_31052_row12_col8\" class=\"data row12 col8\" >0.0220</td>\n",
       "    </tr>\n",
       "    <tr>\n",
       "      <th id=\"T_31052_level0_row13\" class=\"row_heading level0 row13\" >br_cds_dt</th>\n",
       "      <td id=\"T_31052_row13_col0\" class=\"data row13 col0\" >Bayesian Ridge w/ Cond. Deseasonalize & Detrending</td>\n",
       "      <td id=\"T_31052_row13_col1\" class=\"data row13 col1\" >0.9551</td>\n",
       "      <td id=\"T_31052_row13_col2\" class=\"data row13 col2\" >0.9347</td>\n",
       "      <td id=\"T_31052_row13_col3\" class=\"data row13 col3\" >28.9018</td>\n",
       "      <td id=\"T_31052_row13_col4\" class=\"data row13 col4\" >32.1013</td>\n",
       "      <td id=\"T_31052_row13_col5\" class=\"data row13 col5\" >0.0582</td>\n",
       "      <td id=\"T_31052_row13_col6\" class=\"data row13 col6\" >0.0606</td>\n",
       "      <td id=\"T_31052_row13_col7\" class=\"data row13 col7\" >-0.1377</td>\n",
       "      <td id=\"T_31052_row13_col8\" class=\"data row13 col8\" >0.0280</td>\n",
       "    </tr>\n",
       "    <tr>\n",
       "      <th id=\"T_31052_level0_row14\" class=\"row_heading level0 row14\" >et_cds_dt</th>\n",
       "      <td id=\"T_31052_row14_col0\" class=\"data row14 col0\" >Extra Trees w/ Cond. Deseasonalize & Detrending</td>\n",
       "      <td id=\"T_31052_row14_col1\" class=\"data row14 col1\" >1.0197</td>\n",
       "      <td id=\"T_31052_row14_col2\" class=\"data row14 col2\" >0.9738</td>\n",
       "      <td id=\"T_31052_row14_col3\" class=\"data row14 col3\" >31.0266</td>\n",
       "      <td id=\"T_31052_row14_col4\" class=\"data row14 col4\" >33.6047</td>\n",
       "      <td id=\"T_31052_row14_col5\" class=\"data row14 col5\" >0.0601</td>\n",
       "      <td id=\"T_31052_row14_col6\" class=\"data row14 col6\" >0.0627</td>\n",
       "      <td id=\"T_31052_row14_col7\" class=\"data row14 col7\" >-0.1162</td>\n",
       "      <td id=\"T_31052_row14_col8\" class=\"data row14 col8\" >0.0460</td>\n",
       "    </tr>\n",
       "    <tr>\n",
       "      <th id=\"T_31052_level0_row15\" class=\"row_heading level0 row15\" >rf_cds_dt</th>\n",
       "      <td id=\"T_31052_row15_col0\" class=\"data row15 col0\" >Random Forest w/ Cond. Deseasonalize & Detrending</td>\n",
       "      <td id=\"T_31052_row15_col1\" class=\"data row15 col1\" >1.0548</td>\n",
       "      <td id=\"T_31052_row15_col2\" class=\"data row15 col2\" >1.0083</td>\n",
       "      <td id=\"T_31052_row15_col3\" class=\"data row15 col3\" >32.1049</td>\n",
       "      <td id=\"T_31052_row15_col4\" class=\"data row15 col4\" >34.8176</td>\n",
       "      <td id=\"T_31052_row15_col5\" class=\"data row15 col5\" >0.0625</td>\n",
       "      <td id=\"T_31052_row15_col6\" class=\"data row15 col6\" >0.0653</td>\n",
       "      <td id=\"T_31052_row15_col7\" class=\"data row15 col7\" >-0.3829</td>\n",
       "      <td id=\"T_31052_row15_col8\" class=\"data row15 col8\" >0.0500</td>\n",
       "    </tr>\n",
       "    <tr>\n",
       "      <th id=\"T_31052_level0_row16\" class=\"row_heading level0 row16\" >dt_cds_dt</th>\n",
       "      <td id=\"T_31052_row16_col0\" class=\"data row16 col0\" >Decision Tree w/ Cond. Deseasonalize & Detrending</td>\n",
       "      <td id=\"T_31052_row16_col1\" class=\"data row16 col1\" >1.0916</td>\n",
       "      <td id=\"T_31052_row16_col2\" class=\"data row16 col2\" >1.0463</td>\n",
       "      <td id=\"T_31052_row16_col3\" class=\"data row16 col3\" >33.1479</td>\n",
       "      <td id=\"T_31052_row16_col4\" class=\"data row16 col4\" >36.0389</td>\n",
       "      <td id=\"T_31052_row16_col5\" class=\"data row16 col5\" >0.0664</td>\n",
       "      <td id=\"T_31052_row16_col6\" class=\"data row16 col6\" >0.0694</td>\n",
       "      <td id=\"T_31052_row16_col7\" class=\"data row16 col7\" >-0.4206</td>\n",
       "      <td id=\"T_31052_row16_col8\" class=\"data row16 col8\" >0.0280</td>\n",
       "    </tr>\n",
       "    <tr>\n",
       "      <th id=\"T_31052_level0_row17\" class=\"row_heading level0 row17\" >lightgbm_cds_dt</th>\n",
       "      <td id=\"T_31052_row17_col0\" class=\"data row17 col0\" >Light Gradient Boosting w/ Cond. Deseasonalize & Detrending</td>\n",
       "      <td id=\"T_31052_row17_col1\" class=\"data row17 col1\" >1.1409</td>\n",
       "      <td id=\"T_31052_row17_col2\" class=\"data row17 col2\" >1.1040</td>\n",
       "      <td id=\"T_31052_row17_col3\" class=\"data row17 col3\" >34.5999</td>\n",
       "      <td id=\"T_31052_row17_col4\" class=\"data row17 col4\" >37.9918</td>\n",
       "      <td id=\"T_31052_row17_col5\" class=\"data row17 col5\" >0.0670</td>\n",
       "      <td id=\"T_31052_row17_col6\" class=\"data row17 col6\" >0.0701</td>\n",
       "      <td id=\"T_31052_row17_col7\" class=\"data row17 col7\" >-0.3994</td>\n",
       "      <td id=\"T_31052_row17_col8\" class=\"data row17 col8\" >0.0680</td>\n",
       "    </tr>\n",
       "    <tr>\n",
       "      <th id=\"T_31052_level0_row18\" class=\"row_heading level0 row18\" >omp_cds_dt</th>\n",
       "      <td id=\"T_31052_row18_col0\" class=\"data row18 col0\" >Orthogonal Matching Pursuit w/ Cond. Deseasonalize & Detrending</td>\n",
       "      <td id=\"T_31052_row18_col1\" class=\"data row18 col1\" >1.1793</td>\n",
       "      <td id=\"T_31052_row18_col2\" class=\"data row18 col2\" >1.1250</td>\n",
       "      <td id=\"T_31052_row18_col3\" class=\"data row18 col3\" >35.7348</td>\n",
       "      <td id=\"T_31052_row18_col4\" class=\"data row18 col4\" >38.6755</td>\n",
       "      <td id=\"T_31052_row18_col5\" class=\"data row18 col5\" >0.0706</td>\n",
       "      <td id=\"T_31052_row18_col6\" class=\"data row18 col6\" >0.0732</td>\n",
       "      <td id=\"T_31052_row18_col7\" class=\"data row18 col7\" >-0.5095</td>\n",
       "      <td id=\"T_31052_row18_col8\" class=\"data row18 col8\" >0.0240</td>\n",
       "    </tr>\n",
       "    <tr>\n",
       "      <th id=\"T_31052_level0_row19\" class=\"row_heading level0 row19\" >ada_cds_dt</th>\n",
       "      <td id=\"T_31052_row19_col0\" class=\"data row19 col0\" >AdaBoost w/ Cond. Deseasonalize & Detrending</td>\n",
       "      <td id=\"T_31052_row19_col1\" class=\"data row19 col1\" >1.1903</td>\n",
       "      <td id=\"T_31052_row19_col2\" class=\"data row19 col2\" >1.1336</td>\n",
       "      <td id=\"T_31052_row19_col3\" class=\"data row19 col3\" >36.1438</td>\n",
       "      <td id=\"T_31052_row19_col4\" class=\"data row19 col4\" >39.0477</td>\n",
       "      <td id=\"T_31052_row19_col5\" class=\"data row19 col5\" >0.0692</td>\n",
       "      <td id=\"T_31052_row19_col6\" class=\"data row19 col6\" >0.0727</td>\n",
       "      <td id=\"T_31052_row19_col7\" class=\"data row19 col7\" >-0.4328</td>\n",
       "      <td id=\"T_31052_row19_col8\" class=\"data row19 col8\" >0.0340</td>\n",
       "    </tr>\n",
       "    <tr>\n",
       "      <th id=\"T_31052_level0_row20\" class=\"row_heading level0 row20\" >gbr_cds_dt</th>\n",
       "      <td id=\"T_31052_row20_col0\" class=\"data row20 col0\" >Gradient Boosting w/ Cond. Deseasonalize & Detrending</td>\n",
       "      <td id=\"T_31052_row20_col1\" class=\"data row20 col1\" >1.2143</td>\n",
       "      <td id=\"T_31052_row20_col2\" class=\"data row20 col2\" >1.1504</td>\n",
       "      <td id=\"T_31052_row20_col3\" class=\"data row20 col3\" >36.7922</td>\n",
       "      <td id=\"T_31052_row20_col4\" class=\"data row20 col4\" >39.5444</td>\n",
       "      <td id=\"T_31052_row20_col5\" class=\"data row20 col5\" >0.0728</td>\n",
       "      <td id=\"T_31052_row20_col6\" class=\"data row20 col6\" >0.0762</td>\n",
       "      <td id=\"T_31052_row20_col7\" class=\"data row20 col7\" >-0.6159</td>\n",
       "      <td id=\"T_31052_row20_col8\" class=\"data row20 col8\" >0.0300</td>\n",
       "    </tr>\n",
       "    <tr>\n",
       "      <th id=\"T_31052_level0_row21\" class=\"row_heading level0 row21\" >snaive</th>\n",
       "      <td id=\"T_31052_row21_col0\" class=\"data row21 col0\" >Seasonal Naive Forecaster</td>\n",
       "      <td id=\"T_31052_row21_col1\" class=\"data row21 col1\" >1.7700</td>\n",
       "      <td id=\"T_31052_row21_col2\" class=\"data row21 col2\" >1.5999</td>\n",
       "      <td id=\"T_31052_row21_col3\" class=\"data row21 col3\" >53.5333</td>\n",
       "      <td id=\"T_31052_row21_col4\" class=\"data row21 col4\" >54.9143</td>\n",
       "      <td id=\"T_31052_row21_col5\" class=\"data row21 col5\" >0.1136</td>\n",
       "      <td id=\"T_31052_row21_col6\" class=\"data row21 col6\" >0.1211</td>\n",
       "      <td id=\"T_31052_row21_col7\" class=\"data row21 col7\" >-4.1630</td>\n",
       "      <td id=\"T_31052_row21_col8\" class=\"data row21 col8\" >0.0600</td>\n",
       "    </tr>\n",
       "    <tr>\n",
       "      <th id=\"T_31052_level0_row22\" class=\"row_heading level0 row22\" >naive</th>\n",
       "      <td id=\"T_31052_row22_col0\" class=\"data row22 col0\" >Naive Forecaster</td>\n",
       "      <td id=\"T_31052_row22_col1\" class=\"data row22 col1\" >1.8145</td>\n",
       "      <td id=\"T_31052_row22_col2\" class=\"data row22 col2\" >1.7444</td>\n",
       "      <td id=\"T_31052_row22_col3\" class=\"data row22 col3\" >54.8667</td>\n",
       "      <td id=\"T_31052_row22_col4\" class=\"data row22 col4\" >59.8160</td>\n",
       "      <td id=\"T_31052_row22_col5\" class=\"data row22 col5\" >0.1135</td>\n",
       "      <td id=\"T_31052_row22_col6\" class=\"data row22 col6\" >0.1151</td>\n",
       "      <td id=\"T_31052_row22_col7\" class=\"data row22 col7\" >-3.7710</td>\n",
       "      <td id=\"T_31052_row22_col8\" class=\"data row22 col8\" >0.0780</td>\n",
       "    </tr>\n",
       "    <tr>\n",
       "      <th id=\"T_31052_level0_row23\" class=\"row_heading level0 row23\" >polytrend</th>\n",
       "      <td id=\"T_31052_row23_col0\" class=\"data row23 col0\" >Polynomial Trend Forecaster</td>\n",
       "      <td id=\"T_31052_row23_col1\" class=\"data row23 col1\" >2.3154</td>\n",
       "      <td id=\"T_31052_row23_col2\" class=\"data row23 col2\" >2.2507</td>\n",
       "      <td id=\"T_31052_row23_col3\" class=\"data row23 col3\" >70.1138</td>\n",
       "      <td id=\"T_31052_row23_col4\" class=\"data row23 col4\" >77.3400</td>\n",
       "      <td id=\"T_31052_row23_col5\" class=\"data row23 col5\" >0.1363</td>\n",
       "      <td id=\"T_31052_row23_col6\" class=\"data row23 col6\" >0.1468</td>\n",
       "      <td id=\"T_31052_row23_col7\" class=\"data row23 col7\" >-4.6202</td>\n",
       "      <td id=\"T_31052_row23_col8\" class=\"data row23 col8\" >0.0540</td>\n",
       "    </tr>\n",
       "    <tr>\n",
       "      <th id=\"T_31052_level0_row24\" class=\"row_heading level0 row24\" >croston</th>\n",
       "      <td id=\"T_31052_row24_col0\" class=\"data row24 col0\" >Croston</td>\n",
       "      <td id=\"T_31052_row24_col1\" class=\"data row24 col1\" >2.6211</td>\n",
       "      <td id=\"T_31052_row24_col2\" class=\"data row24 col2\" >2.4985</td>\n",
       "      <td id=\"T_31052_row24_col3\" class=\"data row24 col3\" >79.3645</td>\n",
       "      <td id=\"T_31052_row24_col4\" class=\"data row24 col4\" >85.8439</td>\n",
       "      <td id=\"T_31052_row24_col5\" class=\"data row24 col5\" >0.1515</td>\n",
       "      <td id=\"T_31052_row24_col6\" class=\"data row24 col6\" >0.1684</td>\n",
       "      <td id=\"T_31052_row24_col7\" class=\"data row24 col7\" >-5.2294</td>\n",
       "      <td id=\"T_31052_row24_col8\" class=\"data row24 col8\" >0.0060</td>\n",
       "    </tr>\n",
       "    <tr>\n",
       "      <th id=\"T_31052_level0_row25\" class=\"row_heading level0 row25\" >grand_means</th>\n",
       "      <td id=\"T_31052_row25_col0\" class=\"data row25 col0\" >Grand Means Forecaster</td>\n",
       "      <td id=\"T_31052_row25_col1\" class=\"data row25 col1\" >7.1261</td>\n",
       "      <td id=\"T_31052_row25_col2\" class=\"data row25 col2\" >6.3506</td>\n",
       "      <td id=\"T_31052_row25_col3\" class=\"data row25 col3\" >216.0214</td>\n",
       "      <td id=\"T_31052_row25_col4\" class=\"data row25 col4\" >218.4259</td>\n",
       "      <td id=\"T_31052_row25_col5\" class=\"data row25 col5\" >0.4377</td>\n",
       "      <td id=\"T_31052_row25_col6\" class=\"data row25 col6\" >0.5682</td>\n",
       "      <td id=\"T_31052_row25_col7\" class=\"data row25 col7\" >-59.2684</td>\n",
       "      <td id=\"T_31052_row25_col8\" class=\"data row25 col8\" >0.0520</td>\n",
       "    </tr>\n",
       "  </tbody>\n",
       "</table>\n"
      ],
      "text/plain": [
       "<pandas.io.formats.style.Styler at 0x341745eb0>"
      ]
     },
     "metadata": {},
     "output_type": "display_data"
    },
    {
     "data": {
      "text/html": [],
      "text/plain": [
       "<IPython.core.display.HTML object>"
      ]
     },
     "metadata": {},
     "output_type": "display_data"
    }
   ],
   "source": [
    "# functional API\n",
    "best = compare_models()"
   ]
  },
  {
   "cell_type": "code",
   "execution_count": 48,
   "id": "57b5c1ef",
   "metadata": {},
   "outputs": [
    {
     "data": {
      "application/vnd.plotly.v1+json": {
       "config": {
        "plotlyServerURL": "https://plot.ly"
       },
       "data": [
        {
         "line": {
          "color": "rgb(31, 119, 180)",
          "width": 2
         },
         "marker": {
          "color": "rgb(31, 119, 180)",
          "size": 5
         },
         "mode": "lines+markers",
         "name": "Number of airline passengers",
         "type": "scattergl",
         "x": [
          "1949-01-01T00:00:00",
          "1949-02-01T00:00:00",
          "1949-03-01T00:00:00",
          "1949-04-01T00:00:00",
          "1949-05-01T00:00:00",
          "1949-06-01T00:00:00",
          "1949-07-01T00:00:00",
          "1949-08-01T00:00:00",
          "1949-09-01T00:00:00",
          "1949-10-01T00:00:00",
          "1949-11-01T00:00:00",
          "1949-12-01T00:00:00",
          "1950-01-01T00:00:00",
          "1950-02-01T00:00:00",
          "1950-03-01T00:00:00",
          "1950-04-01T00:00:00",
          "1950-05-01T00:00:00",
          "1950-06-01T00:00:00",
          "1950-07-01T00:00:00",
          "1950-08-01T00:00:00",
          "1950-09-01T00:00:00",
          "1950-10-01T00:00:00",
          "1950-11-01T00:00:00",
          "1950-12-01T00:00:00",
          "1951-01-01T00:00:00",
          "1951-02-01T00:00:00",
          "1951-03-01T00:00:00",
          "1951-04-01T00:00:00",
          "1951-05-01T00:00:00",
          "1951-06-01T00:00:00",
          "1951-07-01T00:00:00",
          "1951-08-01T00:00:00",
          "1951-09-01T00:00:00",
          "1951-10-01T00:00:00",
          "1951-11-01T00:00:00",
          "1951-12-01T00:00:00",
          "1952-01-01T00:00:00",
          "1952-02-01T00:00:00",
          "1952-03-01T00:00:00",
          "1952-04-01T00:00:00",
          "1952-05-01T00:00:00",
          "1952-06-01T00:00:00",
          "1952-07-01T00:00:00",
          "1952-08-01T00:00:00",
          "1952-09-01T00:00:00",
          "1952-10-01T00:00:00",
          "1952-11-01T00:00:00",
          "1952-12-01T00:00:00",
          "1953-01-01T00:00:00",
          "1953-02-01T00:00:00",
          "1953-03-01T00:00:00",
          "1953-04-01T00:00:00",
          "1953-05-01T00:00:00",
          "1953-06-01T00:00:00",
          "1953-07-01T00:00:00",
          "1953-08-01T00:00:00",
          "1953-09-01T00:00:00",
          "1953-10-01T00:00:00",
          "1953-11-01T00:00:00",
          "1953-12-01T00:00:00",
          "1954-01-01T00:00:00",
          "1954-02-01T00:00:00",
          "1954-03-01T00:00:00",
          "1954-04-01T00:00:00",
          "1954-05-01T00:00:00",
          "1954-06-01T00:00:00",
          "1954-07-01T00:00:00",
          "1954-08-01T00:00:00",
          "1954-09-01T00:00:00",
          "1954-10-01T00:00:00",
          "1954-11-01T00:00:00",
          "1954-12-01T00:00:00",
          "1955-01-01T00:00:00",
          "1955-02-01T00:00:00",
          "1955-03-01T00:00:00",
          "1955-04-01T00:00:00",
          "1955-05-01T00:00:00",
          "1955-06-01T00:00:00",
          "1955-07-01T00:00:00",
          "1955-08-01T00:00:00",
          "1955-09-01T00:00:00",
          "1955-10-01T00:00:00",
          "1955-11-01T00:00:00",
          "1955-12-01T00:00:00",
          "1956-01-01T00:00:00",
          "1956-02-01T00:00:00",
          "1956-03-01T00:00:00",
          "1956-04-01T00:00:00",
          "1956-05-01T00:00:00",
          "1956-06-01T00:00:00",
          "1956-07-01T00:00:00",
          "1956-08-01T00:00:00",
          "1956-09-01T00:00:00",
          "1956-10-01T00:00:00",
          "1956-11-01T00:00:00",
          "1956-12-01T00:00:00",
          "1957-01-01T00:00:00",
          "1957-02-01T00:00:00",
          "1957-03-01T00:00:00",
          "1957-04-01T00:00:00",
          "1957-05-01T00:00:00",
          "1957-06-01T00:00:00",
          "1957-07-01T00:00:00",
          "1957-08-01T00:00:00",
          "1957-09-01T00:00:00",
          "1957-10-01T00:00:00",
          "1957-11-01T00:00:00",
          "1957-12-01T00:00:00",
          "1958-01-01T00:00:00",
          "1958-02-01T00:00:00",
          "1958-03-01T00:00:00",
          "1958-04-01T00:00:00",
          "1958-05-01T00:00:00",
          "1958-06-01T00:00:00",
          "1958-07-01T00:00:00",
          "1958-08-01T00:00:00",
          "1958-09-01T00:00:00",
          "1958-10-01T00:00:00",
          "1958-11-01T00:00:00",
          "1958-12-01T00:00:00",
          "1959-01-01T00:00:00",
          "1959-02-01T00:00:00",
          "1959-03-01T00:00:00",
          "1959-04-01T00:00:00",
          "1959-05-01T00:00:00",
          "1959-06-01T00:00:00",
          "1959-07-01T00:00:00",
          "1959-08-01T00:00:00",
          "1959-09-01T00:00:00",
          "1959-10-01T00:00:00",
          "1959-11-01T00:00:00",
          "1959-12-01T00:00:00",
          "1960-01-01T00:00:00",
          "1960-02-01T00:00:00",
          "1960-03-01T00:00:00",
          "1960-04-01T00:00:00",
          "1960-05-01T00:00:00",
          "1960-06-01T00:00:00",
          "1960-07-01T00:00:00",
          "1960-08-01T00:00:00",
          "1960-09-01T00:00:00",
          "1960-10-01T00:00:00",
          "1960-11-01T00:00:00",
          "1960-12-01T00:00:00",
          "1961-01-01T00:00:00",
          "1961-02-01T00:00:00",
          "1961-03-01T00:00:00",
          "1961-04-01T00:00:00",
          "1961-05-01T00:00:00",
          "1961-06-01T00:00:00",
          "1961-07-01T00:00:00",
          "1961-08-01T00:00:00",
          "1961-09-01T00:00:00",
          "1961-10-01T00:00:00",
          "1961-11-01T00:00:00",
          "1961-12-01T00:00:00",
          "1962-01-01T00:00:00",
          "1962-02-01T00:00:00",
          "1962-03-01T00:00:00",
          "1962-04-01T00:00:00",
          "1962-05-01T00:00:00",
          "1962-06-01T00:00:00",
          "1962-07-01T00:00:00",
          "1962-08-01T00:00:00",
          "1962-09-01T00:00:00"
         ],
         "xaxis": "x",
         "y": [
          112,
          118,
          132,
          129,
          121,
          135,
          148,
          148,
          136,
          119,
          104,
          118,
          115,
          126,
          141,
          135,
          125,
          149,
          170,
          170,
          158,
          133,
          114,
          140,
          145,
          150,
          178,
          163,
          172,
          178,
          199,
          199,
          184,
          162,
          146,
          166,
          171,
          180,
          193,
          181,
          183,
          218,
          230,
          242,
          209,
          191,
          172,
          194,
          196,
          196,
          236,
          235,
          229,
          243,
          264,
          272,
          237,
          211,
          180,
          201,
          204,
          188,
          235,
          227,
          234,
          264,
          302,
          293,
          259,
          229,
          203,
          229,
          242,
          233,
          267,
          269,
          270,
          315,
          364,
          347,
          312,
          274,
          237,
          278,
          284,
          277,
          317,
          313,
          318,
          374,
          413,
          405,
          355,
          306,
          271,
          306,
          315,
          301,
          356,
          348,
          355,
          422,
          465,
          467,
          404,
          347,
          305,
          336,
          340,
          318,
          362,
          348,
          363,
          435,
          491,
          505,
          404,
          359,
          310,
          337,
          360,
          342,
          406,
          396,
          420,
          472,
          548,
          559,
          463,
          407,
          362,
          405,
          417,
          391,
          419,
          461,
          472,
          535,
          622,
          606,
          508,
          461,
          390,
          432,
          null,
          null,
          null,
          null,
          null,
          null,
          null,
          null,
          null,
          null,
          null,
          null,
          null,
          null,
          null,
          null,
          null,
          null,
          null,
          null,
          null
         ],
         "yaxis": "y"
        },
        {
         "line": {
          "color": "rgb(255, 127, 14)",
          "width": 2
         },
         "marker": {
          "color": "rgb(255, 127, 14)",
          "size": 5
         },
         "mode": "lines+markers",
         "name": "STLF",
         "type": "scattergl",
         "x": [
          "1949-01-01T00:00:00",
          "1949-02-01T00:00:00",
          "1949-03-01T00:00:00",
          "1949-04-01T00:00:00",
          "1949-05-01T00:00:00",
          "1949-06-01T00:00:00",
          "1949-07-01T00:00:00",
          "1949-08-01T00:00:00",
          "1949-09-01T00:00:00",
          "1949-10-01T00:00:00",
          "1949-11-01T00:00:00",
          "1949-12-01T00:00:00",
          "1950-01-01T00:00:00",
          "1950-02-01T00:00:00",
          "1950-03-01T00:00:00",
          "1950-04-01T00:00:00",
          "1950-05-01T00:00:00",
          "1950-06-01T00:00:00",
          "1950-07-01T00:00:00",
          "1950-08-01T00:00:00",
          "1950-09-01T00:00:00",
          "1950-10-01T00:00:00",
          "1950-11-01T00:00:00",
          "1950-12-01T00:00:00",
          "1951-01-01T00:00:00",
          "1951-02-01T00:00:00",
          "1951-03-01T00:00:00",
          "1951-04-01T00:00:00",
          "1951-05-01T00:00:00",
          "1951-06-01T00:00:00",
          "1951-07-01T00:00:00",
          "1951-08-01T00:00:00",
          "1951-09-01T00:00:00",
          "1951-10-01T00:00:00",
          "1951-11-01T00:00:00",
          "1951-12-01T00:00:00",
          "1952-01-01T00:00:00",
          "1952-02-01T00:00:00",
          "1952-03-01T00:00:00",
          "1952-04-01T00:00:00",
          "1952-05-01T00:00:00",
          "1952-06-01T00:00:00",
          "1952-07-01T00:00:00",
          "1952-08-01T00:00:00",
          "1952-09-01T00:00:00",
          "1952-10-01T00:00:00",
          "1952-11-01T00:00:00",
          "1952-12-01T00:00:00",
          "1953-01-01T00:00:00",
          "1953-02-01T00:00:00",
          "1953-03-01T00:00:00",
          "1953-04-01T00:00:00",
          "1953-05-01T00:00:00",
          "1953-06-01T00:00:00",
          "1953-07-01T00:00:00",
          "1953-08-01T00:00:00",
          "1953-09-01T00:00:00",
          "1953-10-01T00:00:00",
          "1953-11-01T00:00:00",
          "1953-12-01T00:00:00",
          "1954-01-01T00:00:00",
          "1954-02-01T00:00:00",
          "1954-03-01T00:00:00",
          "1954-04-01T00:00:00",
          "1954-05-01T00:00:00",
          "1954-06-01T00:00:00",
          "1954-07-01T00:00:00",
          "1954-08-01T00:00:00",
          "1954-09-01T00:00:00",
          "1954-10-01T00:00:00",
          "1954-11-01T00:00:00",
          "1954-12-01T00:00:00",
          "1955-01-01T00:00:00",
          "1955-02-01T00:00:00",
          "1955-03-01T00:00:00",
          "1955-04-01T00:00:00",
          "1955-05-01T00:00:00",
          "1955-06-01T00:00:00",
          "1955-07-01T00:00:00",
          "1955-08-01T00:00:00",
          "1955-09-01T00:00:00",
          "1955-10-01T00:00:00",
          "1955-11-01T00:00:00",
          "1955-12-01T00:00:00",
          "1956-01-01T00:00:00",
          "1956-02-01T00:00:00",
          "1956-03-01T00:00:00",
          "1956-04-01T00:00:00",
          "1956-05-01T00:00:00",
          "1956-06-01T00:00:00",
          "1956-07-01T00:00:00",
          "1956-08-01T00:00:00",
          "1956-09-01T00:00:00",
          "1956-10-01T00:00:00",
          "1956-11-01T00:00:00",
          "1956-12-01T00:00:00",
          "1957-01-01T00:00:00",
          "1957-02-01T00:00:00",
          "1957-03-01T00:00:00",
          "1957-04-01T00:00:00",
          "1957-05-01T00:00:00",
          "1957-06-01T00:00:00",
          "1957-07-01T00:00:00",
          "1957-08-01T00:00:00",
          "1957-09-01T00:00:00",
          "1957-10-01T00:00:00",
          "1957-11-01T00:00:00",
          "1957-12-01T00:00:00",
          "1958-01-01T00:00:00",
          "1958-02-01T00:00:00",
          "1958-03-01T00:00:00",
          "1958-04-01T00:00:00",
          "1958-05-01T00:00:00",
          "1958-06-01T00:00:00",
          "1958-07-01T00:00:00",
          "1958-08-01T00:00:00",
          "1958-09-01T00:00:00",
          "1958-10-01T00:00:00",
          "1958-11-01T00:00:00",
          "1958-12-01T00:00:00",
          "1959-01-01T00:00:00",
          "1959-02-01T00:00:00",
          "1959-03-01T00:00:00",
          "1959-04-01T00:00:00",
          "1959-05-01T00:00:00",
          "1959-06-01T00:00:00",
          "1959-07-01T00:00:00",
          "1959-08-01T00:00:00",
          "1959-09-01T00:00:00",
          "1959-10-01T00:00:00",
          "1959-11-01T00:00:00",
          "1959-12-01T00:00:00",
          "1960-01-01T00:00:00",
          "1960-02-01T00:00:00",
          "1960-03-01T00:00:00",
          "1960-04-01T00:00:00",
          "1960-05-01T00:00:00",
          "1960-06-01T00:00:00",
          "1960-07-01T00:00:00",
          "1960-08-01T00:00:00",
          "1960-09-01T00:00:00",
          "1960-10-01T00:00:00",
          "1960-11-01T00:00:00",
          "1960-12-01T00:00:00",
          "1961-01-01T00:00:00",
          "1961-02-01T00:00:00",
          "1961-03-01T00:00:00",
          "1961-04-01T00:00:00",
          "1961-05-01T00:00:00",
          "1961-06-01T00:00:00",
          "1961-07-01T00:00:00",
          "1961-08-01T00:00:00",
          "1961-09-01T00:00:00",
          "1961-10-01T00:00:00",
          "1961-11-01T00:00:00",
          "1961-12-01T00:00:00",
          "1962-01-01T00:00:00",
          "1962-02-01T00:00:00",
          "1962-03-01T00:00:00",
          "1962-04-01T00:00:00",
          "1962-05-01T00:00:00",
          "1962-06-01T00:00:00",
          "1962-07-01T00:00:00",
          "1962-08-01T00:00:00",
          "1962-09-01T00:00:00"
         ],
         "xaxis": "x",
         "y": [
          null,
          null,
          null,
          null,
          null,
          null,
          null,
          null,
          null,
          null,
          null,
          null,
          null,
          null,
          null,
          null,
          null,
          null,
          null,
          null,
          null,
          null,
          null,
          null,
          null,
          null,
          null,
          null,
          null,
          null,
          null,
          null,
          null,
          null,
          null,
          null,
          null,
          null,
          null,
          null,
          null,
          null,
          null,
          null,
          null,
          null,
          null,
          null,
          null,
          null,
          null,
          null,
          null,
          null,
          null,
          null,
          null,
          null,
          null,
          null,
          null,
          null,
          null,
          null,
          null,
          null,
          null,
          null,
          null,
          null,
          null,
          null,
          null,
          null,
          null,
          null,
          null,
          null,
          null,
          null,
          null,
          null,
          null,
          null,
          null,
          null,
          null,
          null,
          null,
          null,
          null,
          null,
          null,
          null,
          null,
          null,
          null,
          null,
          null,
          null,
          null,
          null,
          null,
          null,
          null,
          null,
          null,
          null,
          null,
          null,
          null,
          null,
          null,
          null,
          null,
          null,
          null,
          null,
          null,
          null,
          null,
          null,
          null,
          null,
          null,
          null,
          null,
          null,
          null,
          null,
          null,
          null,
          null,
          null,
          null,
          null,
          null,
          null,
          null,
          null,
          null,
          455.2909,
          406.4324,
          441.514,
          456.2386,
          430.1439,
          471.7323,
          490.5395,
          507.232,
          567.3178,
          650.992,
          647.6881,
          540.2424,
          486.5606,
          437.702,
          472.7837,
          487.5083,
          461.4136,
          503.002,
          521.8092,
          538.5017,
          598.5875,
          682.2617,
          678.9578,
          571.5121
         ],
         "yaxis": "y"
        }
       ],
       "layout": {
        "showlegend": true,
        "template": {
         "data": {
          "bar": [
           {
            "error_x": {
             "color": "rgb(51,51,51)"
            },
            "error_y": {
             "color": "rgb(51,51,51)"
            },
            "marker": {
             "line": {
              "color": "rgb(237,237,237)",
              "width": 0.5
             },
             "pattern": {
              "fillmode": "overlay",
              "size": 10,
              "solidity": 0.2
             }
            },
            "type": "bar"
           }
          ],
          "barpolar": [
           {
            "marker": {
             "line": {
              "color": "rgb(237,237,237)",
              "width": 0.5
             },
             "pattern": {
              "fillmode": "overlay",
              "size": 10,
              "solidity": 0.2
             }
            },
            "type": "barpolar"
           }
          ],
          "carpet": [
           {
            "aaxis": {
             "endlinecolor": "rgb(51,51,51)",
             "gridcolor": "white",
             "linecolor": "white",
             "minorgridcolor": "white",
             "startlinecolor": "rgb(51,51,51)"
            },
            "baxis": {
             "endlinecolor": "rgb(51,51,51)",
             "gridcolor": "white",
             "linecolor": "white",
             "minorgridcolor": "white",
             "startlinecolor": "rgb(51,51,51)"
            },
            "type": "carpet"
           }
          ],
          "choropleth": [
           {
            "colorbar": {
             "outlinewidth": 0,
             "tickcolor": "rgb(237,237,237)",
             "ticklen": 6,
             "ticks": "inside"
            },
            "type": "choropleth"
           }
          ],
          "contour": [
           {
            "colorbar": {
             "outlinewidth": 0,
             "tickcolor": "rgb(237,237,237)",
             "ticklen": 6,
             "ticks": "inside"
            },
            "colorscale": [
             [
              0,
              "rgb(20,44,66)"
             ],
             [
              1,
              "rgb(90,179,244)"
             ]
            ],
            "type": "contour"
           }
          ],
          "contourcarpet": [
           {
            "colorbar": {
             "outlinewidth": 0,
             "tickcolor": "rgb(237,237,237)",
             "ticklen": 6,
             "ticks": "inside"
            },
            "type": "contourcarpet"
           }
          ],
          "heatmap": [
           {
            "colorbar": {
             "outlinewidth": 0,
             "tickcolor": "rgb(237,237,237)",
             "ticklen": 6,
             "ticks": "inside"
            },
            "colorscale": [
             [
              0,
              "rgb(20,44,66)"
             ],
             [
              1,
              "rgb(90,179,244)"
             ]
            ],
            "type": "heatmap"
           }
          ],
          "heatmapgl": [
           {
            "colorbar": {
             "outlinewidth": 0,
             "tickcolor": "rgb(237,237,237)",
             "ticklen": 6,
             "ticks": "inside"
            },
            "colorscale": [
             [
              0,
              "rgb(20,44,66)"
             ],
             [
              1,
              "rgb(90,179,244)"
             ]
            ],
            "type": "heatmapgl"
           }
          ],
          "histogram": [
           {
            "marker": {
             "pattern": {
              "fillmode": "overlay",
              "size": 10,
              "solidity": 0.2
             }
            },
            "type": "histogram"
           }
          ],
          "histogram2d": [
           {
            "colorbar": {
             "outlinewidth": 0,
             "tickcolor": "rgb(237,237,237)",
             "ticklen": 6,
             "ticks": "inside"
            },
            "colorscale": [
             [
              0,
              "rgb(20,44,66)"
             ],
             [
              1,
              "rgb(90,179,244)"
             ]
            ],
            "type": "histogram2d"
           }
          ],
          "histogram2dcontour": [
           {
            "colorbar": {
             "outlinewidth": 0,
             "tickcolor": "rgb(237,237,237)",
             "ticklen": 6,
             "ticks": "inside"
            },
            "colorscale": [
             [
              0,
              "rgb(20,44,66)"
             ],
             [
              1,
              "rgb(90,179,244)"
             ]
            ],
            "type": "histogram2dcontour"
           }
          ],
          "mesh3d": [
           {
            "colorbar": {
             "outlinewidth": 0,
             "tickcolor": "rgb(237,237,237)",
             "ticklen": 6,
             "ticks": "inside"
            },
            "type": "mesh3d"
           }
          ],
          "parcoords": [
           {
            "line": {
             "colorbar": {
              "outlinewidth": 0,
              "tickcolor": "rgb(237,237,237)",
              "ticklen": 6,
              "ticks": "inside"
             }
            },
            "type": "parcoords"
           }
          ],
          "pie": [
           {
            "automargin": true,
            "type": "pie"
           }
          ],
          "scatter": [
           {
            "fillpattern": {
             "fillmode": "overlay",
             "size": 10,
             "solidity": 0.2
            },
            "type": "scatter"
           }
          ],
          "scatter3d": [
           {
            "line": {
             "colorbar": {
              "outlinewidth": 0,
              "tickcolor": "rgb(237,237,237)",
              "ticklen": 6,
              "ticks": "inside"
             }
            },
            "marker": {
             "colorbar": {
              "outlinewidth": 0,
              "tickcolor": "rgb(237,237,237)",
              "ticklen": 6,
              "ticks": "inside"
             }
            },
            "type": "scatter3d"
           }
          ],
          "scattercarpet": [
           {
            "marker": {
             "colorbar": {
              "outlinewidth": 0,
              "tickcolor": "rgb(237,237,237)",
              "ticklen": 6,
              "ticks": "inside"
             }
            },
            "type": "scattercarpet"
           }
          ],
          "scattergeo": [
           {
            "marker": {
             "colorbar": {
              "outlinewidth": 0,
              "tickcolor": "rgb(237,237,237)",
              "ticklen": 6,
              "ticks": "inside"
             }
            },
            "type": "scattergeo"
           }
          ],
          "scattergl": [
           {
            "marker": {
             "colorbar": {
              "outlinewidth": 0,
              "tickcolor": "rgb(237,237,237)",
              "ticklen": 6,
              "ticks": "inside"
             }
            },
            "type": "scattergl"
           }
          ],
          "scattermapbox": [
           {
            "marker": {
             "colorbar": {
              "outlinewidth": 0,
              "tickcolor": "rgb(237,237,237)",
              "ticklen": 6,
              "ticks": "inside"
             }
            },
            "type": "scattermapbox"
           }
          ],
          "scatterpolar": [
           {
            "marker": {
             "colorbar": {
              "outlinewidth": 0,
              "tickcolor": "rgb(237,237,237)",
              "ticklen": 6,
              "ticks": "inside"
             }
            },
            "type": "scatterpolar"
           }
          ],
          "scatterpolargl": [
           {
            "marker": {
             "colorbar": {
              "outlinewidth": 0,
              "tickcolor": "rgb(237,237,237)",
              "ticklen": 6,
              "ticks": "inside"
             }
            },
            "type": "scatterpolargl"
           }
          ],
          "scatterternary": [
           {
            "marker": {
             "colorbar": {
              "outlinewidth": 0,
              "tickcolor": "rgb(237,237,237)",
              "ticklen": 6,
              "ticks": "inside"
             }
            },
            "type": "scatterternary"
           }
          ],
          "surface": [
           {
            "colorbar": {
             "outlinewidth": 0,
             "tickcolor": "rgb(237,237,237)",
             "ticklen": 6,
             "ticks": "inside"
            },
            "colorscale": [
             [
              0,
              "rgb(20,44,66)"
             ],
             [
              1,
              "rgb(90,179,244)"
             ]
            ],
            "type": "surface"
           }
          ],
          "table": [
           {
            "cells": {
             "fill": {
              "color": "rgb(237,237,237)"
             },
             "line": {
              "color": "white"
             }
            },
            "header": {
             "fill": {
              "color": "rgb(217,217,217)"
             },
             "line": {
              "color": "white"
             }
            },
            "type": "table"
           }
          ]
         },
         "layout": {
          "annotationdefaults": {
           "arrowhead": 0,
           "arrowwidth": 1
          },
          "autotypenumbers": "strict",
          "coloraxis": {
           "colorbar": {
            "outlinewidth": 0,
            "tickcolor": "rgb(237,237,237)",
            "ticklen": 6,
            "ticks": "inside"
           }
          },
          "colorscale": {
           "sequential": [
            [
             0,
             "rgb(20,44,66)"
            ],
            [
             1,
             "rgb(90,179,244)"
            ]
           ],
           "sequentialminus": [
            [
             0,
             "rgb(20,44,66)"
            ],
            [
             1,
             "rgb(90,179,244)"
            ]
           ]
          },
          "colorway": [
           "#F8766D",
           "#A3A500",
           "#00BF7D",
           "#00B0F6",
           "#E76BF3"
          ],
          "font": {
           "color": "rgb(51,51,51)"
          },
          "geo": {
           "bgcolor": "white",
           "lakecolor": "white",
           "landcolor": "rgb(237,237,237)",
           "showlakes": true,
           "showland": true,
           "subunitcolor": "white"
          },
          "hoverlabel": {
           "align": "left"
          },
          "hovermode": "closest",
          "paper_bgcolor": "white",
          "plot_bgcolor": "rgb(237,237,237)",
          "polar": {
           "angularaxis": {
            "gridcolor": "white",
            "linecolor": "white",
            "showgrid": true,
            "tickcolor": "rgb(51,51,51)",
            "ticks": "outside"
           },
           "bgcolor": "rgb(237,237,237)",
           "radialaxis": {
            "gridcolor": "white",
            "linecolor": "white",
            "showgrid": true,
            "tickcolor": "rgb(51,51,51)",
            "ticks": "outside"
           }
          },
          "scene": {
           "xaxis": {
            "backgroundcolor": "rgb(237,237,237)",
            "gridcolor": "white",
            "gridwidth": 2,
            "linecolor": "white",
            "showbackground": true,
            "showgrid": true,
            "tickcolor": "rgb(51,51,51)",
            "ticks": "outside",
            "zerolinecolor": "white"
           },
           "yaxis": {
            "backgroundcolor": "rgb(237,237,237)",
            "gridcolor": "white",
            "gridwidth": 2,
            "linecolor": "white",
            "showbackground": true,
            "showgrid": true,
            "tickcolor": "rgb(51,51,51)",
            "ticks": "outside",
            "zerolinecolor": "white"
           },
           "zaxis": {
            "backgroundcolor": "rgb(237,237,237)",
            "gridcolor": "white",
            "gridwidth": 2,
            "linecolor": "white",
            "showbackground": true,
            "showgrid": true,
            "tickcolor": "rgb(51,51,51)",
            "ticks": "outside",
            "zerolinecolor": "white"
           }
          },
          "shapedefaults": {
           "fillcolor": "black",
           "line": {
            "width": 0
           },
           "opacity": 0.3
          },
          "ternary": {
           "aaxis": {
            "gridcolor": "white",
            "linecolor": "white",
            "showgrid": true,
            "tickcolor": "rgb(51,51,51)",
            "ticks": "outside"
           },
           "baxis": {
            "gridcolor": "white",
            "linecolor": "white",
            "showgrid": true,
            "tickcolor": "rgb(51,51,51)",
            "ticks": "outside"
           },
           "bgcolor": "rgb(237,237,237)",
           "caxis": {
            "gridcolor": "white",
            "linecolor": "white",
            "showgrid": true,
            "tickcolor": "rgb(51,51,51)",
            "ticks": "outside"
           }
          },
          "xaxis": {
           "automargin": true,
           "gridcolor": "white",
           "linecolor": "white",
           "showgrid": true,
           "tickcolor": "rgb(51,51,51)",
           "ticks": "outside",
           "title": {
            "standoff": 15
           },
           "zerolinecolor": "white"
          },
          "yaxis": {
           "automargin": true,
           "gridcolor": "white",
           "linecolor": "white",
           "showgrid": true,
           "tickcolor": "rgb(51,51,51)",
           "ticks": "outside",
           "title": {
            "standoff": 15
           },
           "zerolinecolor": "white"
          }
         }
        },
        "title": {
         "text": "Actual vs. Forecast (Out-of-Sample)"
        },
        "xaxis": {
         "anchor": "y",
         "domain": [
          0,
          1
         ]
        },
        "yaxis": {
         "anchor": "x",
         "domain": [
          0,
          1
         ]
        }
       }
      }
     },
     "metadata": {},
     "output_type": "display_data"
    }
   ],
   "source": [
    "# functional API\n",
    "plot_model(best, plot = 'forecast', data_kwargs = {'fh' : 24})"
   ]
  },
  {
   "cell_type": "code",
   "execution_count": 49,
   "id": "7b41b096",
   "metadata": {},
   "outputs": [
    {
     "data": {
      "application/vnd.plotly.v1+json": {
       "config": {
        "plotlyServerURL": "https://plot.ly"
       },
       "data": [
        {
         "line": {
          "color": "rgb(31, 119, 180)",
          "width": 2
         },
         "marker": {
          "color": "rgb(31, 119, 180)",
          "size": 5
         },
         "mode": "lines+markers",
         "name": "STLF",
         "showlegend": false,
         "type": "scattergl",
         "x": [
          "1949-01-01T00:00:00",
          "1950-01-01T00:00:00",
          "1950-02-01T00:00:00",
          "1950-03-01T00:00:00",
          "1950-04-01T00:00:00",
          "1950-05-01T00:00:00",
          "1950-06-01T00:00:00",
          "1950-07-01T00:00:00",
          "1950-08-01T00:00:00",
          "1950-09-01T00:00:00",
          "1950-10-01T00:00:00",
          "1950-11-01T00:00:00",
          "1950-12-01T00:00:00",
          "1951-01-01T00:00:00",
          "1951-02-01T00:00:00",
          "1951-03-01T00:00:00",
          "1951-04-01T00:00:00",
          "1951-05-01T00:00:00",
          "1951-06-01T00:00:00",
          "1951-07-01T00:00:00",
          "1951-08-01T00:00:00",
          "1951-09-01T00:00:00",
          "1951-10-01T00:00:00",
          "1951-11-01T00:00:00",
          "1951-12-01T00:00:00",
          "1952-01-01T00:00:00",
          "1952-02-01T00:00:00",
          "1952-03-01T00:00:00",
          "1952-04-01T00:00:00",
          "1952-05-01T00:00:00",
          "1952-06-01T00:00:00",
          "1952-07-01T00:00:00",
          "1952-08-01T00:00:00",
          "1952-09-01T00:00:00",
          "1952-10-01T00:00:00",
          "1952-11-01T00:00:00",
          "1952-12-01T00:00:00",
          "1953-01-01T00:00:00",
          "1953-02-01T00:00:00",
          "1953-03-01T00:00:00",
          "1953-04-01T00:00:00",
          "1953-05-01T00:00:00",
          "1953-06-01T00:00:00",
          "1953-07-01T00:00:00",
          "1953-08-01T00:00:00",
          "1953-09-01T00:00:00",
          "1953-10-01T00:00:00",
          "1953-11-01T00:00:00",
          "1953-12-01T00:00:00",
          "1954-01-01T00:00:00",
          "1954-02-01T00:00:00",
          "1954-03-01T00:00:00",
          "1954-04-01T00:00:00",
          "1954-05-01T00:00:00",
          "1954-06-01T00:00:00",
          "1954-07-01T00:00:00",
          "1954-08-01T00:00:00",
          "1954-09-01T00:00:00",
          "1954-10-01T00:00:00",
          "1954-11-01T00:00:00",
          "1954-12-01T00:00:00",
          "1955-01-01T00:00:00",
          "1955-02-01T00:00:00",
          "1955-03-01T00:00:00",
          "1955-04-01T00:00:00",
          "1955-05-01T00:00:00",
          "1955-06-01T00:00:00",
          "1955-07-01T00:00:00",
          "1955-08-01T00:00:00",
          "1955-09-01T00:00:00",
          "1955-10-01T00:00:00",
          "1955-11-01T00:00:00",
          "1955-12-01T00:00:00",
          "1956-01-01T00:00:00",
          "1956-02-01T00:00:00",
          "1956-03-01T00:00:00",
          "1956-04-01T00:00:00",
          "1956-05-01T00:00:00",
          "1956-06-01T00:00:00",
          "1956-07-01T00:00:00",
          "1956-08-01T00:00:00",
          "1956-09-01T00:00:00",
          "1956-10-01T00:00:00",
          "1956-11-01T00:00:00",
          "1956-12-01T00:00:00",
          "1957-01-01T00:00:00",
          "1957-02-01T00:00:00",
          "1957-03-01T00:00:00",
          "1957-04-01T00:00:00",
          "1957-05-01T00:00:00",
          "1957-06-01T00:00:00",
          "1957-07-01T00:00:00",
          "1957-08-01T00:00:00",
          "1957-09-01T00:00:00",
          "1957-10-01T00:00:00",
          "1957-11-01T00:00:00",
          "1957-12-01T00:00:00",
          "1958-01-01T00:00:00",
          "1958-02-01T00:00:00",
          "1958-03-01T00:00:00",
          "1958-04-01T00:00:00",
          "1958-05-01T00:00:00",
          "1958-06-01T00:00:00",
          "1958-07-01T00:00:00",
          "1958-08-01T00:00:00",
          "1958-09-01T00:00:00",
          "1958-10-01T00:00:00",
          "1958-11-01T00:00:00",
          "1958-12-01T00:00:00",
          "1959-01-01T00:00:00",
          "1959-02-01T00:00:00",
          "1959-03-01T00:00:00",
          "1959-04-01T00:00:00",
          "1959-05-01T00:00:00",
          "1959-06-01T00:00:00",
          "1959-07-01T00:00:00",
          "1959-08-01T00:00:00",
          "1959-09-01T00:00:00",
          "1959-10-01T00:00:00",
          "1959-11-01T00:00:00",
          "1959-12-01T00:00:00",
          "1960-01-01T00:00:00",
          "1960-02-01T00:00:00",
          "1960-03-01T00:00:00",
          "1960-04-01T00:00:00",
          "1960-05-01T00:00:00",
          "1960-06-01T00:00:00",
          "1960-07-01T00:00:00",
          "1960-08-01T00:00:00",
          "1960-09-01T00:00:00"
         ],
         "xaxis": "x",
         "y": [
          2.1835999999999984,
          -5.204599999999999,
          -0.5956000000000046,
          -0.11719999999999686,
          -3.7807999999999993,
          -6.599899999999991,
          2.412700000000001,
          9.235000000000014,
          7.8548999999999864,
          6.2642999999999915,
          -3.4861999999999966,
          -9.310699999999997,
          0.8713999999999942,
          5.000400000000013,
          0.9311999999999898,
          11.099700000000013,
          0.26669999999998595,
          15.711600000000004,
          0.7316999999999894,
          3.2198999999999955,
          1.4200999999999908,
          1.04140000000001,
          0.34780000000000655,
          2.3625999999999863,
          1.4558000000000106,
          4.007499999999993,
          7.004300000000001,
          -4.0660000000000025,
          -7.477100000000007,
          -5.738400000000013,
          12.035300000000007,
          3.7066000000000088,
          13.028400000000005,
          -1.7235000000000014,
          1.8504000000000076,
          1.0486999999999966,
          0.7161000000000115,
          -2.0560999999999865,
          -6.942599999999999,
          7.928799999999995,
          17.688999999999993,
          9.890299999999996,
          2.5283000000000015,
          5.566199999999981,
          9.427999999999997,
          3.2327999999999975,
          1.2180999999999926,
          -7.0353000000000065,
          -6.68010000000001,
          -6.413800000000009,
          -20.399400000000014,
          -5.174499999999995,
          -5.8577999999999975,
          0.21629999999998972,
          5.3740999999999985,
          18.892999999999972,
          5.727300000000014,
          3.7849999999999966,
          -2.1038000000000068,
          -3.3680999999999983,
          -2.6637000000000057,
          3.7660999999999945,
          0.5305999999999926,
          -5.777600000000007,
          -0.7409999999999854,
          -3.1544000000000096,
          8.880200000000002,
          23.256100000000004,
          8.308499999999981,
          8.2303,
          -0.13110000000000355,
          -8.617999999999995,
          3.0541000000000054,
          0.5162000000000262,
          2.8111000000000104,
          0.7375000000000114,
          -0.329400000000021,
          0.8777999999999793,
          14.593200000000024,
          12.78109999999998,
          13.410900000000026,
          4.154200000000003,
          -6.231299999999976,
          -7.650800000000004,
          -5.783200000000022,
          -5.026400000000024,
          -7.973799999999983,
          3.807900000000018,
          0.19990000000001373,
          1.2683999999999855,
          13.87439999999998,
          13.089800000000025,
          22.021000000000015,
          12.161900000000003,
          2.2302999999999997,
          -0.47980000000001155,
          -1.8702000000000112,
          -4.673099999999977,
          -10.884999999999991,
          -12.477599999999995,
          -16.932999999999993,
          -9.359699999999975,
          2.6567999999999756,
          11.712400000000002,
          25.663900000000012,
          -6.629799999999989,
          -1.374900000000025,
          -9.367200000000025,
          -17.143500000000017,
          -5.5131000000000085,
          -6.620200000000011,
          9.095899999999972,
          -0.4390000000000214,
          9.349199999999996,
          -2.917100000000005,
          11.96270000000004,
          18.9461,
          4.43040000000002,
          -1.3351999999999862,
          -2.585300000000018,
          5.11930000000001,
          2.570600000000013,
          -2.9225999999999885,
          -22.425400000000025,
          12.119899999999973,
          6.3349999999999795,
          6.826000000000022,
          21.288999999999987,
          2.967999999999961,
          -0.1752999999999929
         ],
         "yaxis": "y"
        },
        {
         "hoverinfo": "text",
         "hovertext": [
          "Freq: 0.0077<br>Ampl: 11.9628<br>Time period: 130.0",
          "Freq: 0.0154<br>Ampl: 20.1389<br>Time period: 65.0",
          "Freq: 0.0231<br>Ampl: 21.141<br>Time period: 43.3333",
          "Freq: 0.0308<br>Ampl: 20.5546<br>Time period: 32.5",
          "Freq: 0.0385<br>Ampl: 22.0798<br>Time period: 26.0",
          "Freq: 0.0462<br>Ampl: 7.1208<br>Time period: 21.6667",
          "Freq: 0.0538<br>Ampl: 22.9438<br>Time period: 18.5714",
          "Freq: 0.0615<br>Ampl: 23.1532<br>Time period: 16.25",
          "Freq: 0.0692<br>Ampl: 16.7184<br>Time period: 14.4444",
          "Freq: 0.0769<br>Ampl: 31.0896<br>Time period: 13.0",
          "Freq: 0.0846<br>Ampl: 32.8857<br>Time period: 11.8182",
          "Freq: 0.0923<br>Ampl: 27.7771<br>Time period: 10.8333",
          "Freq: 0.1<br>Ampl: 16.4372<br>Time period: 10.0",
          "Freq: 0.1077<br>Ampl: 8.7544<br>Time period: 9.2857",
          "Freq: 0.1154<br>Ampl: 5.4213<br>Time period: 8.6667",
          "Freq: 0.1231<br>Ampl: 16.053<br>Time period: 8.125",
          "Freq: 0.1308<br>Ampl: 14.54<br>Time period: 7.6471",
          "Freq: 0.1385<br>Ampl: 21.4927<br>Time period: 7.2222",
          "Freq: 0.1462<br>Ampl: 23.3493<br>Time period: 6.8421",
          "Freq: 0.1538<br>Ampl: 25.224<br>Time period: 6.5",
          "Freq: 0.1615<br>Ampl: 27.1393<br>Time period: 6.1905",
          "Freq: 0.1692<br>Ampl: 26.4632<br>Time period: 5.9091",
          "Freq: 0.1769<br>Ampl: 23.0073<br>Time period: 5.6522",
          "Freq: 0.1846<br>Ampl: 19.7998<br>Time period: 5.4167",
          "Freq: 0.1923<br>Ampl: 17.7278<br>Time period: 5.2",
          "Freq: 0.2<br>Ampl: 5.3825<br>Time period: 5.0",
          "Freq: 0.2077<br>Ampl: 14.0387<br>Time period: 4.8148",
          "Freq: 0.2154<br>Ampl: 11.1926<br>Time period: 4.6429",
          "Freq: 0.2231<br>Ampl: 13.6286<br>Time period: 4.4828",
          "Freq: 0.2308<br>Ampl: 15.0446<br>Time period: 4.3333",
          "Freq: 0.2385<br>Ampl: 5.2918<br>Time period: 4.1935",
          "Freq: 0.2462<br>Ampl: 14.2896<br>Time period: 4.0625",
          "Freq: 0.2538<br>Ampl: 16.6931<br>Time period: 3.9394",
          "Freq: 0.2615<br>Ampl: 12.6022<br>Time period: 3.8235",
          "Freq: 0.2692<br>Ampl: 16.2854<br>Time period: 3.7143",
          "Freq: 0.2769<br>Ampl: 14.6634<br>Time period: 3.6111",
          "Freq: 0.2846<br>Ampl: 8.8529<br>Time period: 3.5135",
          "Freq: 0.2923<br>Ampl: -2.8076<br>Time period: 3.4211",
          "Freq: 0.3<br>Ampl: 6.1363<br>Time period: 3.3333",
          "Freq: 0.3077<br>Ampl: 13.099<br>Time period: 3.25",
          "Freq: 0.3154<br>Ampl: 14.005<br>Time period: 3.1707",
          "Freq: 0.3231<br>Ampl: 15.0592<br>Time period: 3.0952",
          "Freq: 0.3308<br>Ampl: 19.1242<br>Time period: 3.0233",
          "Freq: 0.3385<br>Ampl: 22.0783<br>Time period: 2.9545",
          "Freq: 0.3462<br>Ampl: 22.646<br>Time period: 2.8889",
          "Freq: 0.3538<br>Ampl: 17.8174<br>Time period: 2.8261",
          "Freq: 0.3615<br>Ampl: 11.655<br>Time period: 2.766",
          "Freq: 0.3692<br>Ampl: 13.4564<br>Time period: 2.7083",
          "Freq: 0.3769<br>Ampl: 17.758<br>Time period: 2.6531",
          "Freq: 0.3846<br>Ampl: 18.5297<br>Time period: 2.6",
          "Freq: 0.3923<br>Ampl: 17.1061<br>Time period: 2.549",
          "Freq: 0.4<br>Ampl: 16.6971<br>Time period: 2.5",
          "Freq: 0.4077<br>Ampl: 9.4471<br>Time period: 2.4528",
          "Freq: 0.4154<br>Ampl: 5.6424<br>Time period: 2.4074",
          "Freq: 0.4231<br>Ampl: 8.0538<br>Time period: 2.3636",
          "Freq: 0.4308<br>Ampl: 20.0769<br>Time period: 2.3214",
          "Freq: 0.4385<br>Ampl: 19.4169<br>Time period: 2.2807",
          "Freq: 0.4462<br>Ampl: 11.9295<br>Time period: 2.2414",
          "Freq: 0.4538<br>Ampl: -8.1468<br>Time period: 2.2034",
          "Freq: 0.4615<br>Ampl: 7.5481<br>Time period: 2.1667",
          "Freq: 0.4692<br>Ampl: 16.5922<br>Time period: 2.1311",
          "Freq: 0.4769<br>Ampl: 18.0989<br>Time period: 2.0968",
          "Freq: 0.4846<br>Ampl: 17.3036<br>Time period: 2.0635",
          "Freq: 0.4923<br>Ampl: 12.3359<br>Time period: 2.0312",
          "Freq: 0.5<br>Ampl: 1.2461<br>Time period: 2.0"
         ],
         "line": {
          "color": "#1f77b4",
          "width": 2
         },
         "marker": {
          "size": 5
         },
         "mode": "lines+markers",
         "name": "STLF",
         "showlegend": false,
         "type": "scattergl",
         "x": [
          0.007692307692307693,
          0.015384615384615385,
          0.023076923076923078,
          0.03076923076923077,
          0.038461538461538464,
          0.046153846153846156,
          0.05384615384615385,
          0.06153846153846154,
          0.06923076923076923,
          0.07692307692307693,
          0.08461538461538462,
          0.09230769230769231,
          0.1,
          0.1076923076923077,
          0.11538461538461539,
          0.12307692307692308,
          0.13076923076923078,
          0.13846153846153847,
          0.14615384615384616,
          0.15384615384615385,
          0.16153846153846155,
          0.16923076923076924,
          0.17692307692307693,
          0.18461538461538463,
          0.19230769230769232,
          0.2,
          0.2076923076923077,
          0.2153846153846154,
          0.2230769230769231,
          0.23076923076923078,
          0.23846153846153847,
          0.24615384615384617,
          0.25384615384615383,
          0.26153846153846155,
          0.2692307692307693,
          0.27692307692307694,
          0.2846153846153846,
          0.2923076923076923,
          0.30000000000000004,
          0.3076923076923077,
          0.3153846153846154,
          0.3230769230769231,
          0.3307692307692308,
          0.3384615384615385,
          0.34615384615384615,
          0.35384615384615387,
          0.3615384615384616,
          0.36923076923076925,
          0.3769230769230769,
          0.38461538461538464,
          0.39230769230769236,
          0.4,
          0.4076923076923077,
          0.4153846153846154,
          0.42307692307692313,
          0.4307692307692308,
          0.43846153846153846,
          0.4461538461538462,
          0.4538461538461539,
          0.46153846153846156,
          0.46923076923076923,
          0.47692307692307695,
          0.48461538461538467,
          0.49230769230769234,
          0.5
         ],
         "xaxis": "x2",
         "y": [
          11.962800306072165,
          20.138873134465133,
          21.141039553164887,
          20.55464552957471,
          22.0798363022795,
          7.120831251780171,
          22.943813185517467,
          23.153221339800055,
          16.71836215914346,
          31.08955482071872,
          32.88572452133533,
          27.777112001754777,
          16.437174349175784,
          8.754401676617249,
          5.421307481218715,
          16.052973368853674,
          14.539955114650564,
          21.49271501426327,
          23.349283599774814,
          25.224016596851698,
          27.139267157183525,
          26.463166533622267,
          23.00725110502281,
          19.79984043846894,
          17.727835572707036,
          5.382544532870908,
          14.03870458986985,
          11.19264763730386,
          13.628582329620496,
          15.044565645268841,
          5.2918228699800345,
          14.289568438537732,
          16.69312822014713,
          12.602183759273302,
          16.28539048459034,
          14.66341131235957,
          8.852886950361135,
          -2.807587193764271,
          6.136314408635425,
          13.09897178757399,
          14.004962278763166,
          15.059183395181357,
          19.12416915360869,
          22.07834855990526,
          22.646028468286175,
          17.817411260864557,
          11.655047373055474,
          13.456391952704967,
          17.7580053774755,
          18.529698961190025,
          17.106081712294376,
          16.6971119716665,
          9.447064511324543,
          5.64237145785042,
          8.053836799434833,
          20.076891095885763,
          19.41691489204785,
          11.929527601302821,
          -8.14676495884268,
          7.548119833907175,
          16.59216485466337,
          18.098865399340955,
          17.303632282808056,
          12.335875963688405,
          1.2461113537147843
         ],
         "yaxis": "y2"
        },
        {
         "alignmentgroup": "True",
         "bingroup": "x",
         "hovertemplate": "variable=STLF<br>value=%{x}<br>count=%{y}<extra></extra>",
         "legendgroup": "STLF",
         "marker": {
          "color": "#1f77b4",
          "pattern": {
           "shape": ""
          }
         },
         "name": "STLF",
         "offsetgroup": "STLF",
         "orientation": "v",
         "showlegend": false,
         "type": "histogram",
         "x": [
          2.1835999999999984,
          -5.204599999999999,
          -0.5956000000000046,
          -0.11719999999999686,
          -3.7807999999999993,
          -6.599899999999991,
          2.412700000000001,
          9.235000000000014,
          7.8548999999999864,
          6.2642999999999915,
          -3.4861999999999966,
          -9.310699999999997,
          0.8713999999999942,
          5.000400000000013,
          0.9311999999999898,
          11.099700000000013,
          0.26669999999998595,
          15.711600000000004,
          0.7316999999999894,
          3.2198999999999955,
          1.4200999999999908,
          1.04140000000001,
          0.34780000000000655,
          2.3625999999999863,
          1.4558000000000106,
          4.007499999999993,
          7.004300000000001,
          -4.0660000000000025,
          -7.477100000000007,
          -5.738400000000013,
          12.035300000000007,
          3.7066000000000088,
          13.028400000000005,
          -1.7235000000000014,
          1.8504000000000076,
          1.0486999999999966,
          0.7161000000000115,
          -2.0560999999999865,
          -6.942599999999999,
          7.928799999999995,
          17.688999999999993,
          9.890299999999996,
          2.5283000000000015,
          5.566199999999981,
          9.427999999999997,
          3.2327999999999975,
          1.2180999999999926,
          -7.0353000000000065,
          -6.68010000000001,
          -6.413800000000009,
          -20.399400000000014,
          -5.174499999999995,
          -5.8577999999999975,
          0.21629999999998972,
          5.3740999999999985,
          18.892999999999972,
          5.727300000000014,
          3.7849999999999966,
          -2.1038000000000068,
          -3.3680999999999983,
          -2.6637000000000057,
          3.7660999999999945,
          0.5305999999999926,
          -5.777600000000007,
          -0.7409999999999854,
          -3.1544000000000096,
          8.880200000000002,
          23.256100000000004,
          8.308499999999981,
          8.2303,
          -0.13110000000000355,
          -8.617999999999995,
          3.0541000000000054,
          0.5162000000000262,
          2.8111000000000104,
          0.7375000000000114,
          -0.329400000000021,
          0.8777999999999793,
          14.593200000000024,
          12.78109999999998,
          13.410900000000026,
          4.154200000000003,
          -6.231299999999976,
          -7.650800000000004,
          -5.783200000000022,
          -5.026400000000024,
          -7.973799999999983,
          3.807900000000018,
          0.19990000000001373,
          1.2683999999999855,
          13.87439999999998,
          13.089800000000025,
          22.021000000000015,
          12.161900000000003,
          2.2302999999999997,
          -0.47980000000001155,
          -1.8702000000000112,
          -4.673099999999977,
          -10.884999999999991,
          -12.477599999999995,
          -16.932999999999993,
          -9.359699999999975,
          2.6567999999999756,
          11.712400000000002,
          25.663900000000012,
          -6.629799999999989,
          -1.374900000000025,
          -9.367200000000025,
          -17.143500000000017,
          -5.5131000000000085,
          -6.620200000000011,
          9.095899999999972,
          -0.4390000000000214,
          9.349199999999996,
          -2.917100000000005,
          11.96270000000004,
          18.9461,
          4.43040000000002,
          -1.3351999999999862,
          -2.585300000000018,
          5.11930000000001,
          2.570600000000013,
          -2.9225999999999885,
          -22.425400000000025,
          12.119899999999973,
          6.3349999999999795,
          6.826000000000022,
          21.288999999999987,
          2.967999999999961,
          -0.1752999999999929
         ],
         "xaxis": "x3",
         "yaxis": "y3"
        },
        {
         "marker": {
          "color": "#1f77b4"
         },
         "mode": "markers",
         "name": "STLF",
         "showlegend": false,
         "type": "scattergl",
         "x": [
          -2.425978479480954,
          -2.1630887898809994,
          -1.9972178140451935,
          -1.8729977022308695,
          -1.7723536065008698,
          -1.6870015525016093,
          -1.612421593855674,
          -1.545864049227724,
          -1.4855258530384319,
          -1.4301577248003308,
          -1.3788567306540664,
          -1.3309480449865991,
          -1.2859134118557967,
          -1.2433457340271463,
          -1.2029190864185093,
          -1.1643682488312117,
          -1.1274743373229812,
          -1.0920544694673433,
          -1.0579541724242603,
          -1.0250417014463717,
          -0.9932037176048187,
          -0.9623419509665682,
          -0.9323705903834314,
          -0.9032142172269347,
          -0.8748061519479718,
          -0.8470871178776481,
          -0.8200041516065739,
          -0.7935097070283725,
          -0.7675609129539825,
          -0.7421189535860683,
          -0.7171485480924329,
          -0.6926175107223087,
          -0.668496376848144,
          -0.6447580833248175,
          -0.6213776938780912,
          -0.5983321620375304,
          -0.5756001255421157,
          -0.5531617272620122,
          -0.5309984585663384,
          -0.5090930217758403,
          -0.4874292089100864,
          -0.4659917944008472,
          -0.4447664398194128,
          -0.4237396089733445,
          -0.4028984919811759,
          -0.38223093714258394,
          -0.36172538959493156,
          -0.3413708358915132,
          -0.3211567537575786,
          -0.30107306638154513,
          -0.281110100684088,
          -0.26125854907980633,
          -0.24150943430710659,
          -0.22185407695363235,
          -0.202284065348496,
          -0.18279122752992422,
          -0.1633676050287281,
          -0.14400542823505125,
          -0.12469709313882915,
          -0.10543513925384881,
          -0.08621222855170138,
          -0.06702112524563479,
          -0.04785467627566239,
          -0.02870579235549915,
          -0.009567429449189264,
          0.009567429449189126,
          0.028705792355499006,
          0.04785467627566239,
          0.06702112524563479,
          0.08621222855170138,
          0.10543513925384881,
          0.12469709313882915,
          0.14400542823505139,
          0.16336760502872824,
          0.18279122752992408,
          0.20228406534849586,
          0.22185407695363235,
          0.24150943430710659,
          0.26125854907980633,
          0.281110100684088,
          0.3010730663815453,
          0.32115675375757874,
          0.341370835891513,
          0.36172538959493145,
          0.3822309371425837,
          0.4028984919811759,
          0.4237396089733445,
          0.4447664398194128,
          0.4659917944008472,
          0.4874292089100865,
          0.5090930217758404,
          0.5309984585663383,
          0.553161727262012,
          0.5756001255421157,
          0.5983321620375304,
          0.6213776938780912,
          0.6447580833248175,
          0.668496376848144,
          0.6926175107223087,
          0.717148548092433,
          0.742118953586068,
          0.7675609129539825,
          0.7935097070283725,
          0.8200041516065739,
          0.8470871178776481,
          0.8748061519479718,
          0.9032142172269347,
          0.9323705903834314,
          0.9623419509665685,
          0.9932037176048183,
          1.0250417014463717,
          1.0579541724242603,
          1.0920544694673433,
          1.1274743373229812,
          1.1643682488312117,
          1.2029190864185093,
          1.2433457340271463,
          1.2859134118557967,
          1.3309480449865987,
          1.378856730654066,
          1.4301577248003308,
          1.4855258530384319,
          1.545864049227724,
          1.612421593855674,
          1.6870015525016093,
          1.7723536065008703,
          1.8729977022308688,
          1.9972178140451926,
          2.163088789880999,
          2.4259784794809534
         ],
         "xaxis": "x4",
         "y": [
          -22.425400000000025,
          -20.399400000000014,
          -17.143500000000017,
          -16.932999999999993,
          -12.477599999999995,
          -10.884999999999991,
          -9.367200000000025,
          -9.359699999999975,
          -9.310699999999997,
          -8.617999999999995,
          -7.973799999999983,
          -7.650800000000004,
          -7.477100000000007,
          -7.0353000000000065,
          -6.942599999999999,
          -6.68010000000001,
          -6.629799999999989,
          -6.620200000000011,
          -6.599899999999991,
          -6.413800000000009,
          -6.231299999999976,
          -5.8577999999999975,
          -5.783200000000022,
          -5.777600000000007,
          -5.738400000000013,
          -5.5131000000000085,
          -5.204599999999999,
          -5.174499999999995,
          -5.026400000000024,
          -4.673099999999977,
          -4.0660000000000025,
          -3.7807999999999993,
          -3.4861999999999966,
          -3.3680999999999983,
          -3.1544000000000096,
          -2.9225999999999885,
          -2.917100000000005,
          -2.6637000000000057,
          -2.585300000000018,
          -2.1038000000000068,
          -2.0560999999999865,
          -1.8702000000000112,
          -1.7235000000000014,
          -1.374900000000025,
          -1.3351999999999862,
          -0.7409999999999854,
          -0.5956000000000046,
          -0.47980000000001155,
          -0.4390000000000214,
          -0.329400000000021,
          -0.1752999999999929,
          -0.13110000000000355,
          -0.11719999999999686,
          0.19990000000001373,
          0.21629999999998972,
          0.26669999999998595,
          0.34780000000000655,
          0.5162000000000262,
          0.5305999999999926,
          0.7161000000000115,
          0.7316999999999894,
          0.7375000000000114,
          0.8713999999999942,
          0.8777999999999793,
          0.9311999999999898,
          1.04140000000001,
          1.0486999999999966,
          1.2180999999999926,
          1.2683999999999855,
          1.4200999999999908,
          1.4558000000000106,
          1.8504000000000076,
          2.1835999999999984,
          2.2302999999999997,
          2.3625999999999863,
          2.412700000000001,
          2.5283000000000015,
          2.570600000000013,
          2.6567999999999756,
          2.8111000000000104,
          2.967999999999961,
          3.0541000000000054,
          3.2198999999999955,
          3.2327999999999975,
          3.7066000000000088,
          3.7660999999999945,
          3.7849999999999966,
          3.807900000000018,
          4.007499999999993,
          4.154200000000003,
          4.43040000000002,
          5.000400000000013,
          5.11930000000001,
          5.3740999999999985,
          5.566199999999981,
          5.727300000000014,
          6.2642999999999915,
          6.3349999999999795,
          6.826000000000022,
          7.004300000000001,
          7.8548999999999864,
          7.928799999999995,
          8.2303,
          8.308499999999981,
          8.880200000000002,
          9.095899999999972,
          9.235000000000014,
          9.349199999999996,
          9.427999999999997,
          9.890299999999996,
          11.099700000000013,
          11.712400000000002,
          11.96270000000004,
          12.035300000000007,
          12.119899999999973,
          12.161900000000003,
          12.78109999999998,
          13.028400000000005,
          13.089800000000025,
          13.410900000000026,
          13.87439999999998,
          14.593200000000024,
          15.711600000000004,
          17.688999999999993,
          18.892999999999972,
          18.9461,
          21.288999999999987,
          22.021000000000015,
          23.256100000000004,
          25.663900000000012
         ],
         "yaxis": "y4"
        },
        {
         "line": {
          "color": "#3f3f3f"
         },
         "mode": "lines",
         "name": "STLF",
         "showlegend": false,
         "type": "scattergl",
         "x": [
          -2.425978479480954,
          -2.1630887898809994,
          -1.9972178140451935,
          -1.8729977022308695,
          -1.7723536065008698,
          -1.6870015525016093,
          -1.612421593855674,
          -1.545864049227724,
          -1.4855258530384319,
          -1.4301577248003308,
          -1.3788567306540664,
          -1.3309480449865991,
          -1.2859134118557967,
          -1.2433457340271463,
          -1.2029190864185093,
          -1.1643682488312117,
          -1.1274743373229812,
          -1.0920544694673433,
          -1.0579541724242603,
          -1.0250417014463717,
          -0.9932037176048187,
          -0.9623419509665682,
          -0.9323705903834314,
          -0.9032142172269347,
          -0.8748061519479718,
          -0.8470871178776481,
          -0.8200041516065739,
          -0.7935097070283725,
          -0.7675609129539825,
          -0.7421189535860683,
          -0.7171485480924329,
          -0.6926175107223087,
          -0.668496376848144,
          -0.6447580833248175,
          -0.6213776938780912,
          -0.5983321620375304,
          -0.5756001255421157,
          -0.5531617272620122,
          -0.5309984585663384,
          -0.5090930217758403,
          -0.4874292089100864,
          -0.4659917944008472,
          -0.4447664398194128,
          -0.4237396089733445,
          -0.4028984919811759,
          -0.38223093714258394,
          -0.36172538959493156,
          -0.3413708358915132,
          -0.3211567537575786,
          -0.30107306638154513,
          -0.281110100684088,
          -0.26125854907980633,
          -0.24150943430710659,
          -0.22185407695363235,
          -0.202284065348496,
          -0.18279122752992422,
          -0.1633676050287281,
          -0.14400542823505125,
          -0.12469709313882915,
          -0.10543513925384881,
          -0.08621222855170138,
          -0.06702112524563479,
          -0.04785467627566239,
          -0.02870579235549915,
          -0.009567429449189264,
          0.009567429449189126,
          0.028705792355499006,
          0.04785467627566239,
          0.06702112524563479,
          0.08621222855170138,
          0.10543513925384881,
          0.12469709313882915,
          0.14400542823505139,
          0.16336760502872824,
          0.18279122752992408,
          0.20228406534849586,
          0.22185407695363235,
          0.24150943430710659,
          0.26125854907980633,
          0.281110100684088,
          0.3010730663815453,
          0.32115675375757874,
          0.341370835891513,
          0.36172538959493145,
          0.3822309371425837,
          0.4028984919811759,
          0.4237396089733445,
          0.4447664398194128,
          0.4659917944008472,
          0.4874292089100865,
          0.5090930217758404,
          0.5309984585663383,
          0.553161727262012,
          0.5756001255421157,
          0.5983321620375304,
          0.6213776938780912,
          0.6447580833248175,
          0.668496376848144,
          0.6926175107223087,
          0.717148548092433,
          0.742118953586068,
          0.7675609129539825,
          0.7935097070283725,
          0.8200041516065739,
          0.8470871178776481,
          0.8748061519479718,
          0.9032142172269347,
          0.9323705903834314,
          0.9623419509665685,
          0.9932037176048183,
          1.0250417014463717,
          1.0579541724242603,
          1.0920544694673433,
          1.1274743373229812,
          1.1643682488312117,
          1.2029190864185093,
          1.2433457340271463,
          1.2859134118557967,
          1.3309480449865987,
          1.378856730654066,
          1.4301577248003308,
          1.4855258530384319,
          1.545864049227724,
          1.612421593855674,
          1.6870015525016093,
          1.7723536065008703,
          1.8729977022308688,
          1.9972178140451926,
          2.163088789880999,
          2.4259784794809534
         ],
         "xaxis": "x4",
         "y": [
          -18.74284209700924,
          -16.52127008162318,
          -15.119563081845623,
          -14.069830303908342,
          -13.219328685043628,
          -12.498053784879152,
          -11.867809406377333,
          -11.305359130053189,
          -10.795465994582619,
          -10.32757284736467,
          -9.894049367876926,
          -9.489192884023437,
          -9.108623829227817,
          -8.748901993167967,
          -8.407273117802452,
          -8.081495936947777,
          -7.769720752955058,
          -7.4704021020924145,
          -7.182234598290551,
          -6.904104921189301,
          -6.635055290386587,
          -6.3742552673303585,
          -6.120979697505375,
          -5.874591249281357,
          -5.634526441372605,
          -5.4002843511716865,
          -5.1714174068155945,
          -4.947523815828071,
          -4.728241291525184,
          -4.513241817660852,
          -4.30222725051705,
          -4.094925601628546,
          -3.891087877616739,
          -3.690485379037611,
          -3.492907379753138,
          -3.2981591235754752,
          -3.1060600868738213,
          -2.916442465258381,
          -2.72914984994617,
          -2.5440360654054643,
          -2.3609641446985075,
          -2.179805422846658,
          -2.0004387317203687,
          -1.822749682556952,
          -1.6466300243472876,
          -1.471977068098825,
          -1.2986931684473995,
          -1.1266852553109123,
          -0.9558644092982724,
          -0.7861454754433403,
          -0.6174467105542727,
          -0.4496894600771808,
          -0.2827978608880246,
          -0.1166985668634537,
          0.04867950554748868,
          0.2134054142131958,
          0.3775464128645474,
          0.5411681592603308,
          0.704334911743997,
          0.8671097157983002,
          1.0295545820657501,
          1.1917306571869095,
          1.3536983887126695,
          1.5155176852687493,
          1.6772480730890562,
          1.8389488499878617,
          2.0006792378081686,
          2.16249853436425,
          2.3244662658900097,
          2.4866423410111693,
          2.649087207278619,
          2.8118620113329222,
          2.9750287638165895,
          3.138650510212373,
          3.3027915088637223,
          3.4675174175294297,
          3.632895489940373,
          3.798994783964944,
          3.9658863831541,
          4.133643633631192,
          4.302342398520261,
          4.472061332375193,
          4.64288217838783,
          4.814890091524318,
          4.988173991175742,
          5.162826947424207,
          5.338946605633871,
          5.516635654797288,
          5.696002345923578,
          5.877161067775427,
          6.060232988482384,
          6.245346773023088,
          6.432639388335298,
          6.62225700995074,
          6.814356046652394,
          7.009104302830057,
          7.20668230211453,
          7.407284800693658,
          7.611122524705465,
          7.81842417359397,
          8.029438740737769,
          8.244438214602104,
          8.46372073890499,
          8.687614329892513,
          8.916481274248605,
          9.150723364449524,
          9.390788172358276,
          9.637176620582295,
          9.89045219040728,
          10.151252213463502,
          10.42030184426622,
          10.69843152136747,
          10.986599025169333,
          11.285917676031977,
          11.597692860024695,
          11.923470040879371,
          12.265098916244886,
          12.624820752304736,
          13.005389807100352,
          13.410246290953841,
          13.84376977044159,
          14.311662917659538,
          14.821556053130108,
          15.384006329454252,
          16.014250707956073,
          16.73552560812055,
          17.586027226985255,
          18.635760004922535,
          20.037467004700094,
          22.259039020086156
         ],
         "yaxis": "y4"
        },
        {
         "line": {
          "color": "#3f3f3f"
         },
         "mode": "lines",
         "name": "ACF",
         "showlegend": false,
         "type": "scattergl",
         "x": [
          0,
          0
         ],
         "xaxis": "x5",
         "y": [
          0,
          1
         ],
         "yaxis": "y5"
        },
        {
         "line": {
          "color": "#3f3f3f"
         },
         "mode": "lines",
         "name": "ACF",
         "showlegend": false,
         "type": "scattergl",
         "x": [
          1,
          1
         ],
         "xaxis": "x5",
         "y": [
          0,
          0.419999876950072
         ],
         "yaxis": "y5"
        },
        {
         "line": {
          "color": "#3f3f3f"
         },
         "mode": "lines",
         "name": "ACF",
         "showlegend": false,
         "type": "scattergl",
         "x": [
          2,
          2
         ],
         "xaxis": "x5",
         "y": [
          0,
          0.17426801356160831
         ],
         "yaxis": "y5"
        },
        {
         "line": {
          "color": "#3f3f3f"
         },
         "mode": "lines",
         "name": "ACF",
         "showlegend": false,
         "type": "scattergl",
         "x": [
          3,
          3
         ],
         "xaxis": "x5",
         "y": [
          0,
          -0.11043345032592668
         ],
         "yaxis": "y5"
        },
        {
         "line": {
          "color": "#3f3f3f"
         },
         "mode": "lines",
         "name": "ACF",
         "showlegend": false,
         "type": "scattergl",
         "x": [
          4,
          4
         ],
         "xaxis": "x5",
         "y": [
          0,
          -0.2695940021069744
         ],
         "yaxis": "y5"
        },
        {
         "line": {
          "color": "#3f3f3f"
         },
         "mode": "lines",
         "name": "ACF",
         "showlegend": false,
         "type": "scattergl",
         "x": [
          5,
          5
         ],
         "xaxis": "x5",
         "y": [
          0,
          -0.23369119659547696
         ],
         "yaxis": "y5"
        },
        {
         "line": {
          "color": "#3f3f3f"
         },
         "mode": "lines",
         "name": "ACF",
         "showlegend": false,
         "type": "scattergl",
         "x": [
          6,
          6
         ],
         "xaxis": "x5",
         "y": [
          0,
          -0.26476298733083076
         ],
         "yaxis": "y5"
        },
        {
         "line": {
          "color": "#3f3f3f"
         },
         "mode": "lines",
         "name": "ACF",
         "showlegend": false,
         "type": "scattergl",
         "x": [
          7,
          7
         ],
         "xaxis": "x5",
         "y": [
          0,
          -0.2526273687988727
         ],
         "yaxis": "y5"
        },
        {
         "line": {
          "color": "#3f3f3f"
         },
         "mode": "lines",
         "name": "ACF",
         "showlegend": false,
         "type": "scattergl",
         "x": [
          8,
          8
         ],
         "xaxis": "x5",
         "y": [
          0,
          -0.2131853245326504
         ],
         "yaxis": "y5"
        },
        {
         "line": {
          "color": "#3f3f3f"
         },
         "mode": "lines",
         "name": "ACF",
         "showlegend": false,
         "type": "scattergl",
         "x": [
          9,
          9
         ],
         "xaxis": "x5",
         "y": [
          0,
          -0.011934999510597694
         ],
         "yaxis": "y5"
        },
        {
         "line": {
          "color": "#3f3f3f"
         },
         "mode": "lines",
         "name": "ACF",
         "showlegend": false,
         "type": "scattergl",
         "x": [
          10,
          10
         ],
         "xaxis": "x5",
         "y": [
          0,
          0.01921465469431824
         ],
         "yaxis": "y5"
        },
        {
         "line": {
          "color": "#3f3f3f"
         },
         "mode": "lines",
         "name": "ACF",
         "showlegend": false,
         "type": "scattergl",
         "x": [
          11,
          11
         ],
         "xaxis": "x5",
         "y": [
          0,
          0.24099599121482312
         ],
         "yaxis": "y5"
        },
        {
         "line": {
          "color": "#3f3f3f"
         },
         "mode": "lines",
         "name": "ACF",
         "showlegend": false,
         "type": "scattergl",
         "x": [
          12,
          12
         ],
         "xaxis": "x5",
         "y": [
          0,
          0.29982621033217177
         ],
         "yaxis": "y5"
        },
        {
         "line": {
          "color": "#3f3f3f"
         },
         "mode": "lines",
         "name": "ACF",
         "showlegend": false,
         "type": "scattergl",
         "x": [
          13,
          13
         ],
         "xaxis": "x5",
         "y": [
          0,
          0.25085105503711025
         ],
         "yaxis": "y5"
        },
        {
         "line": {
          "color": "#3f3f3f"
         },
         "mode": "lines",
         "name": "ACF",
         "showlegend": false,
         "type": "scattergl",
         "x": [
          14,
          14
         ],
         "xaxis": "x5",
         "y": [
          0,
          0.14412134416889977
         ],
         "yaxis": "y5"
        },
        {
         "line": {
          "color": "#3f3f3f"
         },
         "mode": "lines",
         "name": "ACF",
         "showlegend": false,
         "type": "scattergl",
         "x": [
          15,
          15
         ],
         "xaxis": "x5",
         "y": [
          0,
          -0.020251059771707013
         ],
         "yaxis": "y5"
        },
        {
         "line": {
          "color": "#3f3f3f"
         },
         "mode": "lines",
         "name": "ACF",
         "showlegend": false,
         "type": "scattergl",
         "x": [
          16,
          16
         ],
         "xaxis": "x5",
         "y": [
          0,
          -0.18467475643765438
         ],
         "yaxis": "y5"
        },
        {
         "line": {
          "color": "#3f3f3f"
         },
         "mode": "lines",
         "name": "ACF",
         "showlegend": false,
         "type": "scattergl",
         "x": [
          17,
          17
         ],
         "xaxis": "x5",
         "y": [
          0,
          -0.2091239864018147
         ],
         "yaxis": "y5"
        },
        {
         "line": {
          "color": "#3f3f3f"
         },
         "mode": "lines",
         "name": "ACF",
         "showlegend": false,
         "type": "scattergl",
         "x": [
          18,
          18
         ],
         "xaxis": "x5",
         "y": [
          0,
          -0.2329923485784691
         ],
         "yaxis": "y5"
        },
        {
         "line": {
          "color": "#3f3f3f"
         },
         "mode": "lines",
         "name": "ACF",
         "showlegend": false,
         "type": "scattergl",
         "x": [
          19,
          19
         ],
         "xaxis": "x5",
         "y": [
          0,
          -0.30495039885328595
         ],
         "yaxis": "y5"
        },
        {
         "line": {
          "color": "#3f3f3f"
         },
         "mode": "lines",
         "name": "ACF",
         "showlegend": false,
         "type": "scattergl",
         "x": [
          20,
          20
         ],
         "xaxis": "x5",
         "y": [
          0,
          -0.21815125736345253
         ],
         "yaxis": "y5"
        },
        {
         "line": {
          "color": "#3f3f3f"
         },
         "mode": "lines",
         "name": "ACF",
         "showlegend": false,
         "type": "scattergl",
         "x": [
          21,
          21
         ],
         "xaxis": "x5",
         "y": [
          0,
          -0.06554866880836425
         ],
         "yaxis": "y5"
        },
        {
         "line": {
          "color": "#3f3f3f"
         },
         "mode": "lines",
         "name": "ACF",
         "showlegend": false,
         "type": "scattergl",
         "x": [
          22,
          22
         ],
         "xaxis": "x5",
         "y": [
          0,
          0.07031899175804837
         ],
         "yaxis": "y5"
        },
        {
         "line": {
          "color": "#3f3f3f"
         },
         "mode": "lines",
         "name": "ACF",
         "showlegend": false,
         "type": "scattergl",
         "x": [
          23,
          23
         ],
         "xaxis": "x5",
         "y": [
          0,
          0.3826827443934582
         ],
         "yaxis": "y5"
        },
        {
         "line": {
          "color": "#3f3f3f"
         },
         "mode": "lines",
         "name": "ACF",
         "showlegend": false,
         "type": "scattergl",
         "x": [
          24,
          24
         ],
         "xaxis": "x5",
         "y": [
          0,
          0.34046622971067714
         ],
         "yaxis": "y5"
        },
        {
         "line": {
          "color": "#3f3f3f"
         },
         "mode": "lines",
         "name": "ACF",
         "showlegend": false,
         "type": "scattergl",
         "x": [
          25,
          25
         ],
         "xaxis": "x5",
         "y": [
          0,
          0.2524445834546773
         ],
         "yaxis": "y5"
        },
        {
         "line": {
          "color": "#3f3f3f"
         },
         "mode": "lines",
         "name": "ACF",
         "showlegend": false,
         "type": "scattergl",
         "x": [
          26,
          26
         ],
         "xaxis": "x5",
         "y": [
          0,
          0.10018464074775507
         ],
         "yaxis": "y5"
        },
        {
         "line": {
          "color": "#3f3f3f"
         },
         "mode": "lines",
         "name": "ACF",
         "showlegend": false,
         "type": "scattergl",
         "x": [
          27,
          27
         ],
         "xaxis": "x5",
         "y": [
          0,
          -0.0903751498814287
         ],
         "yaxis": "y5"
        },
        {
         "line": {
          "color": "#3f3f3f"
         },
         "mode": "lines",
         "name": "ACF",
         "showlegend": false,
         "type": "scattergl",
         "x": [
          28,
          28
         ],
         "xaxis": "x5",
         "y": [
          0,
          -0.1717874286400206
         ],
         "yaxis": "y5"
        },
        {
         "line": {
          "color": "#3f3f3f"
         },
         "mode": "lines",
         "name": "ACF",
         "showlegend": false,
         "type": "scattergl",
         "x": [
          29,
          29
         ],
         "xaxis": "x5",
         "y": [
          0,
          -0.22245970214837918
         ],
         "yaxis": "y5"
        },
        {
         "line": {
          "color": "#3f3f3f"
         },
         "mode": "lines",
         "name": "ACF",
         "showlegend": false,
         "type": "scattergl",
         "x": [
          30,
          30
         ],
         "xaxis": "x5",
         "y": [
          0,
          -0.25532831277012175
         ],
         "yaxis": "y5"
        },
        {
         "line": {
          "color": "#3f3f3f"
         },
         "mode": "lines",
         "name": "ACF",
         "showlegend": false,
         "type": "scattergl",
         "x": [
          31,
          31
         ],
         "xaxis": "x5",
         "y": [
          0,
          -0.2358937083757573
         ],
         "yaxis": "y5"
        },
        {
         "line": {
          "color": "#3f3f3f"
         },
         "mode": "lines",
         "name": "ACF",
         "showlegend": false,
         "type": "scattergl",
         "x": [
          32,
          32
         ],
         "xaxis": "x5",
         "y": [
          0,
          -0.11180564964396197
         ],
         "yaxis": "y5"
        },
        {
         "line": {
          "color": "#3f3f3f"
         },
         "mode": "lines",
         "name": "ACF",
         "showlegend": false,
         "type": "scattergl",
         "x": [
          33,
          33
         ],
         "xaxis": "x5",
         "y": [
          0,
          -0.10979339445513976
         ],
         "yaxis": "y5"
        },
        {
         "line": {
          "color": "#3f3f3f"
         },
         "mode": "lines",
         "name": "ACF",
         "showlegend": false,
         "type": "scattergl",
         "x": [
          34,
          34
         ],
         "xaxis": "x5",
         "y": [
          0,
          0.06675052470395466
         ],
         "yaxis": "y5"
        },
        {
         "line": {
          "color": "#3f3f3f"
         },
         "mode": "lines",
         "name": "ACF",
         "showlegend": false,
         "type": "scattergl",
         "x": [
          35,
          35
         ],
         "xaxis": "x5",
         "y": [
          0,
          0.203882890903905
         ],
         "yaxis": "y5"
        },
        {
         "line": {
          "color": "#3f3f3f"
         },
         "mode": "lines",
         "name": "ACF",
         "showlegend": false,
         "type": "scattergl",
         "x": [
          36,
          36
         ],
         "xaxis": "x5",
         "y": [
          0,
          0.2521710733838222
         ],
         "yaxis": "y5"
        },
        {
         "line": {
          "color": "#3f3f3f"
         },
         "mode": "lines",
         "name": "ACF",
         "showlegend": false,
         "type": "scattergl",
         "x": [
          37,
          37
         ],
         "xaxis": "x5",
         "y": [
          0,
          0.3083574909648843
         ],
         "yaxis": "y5"
        },
        {
         "line": {
          "color": "#3f3f3f"
         },
         "mode": "lines",
         "name": "ACF",
         "showlegend": false,
         "type": "scattergl",
         "x": [
          38,
          38
         ],
         "xaxis": "x5",
         "y": [
          0,
          0.10711374044279433
         ],
         "yaxis": "y5"
        },
        {
         "line": {
          "color": "#3f3f3f"
         },
         "mode": "lines",
         "name": "ACF",
         "showlegend": false,
         "type": "scattergl",
         "x": [
          39,
          39
         ],
         "xaxis": "x5",
         "y": [
          0,
          -0.044743032423684936
         ],
         "yaxis": "y5"
        },
        {
         "line": {
          "color": "#3f3f3f"
         },
         "mode": "lines",
         "name": "ACF",
         "showlegend": false,
         "type": "scattergl",
         "x": [
          40,
          40
         ],
         "xaxis": "x5",
         "y": [
          0,
          -0.1097712501908549
         ],
         "yaxis": "y5"
        },
        {
         "marker": {
          "color": "#1f77b4",
          "size": 6
         },
         "mode": "markers",
         "name": "ACF",
         "showlegend": false,
         "type": "scattergl",
         "x": [
          0,
          1,
          2,
          3,
          4,
          5,
          6,
          7,
          8,
          9,
          10,
          11,
          12,
          13,
          14,
          15,
          16,
          17,
          18,
          19,
          20,
          21,
          22,
          23,
          24,
          25,
          26,
          27,
          28,
          29,
          30,
          31,
          32,
          33,
          34,
          35,
          36,
          37,
          38,
          39,
          40
         ],
         "xaxis": "x5",
         "y": [
          1,
          0.419999876950072,
          0.17426801356160831,
          -0.11043345032592668,
          -0.2695940021069744,
          -0.23369119659547696,
          -0.26476298733083076,
          -0.2526273687988727,
          -0.2131853245326504,
          -0.011934999510597694,
          0.01921465469431824,
          0.24099599121482312,
          0.29982621033217177,
          0.25085105503711025,
          0.14412134416889977,
          -0.020251059771707013,
          -0.18467475643765438,
          -0.2091239864018147,
          -0.2329923485784691,
          -0.30495039885328595,
          -0.21815125736345253,
          -0.06554866880836425,
          0.07031899175804837,
          0.3826827443934582,
          0.34046622971067714,
          0.2524445834546773,
          0.10018464074775507,
          -0.0903751498814287,
          -0.1717874286400206,
          -0.22245970214837918,
          -0.25532831277012175,
          -0.2358937083757573,
          -0.11180564964396197,
          -0.10979339445513976,
          0.06675052470395466,
          0.203882890903905,
          0.2521710733838222,
          0.3083574909648843,
          0.10711374044279433,
          -0.044743032423684936,
          -0.1097712501908549
         ],
         "yaxis": "y5"
        },
        {
         "line": {
          "color": "rgba(255,255,255,0)"
         },
         "mode": "lines",
         "name": "UC",
         "showlegend": false,
         "type": "scatter",
         "x": [
          0,
          1,
          2,
          3,
          4,
          5,
          6,
          7,
          8,
          9,
          10,
          11,
          12,
          13,
          14,
          15,
          16,
          17,
          18,
          19,
          20,
          21,
          22,
          23,
          24,
          25,
          26,
          27,
          28,
          29,
          30,
          31,
          32,
          33,
          34,
          35,
          36,
          37,
          38,
          39,
          40
         ],
         "xaxis": "x5",
         "y": [
          0,
          0.1719002130193813,
          0.19993700351156496,
          0.2043761584919079,
          0.20613190742456436,
          0.21630016166903754,
          0.2236364671609831,
          0.23271463621012203,
          0.2406820686996625,
          0.246198710744834,
          0.24621580683453928,
          0.24626011288051625,
          0.2531333231858561,
          0.2634184153756586,
          0.27038521256839504,
          0.27264576626406145,
          0.27269021037128743,
          0.27636121449443674,
          0.2809984058934593,
          0.2866502030385719,
          0.2960815250260668,
          0.3007936279304593,
          0.3012154288799015,
          0.3017001273023101,
          0.3157179715084139,
          0.3263870000211025,
          0.33210657029203644,
          0.3329984266343202,
          0.33372242377237593,
          0.33632533779403434,
          0.3406456533520882,
          0.34625467418062605,
          0.3509714139076496,
          0.3520223078236576,
          0.35303275174693943,
          0.35340550203251064,
          0.35686426707438407,
          0.36209149205444424,
          0.36976975674827695,
          0.3706855013652922,
          0.3708450542290226
         ],
         "yaxis": "y5"
        },
        {
         "fill": "tonexty",
         "fillcolor": "rgba(32, 146, 230,0.3)",
         "line": {
          "color": "rgba(255,255,255,0)"
         },
         "mode": "lines",
         "name": "LC",
         "showlegend": false,
         "type": "scatter",
         "x": [
          0,
          1,
          2,
          3,
          4,
          5,
          6,
          7,
          8,
          9,
          10,
          11,
          12,
          13,
          14,
          15,
          16,
          17,
          18,
          19,
          20,
          21,
          22,
          23,
          24,
          25,
          26,
          27,
          28,
          29,
          30,
          31,
          32,
          33,
          34,
          35,
          36,
          37,
          38,
          39,
          40
         ],
         "xaxis": "x5",
         "y": [
          0,
          -0.17190021301938124,
          -0.19993700351156496,
          -0.20437615849190793,
          -0.20613190742456433,
          -0.21630016166903757,
          -0.22363646716098312,
          -0.232714636210122,
          -0.2406820686996625,
          -0.246198710744834,
          -0.24621580683453928,
          -0.24626011288051625,
          -0.2531333231858561,
          -0.2634184153756585,
          -0.27038521256839504,
          -0.27264576626406145,
          -0.2726902103712874,
          -0.27636121449443674,
          -0.28099840589345937,
          -0.28665020303857186,
          -0.2960815250260669,
          -0.3007936279304593,
          -0.3012154288799015,
          -0.30170012730231016,
          -0.31571797150841396,
          -0.32638700002110255,
          -0.33210657029203644,
          -0.3329984266343202,
          -0.33372242377237593,
          -0.3363253377940343,
          -0.34064565335208813,
          -0.34625467418062605,
          -0.3509714139076495,
          -0.3520223078236576,
          -0.35303275174693943,
          -0.3534055020325107,
          -0.35686426707438407,
          -0.36209149205444424,
          -0.36976975674827695,
          -0.3706855013652922,
          -0.3708450542290226
         ],
         "yaxis": "y5"
        },
        {
         "line": {
          "color": "#3f3f3f"
         },
         "mode": "lines",
         "name": "PACF",
         "showlegend": false,
         "type": "scattergl",
         "x": [
          0,
          0
         ],
         "xaxis": "x6",
         "y": [
          0,
          1
         ],
         "yaxis": "y6"
        },
        {
         "line": {
          "color": "#3f3f3f"
         },
         "mode": "lines",
         "name": "PACF",
         "showlegend": false,
         "type": "scattergl",
         "x": [
          1,
          1
         ],
         "xaxis": "x6",
         "y": [
          0,
          0.42325568994968493
         ],
         "yaxis": "y6"
        },
        {
         "line": {
          "color": "#3f3f3f"
         },
         "mode": "lines",
         "name": "PACF",
         "showlegend": false,
         "type": "scattergl",
         "x": [
          2,
          2
         ],
         "xaxis": "x6",
         "y": [
          0,
          -0.002624615548666886
         ],
         "yaxis": "y6"
        },
        {
         "line": {
          "color": "#3f3f3f"
         },
         "mode": "lines",
         "name": "PACF",
         "showlegend": false,
         "type": "scattergl",
         "x": [
          3,
          3
         ],
         "xaxis": "x6",
         "y": [
          0,
          -0.22786198462796595
         ],
         "yaxis": "y6"
        },
        {
         "line": {
          "color": "#3f3f3f"
         },
         "mode": "lines",
         "name": "PACF",
         "showlegend": false,
         "type": "scattergl",
         "x": [
          4,
          4
         ],
         "xaxis": "x6",
         "y": [
          0,
          -0.1933297490423072
         ],
         "yaxis": "y6"
        },
        {
         "line": {
          "color": "#3f3f3f"
         },
         "mode": "lines",
         "name": "PACF",
         "showlegend": false,
         "type": "scattergl",
         "x": [
          5,
          5
         ],
         "xaxis": "x6",
         "y": [
          0,
          -0.022789735221010868
         ],
         "yaxis": "y6"
        },
        {
         "line": {
          "color": "#3f3f3f"
         },
         "mode": "lines",
         "name": "PACF",
         "showlegend": false,
         "type": "scattergl",
         "x": [
          6,
          6
         ],
         "xaxis": "x6",
         "y": [
          0,
          -0.17353480388806697
         ],
         "yaxis": "y6"
        },
        {
         "line": {
          "color": "#3f3f3f"
         },
         "mode": "lines",
         "name": "PACF",
         "showlegend": false,
         "type": "scattergl",
         "x": [
          7,
          7
         ],
         "xaxis": "x6",
         "y": [
          0,
          -0.19942622126493556
         ],
         "yaxis": "y6"
        },
        {
         "line": {
          "color": "#3f3f3f"
         },
         "mode": "lines",
         "name": "PACF",
         "showlegend": false,
         "type": "scattergl",
         "x": [
          8,
          8
         ],
         "xaxis": "x6",
         "y": [
          0,
          -0.15689022573183567
         ],
         "yaxis": "y6"
        },
        {
         "line": {
          "color": "#3f3f3f"
         },
         "mode": "lines",
         "name": "PACF",
         "showlegend": false,
         "type": "scattergl",
         "x": [
          9,
          9
         ],
         "xaxis": "x6",
         "y": [
          0,
          0.08181165355689748
         ],
         "yaxis": "y6"
        },
        {
         "line": {
          "color": "#3f3f3f"
         },
         "mode": "lines",
         "name": "PACF",
         "showlegend": false,
         "type": "scattergl",
         "x": [
          10,
          10
         ],
         "xaxis": "x6",
         "y": [
          0,
          -0.14637828261325508
         ],
         "yaxis": "y6"
        },
        {
         "line": {
          "color": "#3f3f3f"
         },
         "mode": "lines",
         "name": "PACF",
         "showlegend": false,
         "type": "scattergl",
         "x": [
          11,
          11
         ],
         "xaxis": "x6",
         "y": [
          0,
          0.15748031217003738
         ],
         "yaxis": "y6"
        },
        {
         "line": {
          "color": "#3f3f3f"
         },
         "mode": "lines",
         "name": "PACF",
         "showlegend": false,
         "type": "scattergl",
         "x": [
          12,
          12
         ],
         "xaxis": "x6",
         "y": [
          0,
          0.12701692170485843
         ],
         "yaxis": "y6"
        },
        {
         "line": {
          "color": "#3f3f3f"
         },
         "mode": "lines",
         "name": "PACF",
         "showlegend": false,
         "type": "scattergl",
         "x": [
          13,
          13
         ],
         "xaxis": "x6",
         "y": [
          0,
          0.035332598882331735
         ],
         "yaxis": "y6"
        },
        {
         "line": {
          "color": "#3f3f3f"
         },
         "mode": "lines",
         "name": "PACF",
         "showlegend": false,
         "type": "scattergl",
         "x": [
          14,
          14
         ],
         "xaxis": "x6",
         "y": [
          0,
          -0.041223260909108606
         ],
         "yaxis": "y6"
        },
        {
         "line": {
          "color": "#3f3f3f"
         },
         "mode": "lines",
         "name": "PACF",
         "showlegend": false,
         "type": "scattergl",
         "x": [
          15,
          15
         ],
         "xaxis": "x6",
         "y": [
          0,
          -0.003785380324023372
         ],
         "yaxis": "y6"
        },
        {
         "line": {
          "color": "#3f3f3f"
         },
         "mode": "lines",
         "name": "PACF",
         "showlegend": false,
         "type": "scattergl",
         "x": [
          16,
          16
         ],
         "xaxis": "x6",
         "y": [
          0,
          -0.1394298418777714
         ],
         "yaxis": "y6"
        },
        {
         "line": {
          "color": "#3f3f3f"
         },
         "mode": "lines",
         "name": "PACF",
         "showlegend": false,
         "type": "scattergl",
         "x": [
          17,
          17
         ],
         "xaxis": "x6",
         "y": [
          0,
          -0.01574129810642474
         ],
         "yaxis": "y6"
        },
        {
         "line": {
          "color": "#3f3f3f"
         },
         "mode": "lines",
         "name": "PACF",
         "showlegend": false,
         "type": "scattergl",
         "x": [
          18,
          18
         ],
         "xaxis": "x6",
         "y": [
          0,
          -0.10791359108428043
         ],
         "yaxis": "y6"
        },
        {
         "line": {
          "color": "#3f3f3f"
         },
         "mode": "lines",
         "name": "PACF",
         "showlegend": false,
         "type": "scattergl",
         "x": [
          19,
          19
         ],
         "xaxis": "x6",
         "y": [
          0,
          -0.22572245824780943
         ],
         "yaxis": "y6"
        },
        {
         "line": {
          "color": "#3f3f3f"
         },
         "mode": "lines",
         "name": "PACF",
         "showlegend": false,
         "type": "scattergl",
         "x": [
          20,
          20
         ],
         "xaxis": "x6",
         "y": [
          0,
          -0.16283528087375485
         ],
         "yaxis": "y6"
        },
        {
         "line": {
          "color": "#3f3f3f"
         },
         "mode": "lines",
         "name": "PACF",
         "showlegend": false,
         "type": "scattergl",
         "x": [
          21,
          21
         ],
         "xaxis": "x6",
         "y": [
          0,
          0.04752734074034388
         ],
         "yaxis": "y6"
        },
        {
         "marker": {
          "color": "#1f77b4",
          "size": 6
         },
         "mode": "markers",
         "name": "PACF",
         "showlegend": false,
         "type": "scattergl",
         "x": [
          0,
          1,
          2,
          3,
          4,
          5,
          6,
          7,
          8,
          9,
          10,
          11,
          12,
          13,
          14,
          15,
          16,
          17,
          18,
          19,
          20,
          21
         ],
         "xaxis": "x6",
         "y": [
          1,
          0.42325568994968493,
          -0.002624615548666886,
          -0.22786198462796595,
          -0.1933297490423072,
          -0.022789735221010868,
          -0.17353480388806697,
          -0.19942622126493556,
          -0.15689022573183567,
          0.08181165355689748,
          -0.14637828261325508,
          0.15748031217003738,
          0.12701692170485843,
          0.035332598882331735,
          -0.041223260909108606,
          -0.003785380324023372,
          -0.1394298418777714,
          -0.01574129810642474,
          -0.10791359108428043,
          -0.22572245824780943,
          -0.16283528087375485,
          0.04752734074034388
         ],
         "yaxis": "y6"
        },
        {
         "line": {
          "color": "rgba(255,255,255,0)"
         },
         "mode": "lines",
         "name": "UC",
         "showlegend": false,
         "type": "scatter",
         "x": [
          0,
          1,
          2,
          3,
          4,
          5,
          6,
          7,
          8,
          9,
          10,
          11,
          12,
          13,
          14,
          15,
          16,
          17,
          18,
          19,
          20,
          21
         ],
         "xaxis": "x6",
         "y": [
          0,
          0.17190021301938124,
          0.17190021301938124,
          0.17190021301938124,
          0.17190021301938124,
          0.17190021301938124,
          0.17190021301938124,
          0.17190021301938124,
          0.17190021301938124,
          0.17190021301938127,
          0.17190021301938124,
          0.17190021301938124,
          0.17190021301938122,
          0.17190021301938124,
          0.17190021301938124,
          0.17190021301938124,
          0.17190021301938124,
          0.17190021301938124,
          0.17190021301938124,
          0.17190021301938124,
          0.17190021301938124,
          0.17190021301938124
         ],
         "yaxis": "y6"
        },
        {
         "fill": "tonexty",
         "fillcolor": "rgba(32, 146, 230,0.3)",
         "line": {
          "color": "rgba(255,255,255,0)"
         },
         "mode": "lines",
         "name": "LC",
         "showlegend": false,
         "type": "scatter",
         "x": [
          0,
          1,
          2,
          3,
          4,
          5,
          6,
          7,
          8,
          9,
          10,
          11,
          12,
          13,
          14,
          15,
          16,
          17,
          18,
          19,
          20,
          21
         ],
         "xaxis": "x6",
         "y": [
          0,
          -0.17190021301938124,
          -0.17190021301938124,
          -0.17190021301938127,
          -0.17190021301938124,
          -0.17190021301938124,
          -0.17190021301938124,
          -0.17190021301938122,
          -0.17190021301938127,
          -0.17190021301938124,
          -0.17190021301938124,
          -0.17190021301938124,
          -0.17190021301938124,
          -0.17190021301938124,
          -0.17190021301938124,
          -0.17190021301938124,
          -0.17190021301938124,
          -0.17190021301938124,
          -0.17190021301938124,
          -0.17190021301938122,
          -0.17190021301938122,
          -0.17190021301938124
         ],
         "yaxis": "y6"
        }
       ],
       "layout": {
        "annotations": [
         {
          "font": {
           "size": 16
          },
          "showarrow": false,
          "text": "STLF Residuals",
          "x": 0.225,
          "xanchor": "center",
          "xref": "paper",
          "y": 1,
          "yanchor": "bottom",
          "yref": "paper"
         },
         {
          "font": {
           "size": 16
          },
          "showarrow": false,
          "text": "Periodogram",
          "x": 0.775,
          "xanchor": "center",
          "xref": "paper",
          "y": 1,
          "yanchor": "bottom",
          "yref": "paper"
         },
         {
          "font": {
           "size": 16
          },
          "showarrow": false,
          "text": "Histogram",
          "x": 0.225,
          "xanchor": "center",
          "xref": "paper",
          "y": 0.6111111111111112,
          "yanchor": "bottom",
          "yref": "paper"
         },
         {
          "font": {
           "size": 16
          },
          "showarrow": false,
          "text": "Q-Q Plot",
          "x": 0.775,
          "xanchor": "center",
          "xref": "paper",
          "y": 0.6111111111111112,
          "yanchor": "bottom",
          "yref": "paper"
         },
         {
          "font": {
           "size": 16
          },
          "showarrow": false,
          "text": "ACF",
          "x": 0.225,
          "xanchor": "center",
          "xref": "paper",
          "y": 0.22222222222222227,
          "yanchor": "bottom",
          "yref": "paper"
         },
         {
          "font": {
           "size": 16
          },
          "showarrow": false,
          "text": "PACF",
          "x": 0.775,
          "xanchor": "center",
          "xref": "paper",
          "y": 0.22222222222222227,
          "yanchor": "bottom",
          "yref": "paper"
         }
        ],
        "showlegend": false,
        "template": {
         "data": {
          "bar": [
           {
            "error_x": {
             "color": "rgb(51,51,51)"
            },
            "error_y": {
             "color": "rgb(51,51,51)"
            },
            "marker": {
             "line": {
              "color": "rgb(237,237,237)",
              "width": 0.5
             },
             "pattern": {
              "fillmode": "overlay",
              "size": 10,
              "solidity": 0.2
             }
            },
            "type": "bar"
           }
          ],
          "barpolar": [
           {
            "marker": {
             "line": {
              "color": "rgb(237,237,237)",
              "width": 0.5
             },
             "pattern": {
              "fillmode": "overlay",
              "size": 10,
              "solidity": 0.2
             }
            },
            "type": "barpolar"
           }
          ],
          "carpet": [
           {
            "aaxis": {
             "endlinecolor": "rgb(51,51,51)",
             "gridcolor": "white",
             "linecolor": "white",
             "minorgridcolor": "white",
             "startlinecolor": "rgb(51,51,51)"
            },
            "baxis": {
             "endlinecolor": "rgb(51,51,51)",
             "gridcolor": "white",
             "linecolor": "white",
             "minorgridcolor": "white",
             "startlinecolor": "rgb(51,51,51)"
            },
            "type": "carpet"
           }
          ],
          "choropleth": [
           {
            "colorbar": {
             "outlinewidth": 0,
             "tickcolor": "rgb(237,237,237)",
             "ticklen": 6,
             "ticks": "inside"
            },
            "type": "choropleth"
           }
          ],
          "contour": [
           {
            "colorbar": {
             "outlinewidth": 0,
             "tickcolor": "rgb(237,237,237)",
             "ticklen": 6,
             "ticks": "inside"
            },
            "colorscale": [
             [
              0,
              "rgb(20,44,66)"
             ],
             [
              1,
              "rgb(90,179,244)"
             ]
            ],
            "type": "contour"
           }
          ],
          "contourcarpet": [
           {
            "colorbar": {
             "outlinewidth": 0,
             "tickcolor": "rgb(237,237,237)",
             "ticklen": 6,
             "ticks": "inside"
            },
            "type": "contourcarpet"
           }
          ],
          "heatmap": [
           {
            "colorbar": {
             "outlinewidth": 0,
             "tickcolor": "rgb(237,237,237)",
             "ticklen": 6,
             "ticks": "inside"
            },
            "colorscale": [
             [
              0,
              "rgb(20,44,66)"
             ],
             [
              1,
              "rgb(90,179,244)"
             ]
            ],
            "type": "heatmap"
           }
          ],
          "heatmapgl": [
           {
            "colorbar": {
             "outlinewidth": 0,
             "tickcolor": "rgb(237,237,237)",
             "ticklen": 6,
             "ticks": "inside"
            },
            "colorscale": [
             [
              0,
              "rgb(20,44,66)"
             ],
             [
              1,
              "rgb(90,179,244)"
             ]
            ],
            "type": "heatmapgl"
           }
          ],
          "histogram": [
           {
            "marker": {
             "pattern": {
              "fillmode": "overlay",
              "size": 10,
              "solidity": 0.2
             }
            },
            "type": "histogram"
           }
          ],
          "histogram2d": [
           {
            "colorbar": {
             "outlinewidth": 0,
             "tickcolor": "rgb(237,237,237)",
             "ticklen": 6,
             "ticks": "inside"
            },
            "colorscale": [
             [
              0,
              "rgb(20,44,66)"
             ],
             [
              1,
              "rgb(90,179,244)"
             ]
            ],
            "type": "histogram2d"
           }
          ],
          "histogram2dcontour": [
           {
            "colorbar": {
             "outlinewidth": 0,
             "tickcolor": "rgb(237,237,237)",
             "ticklen": 6,
             "ticks": "inside"
            },
            "colorscale": [
             [
              0,
              "rgb(20,44,66)"
             ],
             [
              1,
              "rgb(90,179,244)"
             ]
            ],
            "type": "histogram2dcontour"
           }
          ],
          "mesh3d": [
           {
            "colorbar": {
             "outlinewidth": 0,
             "tickcolor": "rgb(237,237,237)",
             "ticklen": 6,
             "ticks": "inside"
            },
            "type": "mesh3d"
           }
          ],
          "parcoords": [
           {
            "line": {
             "colorbar": {
              "outlinewidth": 0,
              "tickcolor": "rgb(237,237,237)",
              "ticklen": 6,
              "ticks": "inside"
             }
            },
            "type": "parcoords"
           }
          ],
          "pie": [
           {
            "automargin": true,
            "type": "pie"
           }
          ],
          "scatter": [
           {
            "fillpattern": {
             "fillmode": "overlay",
             "size": 10,
             "solidity": 0.2
            },
            "type": "scatter"
           }
          ],
          "scatter3d": [
           {
            "line": {
             "colorbar": {
              "outlinewidth": 0,
              "tickcolor": "rgb(237,237,237)",
              "ticklen": 6,
              "ticks": "inside"
             }
            },
            "marker": {
             "colorbar": {
              "outlinewidth": 0,
              "tickcolor": "rgb(237,237,237)",
              "ticklen": 6,
              "ticks": "inside"
             }
            },
            "type": "scatter3d"
           }
          ],
          "scattercarpet": [
           {
            "marker": {
             "colorbar": {
              "outlinewidth": 0,
              "tickcolor": "rgb(237,237,237)",
              "ticklen": 6,
              "ticks": "inside"
             }
            },
            "type": "scattercarpet"
           }
          ],
          "scattergeo": [
           {
            "marker": {
             "colorbar": {
              "outlinewidth": 0,
              "tickcolor": "rgb(237,237,237)",
              "ticklen": 6,
              "ticks": "inside"
             }
            },
            "type": "scattergeo"
           }
          ],
          "scattergl": [
           {
            "marker": {
             "colorbar": {
              "outlinewidth": 0,
              "tickcolor": "rgb(237,237,237)",
              "ticklen": 6,
              "ticks": "inside"
             }
            },
            "type": "scattergl"
           }
          ],
          "scattermapbox": [
           {
            "marker": {
             "colorbar": {
              "outlinewidth": 0,
              "tickcolor": "rgb(237,237,237)",
              "ticklen": 6,
              "ticks": "inside"
             }
            },
            "type": "scattermapbox"
           }
          ],
          "scatterpolar": [
           {
            "marker": {
             "colorbar": {
              "outlinewidth": 0,
              "tickcolor": "rgb(237,237,237)",
              "ticklen": 6,
              "ticks": "inside"
             }
            },
            "type": "scatterpolar"
           }
          ],
          "scatterpolargl": [
           {
            "marker": {
             "colorbar": {
              "outlinewidth": 0,
              "tickcolor": "rgb(237,237,237)",
              "ticklen": 6,
              "ticks": "inside"
             }
            },
            "type": "scatterpolargl"
           }
          ],
          "scatterternary": [
           {
            "marker": {
             "colorbar": {
              "outlinewidth": 0,
              "tickcolor": "rgb(237,237,237)",
              "ticklen": 6,
              "ticks": "inside"
             }
            },
            "type": "scatterternary"
           }
          ],
          "surface": [
           {
            "colorbar": {
             "outlinewidth": 0,
             "tickcolor": "rgb(237,237,237)",
             "ticklen": 6,
             "ticks": "inside"
            },
            "colorscale": [
             [
              0,
              "rgb(20,44,66)"
             ],
             [
              1,
              "rgb(90,179,244)"
             ]
            ],
            "type": "surface"
           }
          ],
          "table": [
           {
            "cells": {
             "fill": {
              "color": "rgb(237,237,237)"
             },
             "line": {
              "color": "white"
             }
            },
            "header": {
             "fill": {
              "color": "rgb(217,217,217)"
             },
             "line": {
              "color": "white"
             }
            },
            "type": "table"
           }
          ]
         },
         "layout": {
          "annotationdefaults": {
           "arrowhead": 0,
           "arrowwidth": 1
          },
          "autotypenumbers": "strict",
          "coloraxis": {
           "colorbar": {
            "outlinewidth": 0,
            "tickcolor": "rgb(237,237,237)",
            "ticklen": 6,
            "ticks": "inside"
           }
          },
          "colorscale": {
           "sequential": [
            [
             0,
             "rgb(20,44,66)"
            ],
            [
             1,
             "rgb(90,179,244)"
            ]
           ],
           "sequentialminus": [
            [
             0,
             "rgb(20,44,66)"
            ],
            [
             1,
             "rgb(90,179,244)"
            ]
           ]
          },
          "colorway": [
           "#F8766D",
           "#A3A500",
           "#00BF7D",
           "#00B0F6",
           "#E76BF3"
          ],
          "font": {
           "color": "rgb(51,51,51)"
          },
          "geo": {
           "bgcolor": "white",
           "lakecolor": "white",
           "landcolor": "rgb(237,237,237)",
           "showlakes": true,
           "showland": true,
           "subunitcolor": "white"
          },
          "hoverlabel": {
           "align": "left"
          },
          "hovermode": "closest",
          "paper_bgcolor": "white",
          "plot_bgcolor": "rgb(237,237,237)",
          "polar": {
           "angularaxis": {
            "gridcolor": "white",
            "linecolor": "white",
            "showgrid": true,
            "tickcolor": "rgb(51,51,51)",
            "ticks": "outside"
           },
           "bgcolor": "rgb(237,237,237)",
           "radialaxis": {
            "gridcolor": "white",
            "linecolor": "white",
            "showgrid": true,
            "tickcolor": "rgb(51,51,51)",
            "ticks": "outside"
           }
          },
          "scene": {
           "xaxis": {
            "backgroundcolor": "rgb(237,237,237)",
            "gridcolor": "white",
            "gridwidth": 2,
            "linecolor": "white",
            "showbackground": true,
            "showgrid": true,
            "tickcolor": "rgb(51,51,51)",
            "ticks": "outside",
            "zerolinecolor": "white"
           },
           "yaxis": {
            "backgroundcolor": "rgb(237,237,237)",
            "gridcolor": "white",
            "gridwidth": 2,
            "linecolor": "white",
            "showbackground": true,
            "showgrid": true,
            "tickcolor": "rgb(51,51,51)",
            "ticks": "outside",
            "zerolinecolor": "white"
           },
           "zaxis": {
            "backgroundcolor": "rgb(237,237,237)",
            "gridcolor": "white",
            "gridwidth": 2,
            "linecolor": "white",
            "showbackground": true,
            "showgrid": true,
            "tickcolor": "rgb(51,51,51)",
            "ticks": "outside",
            "zerolinecolor": "white"
           }
          },
          "shapedefaults": {
           "fillcolor": "black",
           "line": {
            "width": 0
           },
           "opacity": 0.3
          },
          "ternary": {
           "aaxis": {
            "gridcolor": "white",
            "linecolor": "white",
            "showgrid": true,
            "tickcolor": "rgb(51,51,51)",
            "ticks": "outside"
           },
           "baxis": {
            "gridcolor": "white",
            "linecolor": "white",
            "showgrid": true,
            "tickcolor": "rgb(51,51,51)",
            "ticks": "outside"
           },
           "bgcolor": "rgb(237,237,237)",
           "caxis": {
            "gridcolor": "white",
            "linecolor": "white",
            "showgrid": true,
            "tickcolor": "rgb(51,51,51)",
            "ticks": "outside"
           }
          },
          "xaxis": {
           "automargin": true,
           "gridcolor": "white",
           "linecolor": "white",
           "showgrid": true,
           "tickcolor": "rgb(51,51,51)",
           "ticks": "outside",
           "title": {
            "standoff": 15
           },
           "zerolinecolor": "white"
          },
          "yaxis": {
           "automargin": true,
           "gridcolor": "white",
           "linecolor": "white",
           "showgrid": true,
           "tickcolor": "rgb(51,51,51)",
           "ticks": "outside",
           "title": {
            "standoff": 15
           },
           "zerolinecolor": "white"
          }
         }
        },
        "title": {
         "text": "Diagnostics | Model Residuals"
        },
        "xaxis": {
         "anchor": "y",
         "domain": [
          0,
          0.45
         ]
        },
        "xaxis2": {
         "anchor": "y2",
         "domain": [
          0.55,
          1
         ],
         "range": [
          0,
          0.5
         ]
        },
        "xaxis3": {
         "anchor": "y3",
         "domain": [
          0,
          0.45
         ],
         "title": {
          "text": "Range of Values"
         }
        },
        "xaxis4": {
         "anchor": "y4",
         "domain": [
          0.55,
          1
         ],
         "title": {
          "text": "Theoretical Quantities"
         }
        },
        "xaxis5": {
         "anchor": "y5",
         "domain": [
          0,
          0.45
         ],
         "range": [
          -1,
          42
         ]
        },
        "xaxis6": {
         "anchor": "y6",
         "domain": [
          0.55,
          1
         ],
         "range": [
          -1,
          23
         ]
        },
        "yaxis": {
         "anchor": "x",
         "domain": [
          0.7777777777777779,
          1
         ]
        },
        "yaxis2": {
         "anchor": "x2",
         "domain": [
          0.7777777777777779,
          1
         ]
        },
        "yaxis3": {
         "anchor": "x3",
         "domain": [
          0.38888888888888895,
          0.6111111111111112
         ],
         "title": {
          "text": "PDF"
         }
        },
        "yaxis4": {
         "anchor": "x4",
         "domain": [
          0.38888888888888895,
          0.6111111111111112
         ],
         "title": {
          "text": "Sample Quantities"
         }
        },
        "yaxis5": {
         "anchor": "x5",
         "domain": [
          0,
          0.22222222222222227
         ],
         "range": [
          -1.1,
          1.1
         ],
         "zerolinecolor": "#000000"
        },
        "yaxis6": {
         "anchor": "x6",
         "domain": [
          0,
          0.22222222222222227
         ],
         "range": [
          -1.1,
          1.1
         ],
         "zerolinecolor": "#000000"
        }
       }
      }
     },
     "metadata": {},
     "output_type": "display_data"
    }
   ],
   "source": [
    "\n",
    "# functional API\n",
    "plot_model(best, plot = 'diagnostics')"
   ]
  },
  {
   "cell_type": "code",
   "execution_count": 50,
   "id": "da82bd53",
   "metadata": {},
   "outputs": [
    {
     "data": {
      "application/vnd.plotly.v1+json": {
       "config": {
        "plotlyServerURL": "https://plot.ly"
       },
       "data": [
        {
         "line": {
          "color": "rgb(31, 119, 180)",
          "width": 2
         },
         "marker": {
          "color": "rgb(31, 119, 180)",
          "size": 5
         },
         "mode": "lines+markers",
         "name": "Number of airline passengers",
         "type": "scattergl",
         "x": [
          "1949-01-01T00:00:00",
          "1949-02-01T00:00:00",
          "1949-03-01T00:00:00",
          "1949-04-01T00:00:00",
          "1949-05-01T00:00:00",
          "1949-06-01T00:00:00",
          "1949-07-01T00:00:00",
          "1949-08-01T00:00:00",
          "1949-09-01T00:00:00",
          "1949-10-01T00:00:00",
          "1949-11-01T00:00:00",
          "1949-12-01T00:00:00",
          "1950-01-01T00:00:00",
          "1950-02-01T00:00:00",
          "1950-03-01T00:00:00",
          "1950-04-01T00:00:00",
          "1950-05-01T00:00:00",
          "1950-06-01T00:00:00",
          "1950-07-01T00:00:00",
          "1950-08-01T00:00:00",
          "1950-09-01T00:00:00",
          "1950-10-01T00:00:00",
          "1950-11-01T00:00:00",
          "1950-12-01T00:00:00",
          "1951-01-01T00:00:00",
          "1951-02-01T00:00:00",
          "1951-03-01T00:00:00",
          "1951-04-01T00:00:00",
          "1951-05-01T00:00:00",
          "1951-06-01T00:00:00",
          "1951-07-01T00:00:00",
          "1951-08-01T00:00:00",
          "1951-09-01T00:00:00",
          "1951-10-01T00:00:00",
          "1951-11-01T00:00:00",
          "1951-12-01T00:00:00",
          "1952-01-01T00:00:00",
          "1952-02-01T00:00:00",
          "1952-03-01T00:00:00",
          "1952-04-01T00:00:00",
          "1952-05-01T00:00:00",
          "1952-06-01T00:00:00",
          "1952-07-01T00:00:00",
          "1952-08-01T00:00:00",
          "1952-09-01T00:00:00",
          "1952-10-01T00:00:00",
          "1952-11-01T00:00:00",
          "1952-12-01T00:00:00",
          "1953-01-01T00:00:00",
          "1953-02-01T00:00:00",
          "1953-03-01T00:00:00",
          "1953-04-01T00:00:00",
          "1953-05-01T00:00:00",
          "1953-06-01T00:00:00",
          "1953-07-01T00:00:00",
          "1953-08-01T00:00:00",
          "1953-09-01T00:00:00",
          "1953-10-01T00:00:00",
          "1953-11-01T00:00:00",
          "1953-12-01T00:00:00",
          "1954-01-01T00:00:00",
          "1954-02-01T00:00:00",
          "1954-03-01T00:00:00",
          "1954-04-01T00:00:00",
          "1954-05-01T00:00:00",
          "1954-06-01T00:00:00",
          "1954-07-01T00:00:00",
          "1954-08-01T00:00:00",
          "1954-09-01T00:00:00",
          "1954-10-01T00:00:00",
          "1954-11-01T00:00:00",
          "1954-12-01T00:00:00",
          "1955-01-01T00:00:00",
          "1955-02-01T00:00:00",
          "1955-03-01T00:00:00",
          "1955-04-01T00:00:00",
          "1955-05-01T00:00:00",
          "1955-06-01T00:00:00",
          "1955-07-01T00:00:00",
          "1955-08-01T00:00:00",
          "1955-09-01T00:00:00",
          "1955-10-01T00:00:00",
          "1955-11-01T00:00:00",
          "1955-12-01T00:00:00",
          "1956-01-01T00:00:00",
          "1956-02-01T00:00:00",
          "1956-03-01T00:00:00",
          "1956-04-01T00:00:00",
          "1956-05-01T00:00:00",
          "1956-06-01T00:00:00",
          "1956-07-01T00:00:00",
          "1956-08-01T00:00:00",
          "1956-09-01T00:00:00",
          "1956-10-01T00:00:00",
          "1956-11-01T00:00:00",
          "1956-12-01T00:00:00",
          "1957-01-01T00:00:00",
          "1957-02-01T00:00:00",
          "1957-03-01T00:00:00",
          "1957-04-01T00:00:00",
          "1957-05-01T00:00:00",
          "1957-06-01T00:00:00",
          "1957-07-01T00:00:00",
          "1957-08-01T00:00:00",
          "1957-09-01T00:00:00",
          "1957-10-01T00:00:00",
          "1957-11-01T00:00:00",
          "1957-12-01T00:00:00",
          "1958-01-01T00:00:00",
          "1958-02-01T00:00:00",
          "1958-03-01T00:00:00",
          "1958-04-01T00:00:00",
          "1958-05-01T00:00:00",
          "1958-06-01T00:00:00",
          "1958-07-01T00:00:00",
          "1958-08-01T00:00:00",
          "1958-09-01T00:00:00",
          "1958-10-01T00:00:00",
          "1958-11-01T00:00:00",
          "1958-12-01T00:00:00",
          "1959-01-01T00:00:00",
          "1959-02-01T00:00:00",
          "1959-03-01T00:00:00",
          "1959-04-01T00:00:00",
          "1959-05-01T00:00:00",
          "1959-06-01T00:00:00",
          "1959-07-01T00:00:00",
          "1959-08-01T00:00:00",
          "1959-09-01T00:00:00",
          "1959-10-01T00:00:00",
          "1959-11-01T00:00:00",
          "1959-12-01T00:00:00",
          "1960-01-01T00:00:00",
          "1960-02-01T00:00:00",
          "1960-03-01T00:00:00",
          "1960-04-01T00:00:00",
          "1960-05-01T00:00:00",
          "1960-06-01T00:00:00",
          "1960-07-01T00:00:00",
          "1960-08-01T00:00:00",
          "1960-09-01T00:00:00",
          "1960-10-01T00:00:00",
          "1960-11-01T00:00:00",
          "1960-12-01T00:00:00"
         ],
         "xaxis": "x",
         "y": [
          112,
          118,
          132,
          129,
          121,
          135,
          148,
          148,
          136,
          119,
          104,
          118,
          115,
          126,
          141,
          135,
          125,
          149,
          170,
          170,
          158,
          133,
          114,
          140,
          145,
          150,
          178,
          163,
          172,
          178,
          199,
          199,
          184,
          162,
          146,
          166,
          171,
          180,
          193,
          181,
          183,
          218,
          230,
          242,
          209,
          191,
          172,
          194,
          196,
          196,
          236,
          235,
          229,
          243,
          264,
          272,
          237,
          211,
          180,
          201,
          204,
          188,
          235,
          227,
          234,
          264,
          302,
          293,
          259,
          229,
          203,
          229,
          242,
          233,
          267,
          269,
          270,
          315,
          364,
          347,
          312,
          274,
          237,
          278,
          284,
          277,
          317,
          313,
          318,
          374,
          413,
          405,
          355,
          306,
          271,
          306,
          315,
          301,
          356,
          348,
          355,
          422,
          465,
          467,
          404,
          347,
          305,
          336,
          340,
          318,
          362,
          348,
          363,
          435,
          491,
          505,
          404,
          359,
          310,
          337,
          360,
          342,
          406,
          396,
          420,
          472,
          548,
          559,
          463,
          407,
          362,
          405,
          417,
          391,
          419,
          461,
          472,
          535,
          622,
          606,
          508,
          461,
          390,
          432
         ],
         "yaxis": "y"
        },
        {
         "line": {
          "color": "rgb(255, 127, 14)",
          "width": 2
         },
         "marker": {
          "color": "rgb(255, 127, 14)",
          "size": 5
         },
         "mode": "lines+markers",
         "name": "STLF",
         "type": "scattergl",
         "x": [
          "1949-01-01T00:00:00",
          "1949-02-01T00:00:00",
          "1949-03-01T00:00:00",
          "1949-04-01T00:00:00",
          "1949-05-01T00:00:00",
          "1949-06-01T00:00:00",
          "1949-07-01T00:00:00",
          "1949-08-01T00:00:00",
          "1949-09-01T00:00:00",
          "1949-10-01T00:00:00",
          "1949-11-01T00:00:00",
          "1949-12-01T00:00:00",
          "1950-01-01T00:00:00",
          "1950-02-01T00:00:00",
          "1950-03-01T00:00:00",
          "1950-04-01T00:00:00",
          "1950-05-01T00:00:00",
          "1950-06-01T00:00:00",
          "1950-07-01T00:00:00",
          "1950-08-01T00:00:00",
          "1950-09-01T00:00:00",
          "1950-10-01T00:00:00",
          "1950-11-01T00:00:00",
          "1950-12-01T00:00:00",
          "1951-01-01T00:00:00",
          "1951-02-01T00:00:00",
          "1951-03-01T00:00:00",
          "1951-04-01T00:00:00",
          "1951-05-01T00:00:00",
          "1951-06-01T00:00:00",
          "1951-07-01T00:00:00",
          "1951-08-01T00:00:00",
          "1951-09-01T00:00:00",
          "1951-10-01T00:00:00",
          "1951-11-01T00:00:00",
          "1951-12-01T00:00:00",
          "1952-01-01T00:00:00",
          "1952-02-01T00:00:00",
          "1952-03-01T00:00:00",
          "1952-04-01T00:00:00",
          "1952-05-01T00:00:00",
          "1952-06-01T00:00:00",
          "1952-07-01T00:00:00",
          "1952-08-01T00:00:00",
          "1952-09-01T00:00:00",
          "1952-10-01T00:00:00",
          "1952-11-01T00:00:00",
          "1952-12-01T00:00:00",
          "1953-01-01T00:00:00",
          "1953-02-01T00:00:00",
          "1953-03-01T00:00:00",
          "1953-04-01T00:00:00",
          "1953-05-01T00:00:00",
          "1953-06-01T00:00:00",
          "1953-07-01T00:00:00",
          "1953-08-01T00:00:00",
          "1953-09-01T00:00:00",
          "1953-10-01T00:00:00",
          "1953-11-01T00:00:00",
          "1953-12-01T00:00:00",
          "1954-01-01T00:00:00",
          "1954-02-01T00:00:00",
          "1954-03-01T00:00:00",
          "1954-04-01T00:00:00",
          "1954-05-01T00:00:00",
          "1954-06-01T00:00:00",
          "1954-07-01T00:00:00",
          "1954-08-01T00:00:00",
          "1954-09-01T00:00:00",
          "1954-10-01T00:00:00",
          "1954-11-01T00:00:00",
          "1954-12-01T00:00:00",
          "1955-01-01T00:00:00",
          "1955-02-01T00:00:00",
          "1955-03-01T00:00:00",
          "1955-04-01T00:00:00",
          "1955-05-01T00:00:00",
          "1955-06-01T00:00:00",
          "1955-07-01T00:00:00",
          "1955-08-01T00:00:00",
          "1955-09-01T00:00:00",
          "1955-10-01T00:00:00",
          "1955-11-01T00:00:00",
          "1955-12-01T00:00:00",
          "1956-01-01T00:00:00",
          "1956-02-01T00:00:00",
          "1956-03-01T00:00:00",
          "1956-04-01T00:00:00",
          "1956-05-01T00:00:00",
          "1956-06-01T00:00:00",
          "1956-07-01T00:00:00",
          "1956-08-01T00:00:00",
          "1956-09-01T00:00:00",
          "1956-10-01T00:00:00",
          "1956-11-01T00:00:00",
          "1956-12-01T00:00:00",
          "1957-01-01T00:00:00",
          "1957-02-01T00:00:00",
          "1957-03-01T00:00:00",
          "1957-04-01T00:00:00",
          "1957-05-01T00:00:00",
          "1957-06-01T00:00:00",
          "1957-07-01T00:00:00",
          "1957-08-01T00:00:00",
          "1957-09-01T00:00:00",
          "1957-10-01T00:00:00",
          "1957-11-01T00:00:00",
          "1957-12-01T00:00:00",
          "1958-01-01T00:00:00",
          "1958-02-01T00:00:00",
          "1958-03-01T00:00:00",
          "1958-04-01T00:00:00",
          "1958-05-01T00:00:00",
          "1958-06-01T00:00:00",
          "1958-07-01T00:00:00",
          "1958-08-01T00:00:00",
          "1958-09-01T00:00:00",
          "1958-10-01T00:00:00",
          "1958-11-01T00:00:00",
          "1958-12-01T00:00:00",
          "1959-01-01T00:00:00",
          "1959-02-01T00:00:00",
          "1959-03-01T00:00:00",
          "1959-04-01T00:00:00",
          "1959-05-01T00:00:00",
          "1959-06-01T00:00:00",
          "1959-07-01T00:00:00",
          "1959-08-01T00:00:00",
          "1959-09-01T00:00:00",
          "1959-10-01T00:00:00",
          "1959-11-01T00:00:00",
          "1959-12-01T00:00:00",
          "1960-01-01T00:00:00",
          "1960-02-01T00:00:00",
          "1960-03-01T00:00:00",
          "1960-04-01T00:00:00",
          "1960-05-01T00:00:00",
          "1960-06-01T00:00:00",
          "1960-07-01T00:00:00",
          "1960-08-01T00:00:00",
          "1960-09-01T00:00:00",
          "1960-10-01T00:00:00",
          "1960-11-01T00:00:00",
          "1960-12-01T00:00:00"
         ],
         "xaxis": "x",
         "y": [
          109.8164,
          null,
          null,
          null,
          null,
          null,
          null,
          null,
          null,
          null,
          null,
          null,
          120.2046,
          126.5956,
          141.1172,
          138.7808,
          131.5999,
          146.5873,
          160.765,
          162.1451,
          151.7357,
          136.4862,
          123.3107,
          139.1286,
          139.9996,
          149.0688,
          166.9003,
          162.7333,
          156.2884,
          177.2683,
          195.7801,
          197.5799,
          182.9586,
          161.6522,
          143.6374,
          164.5442,
          166.9925,
          172.9957,
          197.066,
          188.4771,
          188.7384,
          205.9647,
          226.2934,
          228.9716,
          210.7235,
          189.1496,
          170.9513,
          193.2839,
          198.0561,
          202.9426,
          228.0712,
          217.311,
          219.1097,
          240.4717,
          258.4338,
          262.572,
          233.7672,
          209.7819,
          187.0353,
          207.6801,
          210.4138,
          208.3994,
          240.1745,
          232.8578,
          233.7837,
          258.6259,
          283.107,
          287.2727,
          255.215,
          231.1038,
          206.3681,
          231.6637,
          238.2339,
          232.4694,
          272.7776,
          269.741,
          273.1544,
          306.1198,
          340.7439,
          338.6915,
          303.7697,
          274.1311,
          245.618,
          274.9459,
          283.4838,
          274.1889,
          316.2625,
          313.3294,
          317.1222,
          359.4068,
          400.2189,
          391.5891,
          350.8458,
          312.2313,
          278.6508,
          311.7832,
          320.0264,
          308.9738,
          352.1921,
          347.8001,
          353.7316,
          408.1256,
          451.9102,
          444.979,
          391.8381,
          344.7697,
          305.4798,
          337.8702,
          344.6731,
          328.885,
          374.4776,
          364.933,
          372.3597,
          432.3432,
          479.2876,
          479.3361,
          410.6298,
          360.3749,
          319.3672,
          354.1435,
          365.5131,
          348.6202,
          396.9041,
          396.439,
          410.6508,
          474.9171,
          536.0373,
          540.0539,
          458.5696,
          408.3352,
          364.5853,
          399.8807,
          414.4294,
          393.9226,
          441.4254,
          448.8801,
          465.665,
          528.174,
          600.711,
          603.032,
          508.1753,
          null,
          null,
          null
         ],
         "yaxis": "y"
        }
       ],
       "layout": {
        "showlegend": true,
        "template": {
         "data": {
          "bar": [
           {
            "error_x": {
             "color": "rgb(51,51,51)"
            },
            "error_y": {
             "color": "rgb(51,51,51)"
            },
            "marker": {
             "line": {
              "color": "rgb(237,237,237)",
              "width": 0.5
             },
             "pattern": {
              "fillmode": "overlay",
              "size": 10,
              "solidity": 0.2
             }
            },
            "type": "bar"
           }
          ],
          "barpolar": [
           {
            "marker": {
             "line": {
              "color": "rgb(237,237,237)",
              "width": 0.5
             },
             "pattern": {
              "fillmode": "overlay",
              "size": 10,
              "solidity": 0.2
             }
            },
            "type": "barpolar"
           }
          ],
          "carpet": [
           {
            "aaxis": {
             "endlinecolor": "rgb(51,51,51)",
             "gridcolor": "white",
             "linecolor": "white",
             "minorgridcolor": "white",
             "startlinecolor": "rgb(51,51,51)"
            },
            "baxis": {
             "endlinecolor": "rgb(51,51,51)",
             "gridcolor": "white",
             "linecolor": "white",
             "minorgridcolor": "white",
             "startlinecolor": "rgb(51,51,51)"
            },
            "type": "carpet"
           }
          ],
          "choropleth": [
           {
            "colorbar": {
             "outlinewidth": 0,
             "tickcolor": "rgb(237,237,237)",
             "ticklen": 6,
             "ticks": "inside"
            },
            "type": "choropleth"
           }
          ],
          "contour": [
           {
            "colorbar": {
             "outlinewidth": 0,
             "tickcolor": "rgb(237,237,237)",
             "ticklen": 6,
             "ticks": "inside"
            },
            "colorscale": [
             [
              0,
              "rgb(20,44,66)"
             ],
             [
              1,
              "rgb(90,179,244)"
             ]
            ],
            "type": "contour"
           }
          ],
          "contourcarpet": [
           {
            "colorbar": {
             "outlinewidth": 0,
             "tickcolor": "rgb(237,237,237)",
             "ticklen": 6,
             "ticks": "inside"
            },
            "type": "contourcarpet"
           }
          ],
          "heatmap": [
           {
            "colorbar": {
             "outlinewidth": 0,
             "tickcolor": "rgb(237,237,237)",
             "ticklen": 6,
             "ticks": "inside"
            },
            "colorscale": [
             [
              0,
              "rgb(20,44,66)"
             ],
             [
              1,
              "rgb(90,179,244)"
             ]
            ],
            "type": "heatmap"
           }
          ],
          "heatmapgl": [
           {
            "colorbar": {
             "outlinewidth": 0,
             "tickcolor": "rgb(237,237,237)",
             "ticklen": 6,
             "ticks": "inside"
            },
            "colorscale": [
             [
              0,
              "rgb(20,44,66)"
             ],
             [
              1,
              "rgb(90,179,244)"
             ]
            ],
            "type": "heatmapgl"
           }
          ],
          "histogram": [
           {
            "marker": {
             "pattern": {
              "fillmode": "overlay",
              "size": 10,
              "solidity": 0.2
             }
            },
            "type": "histogram"
           }
          ],
          "histogram2d": [
           {
            "colorbar": {
             "outlinewidth": 0,
             "tickcolor": "rgb(237,237,237)",
             "ticklen": 6,
             "ticks": "inside"
            },
            "colorscale": [
             [
              0,
              "rgb(20,44,66)"
             ],
             [
              1,
              "rgb(90,179,244)"
             ]
            ],
            "type": "histogram2d"
           }
          ],
          "histogram2dcontour": [
           {
            "colorbar": {
             "outlinewidth": 0,
             "tickcolor": "rgb(237,237,237)",
             "ticklen": 6,
             "ticks": "inside"
            },
            "colorscale": [
             [
              0,
              "rgb(20,44,66)"
             ],
             [
              1,
              "rgb(90,179,244)"
             ]
            ],
            "type": "histogram2dcontour"
           }
          ],
          "mesh3d": [
           {
            "colorbar": {
             "outlinewidth": 0,
             "tickcolor": "rgb(237,237,237)",
             "ticklen": 6,
             "ticks": "inside"
            },
            "type": "mesh3d"
           }
          ],
          "parcoords": [
           {
            "line": {
             "colorbar": {
              "outlinewidth": 0,
              "tickcolor": "rgb(237,237,237)",
              "ticklen": 6,
              "ticks": "inside"
             }
            },
            "type": "parcoords"
           }
          ],
          "pie": [
           {
            "automargin": true,
            "type": "pie"
           }
          ],
          "scatter": [
           {
            "fillpattern": {
             "fillmode": "overlay",
             "size": 10,
             "solidity": 0.2
            },
            "type": "scatter"
           }
          ],
          "scatter3d": [
           {
            "line": {
             "colorbar": {
              "outlinewidth": 0,
              "tickcolor": "rgb(237,237,237)",
              "ticklen": 6,
              "ticks": "inside"
             }
            },
            "marker": {
             "colorbar": {
              "outlinewidth": 0,
              "tickcolor": "rgb(237,237,237)",
              "ticklen": 6,
              "ticks": "inside"
             }
            },
            "type": "scatter3d"
           }
          ],
          "scattercarpet": [
           {
            "marker": {
             "colorbar": {
              "outlinewidth": 0,
              "tickcolor": "rgb(237,237,237)",
              "ticklen": 6,
              "ticks": "inside"
             }
            },
            "type": "scattercarpet"
           }
          ],
          "scattergeo": [
           {
            "marker": {
             "colorbar": {
              "outlinewidth": 0,
              "tickcolor": "rgb(237,237,237)",
              "ticklen": 6,
              "ticks": "inside"
             }
            },
            "type": "scattergeo"
           }
          ],
          "scattergl": [
           {
            "marker": {
             "colorbar": {
              "outlinewidth": 0,
              "tickcolor": "rgb(237,237,237)",
              "ticklen": 6,
              "ticks": "inside"
             }
            },
            "type": "scattergl"
           }
          ],
          "scattermapbox": [
           {
            "marker": {
             "colorbar": {
              "outlinewidth": 0,
              "tickcolor": "rgb(237,237,237)",
              "ticklen": 6,
              "ticks": "inside"
             }
            },
            "type": "scattermapbox"
           }
          ],
          "scatterpolar": [
           {
            "marker": {
             "colorbar": {
              "outlinewidth": 0,
              "tickcolor": "rgb(237,237,237)",
              "ticklen": 6,
              "ticks": "inside"
             }
            },
            "type": "scatterpolar"
           }
          ],
          "scatterpolargl": [
           {
            "marker": {
             "colorbar": {
              "outlinewidth": 0,
              "tickcolor": "rgb(237,237,237)",
              "ticklen": 6,
              "ticks": "inside"
             }
            },
            "type": "scatterpolargl"
           }
          ],
          "scatterternary": [
           {
            "marker": {
             "colorbar": {
              "outlinewidth": 0,
              "tickcolor": "rgb(237,237,237)",
              "ticklen": 6,
              "ticks": "inside"
             }
            },
            "type": "scatterternary"
           }
          ],
          "surface": [
           {
            "colorbar": {
             "outlinewidth": 0,
             "tickcolor": "rgb(237,237,237)",
             "ticklen": 6,
             "ticks": "inside"
            },
            "colorscale": [
             [
              0,
              "rgb(20,44,66)"
             ],
             [
              1,
              "rgb(90,179,244)"
             ]
            ],
            "type": "surface"
           }
          ],
          "table": [
           {
            "cells": {
             "fill": {
              "color": "rgb(237,237,237)"
             },
             "line": {
              "color": "white"
             }
            },
            "header": {
             "fill": {
              "color": "rgb(217,217,217)"
             },
             "line": {
              "color": "white"
             }
            },
            "type": "table"
           }
          ]
         },
         "layout": {
          "annotationdefaults": {
           "arrowhead": 0,
           "arrowwidth": 1
          },
          "autotypenumbers": "strict",
          "coloraxis": {
           "colorbar": {
            "outlinewidth": 0,
            "tickcolor": "rgb(237,237,237)",
            "ticklen": 6,
            "ticks": "inside"
           }
          },
          "colorscale": {
           "sequential": [
            [
             0,
             "rgb(20,44,66)"
            ],
            [
             1,
             "rgb(90,179,244)"
            ]
           ],
           "sequentialminus": [
            [
             0,
             "rgb(20,44,66)"
            ],
            [
             1,
             "rgb(90,179,244)"
            ]
           ]
          },
          "colorway": [
           "#F8766D",
           "#A3A500",
           "#00BF7D",
           "#00B0F6",
           "#E76BF3"
          ],
          "font": {
           "color": "rgb(51,51,51)"
          },
          "geo": {
           "bgcolor": "white",
           "lakecolor": "white",
           "landcolor": "rgb(237,237,237)",
           "showlakes": true,
           "showland": true,
           "subunitcolor": "white"
          },
          "hoverlabel": {
           "align": "left"
          },
          "hovermode": "closest",
          "paper_bgcolor": "white",
          "plot_bgcolor": "rgb(237,237,237)",
          "polar": {
           "angularaxis": {
            "gridcolor": "white",
            "linecolor": "white",
            "showgrid": true,
            "tickcolor": "rgb(51,51,51)",
            "ticks": "outside"
           },
           "bgcolor": "rgb(237,237,237)",
           "radialaxis": {
            "gridcolor": "white",
            "linecolor": "white",
            "showgrid": true,
            "tickcolor": "rgb(51,51,51)",
            "ticks": "outside"
           }
          },
          "scene": {
           "xaxis": {
            "backgroundcolor": "rgb(237,237,237)",
            "gridcolor": "white",
            "gridwidth": 2,
            "linecolor": "white",
            "showbackground": true,
            "showgrid": true,
            "tickcolor": "rgb(51,51,51)",
            "ticks": "outside",
            "zerolinecolor": "white"
           },
           "yaxis": {
            "backgroundcolor": "rgb(237,237,237)",
            "gridcolor": "white",
            "gridwidth": 2,
            "linecolor": "white",
            "showbackground": true,
            "showgrid": true,
            "tickcolor": "rgb(51,51,51)",
            "ticks": "outside",
            "zerolinecolor": "white"
           },
           "zaxis": {
            "backgroundcolor": "rgb(237,237,237)",
            "gridcolor": "white",
            "gridwidth": 2,
            "linecolor": "white",
            "showbackground": true,
            "showgrid": true,
            "tickcolor": "rgb(51,51,51)",
            "ticks": "outside",
            "zerolinecolor": "white"
           }
          },
          "shapedefaults": {
           "fillcolor": "black",
           "line": {
            "width": 0
           },
           "opacity": 0.3
          },
          "ternary": {
           "aaxis": {
            "gridcolor": "white",
            "linecolor": "white",
            "showgrid": true,
            "tickcolor": "rgb(51,51,51)",
            "ticks": "outside"
           },
           "baxis": {
            "gridcolor": "white",
            "linecolor": "white",
            "showgrid": true,
            "tickcolor": "rgb(51,51,51)",
            "ticks": "outside"
           },
           "bgcolor": "rgb(237,237,237)",
           "caxis": {
            "gridcolor": "white",
            "linecolor": "white",
            "showgrid": true,
            "tickcolor": "rgb(51,51,51)",
            "ticks": "outside"
           }
          },
          "xaxis": {
           "automargin": true,
           "gridcolor": "white",
           "linecolor": "white",
           "showgrid": true,
           "tickcolor": "rgb(51,51,51)",
           "ticks": "outside",
           "title": {
            "standoff": 15
           },
           "zerolinecolor": "white"
          },
          "yaxis": {
           "automargin": true,
           "gridcolor": "white",
           "linecolor": "white",
           "showgrid": true,
           "tickcolor": "rgb(51,51,51)",
           "ticks": "outside",
           "title": {
            "standoff": 15
           },
           "zerolinecolor": "white"
          }
         }
        },
        "title": {
         "text": "Actual vs. Forecast (In-Sample)"
        },
        "xaxis": {
         "anchor": "y",
         "domain": [
          0,
          1
         ]
        },
        "yaxis": {
         "anchor": "x",
         "domain": [
          0,
          1
         ]
        }
       }
      }
     },
     "metadata": {},
     "output_type": "display_data"
    }
   ],
   "source": [
    "\n",
    "# functional API\n",
    "plot_model(best, plot = 'insample')"
   ]
  },
  {
   "cell_type": "code",
   "execution_count": 51,
   "id": "96327d68",
   "metadata": {},
   "outputs": [
    {
     "data": {
      "application/vnd.microsoft.datawrangler.viewer.v0+json": {
       "columns": [
        {
         "name": "index",
         "rawType": "period[M]",
         "type": "unknown"
        },
        {
         "name": "y_pred",
         "rawType": "float64",
         "type": "float"
        }
       ],
       "ref": "10260004-f164-48c9-a790-001ccafde1cb",
       "rows": [
        [
         "1960-10",
         "455.2909"
        ],
        [
         "1960-11",
         "406.4324"
        ],
        [
         "1960-12",
         "441.514"
        ],
        [
         "1961-01",
         "456.2386"
        ],
        [
         "1961-02",
         "430.1439"
        ],
        [
         "1961-03",
         "471.7323"
        ],
        [
         "1961-04",
         "490.5395"
        ],
        [
         "1961-05",
         "507.232"
        ],
        [
         "1961-06",
         "567.3178"
        ],
        [
         "1961-07",
         "650.992"
        ],
        [
         "1961-08",
         "647.6881"
        ],
        [
         "1961-09",
         "540.2424"
        ],
        [
         "1961-10",
         "486.5606"
        ],
        [
         "1961-11",
         "437.702"
        ],
        [
         "1961-12",
         "472.7837"
        ],
        [
         "1962-01",
         "487.5083"
        ],
        [
         "1962-02",
         "461.4136"
        ],
        [
         "1962-03",
         "503.002"
        ],
        [
         "1962-04",
         "521.8092"
        ],
        [
         "1962-05",
         "538.5017"
        ],
        [
         "1962-06",
         "598.5875"
        ],
        [
         "1962-07",
         "682.2617"
        ],
        [
         "1962-08",
         "678.9578"
        ],
        [
         "1962-09",
         "571.5121"
        ]
       ],
       "shape": {
        "columns": 1,
        "rows": 24
       }
      },
      "text/html": [
       "<div>\n",
       "<style scoped>\n",
       "    .dataframe tbody tr th:only-of-type {\n",
       "        vertical-align: middle;\n",
       "    }\n",
       "\n",
       "    .dataframe tbody tr th {\n",
       "        vertical-align: top;\n",
       "    }\n",
       "\n",
       "    .dataframe thead th {\n",
       "        text-align: right;\n",
       "    }\n",
       "</style>\n",
       "<table border=\"1\" class=\"dataframe\">\n",
       "  <thead>\n",
       "    <tr style=\"text-align: right;\">\n",
       "      <th></th>\n",
       "      <th>y_pred</th>\n",
       "    </tr>\n",
       "  </thead>\n",
       "  <tbody>\n",
       "    <tr>\n",
       "      <th>1960-10</th>\n",
       "      <td>455.2909</td>\n",
       "    </tr>\n",
       "    <tr>\n",
       "      <th>1960-11</th>\n",
       "      <td>406.4324</td>\n",
       "    </tr>\n",
       "    <tr>\n",
       "      <th>1960-12</th>\n",
       "      <td>441.5140</td>\n",
       "    </tr>\n",
       "    <tr>\n",
       "      <th>1961-01</th>\n",
       "      <td>456.2386</td>\n",
       "    </tr>\n",
       "    <tr>\n",
       "      <th>1961-02</th>\n",
       "      <td>430.1439</td>\n",
       "    </tr>\n",
       "    <tr>\n",
       "      <th>1961-03</th>\n",
       "      <td>471.7323</td>\n",
       "    </tr>\n",
       "    <tr>\n",
       "      <th>1961-04</th>\n",
       "      <td>490.5395</td>\n",
       "    </tr>\n",
       "    <tr>\n",
       "      <th>1961-05</th>\n",
       "      <td>507.2320</td>\n",
       "    </tr>\n",
       "    <tr>\n",
       "      <th>1961-06</th>\n",
       "      <td>567.3178</td>\n",
       "    </tr>\n",
       "    <tr>\n",
       "      <th>1961-07</th>\n",
       "      <td>650.9920</td>\n",
       "    </tr>\n",
       "    <tr>\n",
       "      <th>1961-08</th>\n",
       "      <td>647.6881</td>\n",
       "    </tr>\n",
       "    <tr>\n",
       "      <th>1961-09</th>\n",
       "      <td>540.2424</td>\n",
       "    </tr>\n",
       "    <tr>\n",
       "      <th>1961-10</th>\n",
       "      <td>486.5606</td>\n",
       "    </tr>\n",
       "    <tr>\n",
       "      <th>1961-11</th>\n",
       "      <td>437.7020</td>\n",
       "    </tr>\n",
       "    <tr>\n",
       "      <th>1961-12</th>\n",
       "      <td>472.7837</td>\n",
       "    </tr>\n",
       "    <tr>\n",
       "      <th>1962-01</th>\n",
       "      <td>487.5083</td>\n",
       "    </tr>\n",
       "    <tr>\n",
       "      <th>1962-02</th>\n",
       "      <td>461.4136</td>\n",
       "    </tr>\n",
       "    <tr>\n",
       "      <th>1962-03</th>\n",
       "      <td>503.0020</td>\n",
       "    </tr>\n",
       "    <tr>\n",
       "      <th>1962-04</th>\n",
       "      <td>521.8092</td>\n",
       "    </tr>\n",
       "    <tr>\n",
       "      <th>1962-05</th>\n",
       "      <td>538.5017</td>\n",
       "    </tr>\n",
       "    <tr>\n",
       "      <th>1962-06</th>\n",
       "      <td>598.5875</td>\n",
       "    </tr>\n",
       "    <tr>\n",
       "      <th>1962-07</th>\n",
       "      <td>682.2617</td>\n",
       "    </tr>\n",
       "    <tr>\n",
       "      <th>1962-08</th>\n",
       "      <td>678.9578</td>\n",
       "    </tr>\n",
       "    <tr>\n",
       "      <th>1962-09</th>\n",
       "      <td>571.5121</td>\n",
       "    </tr>\n",
       "  </tbody>\n",
       "</table>\n",
       "</div>"
      ],
      "text/plain": [
       "           y_pred\n",
       "1960-10  455.2909\n",
       "1960-11  406.4324\n",
       "1960-12  441.5140\n",
       "1961-01  456.2386\n",
       "1961-02  430.1439\n",
       "1961-03  471.7323\n",
       "1961-04  490.5395\n",
       "1961-05  507.2320\n",
       "1961-06  567.3178\n",
       "1961-07  650.9920\n",
       "1961-08  647.6881\n",
       "1961-09  540.2424\n",
       "1961-10  486.5606\n",
       "1961-11  437.7020\n",
       "1961-12  472.7837\n",
       "1962-01  487.5083\n",
       "1962-02  461.4136\n",
       "1962-03  503.0020\n",
       "1962-04  521.8092\n",
       "1962-05  538.5017\n",
       "1962-06  598.5875\n",
       "1962-07  682.2617\n",
       "1962-08  678.9578\n",
       "1962-09  571.5121"
      ]
     },
     "execution_count": 51,
     "metadata": {},
     "output_type": "execute_result"
    }
   ],
   "source": [
    "\n",
    "# functional API\n",
    "final_best = finalize_model(best)\n",
    "predict_model(best, fh = 24)"
   ]
  },
  {
   "cell_type": "code",
   "execution_count": 52,
   "id": "24e9a598",
   "metadata": {},
   "outputs": [
    {
     "name": "stdout",
     "output_type": "stream",
     "text": [
      "Transformation Pipeline and Model Successfully Saved\n"
     ]
    },
    {
     "data": {
      "text/plain": [
       "(ForecastingPipeline(steps=[('forecaster',\n",
       "                             TransformedTargetForecaster(steps=[('model',\n",
       "                                                                 ForecastingPipeline(steps=[('forecaster',\n",
       "                                                                                             TransformedTargetForecaster(steps=[('model',\n",
       "                                                                                                                                 STLForecaster(sp=12))]))]))]))]),\n",
       " 'my_final_best_model.pkl')"
      ]
     },
     "execution_count": 52,
     "metadata": {},
     "output_type": "execute_result"
    }
   ],
   "source": [
    "\n",
    "# functional API\n",
    "save_model(final_best, 'my_final_best_model')"
   ]
  },
  {
   "cell_type": "code",
   "execution_count": 53,
   "id": "f74ba3c8",
   "metadata": {},
   "outputs": [
    {
     "name": "stdout",
     "output_type": "stream",
     "text": [
      "Transformation Pipeline and Model Successfully Loaded\n",
      "ForecastingPipeline(steps=[('forecaster',\n",
      "                            TransformedTargetForecaster(steps=[('model',\n",
      "                                                                ForecastingPipeline(steps=[('forecaster',\n",
      "                                                                                            TransformedTargetForecaster(steps=[('model',\n",
      "                                                                                                                                STLForecaster(sp=12))]))]))]))])\n"
     ]
    }
   ],
   "source": [
    "\n",
    "# functional API\n",
    "loaded_model = load_model('my_final_best_model')\n",
    "print(loaded_model)"
   ]
  }
 ],
 "metadata": {
  "kernelspec": {
   "display_name": "pyparet_teste",
   "language": "python",
   "name": "python3"
  },
  "language_info": {
   "codemirror_mode": {
    "name": "ipython",
    "version": 3
   },
   "file_extension": ".py",
   "mimetype": "text/x-python",
   "name": "python",
   "nbconvert_exporter": "python",
   "pygments_lexer": "ipython3",
   "version": "3.9.6"
  }
 },
 "nbformat": 4,
 "nbformat_minor": 5
}
